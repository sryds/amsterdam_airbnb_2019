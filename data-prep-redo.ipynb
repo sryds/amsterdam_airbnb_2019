{
 "cells": [
  {
   "cell_type": "code",
   "execution_count": 1,
   "id": "03f454e7-3ede-4b3d-b044-8b70c87f6315",
   "metadata": {},
   "outputs": [],
   "source": [
    "import pandas as pd\n",
    "import numpy as np\n",
    "import os"
   ]
  },
  {
   "cell_type": "code",
   "execution_count": 2,
   "id": "a5a65d61-1623-4abc-9ed9-e010944920c4",
   "metadata": {},
   "outputs": [],
   "source": [
    "path = r'C:\\Users\\artoe\\Documents\\DataAnalytics\\Data Immersion\\Exercises\\Achievement 6\\data'"
   ]
  },
  {
   "cell_type": "code",
   "execution_count": 3,
   "id": "42941890-fd12-4ad5-baee-32632eedb76b",
   "metadata": {},
   "outputs": [
    {
     "name": "stderr",
     "output_type": "stream",
     "text": [
      "C:\\Users\\artoe\\AppData\\Local\\Temp\\ipykernel_16080\\3392172688.py:1: DtypeWarning: Columns (63) have mixed types. Specify dtype option on import or set low_memory=False.\n",
      "  df_listings = pd.read_csv(os.path.join(path,'listings_details_checked_again.csv'), index_col=False)\n"
     ]
    }
   ],
   "source": [
    "df_listings = pd.read_csv(os.path.join(path,'listings_details_checked_again.csv'), index_col=False)"
   ]
  },
  {
   "cell_type": "code",
   "execution_count": 4,
   "id": "f529fd4c-57fa-4f8c-b32c-7fa5046ad55d",
   "metadata": {},
   "outputs": [
    {
     "data": {
      "text/plain": [
       "Index(['Unnamed: 0', 'id', 'listing_url', 'name', 'summary', 'space',\n",
       "       'description', 'experiences_offered', 'neighbourhood_overview', 'notes',\n",
       "       'transit', 'access', 'interaction', 'house_rules', 'picture_url',\n",
       "       'host_id', 'host_url', 'host_name', 'host_since', 'host_location',\n",
       "       'host_about', 'host_response_time', 'host_response_rate',\n",
       "       'host_is_superhost', 'host_neighbourhood', 'host_identity_verified',\n",
       "       'street', 'neighbourhood', 'city', 'state', 'zipcode', 'country',\n",
       "       'latitude', 'longitude', 'is_location_exact', 'property_type',\n",
       "       'room_type', 'accommodates', 'bathrooms', 'bedrooms', 'beds',\n",
       "       'bed_type', 'amenities', 'square_feet', 'price', 'weekly_price',\n",
       "       'monthly_price', 'guests_included', 'minimum_nights', 'maximum_nights',\n",
       "       'has_availability', 'availability_365', 'number_of_reviews',\n",
       "       'first_review', 'last_review', 'review_scores_rating',\n",
       "       'review_scores_accuracy', 'review_scores_cleanliness',\n",
       "       'review_scores_checkin', 'review_scores_communication',\n",
       "       'review_scores_location', 'review_scores_value', 'requires_license',\n",
       "       'license', 'jurisdiction_names', 'instant_bookable',\n",
       "       'is_business_travel_ready', 'require_guest_profile_picture',\n",
       "       'require_guest_phone_verification', 'host_listings_count',\n",
       "       'reviews_per_month'],\n",
       "      dtype='object')"
      ]
     },
     "execution_count": 4,
     "metadata": {},
     "output_type": "execute_result"
    }
   ],
   "source": [
    "df_listings.columns"
   ]
  },
  {
   "cell_type": "code",
   "execution_count": 5,
   "id": "0332ecf6-4cb0-4b9b-8090-749ba0fa231b",
   "metadata": {},
   "outputs": [
    {
     "data": {
      "text/plain": [
       "availability_365\n",
       "0      9344\n",
       "5       245\n",
       "3       244\n",
       "4       241\n",
       "7       239\n",
       "       ... \n",
       "194       3\n",
       "191       3\n",
       "202       3\n",
       "217       3\n",
       "208       3\n",
       "Name: count, Length: 366, dtype: int64"
      ]
     },
     "execution_count": 5,
     "metadata": {},
     "output_type": "execute_result"
    }
   ],
   "source": [
    "df_listings['availability_365'].value_counts()"
   ]
  },
  {
   "cell_type": "code",
   "execution_count": 6,
   "id": "43abf85c-c3c2-46ac-878f-c9e23ee94b85",
   "metadata": {},
   "outputs": [],
   "source": [
    "df_calendar = pd.read_csv(os.path.join(path, 'calendar_checked.csv'),index_col=False)"
   ]
  },
  {
   "cell_type": "code",
   "execution_count": 7,
   "id": "cca09482-d2d0-484d-bccb-e9cace2f25c0",
   "metadata": {},
   "outputs": [
    {
     "data": {
      "text/plain": [
       "Index(['Unnamed: 0', 'listing_id', 'date', 'available', 'price'], dtype='object')"
      ]
     },
     "execution_count": 7,
     "metadata": {},
     "output_type": "execute_result"
    }
   ],
   "source": [
    "df_calendar.columns"
   ]
  },
  {
   "cell_type": "code",
   "execution_count": 8,
   "id": "ed0cb853-429d-4e6d-b67b-db24eb319709",
   "metadata": {},
   "outputs": [],
   "source": [
    "df_calendar.drop(columns='Unnamed: 0', inplace=True)"
   ]
  },
  {
   "cell_type": "code",
   "execution_count": 9,
   "id": "f3067c55-a047-4a9e-84a1-a9918df8de5e",
   "metadata": {},
   "outputs": [],
   "source": [
    "df_calendar.rename(columns={'listing_id':'id'}, inplace=True)\n",
    "df_calendar.rename(columns={'price':'daily_price'}, inplace=True)"
   ]
  },
  {
   "cell_type": "code",
   "execution_count": 10,
   "id": "675a40a0-48e6-42af-895a-48c7427dbead",
   "metadata": {},
   "outputs": [
    {
     "data": {
      "text/plain": [
       "city\n",
       "Amsterdam                  19980\n",
       "Badhoevedorp                   9\n",
       "Diemen                         8\n",
       "Amstelveen                     7\n",
       "Watergraafsmeer                6\n",
       "Duivendrecht                   6\n",
       "Halfweg                        3\n",
       "Amsterdam (Zunderdorp)         3\n",
       "Zeeburg                        2\n",
       "Haarlem                        1\n",
       "Lijnden                        1\n",
       "Weesp                          1\n",
       "Buitenveldert                  1\n",
       "Ouderkerk aan de Amstel        1\n",
       "Zaandam                        1\n",
       "Name: count, dtype: int64"
      ]
     },
     "execution_count": 10,
     "metadata": {},
     "output_type": "execute_result"
    }
   ],
   "source": [
    "df_listings['city'].value_counts()"
   ]
  },
  {
   "cell_type": "code",
   "execution_count": 11,
   "id": "0a20c91e-453c-4dc4-b71f-79adc4c80473",
   "metadata": {},
   "outputs": [
    {
     "data": {
      "text/plain": [
       "city                     state        \n",
       "Badhoevedorp             Noord-Holland    9\n",
       "Diemen                   Noord-Holland    8\n",
       "Amstelveen               Noord-Holland    7\n",
       "Duivendrecht             Noord-Holland    6\n",
       "Watergraafsmeer          Noord-Holland    6\n",
       "Amsterdam (Zunderdorp)   Noord-Holland    3\n",
       "Halfweg                  Noord-Holland    3\n",
       "Zeeburg                  Noord-Holland    2\n",
       "Buitenveldert            Noord-Holland    1\n",
       "Haarlem                  Noord-Holland    1\n",
       "Lijnden                  Noord-Holland    1\n",
       "Ouderkerk aan de Amstel  Noord-Holland    1\n",
       "Weesp                    Noord-Holland    1\n",
       "Zaandam                  Noord-Holland    1\n",
       "Name: count, dtype: int64"
      ]
     },
     "execution_count": 11,
     "metadata": {},
     "output_type": "execute_result"
    }
   ],
   "source": [
    "#check state info for cities outside A'dam proper\n",
    "df_listings[['city','state']].loc[df_listings['city'] != 'Amsterdam'].value_counts()"
   ]
  },
  {
   "cell_type": "code",
   "execution_count": 12,
   "id": "efc645df-8ebe-420a-887e-96e71e9622a0",
   "metadata": {},
   "outputs": [
    {
     "data": {
      "text/plain": [
       "neighbourhood                           city                   \n",
       "De Aker - Nieuw Sloten                  Badhoevedorp               9\n",
       "Buitenveldert - Zuidas                  Amstelveen                 7\n",
       "Watergraafsmeer                         Duivendrecht               6\n",
       "                                        Diemen                     5\n",
       "Oud-Oost                                Watergraafsmeer            4\n",
       "Noord-Oost                              Amsterdam (Zunderdorp)     3\n",
       "Watergraafsmeer                         Watergraafsmeer            2\n",
       "Geuzenveld - Slotermeer                 Halfweg                    2\n",
       "IJburg - Zeeburgereiland                Diemen                     2\n",
       "Oostelijk Havengebied - Indische Buurt  Zeeburg                    2\n",
       "Bijlmer-Centrum                         Diemen                     1\n",
       "Watergraafsmeer                         Ouderkerk aan de Amstel    1\n",
       "Noord-West                              Zaandam                    1\n",
       "Osdorp                                  Halfweg                    1\n",
       "De Baarsjes - Oud-West                  Weesp                      1\n",
       "De Aker - Nieuw Sloten                  Lijnden                    1\n",
       "Buitenveldert - Zuidas                  Buitenveldert              1\n",
       "Zuid                                    Haarlem                    1\n",
       "Name: count, dtype: int64"
      ]
     },
     "execution_count": 12,
     "metadata": {},
     "output_type": "execute_result"
    }
   ],
   "source": [
    "df_listings[['neighbourhood','city']].loc[df_listings['city'] != 'Amsterdam'].value_counts()"
   ]
  },
  {
   "cell_type": "code",
   "execution_count": 13,
   "id": "9265c7d4-950f-4dba-a7e4-1eb0f9e5ae14",
   "metadata": {},
   "outputs": [
    {
     "name": "stderr",
     "output_type": "stream",
     "text": [
      "C:\\Users\\artoe\\AppData\\Local\\Temp\\ipykernel_16080\\3630423289.py:1: FutureWarning: A value is trying to be set on a copy of a DataFrame or Series through chained assignment using an inplace method.\n",
      "The behavior will change in pandas 3.0. This inplace method will never work because the intermediate object on which we are setting values always behaves as a copy.\n",
      "\n",
      "For example, when doing 'df[col].method(value, inplace=True)', try using 'df.method({col: value}, inplace=True)' or df[col] = df[col].method(value) instead, to perform the operation inplace on the original object.\n",
      "\n",
      "\n",
      "  df_listings['city'].replace('Watergraafsmeer', 'Amsterdam', inplace=True)\n"
     ]
    }
   ],
   "source": [
    "df_listings['city'].replace('Watergraafsmeer', 'Amsterdam', inplace=True)"
   ]
  },
  {
   "cell_type": "code",
   "execution_count": 14,
   "id": "f3ea007e-8946-49e1-a12c-a45024e96eca",
   "metadata": {},
   "outputs": [
    {
     "name": "stderr",
     "output_type": "stream",
     "text": [
      "C:\\Users\\artoe\\AppData\\Local\\Temp\\ipykernel_16080\\960319174.py:1: FutureWarning: A value is trying to be set on a copy of a DataFrame or Series through chained assignment using an inplace method.\n",
      "The behavior will change in pandas 3.0. This inplace method will never work because the intermediate object on which we are setting values always behaves as a copy.\n",
      "\n",
      "For example, when doing 'df[col].method(value, inplace=True)', try using 'df.method({col: value}, inplace=True)' or df[col] = df[col].method(value) instead, to perform the operation inplace on the original object.\n",
      "\n",
      "\n",
      "  df_listings['city'].replace('Zeeburg', 'Amsterdam', inplace=True)\n"
     ]
    }
   ],
   "source": [
    "df_listings['city'].replace('Zeeburg', 'Amsterdam', inplace=True)"
   ]
  },
  {
   "cell_type": "code",
   "execution_count": 15,
   "id": "01a83c47-f50a-4e99-a845-8a82cb622d58",
   "metadata": {},
   "outputs": [
    {
     "name": "stderr",
     "output_type": "stream",
     "text": [
      "C:\\Users\\artoe\\AppData\\Local\\Temp\\ipykernel_16080\\1126891162.py:1: FutureWarning: A value is trying to be set on a copy of a DataFrame or Series through chained assignment using an inplace method.\n",
      "The behavior will change in pandas 3.0. This inplace method will never work because the intermediate object on which we are setting values always behaves as a copy.\n",
      "\n",
      "For example, when doing 'df[col].method(value, inplace=True)', try using 'df.method({col: value}, inplace=True)' or df[col] = df[col].method(value) instead, to perform the operation inplace on the original object.\n",
      "\n",
      "\n",
      "  df_listings['city'].replace('Buitenveldert', 'Amsterdam', inplace=True)\n"
     ]
    }
   ],
   "source": [
    "df_listings['city'].replace('Buitenveldert', 'Amsterdam', inplace=True)"
   ]
  },
  {
   "cell_type": "code",
   "execution_count": 16,
   "id": "a5d2b15f-d470-4fba-be4b-2d7d9da97328",
   "metadata": {},
   "outputs": [
    {
     "data": {
      "text/html": [
       "<div>\n",
       "<style scoped>\n",
       "    .dataframe tbody tr th:only-of-type {\n",
       "        vertical-align: middle;\n",
       "    }\n",
       "\n",
       "    .dataframe tbody tr th {\n",
       "        vertical-align: top;\n",
       "    }\n",
       "\n",
       "    .dataframe thead th {\n",
       "        text-align: right;\n",
       "    }\n",
       "</style>\n",
       "<table border=\"1\" class=\"dataframe\">\n",
       "  <thead>\n",
       "    <tr style=\"text-align: right;\">\n",
       "      <th></th>\n",
       "      <th>name</th>\n",
       "      <th>description</th>\n",
       "      <th>street</th>\n",
       "      <th>latitude</th>\n",
       "      <th>longitude</th>\n",
       "      <th>host_location</th>\n",
       "    </tr>\n",
       "  </thead>\n",
       "  <tbody>\n",
       "    <tr>\n",
       "      <th>19469</th>\n",
       "      <td>summer nights.. Nice place for the kids to</td>\n",
       "      <td>Upstairs has 2 very comfortable bedrooms. The ...</td>\n",
       "      <td>Ouderkerk aan de Amstel, Noord-Holland, Nether...</td>\n",
       "      <td>52.317404</td>\n",
       "      <td>4.911694</td>\n",
       "      <td>Seoul, Seoul, South Korea</td>\n",
       "    </tr>\n",
       "  </tbody>\n",
       "</table>\n",
       "</div>"
      ],
      "text/plain": [
       "                                             name  \\\n",
       "19469  summer nights.. Nice place for the kids to   \n",
       "\n",
       "                                             description  \\\n",
       "19469  Upstairs has 2 very comfortable bedrooms. The ...   \n",
       "\n",
       "                                                  street   latitude  \\\n",
       "19469  Ouderkerk aan de Amstel, Noord-Holland, Nether...  52.317404   \n",
       "\n",
       "       longitude              host_location  \n",
       "19469   4.911694  Seoul, Seoul, South Korea  "
      ]
     },
     "execution_count": 16,
     "metadata": {},
     "output_type": "execute_result"
    }
   ],
   "source": [
    "#look at mismatched neighbourhood-city listings\n",
    "df_listings[['name','description','street','latitude','longitude','host_location']].loc[df_listings['city'] == 'Ouderkerk aan de Amstel']"
   ]
  },
  {
   "cell_type": "code",
   "execution_count": 17,
   "id": "1723e4a7-947f-474a-9d8c-d93f796c9354",
   "metadata": {},
   "outputs": [
    {
     "name": "stderr",
     "output_type": "stream",
     "text": [
      "C:\\Users\\artoe\\AppData\\Local\\Temp\\ipykernel_16080\\2316538349.py:1: FutureWarning: A value is trying to be set on a copy of a DataFrame or Series through chained assignment using an inplace method.\n",
      "The behavior will change in pandas 3.0. This inplace method will never work because the intermediate object on which we are setting values always behaves as a copy.\n",
      "\n",
      "For example, when doing 'df[col].method(value, inplace=True)', try using 'df.method({col: value}, inplace=True)' or df[col] = df[col].method(value) instead, to perform the operation inplace on the original object.\n",
      "\n",
      "\n",
      "  df_listings['street'].replace('Ouderkerk aan de Amstel', np.nan, inplace=True)\n"
     ]
    }
   ],
   "source": [
    "df_listings['street'].replace('Ouderkerk aan de Amstel', np.nan, inplace=True)"
   ]
  },
  {
   "cell_type": "code",
   "execution_count": 18,
   "id": "ca9c3574-3660-40a7-828a-29e7a0e4a30f",
   "metadata": {},
   "outputs": [
    {
     "data": {
      "text/html": [
       "<div>\n",
       "<style scoped>\n",
       "    .dataframe tbody tr th:only-of-type {\n",
       "        vertical-align: middle;\n",
       "    }\n",
       "\n",
       "    .dataframe tbody tr th {\n",
       "        vertical-align: top;\n",
       "    }\n",
       "\n",
       "    .dataframe thead th {\n",
       "        text-align: right;\n",
       "    }\n",
       "</style>\n",
       "<table border=\"1\" class=\"dataframe\">\n",
       "  <thead>\n",
       "    <tr style=\"text-align: right;\">\n",
       "      <th></th>\n",
       "      <th>name</th>\n",
       "      <th>neighbourhood</th>\n",
       "      <th>street</th>\n",
       "      <th>latitude</th>\n",
       "      <th>longitude</th>\n",
       "      <th>host_location</th>\n",
       "    </tr>\n",
       "  </thead>\n",
       "  <tbody>\n",
       "    <tr>\n",
       "      <th>17393</th>\n",
       "      <td>2 bedrooms apt - 5 min by foot to the Vondel p...</td>\n",
       "      <td>De Baarsjes - Oud-West</td>\n",
       "      <td>Weesp, Noord-Holland, Netherlands</td>\n",
       "      <td>52.363373</td>\n",
       "      <td>4.867638</td>\n",
       "      <td>NL</td>\n",
       "    </tr>\n",
       "  </tbody>\n",
       "</table>\n",
       "</div>"
      ],
      "text/plain": [
       "                                                    name  \\\n",
       "17393  2 bedrooms apt - 5 min by foot to the Vondel p...   \n",
       "\n",
       "                neighbourhood                             street   latitude  \\\n",
       "17393  De Baarsjes - Oud-West  Weesp, Noord-Holland, Netherlands  52.363373   \n",
       "\n",
       "       longitude host_location  \n",
       "17393   4.867638            NL  "
      ]
     },
     "execution_count": 18,
     "metadata": {},
     "output_type": "execute_result"
    }
   ],
   "source": [
    "df_listings[['name','neighbourhood','street','latitude','longitude','host_location']].loc[df_listings['city'] == 'Weesp']\n"
   ]
  },
  {
   "cell_type": "code",
   "execution_count": 19,
   "id": "6eccb283-ce8e-452e-941e-7dd6311f3af5",
   "metadata": {},
   "outputs": [
    {
     "name": "stderr",
     "output_type": "stream",
     "text": [
      "C:\\Users\\artoe\\AppData\\Local\\Temp\\ipykernel_16080\\3360460422.py:2: FutureWarning: A value is trying to be set on a copy of a DataFrame or Series through chained assignment using an inplace method.\n",
      "The behavior will change in pandas 3.0. This inplace method will never work because the intermediate object on which we are setting values always behaves as a copy.\n",
      "\n",
      "For example, when doing 'df[col].method(value, inplace=True)', try using 'df.method({col: value}, inplace=True)' or df[col] = df[col].method(value) instead, to perform the operation inplace on the original object.\n",
      "\n",
      "\n",
      "  df_listings['city'].replace('Weesp','Amsterdam', inplace=True)\n"
     ]
    }
   ],
   "source": [
    "#this one is, in fact, located in De Baarsjes - Oud West, Amsterdam. \n",
    "df_listings['city'].replace('Weesp','Amsterdam', inplace=True)"
   ]
  },
  {
   "cell_type": "code",
   "execution_count": 20,
   "id": "4ac06d32-9507-4b9f-8054-d4fa03441823",
   "metadata": {},
   "outputs": [
    {
     "data": {
      "text/html": [
       "<div>\n",
       "<style scoped>\n",
       "    .dataframe tbody tr th:only-of-type {\n",
       "        vertical-align: middle;\n",
       "    }\n",
       "\n",
       "    .dataframe tbody tr th {\n",
       "        vertical-align: top;\n",
       "    }\n",
       "\n",
       "    .dataframe thead th {\n",
       "        text-align: right;\n",
       "    }\n",
       "</style>\n",
       "<table border=\"1\" class=\"dataframe\">\n",
       "  <thead>\n",
       "    <tr style=\"text-align: right;\">\n",
       "      <th></th>\n",
       "      <th>Unnamed: 0</th>\n",
       "      <th>id</th>\n",
       "      <th>listing_url</th>\n",
       "      <th>name</th>\n",
       "      <th>summary</th>\n",
       "      <th>space</th>\n",
       "      <th>description</th>\n",
       "      <th>experiences_offered</th>\n",
       "      <th>neighbourhood_overview</th>\n",
       "      <th>notes</th>\n",
       "      <th>...</th>\n",
       "      <th>review_scores_value</th>\n",
       "      <th>requires_license</th>\n",
       "      <th>license</th>\n",
       "      <th>jurisdiction_names</th>\n",
       "      <th>instant_bookable</th>\n",
       "      <th>is_business_travel_ready</th>\n",
       "      <th>require_guest_profile_picture</th>\n",
       "      <th>require_guest_phone_verification</th>\n",
       "      <th>host_listings_count</th>\n",
       "      <th>reviews_per_month</th>\n",
       "    </tr>\n",
       "  </thead>\n",
       "  <tbody>\n",
       "    <tr>\n",
       "      <th>17393</th>\n",
       "      <td>17393</td>\n",
       "      <td>26284593</td>\n",
       "      <td>https://www.airbnb.com/rooms/26284593</td>\n",
       "      <td>2 bedrooms apt - 5 min by foot to the Vondel p...</td>\n",
       "      <td>This apartment is located 5 minutes walk from ...</td>\n",
       "      <td>NaN</td>\n",
       "      <td>This apartment is located 5 minutes walk from ...</td>\n",
       "      <td>none</td>\n",
       "      <td>NaN</td>\n",
       "      <td>Smoking is allowed only in the living room, wi...</td>\n",
       "      <td>...</td>\n",
       "      <td>8.0</td>\n",
       "      <td>False</td>\n",
       "      <td>NaN</td>\n",
       "      <td>NaN</td>\n",
       "      <td>False</td>\n",
       "      <td>False</td>\n",
       "      <td>False</td>\n",
       "      <td>False</td>\n",
       "      <td>5</td>\n",
       "      <td>0.22</td>\n",
       "    </tr>\n",
       "  </tbody>\n",
       "</table>\n",
       "<p>1 rows × 71 columns</p>\n",
       "</div>"
      ],
      "text/plain": [
       "       Unnamed: 0        id                            listing_url  \\\n",
       "17393       17393  26284593  https://www.airbnb.com/rooms/26284593   \n",
       "\n",
       "                                                    name  \\\n",
       "17393  2 bedrooms apt - 5 min by foot to the Vondel p...   \n",
       "\n",
       "                                                 summary space  \\\n",
       "17393  This apartment is located 5 minutes walk from ...   NaN   \n",
       "\n",
       "                                             description experiences_offered  \\\n",
       "17393  This apartment is located 5 minutes walk from ...                none   \n",
       "\n",
       "      neighbourhood_overview  \\\n",
       "17393                    NaN   \n",
       "\n",
       "                                                   notes  ...  \\\n",
       "17393  Smoking is allowed only in the living room, wi...  ...   \n",
       "\n",
       "      review_scores_value requires_license license jurisdiction_names  \\\n",
       "17393                 8.0            False     NaN                NaN   \n",
       "\n",
       "      instant_bookable  is_business_travel_ready  \\\n",
       "17393            False                     False   \n",
       "\n",
       "      require_guest_profile_picture require_guest_phone_verification  \\\n",
       "17393                         False                            False   \n",
       "\n",
       "      host_listings_count reviews_per_month  \n",
       "17393                   5              0.22  \n",
       "\n",
       "[1 rows x 71 columns]"
      ]
     },
     "execution_count": 20,
     "metadata": {},
     "output_type": "execute_result"
    }
   ],
   "source": [
    "df_listings.loc[df_listings['street'] == 'Weesp, Noord-Holland, Netherlands']"
   ]
  },
  {
   "cell_type": "code",
   "execution_count": 21,
   "id": "af0c4735-0c64-494c-9adc-56e48404670c",
   "metadata": {},
   "outputs": [
    {
     "name": "stderr",
     "output_type": "stream",
     "text": [
      "C:\\Users\\artoe\\AppData\\Local\\Temp\\ipykernel_16080\\2540839854.py:1: FutureWarning: A value is trying to be set on a copy of a DataFrame or Series through chained assignment using an inplace method.\n",
      "The behavior will change in pandas 3.0. This inplace method will never work because the intermediate object on which we are setting values always behaves as a copy.\n",
      "\n",
      "For example, when doing 'df[col].method(value, inplace=True)', try using 'df.method({col: value}, inplace=True)' or df[col] = df[col].method(value) instead, to perform the operation inplace on the original object.\n",
      "\n",
      "\n",
      "  df_listings['street'].replace('Weesp, Noord-Holland, Netherlands', np.nan, inplace=True)\n"
     ]
    }
   ],
   "source": [
    "df_listings['street'].replace('Weesp, Noord-Holland, Netherlands', np.nan, inplace=True)"
   ]
  },
  {
   "cell_type": "code",
   "execution_count": 22,
   "id": "f2628896-39ea-4bae-a9e0-10ba395f24a5",
   "metadata": {},
   "outputs": [
    {
     "data": {
      "text/html": [
       "<div>\n",
       "<style scoped>\n",
       "    .dataframe tbody tr th:only-of-type {\n",
       "        vertical-align: middle;\n",
       "    }\n",
       "\n",
       "    .dataframe tbody tr th {\n",
       "        vertical-align: top;\n",
       "    }\n",
       "\n",
       "    .dataframe thead th {\n",
       "        text-align: right;\n",
       "    }\n",
       "</style>\n",
       "<table border=\"1\" class=\"dataframe\">\n",
       "  <thead>\n",
       "    <tr style=\"text-align: right;\">\n",
       "      <th></th>\n",
       "      <th>name</th>\n",
       "      <th>neighbourhood</th>\n",
       "      <th>street</th>\n",
       "      <th>latitude</th>\n",
       "      <th>longitude</th>\n",
       "      <th>host_location</th>\n",
       "    </tr>\n",
       "  </thead>\n",
       "  <tbody>\n",
       "    <tr>\n",
       "      <th>5359</th>\n",
       "      <td>Een mooi appartement aan het water</td>\n",
       "      <td>Zuid</td>\n",
       "      <td>Haarlem, Noord-Holland, Netherlands</td>\n",
       "      <td>52.35501</td>\n",
       "      <td>4.852106</td>\n",
       "      <td>Haarlem, North Holland, Netherlands</td>\n",
       "    </tr>\n",
       "  </tbody>\n",
       "</table>\n",
       "</div>"
      ],
      "text/plain": [
       "                                    name neighbourhood  \\\n",
       "5359  Een mooi appartement aan het water          Zuid   \n",
       "\n",
       "                                   street  latitude  longitude  \\\n",
       "5359  Haarlem, Noord-Holland, Netherlands  52.35501   4.852106   \n",
       "\n",
       "                            host_location  \n",
       "5359  Haarlem, North Holland, Netherlands  "
      ]
     },
     "execution_count": 22,
     "metadata": {},
     "output_type": "execute_result"
    }
   ],
   "source": [
    "df_listings[['name','neighbourhood','street','latitude','longitude','host_location']].loc[df_listings['city'] == 'Haarlem']"
   ]
  },
  {
   "cell_type": "code",
   "execution_count": 23,
   "id": "c753cd9f-98a2-428a-888a-ad101d1dc15b",
   "metadata": {},
   "outputs": [
    {
     "name": "stderr",
     "output_type": "stream",
     "text": [
      "C:\\Users\\artoe\\AppData\\Local\\Temp\\ipykernel_16080\\3829634676.py:2: FutureWarning: A value is trying to be set on a copy of a DataFrame or Series through chained assignment using an inplace method.\n",
      "The behavior will change in pandas 3.0. This inplace method will never work because the intermediate object on which we are setting values always behaves as a copy.\n",
      "\n",
      "For example, when doing 'df[col].method(value, inplace=True)', try using 'df.method({col: value}, inplace=True)' or df[col] = df[col].method(value) instead, to perform the operation inplace on the original object.\n",
      "\n",
      "\n",
      "  df_listings['city'].replace('Haarlem','Amsterdam', inplace=True)\n"
     ]
    }
   ],
   "source": [
    "#Haarlem is the host location, but the listing is located in Amsterdam-Zuid. city value can be replaced w Amsterdam, street with NaN\n",
    "df_listings['city'].replace('Haarlem','Amsterdam', inplace=True)"
   ]
  },
  {
   "cell_type": "code",
   "execution_count": 24,
   "id": "d141b759-611e-4e16-9761-872e225d45e4",
   "metadata": {},
   "outputs": [
    {
     "name": "stderr",
     "output_type": "stream",
     "text": [
      "C:\\Users\\artoe\\AppData\\Local\\Temp\\ipykernel_16080\\2649265349.py:1: FutureWarning: A value is trying to be set on a copy of a DataFrame or Series through chained assignment using an inplace method.\n",
      "The behavior will change in pandas 3.0. This inplace method will never work because the intermediate object on which we are setting values always behaves as a copy.\n",
      "\n",
      "For example, when doing 'df[col].method(value, inplace=True)', try using 'df.method({col: value}, inplace=True)' or df[col] = df[col].method(value) instead, to perform the operation inplace on the original object.\n",
      "\n",
      "\n",
      "  df_listings['street'].replace('Haarlem, Noord-Holland, Netherlands', np.nan, inplace=True)\n"
     ]
    }
   ],
   "source": [
    "df_listings['street'].replace('Haarlem, Noord-Holland, Netherlands', np.nan, inplace=True)"
   ]
  },
  {
   "cell_type": "code",
   "execution_count": 25,
   "id": "f5e4cc00-b055-47a1-8c54-314ff08abd91",
   "metadata": {},
   "outputs": [],
   "source": [
    "df_listings_sub = df_listings[['id','name','street','neighbourhood','city','latitude','longitude','room_type','square_feet','availability_365','host_listings_count','review_scores_rating','review_scores_location','review_scores_value','review_scores_cleanliness']]"
   ]
  },
  {
   "cell_type": "code",
   "execution_count": 26,
   "id": "963d951e-a177-4361-b077-b4e5604011e5",
   "metadata": {},
   "outputs": [
    {
     "data": {
      "text/plain": [
       "room_type\n",
       "Entire home/apt    15889\n",
       "Private room        4076\n",
       "Shared room           65\n",
       "Name: count, dtype: int64"
      ]
     },
     "execution_count": 26,
     "metadata": {},
     "output_type": "execute_result"
    }
   ],
   "source": [
    "df_listings_sub['room_type'].value_counts()"
   ]
  },
  {
   "cell_type": "code",
   "execution_count": 27,
   "id": "137a4223-d440-4cda-a736-6f30f9563768",
   "metadata": {},
   "outputs": [
    {
     "data": {
      "text/plain": [
       "id                               0\n",
       "name                            38\n",
       "street                           2\n",
       "neighbourhood                    0\n",
       "city                             0\n",
       "latitude                         0\n",
       "longitude                        0\n",
       "room_type                        0\n",
       "square_feet                  19624\n",
       "availability_365                 0\n",
       "host_listings_count              0\n",
       "review_scores_rating          2639\n",
       "review_scores_location        2660\n",
       "review_scores_value           2659\n",
       "review_scores_cleanliness     2647\n",
       "dtype: int64"
      ]
     },
     "execution_count": 27,
     "metadata": {},
     "output_type": "execute_result"
    }
   ],
   "source": [
    "df_listings_sub.isnull().sum()"
   ]
  },
  {
   "cell_type": "code",
   "execution_count": 28,
   "id": "82fa2069-3112-42b1-986e-bbaa4245df8b",
   "metadata": {},
   "outputs": [
    {
     "name": "stderr",
     "output_type": "stream",
     "text": [
      "C:\\Users\\artoe\\AppData\\Local\\Temp\\ipykernel_16080\\2347820468.py:2: SettingWithCopyWarning: \n",
      "A value is trying to be set on a copy of a slice from a DataFrame.\n",
      "Try using .loc[row_indexer,col_indexer] = value instead\n",
      "\n",
      "See the caveats in the documentation: https://pandas.pydata.org/pandas-docs/stable/user_guide/indexing.html#returning-a-view-versus-a-copy\n",
      "  df_listings_sub.loc[df_listings_sub['room_type'] == 'Entire home/apt', 'entire_home'] = True\n"
     ]
    }
   ],
   "source": [
    "#create flag columns for room type\n",
    "df_listings_sub.loc[df_listings_sub['room_type'] == 'Entire home/apt', 'entire_home'] = True\n",
    "df_listings_sub.loc[df_listings_sub['room_type'] != 'Entire home/apt', 'entire_home'] = False"
   ]
  },
  {
   "cell_type": "code",
   "execution_count": 29,
   "id": "0ac6e136-7af1-4892-ae13-030bc0e77a02",
   "metadata": {},
   "outputs": [
    {
     "name": "stderr",
     "output_type": "stream",
     "text": [
      "C:\\Users\\artoe\\AppData\\Local\\Temp\\ipykernel_16080\\2284150093.py:1: SettingWithCopyWarning: \n",
      "A value is trying to be set on a copy of a slice from a DataFrame.\n",
      "Try using .loc[row_indexer,col_indexer] = value instead\n",
      "\n",
      "See the caveats in the documentation: https://pandas.pydata.org/pandas-docs/stable/user_guide/indexing.html#returning-a-view-versus-a-copy\n",
      "  df_listings_sub.loc[df_listings_sub['room_type'] == 'Private room', 'private_room'] = True\n"
     ]
    }
   ],
   "source": [
    "df_listings_sub.loc[df_listings_sub['room_type'] == 'Private room', 'private_room'] = True\n",
    "df_listings_sub.loc[df_listings_sub['room_type'] != 'Private room', 'private_room'] = False"
   ]
  },
  {
   "cell_type": "code",
   "execution_count": 30,
   "id": "f081d31b-ff30-4a2d-8281-fc8644fad518",
   "metadata": {},
   "outputs": [
    {
     "name": "stderr",
     "output_type": "stream",
     "text": [
      "C:\\Users\\artoe\\AppData\\Local\\Temp\\ipykernel_16080\\1371559939.py:1: SettingWithCopyWarning: \n",
      "A value is trying to be set on a copy of a slice from a DataFrame.\n",
      "Try using .loc[row_indexer,col_indexer] = value instead\n",
      "\n",
      "See the caveats in the documentation: https://pandas.pydata.org/pandas-docs/stable/user_guide/indexing.html#returning-a-view-versus-a-copy\n",
      "  df_listings_sub.loc[df_listings_sub['room_type'] == 'Shared room', 'shared_room'] = True\n"
     ]
    }
   ],
   "source": [
    "df_listings_sub.loc[df_listings_sub['room_type'] == 'Shared room', 'shared_room'] = True\n",
    "df_listings_sub.loc[df_listings_sub['room_type'] != 'Shared_room', 'shared_room'] = False"
   ]
  },
  {
   "cell_type": "code",
   "execution_count": 31,
   "id": "c1415d6c-0d0f-4f55-bf83-928464b42453",
   "metadata": {},
   "outputs": [],
   "source": [
    "#create distance from city center column using Haversine formula, using Dam Square as center point.\n",
    "def haversine(lat1, lon1, lat2, lon2):\n",
    "    lat1, lon1, lat2, lon2 = map(np.radians, [lat1, lon1, lat2, lon2])\n",
    "    dlon = lon2 - lon1\n",
    "    dlat = lat2 - lat1\n",
    "    a = np.sin(dlat/2)**2 + np.cos(lat1) * np.cos(lat2) * np.sin(dlon/2)**2\n",
    "    c = 2 * np.arcsin(np.sqrt(a))\n",
    "    r = 6371  \n",
    "    return c * r"
   ]
  },
  {
   "cell_type": "code",
   "execution_count": 32,
   "id": "40626d0b-34d7-4488-86b8-5e875f467ace",
   "metadata": {},
   "outputs": [
    {
     "name": "stderr",
     "output_type": "stream",
     "text": [
      "C:\\Users\\artoe\\AppData\\Local\\Temp\\ipykernel_16080\\208546140.py:6: SettingWithCopyWarning: \n",
      "A value is trying to be set on a copy of a slice from a DataFrame.\n",
      "Try using .loc[row_indexer,col_indexer] = value instead\n",
      "\n",
      "See the caveats in the documentation: https://pandas.pydata.org/pandas-docs/stable/user_guide/indexing.html#returning-a-view-versus-a-copy\n",
      "  df_listings_sub['distance_from_center'] = haversine(df_listings_sub['latitude'].shift(), df_listings_sub['longitude'].shift(), 52.373100, 4.892351)\n"
     ]
    }
   ],
   "source": [
    "lon1 = df_listings_sub[\"longitude\"].iloc[0]\n",
    "lat1 = df_listings_sub[\"latitude\"].iloc[0]\n",
    "lon2 = 4.892351\n",
    "lat2 = 52.373100\n",
    "\n",
    "df_listings_sub['distance_from_center'] = haversine(df_listings_sub['latitude'].shift(), df_listings_sub['longitude'].shift(), 52.373100, 4.892351)"
   ]
  },
  {
   "cell_type": "code",
   "execution_count": 33,
   "id": "be5468b9-3fd2-435c-84ba-dcf777832afe",
   "metadata": {},
   "outputs": [
    {
     "data": {
      "text/plain": [
       "id                               0\n",
       "name                            38\n",
       "street                           2\n",
       "neighbourhood                    0\n",
       "city                             0\n",
       "latitude                         0\n",
       "longitude                        0\n",
       "room_type                        0\n",
       "square_feet                  19624\n",
       "availability_365                 0\n",
       "host_listings_count              0\n",
       "review_scores_rating          2639\n",
       "review_scores_location        2660\n",
       "review_scores_value           2659\n",
       "review_scores_cleanliness     2647\n",
       "entire_home                      0\n",
       "private_room                     0\n",
       "shared_room                      0\n",
       "distance_from_center             1\n",
       "dtype: int64"
      ]
     },
     "execution_count": 33,
     "metadata": {},
     "output_type": "execute_result"
    }
   ],
   "source": [
    "df_listings_sub.isnull().sum()"
   ]
  },
  {
   "cell_type": "code",
   "execution_count": 34,
   "id": "020278aa-46d2-4f2e-a38c-e56ff8251b32",
   "metadata": {},
   "outputs": [
    {
     "data": {
      "text/html": [
       "<div>\n",
       "<style scoped>\n",
       "    .dataframe tbody tr th:only-of-type {\n",
       "        vertical-align: middle;\n",
       "    }\n",
       "\n",
       "    .dataframe tbody tr th {\n",
       "        vertical-align: top;\n",
       "    }\n",
       "\n",
       "    .dataframe thead th {\n",
       "        text-align: right;\n",
       "    }\n",
       "</style>\n",
       "<table border=\"1\" class=\"dataframe\">\n",
       "  <thead>\n",
       "    <tr style=\"text-align: right;\">\n",
       "      <th></th>\n",
       "      <th>id</th>\n",
       "      <th>name</th>\n",
       "      <th>street</th>\n",
       "      <th>neighbourhood</th>\n",
       "      <th>city</th>\n",
       "      <th>latitude</th>\n",
       "      <th>longitude</th>\n",
       "      <th>room_type</th>\n",
       "      <th>square_feet</th>\n",
       "      <th>availability_365</th>\n",
       "      <th>host_listings_count</th>\n",
       "      <th>review_scores_rating</th>\n",
       "      <th>review_scores_location</th>\n",
       "      <th>review_scores_value</th>\n",
       "      <th>review_scores_cleanliness</th>\n",
       "      <th>entire_home</th>\n",
       "      <th>private_room</th>\n",
       "      <th>shared_room</th>\n",
       "      <th>distance_from_center</th>\n",
       "    </tr>\n",
       "  </thead>\n",
       "  <tbody>\n",
       "    <tr>\n",
       "      <th>0</th>\n",
       "      <td>2818</td>\n",
       "      <td>Quiet Garden View Room &amp; Super Fast WiFi</td>\n",
       "      <td>Amsterdam, North Holland, Netherlands</td>\n",
       "      <td>Oostelijk Havengebied - Indische Buurt</td>\n",
       "      <td>Amsterdam</td>\n",
       "      <td>52.365755</td>\n",
       "      <td>4.941419</td>\n",
       "      <td>Private room</td>\n",
       "      <td>NaN</td>\n",
       "      <td>44</td>\n",
       "      <td>1</td>\n",
       "      <td>97.0</td>\n",
       "      <td>9.0</td>\n",
       "      <td>10.0</td>\n",
       "      <td>10.0</td>\n",
       "      <td>False</td>\n",
       "      <td>True</td>\n",
       "      <td>False</td>\n",
       "      <td>NaN</td>\n",
       "    </tr>\n",
       "  </tbody>\n",
       "</table>\n",
       "</div>"
      ],
      "text/plain": [
       "     id                                      name  \\\n",
       "0  2818  Quiet Garden View Room & Super Fast WiFi   \n",
       "\n",
       "                                  street  \\\n",
       "0  Amsterdam, North Holland, Netherlands   \n",
       "\n",
       "                            neighbourhood       city   latitude  longitude  \\\n",
       "0  Oostelijk Havengebied - Indische Buurt  Amsterdam  52.365755   4.941419   \n",
       "\n",
       "      room_type  square_feet  availability_365  host_listings_count  \\\n",
       "0  Private room          NaN                44                    1   \n",
       "\n",
       "   review_scores_rating  review_scores_location  review_scores_value  \\\n",
       "0                  97.0                     9.0                 10.0   \n",
       "\n",
       "   review_scores_cleanliness entire_home private_room shared_room  \\\n",
       "0                       10.0       False         True       False   \n",
       "\n",
       "   distance_from_center  \n",
       "0                   NaN  "
      ]
     },
     "execution_count": 34,
     "metadata": {},
     "output_type": "execute_result"
    }
   ],
   "source": [
    "df_listings_sub.loc[df_listings_sub['distance_from_center'].isnull()]"
   ]
  },
  {
   "cell_type": "code",
   "execution_count": 35,
   "id": "cc2cacf7-a15f-4a91-8766-2e0217805693",
   "metadata": {},
   "outputs": [
    {
     "name": "stderr",
     "output_type": "stream",
     "text": [
      "C:\\Users\\artoe\\AppData\\Local\\Temp\\ipykernel_16080\\241117176.py:1: FutureWarning: A value is trying to be set on a copy of a DataFrame or Series through chained assignment using an inplace method.\n",
      "The behavior will change in pandas 3.0. This inplace method will never work because the intermediate object on which we are setting values always behaves as a copy.\n",
      "\n",
      "For example, when doing 'df[col].method(value, inplace=True)', try using 'df.method({col: value}, inplace=True)' or df[col] = df[col].method(value) instead, to perform the operation inplace on the original object.\n",
      "\n",
      "\n",
      "  df_listings_sub['distance_from_center'].fillna(haversine(52.365754513876176, 4.941419235184398, 52.373100, 4.892351), inplace=True)\n",
      "C:\\Users\\artoe\\AppData\\Local\\Temp\\ipykernel_16080\\241117176.py:1: SettingWithCopyWarning: \n",
      "A value is trying to be set on a copy of a slice from a DataFrame\n",
      "\n",
      "See the caveats in the documentation: https://pandas.pydata.org/pandas-docs/stable/user_guide/indexing.html#returning-a-view-versus-a-copy\n",
      "  df_listings_sub['distance_from_center'].fillna(haversine(52.365754513876176, 4.941419235184398, 52.373100, 4.892351), inplace=True)\n"
     ]
    }
   ],
   "source": [
    "df_listings_sub['distance_from_center'].fillna(haversine(52.365754513876176, 4.941419235184398, 52.373100, 4.892351), inplace=True)"
   ]
  },
  {
   "cell_type": "code",
   "execution_count": 36,
   "id": "1610b40f-227a-459a-a47c-100576cb0ded",
   "metadata": {},
   "outputs": [
    {
     "data": {
      "text/plain": [
       "0"
      ]
     },
     "execution_count": 36,
     "metadata": {},
     "output_type": "execute_result"
    }
   ],
   "source": [
    "#check for dups\n",
    "df_listings_sub.duplicated().sum()"
   ]
  },
  {
   "cell_type": "code",
   "execution_count": 37,
   "id": "1fde5795-abf7-4bb5-ad78-63351a3d33bd",
   "metadata": {},
   "outputs": [
    {
     "data": {
      "text/plain": [
       "(20030, 19)"
      ]
     },
     "execution_count": 37,
     "metadata": {},
     "output_type": "execute_result"
    }
   ],
   "source": [
    "df_listings_sub.shape"
   ]
  },
  {
   "cell_type": "code",
   "execution_count": 38,
   "id": "beb5462c-8a14-432e-80b8-ce25f3f0efdf",
   "metadata": {},
   "outputs": [],
   "source": [
    "#aggregating by month, adding a monthly avg price column\n",
    "df_calendar.loc[df_calendar['date'].str.contains(\"2018-12\"), ['month']] = \"12-2018\""
   ]
  },
  {
   "cell_type": "code",
   "execution_count": 39,
   "id": "a613e1a1-e576-43e0-8ca4-6101e84e4827",
   "metadata": {},
   "outputs": [],
   "source": [
    "df_calendar.loc[df_calendar['date'].str.contains(\"2019-01\"), ['month']] = \"01-2019\""
   ]
  },
  {
   "cell_type": "code",
   "execution_count": 40,
   "id": "e8caa088-3c1e-4e99-ae13-898f932ffa27",
   "metadata": {},
   "outputs": [],
   "source": [
    "df_calendar.loc[df_calendar['date'].str.contains(\"2019-02\"), ['month']] = \"02-2019\""
   ]
  },
  {
   "cell_type": "code",
   "execution_count": 41,
   "id": "c83e2138-1c21-494e-bf83-46101ebab828",
   "metadata": {},
   "outputs": [],
   "source": [
    "df_calendar.loc[df_calendar['date'].str.contains(\"2019-03\"), ['month']] = \"03-2019\""
   ]
  },
  {
   "cell_type": "code",
   "execution_count": 42,
   "id": "bd388694-ce5a-44d8-b2ca-a1238a4084ee",
   "metadata": {},
   "outputs": [],
   "source": [
    "df_calendar.loc[df_calendar['date'].str.contains(\"2019-04\"), ['month']] = \"04-2019\""
   ]
  },
  {
   "cell_type": "code",
   "execution_count": 43,
   "id": "c4df2a98-8361-4dda-a493-91e525b3c251",
   "metadata": {},
   "outputs": [],
   "source": [
    "df_calendar.loc[df_calendar['date'].str.contains(\"2019-05\"), ['month']] = \"05-2019\""
   ]
  },
  {
   "cell_type": "code",
   "execution_count": 44,
   "id": "88d80a13-164d-48f2-aa2b-6efb5ae62512",
   "metadata": {},
   "outputs": [],
   "source": [
    "df_calendar.loc[df_calendar['date'].str.contains(\"2019-06\"), ['month']] = \"06-2019\""
   ]
  },
  {
   "cell_type": "code",
   "execution_count": 45,
   "id": "f7850876-3683-4483-853f-cc96e68e8be9",
   "metadata": {},
   "outputs": [],
   "source": [
    "df_calendar.loc[df_calendar['date'].str.contains(\"2019-07\"), ['month']] = \"07-2019\""
   ]
  },
  {
   "cell_type": "code",
   "execution_count": 46,
   "id": "6c7f9f26-0e0e-45c8-8556-be9422f1bcb1",
   "metadata": {},
   "outputs": [],
   "source": [
    "df_calendar.loc[df_calendar['date'].str.contains(\"2019-08\"), ['month']] = \"08-2019\""
   ]
  },
  {
   "cell_type": "code",
   "execution_count": 47,
   "id": "0afae924-0d41-4cf3-ad51-73c839f5243c",
   "metadata": {},
   "outputs": [],
   "source": [
    "df_calendar.loc[df_calendar['date'].str.contains(\"2019-09\"), ['month']] = \"09-2019\""
   ]
  },
  {
   "cell_type": "code",
   "execution_count": 48,
   "id": "5040a70b-9555-48a1-8401-4e3a14eb01fe",
   "metadata": {},
   "outputs": [],
   "source": [
    "df_calendar.loc[df_calendar['date'].str.contains(\"2019-10\"), ['month']] = \"10-2019\""
   ]
  },
  {
   "cell_type": "code",
   "execution_count": 49,
   "id": "a819d50a-86bb-4165-bece-a1275d79ba73",
   "metadata": {},
   "outputs": [],
   "source": [
    "df_calendar.loc[df_calendar['date'].str.contains(\"2019-10\"), ['month']] = \"10-2019\""
   ]
  },
  {
   "cell_type": "code",
   "execution_count": 50,
   "id": "47dd6e70-788b-4e39-9e70-d52a64598c70",
   "metadata": {},
   "outputs": [],
   "source": [
    "df_calendar.loc[df_calendar['date'].str.contains(\"2019-11\"), ['month']] = \"11-2019\""
   ]
  },
  {
   "cell_type": "code",
   "execution_count": 51,
   "id": "9434dd26-2280-431b-b391-c09fbbe45cfa",
   "metadata": {},
   "outputs": [],
   "source": [
    "df_calendar.loc[df_calendar['date'].str.contains(\"2019-12\"), ['month']] = \"12-2019\""
   ]
  },
  {
   "cell_type": "code",
   "execution_count": 52,
   "id": "0b701ff6-1d70-4a2c-8c66-1b349475ac3b",
   "metadata": {},
   "outputs": [
    {
     "data": {
      "text/plain": [
       "month\n",
       "08-2019    620930\n",
       "07-2019    620930\n",
       "05-2019    620930\n",
       "10-2019    620930\n",
       "03-2019    620930\n",
       "01-2019    620930\n",
       "06-2019    600900\n",
       "11-2019    600900\n",
       "04-2019    600900\n",
       "09-2019    600900\n",
       "02-2019    560840\n",
       "12-2018    519933\n",
       "12-2019    100997\n",
       "Name: count, dtype: int64"
      ]
     },
     "execution_count": 52,
     "metadata": {},
     "output_type": "execute_result"
    }
   ],
   "source": [
    "df_calendar['month'].value_counts()"
   ]
  },
  {
   "cell_type": "code",
   "execution_count": 53,
   "id": "faaeaf49-bd10-4ead-93cd-516f358f2f37",
   "metadata": {},
   "outputs": [
    {
     "data": {
      "text/plain": [
       "id               int64\n",
       "date            object\n",
       "available         bool\n",
       "daily_price    float64\n",
       "month           object\n",
       "dtype: object"
      ]
     },
     "execution_count": 53,
     "metadata": {},
     "output_type": "execute_result"
    }
   ],
   "source": [
    "df_calendar.dtypes"
   ]
  },
  {
   "cell_type": "code",
   "execution_count": 54,
   "id": "02fac100-906a-4ca2-b996-176e15f9afd2",
   "metadata": {},
   "outputs": [
    {
     "name": "stderr",
     "output_type": "stream",
     "text": [
      "C:\\Users\\artoe\\AppData\\Local\\Temp\\ipykernel_16080\\1424850501.py:1: FutureWarning: The provided callable <function mean at 0x0000026C85F88EA0> is currently using SeriesGroupBy.mean. In a future version of pandas, the provided callable will be used directly. To keep current behavior pass the string \"mean\" instead.\n",
      "  df_calendar['avg_monthly_price'] = df_calendar.groupby(['id','month'])['daily_price'].transform(np.mean)\n"
     ]
    }
   ],
   "source": [
    "df_calendar['avg_monthly_price'] = df_calendar.groupby(['id','month'])['daily_price'].transform(np.mean)"
   ]
  },
  {
   "cell_type": "code",
   "execution_count": 55,
   "id": "0484e783-2cf8-442f-9c42-cb2a7ac52bf0",
   "metadata": {},
   "outputs": [],
   "source": [
    "#average listing price in year\n",
    "df_calendar['listing_avg_price_year'] = df_calendar.groupby('id')['daily_price'].transform('mean')"
   ]
  },
  {
   "cell_type": "code",
   "execution_count": 56,
   "id": "cd454662-08f0-4e66-a296-34fb0c882a5b",
   "metadata": {},
   "outputs": [],
   "source": [
    "#average availability in month\n",
    "df_calendar['days_available_month'] = df_calendar.groupby(['id','month'])['available'].transform('sum')"
   ]
  },
  {
   "cell_type": "code",
   "execution_count": 57,
   "id": "bf9ba8d8-27d9-44f1-b2cf-545a03c3505e",
   "metadata": {},
   "outputs": [],
   "source": [
    "df_calendar['days_in_month'] = df_calendar.groupby(['id','month'])['date'].transform('count')"
   ]
  },
  {
   "cell_type": "code",
   "execution_count": 58,
   "id": "2040bc69-d204-444f-8cca-0532496e7748",
   "metadata": {},
   "outputs": [],
   "source": [
    "df_calendar['availability_rate_month'] = (df_calendar['days_available_month']/df_calendar['days_in_month'])*100"
   ]
  },
  {
   "cell_type": "code",
   "execution_count": 59,
   "id": "70c3db39-7f7e-49b1-be8f-09d67568be64",
   "metadata": {},
   "outputs": [],
   "source": [
    "df_calendar.drop(columns=['days_in_month', 'days_available_month'], inplace=True)"
   ]
  },
  {
   "cell_type": "code",
   "execution_count": 60,
   "id": "3dc11b16-3879-42d5-865c-aecfca7a39b5",
   "metadata": {},
   "outputs": [],
   "source": [
    "df_listings_daily = df_calendar.merge(df_listings_sub, on='id', indicator=True)"
   ]
  },
  {
   "cell_type": "code",
   "execution_count": 61,
   "id": "365dd0be-d7de-435e-9f20-317afb2bb490",
   "metadata": {},
   "outputs": [
    {
     "data": {
      "text/plain": [
       "(7310950, 27)"
      ]
     },
     "execution_count": 61,
     "metadata": {},
     "output_type": "execute_result"
    }
   ],
   "source": [
    "df_listings_daily.shape"
   ]
  },
  {
   "cell_type": "code",
   "execution_count": 62,
   "id": "b42050f6-65b9-44c5-9e43-652a91a80d93",
   "metadata": {},
   "outputs": [
    {
     "data": {
      "text/plain": [
       "id                              int64\n",
       "date                           object\n",
       "available                        bool\n",
       "daily_price                   float64\n",
       "month                          object\n",
       "avg_monthly_price             float64\n",
       "listing_avg_price_year        float64\n",
       "availability_rate_month       float64\n",
       "name                           object\n",
       "street                         object\n",
       "neighbourhood                  object\n",
       "city                           object\n",
       "latitude                      float64\n",
       "longitude                     float64\n",
       "room_type                      object\n",
       "square_feet                   float64\n",
       "availability_365                int64\n",
       "host_listings_count             int64\n",
       "review_scores_rating          float64\n",
       "review_scores_location        float64\n",
       "review_scores_value           float64\n",
       "review_scores_cleanliness     float64\n",
       "entire_home                    object\n",
       "private_room                   object\n",
       "shared_room                    object\n",
       "distance_from_center          float64\n",
       "_merge                       category\n",
       "dtype: object"
      ]
     },
     "execution_count": 62,
     "metadata": {},
     "output_type": "execute_result"
    }
   ],
   "source": [
    "df_listings_daily.dtypes"
   ]
  },
  {
   "cell_type": "code",
   "execution_count": 63,
   "id": "150de192-ce73-4937-a1d4-56631bba3fa3",
   "metadata": {},
   "outputs": [],
   "source": [
    "df_listings_daily.drop(columns='_merge', inplace=True)"
   ]
  },
  {
   "cell_type": "code",
   "execution_count": 64,
   "id": "b4721790-5ba8-49a4-a12b-35fddc82de2a",
   "metadata": {},
   "outputs": [],
   "source": [
    "df_listings_daily.to_pickle(os.path.join(path,'listings_calendar_details.pkl'))"
   ]
  },
  {
   "cell_type": "code",
   "execution_count": 65,
   "id": "f49963b2-51b0-471f-a2cf-05e0e42f5a08",
   "metadata": {},
   "outputs": [
    {
     "data": {
      "text/plain": [
       "Index(['id', 'date', 'available', 'daily_price', 'month', 'avg_monthly_price',\n",
       "       'listing_avg_price_year', 'availability_rate_month', 'name', 'street',\n",
       "       'neighbourhood', 'city', 'latitude', 'longitude', 'room_type',\n",
       "       'square_feet', 'availability_365', 'host_listings_count',\n",
       "       'review_scores_rating', 'review_scores_location', 'review_scores_value',\n",
       "       'review_scores_cleanliness', 'entire_home', 'private_room',\n",
       "       'shared_room', 'distance_from_center'],\n",
       "      dtype='object')"
      ]
     },
     "execution_count": 65,
     "metadata": {},
     "output_type": "execute_result"
    }
   ],
   "source": [
    "df_listings_daily.columns"
   ]
  },
  {
   "cell_type": "code",
   "execution_count": 66,
   "id": "106b9b70-8570-4305-b183-faaa198b0b29",
   "metadata": {},
   "outputs": [],
   "source": [
    "df_listings_daily.drop(columns=['daily_price','date','available'], inplace=True)"
   ]
  },
  {
   "cell_type": "code",
   "execution_count": 67,
   "id": "52181e90-659d-4b87-8634-7bded638d636",
   "metadata": {},
   "outputs": [],
   "source": [
    "df_listings_daily.rename(columns={'availablility_rate_month':'availability_rate_month'},inplace=True)"
   ]
  },
  {
   "cell_type": "code",
   "execution_count": 68,
   "id": "80c92177-56ab-403b-80e8-5f1eb3ee5383",
   "metadata": {},
   "outputs": [
    {
     "data": {
      "text/plain": [
       "7050560"
      ]
     },
     "execution_count": 68,
     "metadata": {},
     "output_type": "execute_result"
    }
   ],
   "source": [
    "df_listings_daily.duplicated().sum()"
   ]
  },
  {
   "cell_type": "code",
   "execution_count": 69,
   "id": "c698f9de-1ffa-4179-a797-3436225d4a22",
   "metadata": {},
   "outputs": [],
   "source": [
    "df_listings_monthly = df_listings_daily.drop_duplicates()"
   ]
  },
  {
   "cell_type": "code",
   "execution_count": 70,
   "id": "3e7ac89b-36a1-4dfa-b012-52d480b38b36",
   "metadata": {},
   "outputs": [
    {
     "data": {
      "text/plain": [
       "(260390, 23)"
      ]
     },
     "execution_count": 70,
     "metadata": {},
     "output_type": "execute_result"
    }
   ],
   "source": [
    "df_listings_monthly.shape"
   ]
  },
  {
   "cell_type": "code",
   "execution_count": 71,
   "id": "3a39e00b-540d-48dd-af8f-f00b1e20b714",
   "metadata": {},
   "outputs": [
    {
     "data": {
      "text/plain": [
       "0"
      ]
     },
     "execution_count": 71,
     "metadata": {},
     "output_type": "execute_result"
    }
   ],
   "source": [
    "df_listings_monthly.duplicated().sum()"
   ]
  },
  {
   "cell_type": "code",
   "execution_count": 72,
   "id": "01e1a9a4-ad98-488d-a525-1ffe5994dff8",
   "metadata": {},
   "outputs": [
    {
     "data": {
      "text/plain": [
       "Index(['id', 'month', 'avg_monthly_price', 'listing_avg_price_year',\n",
       "       'availability_rate_month', 'name', 'street', 'neighbourhood', 'city',\n",
       "       'latitude', 'longitude', 'room_type', 'square_feet', 'availability_365',\n",
       "       'host_listings_count', 'review_scores_rating', 'review_scores_location',\n",
       "       'review_scores_value', 'review_scores_cleanliness', 'entire_home',\n",
       "       'private_room', 'shared_room', 'distance_from_center'],\n",
       "      dtype='object')"
      ]
     },
     "execution_count": 72,
     "metadata": {},
     "output_type": "execute_result"
    }
   ],
   "source": [
    "df_listings_monthly.columns"
   ]
  },
  {
   "cell_type": "code",
   "execution_count": 73,
   "id": "7ea0d31c-342a-4584-81e8-93ff3574618c",
   "metadata": {},
   "outputs": [
    {
     "data": {
      "text/plain": [
       "id                                0\n",
       "month                             0\n",
       "avg_monthly_price            202067\n",
       "listing_avg_price_year       121472\n",
       "availability_rate_month           0\n",
       "name                            494\n",
       "street                           26\n",
       "neighbourhood                     0\n",
       "city                              0\n",
       "latitude                          0\n",
       "longitude                         0\n",
       "room_type                         0\n",
       "square_feet                  255112\n",
       "availability_365                  0\n",
       "host_listings_count               0\n",
       "review_scores_rating          34307\n",
       "review_scores_location        34580\n",
       "review_scores_value           34567\n",
       "review_scores_cleanliness     34411\n",
       "entire_home                       0\n",
       "private_room                      0\n",
       "shared_room                       0\n",
       "distance_from_center              0\n",
       "dtype: int64"
      ]
     },
     "execution_count": 73,
     "metadata": {},
     "output_type": "execute_result"
    }
   ],
   "source": [
    "df_listings_monthly.isnull().sum()"
   ]
  },
  {
   "cell_type": "code",
   "execution_count": 74,
   "id": "8d4707ad-75f0-4a96-8abd-ed78b12232cd",
   "metadata": {},
   "outputs": [
    {
     "data": {
      "text/plain": [
       "id                                0\n",
       "month                             0\n",
       "avg_monthly_price            202067\n",
       "listing_avg_price_year       121472\n",
       "availability_rate_month           0\n",
       "name                            494\n",
       "street                           26\n",
       "neighbourhood                     0\n",
       "city                              0\n",
       "latitude                          0\n",
       "longitude                         0\n",
       "room_type                         0\n",
       "square_feet                  255112\n",
       "availability_365                  0\n",
       "host_listings_count               0\n",
       "review_scores_rating          34307\n",
       "review_scores_location        34580\n",
       "review_scores_value           34567\n",
       "review_scores_cleanliness     34411\n",
       "entire_home                       0\n",
       "private_room                      0\n",
       "shared_room                       0\n",
       "distance_from_center              0\n",
       "dtype: int64"
      ]
     },
     "execution_count": 74,
     "metadata": {},
     "output_type": "execute_result"
    }
   ],
   "source": [
    "df_listings_monthly.isnull().sum()"
   ]
  },
  {
   "cell_type": "code",
   "execution_count": 75,
   "id": "d3f276f3-3bfc-4b18-9a4e-c596036d63fc",
   "metadata": {},
   "outputs": [],
   "source": [
    "df_listings_monthly.to_csv(os.path.join(path,'listings_details_monthly.csv'))"
   ]
  },
  {
   "cell_type": "code",
   "execution_count": 149,
   "id": "08f1ae4c-afc7-43f3-ae54-61cb1608d59b",
   "metadata": {},
   "outputs": [
    {
     "data": {
      "text/plain": [
       "(260390, 23)"
      ]
     },
     "execution_count": 149,
     "metadata": {},
     "output_type": "execute_result"
    }
   ],
   "source": [
    "df_listings_monthly.shape"
   ]
  },
  {
   "cell_type": "code",
   "execution_count": 153,
   "id": "c147d56a-7ef4-4346-86ef-126c12884c6a",
   "metadata": {},
   "outputs": [
    {
     "data": {
      "text/html": [
       "<div>\n",
       "<style scoped>\n",
       "    .dataframe tbody tr th:only-of-type {\n",
       "        vertical-align: middle;\n",
       "    }\n",
       "\n",
       "    .dataframe tbody tr th {\n",
       "        vertical-align: top;\n",
       "    }\n",
       "\n",
       "    .dataframe thead th {\n",
       "        text-align: right;\n",
       "    }\n",
       "</style>\n",
       "<table border=\"1\" class=\"dataframe\">\n",
       "  <thead>\n",
       "    <tr style=\"text-align: right;\">\n",
       "      <th></th>\n",
       "      <th>count</th>\n",
       "      <th>mean</th>\n",
       "      <th>std</th>\n",
       "      <th>min</th>\n",
       "      <th>25%</th>\n",
       "      <th>50%</th>\n",
       "      <th>75%</th>\n",
       "      <th>max</th>\n",
       "    </tr>\n",
       "  </thead>\n",
       "  <tbody>\n",
       "    <tr>\n",
       "      <th>id</th>\n",
       "      <td>260390.0</td>\n",
       "      <td>1.541725e+07</td>\n",
       "      <td>8.569206e+06</td>\n",
       "      <td>2818.000000</td>\n",
       "      <td>8.187901e+06</td>\n",
       "      <td>1.563049e+07</td>\n",
       "      <td>2.202612e+07</td>\n",
       "      <td>3.058041e+07</td>\n",
       "    </tr>\n",
       "    <tr>\n",
       "      <th>avg_monthly_price</th>\n",
       "      <td>58323.0</td>\n",
       "      <td>1.979995e+02</td>\n",
       "      <td>2.470827e+02</td>\n",
       "      <td>21.000000</td>\n",
       "      <td>1.066667e+02</td>\n",
       "      <td>1.500000e+02</td>\n",
       "      <td>2.254741e+02</td>\n",
       "      <td>8.500000e+03</td>\n",
       "    </tr>\n",
       "    <tr>\n",
       "      <th>listing_avg_price_year</th>\n",
       "      <td>138918.0</td>\n",
       "      <td>1.795942e+02</td>\n",
       "      <td>1.806703e+02</td>\n",
       "      <td>21.431818</td>\n",
       "      <td>1.063333e+02</td>\n",
       "      <td>1.485069e+02</td>\n",
       "      <td>2.055254e+02</td>\n",
       "      <td>8.500000e+03</td>\n",
       "    </tr>\n",
       "    <tr>\n",
       "      <th>availability_rate_month</th>\n",
       "      <td>260390.0</td>\n",
       "      <td>1.639209e+01</td>\n",
       "      <td>3.465961e+01</td>\n",
       "      <td>0.000000</td>\n",
       "      <td>0.000000e+00</td>\n",
       "      <td>0.000000e+00</td>\n",
       "      <td>0.000000e+00</td>\n",
       "      <td>1.000000e+02</td>\n",
       "    </tr>\n",
       "    <tr>\n",
       "      <th>latitude</th>\n",
       "      <td>260390.0</td>\n",
       "      <td>5.236521e+01</td>\n",
       "      <td>1.599562e-02</td>\n",
       "      <td>52.288378</td>\n",
       "      <td>5.235513e+01</td>\n",
       "      <td>5.236459e+01</td>\n",
       "      <td>5.237507e+01</td>\n",
       "      <td>5.242471e+01</td>\n",
       "    </tr>\n",
       "    <tr>\n",
       "      <th>longitude</th>\n",
       "      <td>260390.0</td>\n",
       "      <td>4.888977e+00</td>\n",
       "      <td>3.557261e-02</td>\n",
       "      <td>4.753247</td>\n",
       "      <td>4.863594e+00</td>\n",
       "      <td>4.886387e+00</td>\n",
       "      <td>4.908291e+00</td>\n",
       "      <td>5.027689e+00</td>\n",
       "    </tr>\n",
       "    <tr>\n",
       "      <th>square_feet</th>\n",
       "      <td>5278.0</td>\n",
       "      <td>5.204852e+02</td>\n",
       "      <td>5.439381e+02</td>\n",
       "      <td>0.000000</td>\n",
       "      <td>0.000000e+00</td>\n",
       "      <td>4.840000e+02</td>\n",
       "      <td>8.070000e+02</td>\n",
       "      <td>4.306000e+03</td>\n",
       "    </tr>\n",
       "    <tr>\n",
       "      <th>availability_365</th>\n",
       "      <td>260390.0</td>\n",
       "      <td>5.991368e+01</td>\n",
       "      <td>1.040253e+02</td>\n",
       "      <td>0.000000</td>\n",
       "      <td>0.000000e+00</td>\n",
       "      <td>3.000000e+00</td>\n",
       "      <td>6.700000e+01</td>\n",
       "      <td>3.650000e+02</td>\n",
       "    </tr>\n",
       "    <tr>\n",
       "      <th>host_listings_count</th>\n",
       "      <td>260390.0</td>\n",
       "      <td>4.734698e+00</td>\n",
       "      <td>2.292136e+01</td>\n",
       "      <td>1.000000</td>\n",
       "      <td>1.000000e+00</td>\n",
       "      <td>1.000000e+00</td>\n",
       "      <td>1.000000e+00</td>\n",
       "      <td>2.080000e+02</td>\n",
       "    </tr>\n",
       "    <tr>\n",
       "      <th>review_scores_rating</th>\n",
       "      <td>226083.0</td>\n",
       "      <td>9.484952e+01</td>\n",
       "      <td>6.648509e+00</td>\n",
       "      <td>20.000000</td>\n",
       "      <td>9.300000e+01</td>\n",
       "      <td>9.700000e+01</td>\n",
       "      <td>1.000000e+02</td>\n",
       "      <td>1.000000e+02</td>\n",
       "    </tr>\n",
       "    <tr>\n",
       "      <th>review_scores_location</th>\n",
       "      <td>225810.0</td>\n",
       "      <td>9.421531e+00</td>\n",
       "      <td>7.279117e-01</td>\n",
       "      <td>2.000000</td>\n",
       "      <td>9.000000e+00</td>\n",
       "      <td>1.000000e+01</td>\n",
       "      <td>1.000000e+01</td>\n",
       "      <td>1.000000e+01</td>\n",
       "    </tr>\n",
       "    <tr>\n",
       "      <th>review_scores_value</th>\n",
       "      <td>225823.0</td>\n",
       "      <td>9.175004e+00</td>\n",
       "      <td>8.054002e-01</td>\n",
       "      <td>2.000000</td>\n",
       "      <td>9.000000e+00</td>\n",
       "      <td>9.000000e+00</td>\n",
       "      <td>1.000000e+01</td>\n",
       "      <td>1.000000e+01</td>\n",
       "    </tr>\n",
       "    <tr>\n",
       "      <th>review_scores_cleanliness</th>\n",
       "      <td>225979.0</td>\n",
       "      <td>9.465627e+00</td>\n",
       "      <td>8.679503e-01</td>\n",
       "      <td>2.000000</td>\n",
       "      <td>9.000000e+00</td>\n",
       "      <td>1.000000e+01</td>\n",
       "      <td>1.000000e+01</td>\n",
       "      <td>1.000000e+01</td>\n",
       "    </tr>\n",
       "    <tr>\n",
       "      <th>distance_from_center</th>\n",
       "      <td>260390.0</td>\n",
       "      <td>2.679424e+00</td>\n",
       "      <td>1.624697e+00</td>\n",
       "      <td>0.022259</td>\n",
       "      <td>1.645006e+00</td>\n",
       "      <td>2.427630e+00</td>\n",
       "      <td>3.271255e+00</td>\n",
       "      <td>1.142131e+01</td>\n",
       "    </tr>\n",
       "  </tbody>\n",
       "</table>\n",
       "</div>"
      ],
      "text/plain": [
       "                              count          mean           std          min  \\\n",
       "id                         260390.0  1.541725e+07  8.569206e+06  2818.000000   \n",
       "avg_monthly_price           58323.0  1.979995e+02  2.470827e+02    21.000000   \n",
       "listing_avg_price_year     138918.0  1.795942e+02  1.806703e+02    21.431818   \n",
       "availability_rate_month    260390.0  1.639209e+01  3.465961e+01     0.000000   \n",
       "latitude                   260390.0  5.236521e+01  1.599562e-02    52.288378   \n",
       "longitude                  260390.0  4.888977e+00  3.557261e-02     4.753247   \n",
       "square_feet                  5278.0  5.204852e+02  5.439381e+02     0.000000   \n",
       "availability_365           260390.0  5.991368e+01  1.040253e+02     0.000000   \n",
       "host_listings_count        260390.0  4.734698e+00  2.292136e+01     1.000000   \n",
       "review_scores_rating       226083.0  9.484952e+01  6.648509e+00    20.000000   \n",
       "review_scores_location     225810.0  9.421531e+00  7.279117e-01     2.000000   \n",
       "review_scores_value        225823.0  9.175004e+00  8.054002e-01     2.000000   \n",
       "review_scores_cleanliness  225979.0  9.465627e+00  8.679503e-01     2.000000   \n",
       "distance_from_center       260390.0  2.679424e+00  1.624697e+00     0.022259   \n",
       "\n",
       "                                    25%           50%           75%  \\\n",
       "id                         8.187901e+06  1.563049e+07  2.202612e+07   \n",
       "avg_monthly_price          1.066667e+02  1.500000e+02  2.254741e+02   \n",
       "listing_avg_price_year     1.063333e+02  1.485069e+02  2.055254e+02   \n",
       "availability_rate_month    0.000000e+00  0.000000e+00  0.000000e+00   \n",
       "latitude                   5.235513e+01  5.236459e+01  5.237507e+01   \n",
       "longitude                  4.863594e+00  4.886387e+00  4.908291e+00   \n",
       "square_feet                0.000000e+00  4.840000e+02  8.070000e+02   \n",
       "availability_365           0.000000e+00  3.000000e+00  6.700000e+01   \n",
       "host_listings_count        1.000000e+00  1.000000e+00  1.000000e+00   \n",
       "review_scores_rating       9.300000e+01  9.700000e+01  1.000000e+02   \n",
       "review_scores_location     9.000000e+00  1.000000e+01  1.000000e+01   \n",
       "review_scores_value        9.000000e+00  9.000000e+00  1.000000e+01   \n",
       "review_scores_cleanliness  9.000000e+00  1.000000e+01  1.000000e+01   \n",
       "distance_from_center       1.645006e+00  2.427630e+00  3.271255e+00   \n",
       "\n",
       "                                    max  \n",
       "id                         3.058041e+07  \n",
       "avg_monthly_price          8.500000e+03  \n",
       "listing_avg_price_year     8.500000e+03  \n",
       "availability_rate_month    1.000000e+02  \n",
       "latitude                   5.242471e+01  \n",
       "longitude                  5.027689e+00  \n",
       "square_feet                4.306000e+03  \n",
       "availability_365           3.650000e+02  \n",
       "host_listings_count        2.080000e+02  \n",
       "review_scores_rating       1.000000e+02  \n",
       "review_scores_location     1.000000e+01  \n",
       "review_scores_value        1.000000e+01  \n",
       "review_scores_cleanliness  1.000000e+01  \n",
       "distance_from_center       1.142131e+01  "
      ]
     },
     "execution_count": 153,
     "metadata": {},
     "output_type": "execute_result"
    }
   ],
   "source": [
    "df_listings_monthly.describe().T"
   ]
  },
  {
   "cell_type": "code",
   "execution_count": 155,
   "id": "652d5115-fbd9-4e3b-a126-9692fc894b8b",
   "metadata": {},
   "outputs": [
    {
     "name": "stderr",
     "output_type": "stream",
     "text": [
      "C:\\Users\\artoe\\AppData\\Local\\Temp\\ipykernel_16080\\3764346888.py:1: SettingWithCopyWarning: \n",
      "A value is trying to be set on a copy of a slice from a DataFrame\n",
      "\n",
      "See the caveats in the documentation: https://pandas.pydata.org/pandas-docs/stable/user_guide/indexing.html#returning-a-view-versus-a-copy\n",
      "  df_listings_monthly.drop(columns=['month','avg_monthly_price','availability_rate_month'], inplace=True)\n"
     ]
    }
   ],
   "source": [
    "df_listings_monthly.drop(columns=['month','avg_monthly_price','availability_rate_month'], inplace=True)"
   ]
  },
  {
   "cell_type": "code",
   "execution_count": 157,
   "id": "62ccad61-8d40-43d4-a5f8-cde7da048f8c",
   "metadata": {},
   "outputs": [],
   "source": [
    "df_listings_avg = df_listings_monthly.drop_duplicates()"
   ]
  },
  {
   "cell_type": "code",
   "execution_count": 78,
   "id": "e6d7bde2-beb6-48a5-a373-89620e01c4b1",
   "metadata": {},
   "outputs": [],
   "source": [
    "df_listings_avg.to_csv(os.path.join(path, 'listings_final.csv'))"
   ]
  },
  {
   "cell_type": "code",
   "execution_count": 159,
   "id": "1d625cf9-978c-4cf4-ad71-b7153f867022",
   "metadata": {},
   "outputs": [
    {
     "data": {
      "text/html": [
       "<div>\n",
       "<style scoped>\n",
       "    .dataframe tbody tr th:only-of-type {\n",
       "        vertical-align: middle;\n",
       "    }\n",
       "\n",
       "    .dataframe tbody tr th {\n",
       "        vertical-align: top;\n",
       "    }\n",
       "\n",
       "    .dataframe thead th {\n",
       "        text-align: right;\n",
       "    }\n",
       "</style>\n",
       "<table border=\"1\" class=\"dataframe\">\n",
       "  <thead>\n",
       "    <tr style=\"text-align: right;\">\n",
       "      <th></th>\n",
       "      <th>count</th>\n",
       "      <th>mean</th>\n",
       "      <th>std</th>\n",
       "      <th>min</th>\n",
       "      <th>25%</th>\n",
       "      <th>50%</th>\n",
       "      <th>75%</th>\n",
       "      <th>max</th>\n",
       "    </tr>\n",
       "  </thead>\n",
       "  <tbody>\n",
       "    <tr>\n",
       "      <th>id</th>\n",
       "      <td>20030.0</td>\n",
       "      <td>1.541725e+07</td>\n",
       "      <td>8.569404e+06</td>\n",
       "      <td>2818.000000</td>\n",
       "      <td>8.188423e+06</td>\n",
       "      <td>1.563049e+07</td>\n",
       "      <td>2.202577e+07</td>\n",
       "      <td>3.058041e+07</td>\n",
       "    </tr>\n",
       "    <tr>\n",
       "      <th>listing_avg_price_year</th>\n",
       "      <td>10686.0</td>\n",
       "      <td>1.795942e+02</td>\n",
       "      <td>1.806781e+02</td>\n",
       "      <td>21.431818</td>\n",
       "      <td>1.063448e+02</td>\n",
       "      <td>1.485069e+02</td>\n",
       "      <td>2.055202e+02</td>\n",
       "      <td>8.500000e+03</td>\n",
       "    </tr>\n",
       "    <tr>\n",
       "      <th>latitude</th>\n",
       "      <td>20030.0</td>\n",
       "      <td>5.236521e+01</td>\n",
       "      <td>1.599599e-02</td>\n",
       "      <td>52.288378</td>\n",
       "      <td>5.235513e+01</td>\n",
       "      <td>5.236459e+01</td>\n",
       "      <td>5.237507e+01</td>\n",
       "      <td>5.242471e+01</td>\n",
       "    </tr>\n",
       "    <tr>\n",
       "      <th>longitude</th>\n",
       "      <td>20030.0</td>\n",
       "      <td>4.888977e+00</td>\n",
       "      <td>3.557343e-02</td>\n",
       "      <td>4.753247</td>\n",
       "      <td>4.863595e+00</td>\n",
       "      <td>4.886387e+00</td>\n",
       "      <td>4.908288e+00</td>\n",
       "      <td>5.027689e+00</td>\n",
       "    </tr>\n",
       "    <tr>\n",
       "      <th>square_feet</th>\n",
       "      <td>406.0</td>\n",
       "      <td>5.204852e+02</td>\n",
       "      <td>5.445577e+02</td>\n",
       "      <td>0.000000</td>\n",
       "      <td>0.000000e+00</td>\n",
       "      <td>4.840000e+02</td>\n",
       "      <td>8.070000e+02</td>\n",
       "      <td>4.306000e+03</td>\n",
       "    </tr>\n",
       "    <tr>\n",
       "      <th>availability_365</th>\n",
       "      <td>20030.0</td>\n",
       "      <td>5.991368e+01</td>\n",
       "      <td>1.040277e+02</td>\n",
       "      <td>0.000000</td>\n",
       "      <td>0.000000e+00</td>\n",
       "      <td>3.000000e+00</td>\n",
       "      <td>6.700000e+01</td>\n",
       "      <td>3.650000e+02</td>\n",
       "    </tr>\n",
       "    <tr>\n",
       "      <th>host_listings_count</th>\n",
       "      <td>20030.0</td>\n",
       "      <td>4.734698e+00</td>\n",
       "      <td>2.292189e+01</td>\n",
       "      <td>1.000000</td>\n",
       "      <td>1.000000e+00</td>\n",
       "      <td>1.000000e+00</td>\n",
       "      <td>1.000000e+00</td>\n",
       "      <td>2.080000e+02</td>\n",
       "    </tr>\n",
       "    <tr>\n",
       "      <th>review_scores_rating</th>\n",
       "      <td>17391.0</td>\n",
       "      <td>9.484952e+01</td>\n",
       "      <td>6.648685e+00</td>\n",
       "      <td>20.000000</td>\n",
       "      <td>9.300000e+01</td>\n",
       "      <td>9.700000e+01</td>\n",
       "      <td>1.000000e+02</td>\n",
       "      <td>1.000000e+02</td>\n",
       "    </tr>\n",
       "    <tr>\n",
       "      <th>review_scores_location</th>\n",
       "      <td>17370.0</td>\n",
       "      <td>9.421531e+00</td>\n",
       "      <td>7.279310e-01</td>\n",
       "      <td>2.000000</td>\n",
       "      <td>9.000000e+00</td>\n",
       "      <td>1.000000e+01</td>\n",
       "      <td>1.000000e+01</td>\n",
       "      <td>1.000000e+01</td>\n",
       "    </tr>\n",
       "    <tr>\n",
       "      <th>review_scores_value</th>\n",
       "      <td>17371.0</td>\n",
       "      <td>9.175004e+00</td>\n",
       "      <td>8.054216e-01</td>\n",
       "      <td>2.000000</td>\n",
       "      <td>9.000000e+00</td>\n",
       "      <td>9.000000e+00</td>\n",
       "      <td>1.000000e+01</td>\n",
       "      <td>1.000000e+01</td>\n",
       "    </tr>\n",
       "    <tr>\n",
       "      <th>review_scores_cleanliness</th>\n",
       "      <td>17383.0</td>\n",
       "      <td>9.465627e+00</td>\n",
       "      <td>8.679734e-01</td>\n",
       "      <td>2.000000</td>\n",
       "      <td>9.000000e+00</td>\n",
       "      <td>1.000000e+01</td>\n",
       "      <td>1.000000e+01</td>\n",
       "      <td>1.000000e+01</td>\n",
       "    </tr>\n",
       "    <tr>\n",
       "      <th>distance_from_center</th>\n",
       "      <td>20030.0</td>\n",
       "      <td>2.679424e+00</td>\n",
       "      <td>1.624734e+00</td>\n",
       "      <td>0.022259</td>\n",
       "      <td>1.645235e+00</td>\n",
       "      <td>2.427630e+00</td>\n",
       "      <td>3.271240e+00</td>\n",
       "      <td>1.142131e+01</td>\n",
       "    </tr>\n",
       "  </tbody>\n",
       "</table>\n",
       "</div>"
      ],
      "text/plain": [
       "                             count          mean           std          min  \\\n",
       "id                         20030.0  1.541725e+07  8.569404e+06  2818.000000   \n",
       "listing_avg_price_year     10686.0  1.795942e+02  1.806781e+02    21.431818   \n",
       "latitude                   20030.0  5.236521e+01  1.599599e-02    52.288378   \n",
       "longitude                  20030.0  4.888977e+00  3.557343e-02     4.753247   \n",
       "square_feet                  406.0  5.204852e+02  5.445577e+02     0.000000   \n",
       "availability_365           20030.0  5.991368e+01  1.040277e+02     0.000000   \n",
       "host_listings_count        20030.0  4.734698e+00  2.292189e+01     1.000000   \n",
       "review_scores_rating       17391.0  9.484952e+01  6.648685e+00    20.000000   \n",
       "review_scores_location     17370.0  9.421531e+00  7.279310e-01     2.000000   \n",
       "review_scores_value        17371.0  9.175004e+00  8.054216e-01     2.000000   \n",
       "review_scores_cleanliness  17383.0  9.465627e+00  8.679734e-01     2.000000   \n",
       "distance_from_center       20030.0  2.679424e+00  1.624734e+00     0.022259   \n",
       "\n",
       "                                    25%           50%           75%  \\\n",
       "id                         8.188423e+06  1.563049e+07  2.202577e+07   \n",
       "listing_avg_price_year     1.063448e+02  1.485069e+02  2.055202e+02   \n",
       "latitude                   5.235513e+01  5.236459e+01  5.237507e+01   \n",
       "longitude                  4.863595e+00  4.886387e+00  4.908288e+00   \n",
       "square_feet                0.000000e+00  4.840000e+02  8.070000e+02   \n",
       "availability_365           0.000000e+00  3.000000e+00  6.700000e+01   \n",
       "host_listings_count        1.000000e+00  1.000000e+00  1.000000e+00   \n",
       "review_scores_rating       9.300000e+01  9.700000e+01  1.000000e+02   \n",
       "review_scores_location     9.000000e+00  1.000000e+01  1.000000e+01   \n",
       "review_scores_value        9.000000e+00  9.000000e+00  1.000000e+01   \n",
       "review_scores_cleanliness  9.000000e+00  1.000000e+01  1.000000e+01   \n",
       "distance_from_center       1.645235e+00  2.427630e+00  3.271240e+00   \n",
       "\n",
       "                                    max  \n",
       "id                         3.058041e+07  \n",
       "listing_avg_price_year     8.500000e+03  \n",
       "latitude                   5.242471e+01  \n",
       "longitude                  5.027689e+00  \n",
       "square_feet                4.306000e+03  \n",
       "availability_365           3.650000e+02  \n",
       "host_listings_count        2.080000e+02  \n",
       "review_scores_rating       1.000000e+02  \n",
       "review_scores_location     1.000000e+01  \n",
       "review_scores_value        1.000000e+01  \n",
       "review_scores_cleanliness  1.000000e+01  \n",
       "distance_from_center       1.142131e+01  "
      ]
     },
     "execution_count": 159,
     "metadata": {},
     "output_type": "execute_result"
    }
   ],
   "source": [
    "df_listings_avg.describe().T"
   ]
  },
  {
   "cell_type": "code",
   "execution_count": null,
   "id": "9a3d8f7c-d081-4e44-b412-e58caf0dc980",
   "metadata": {},
   "outputs": [],
   "source": []
  }
 ],
 "metadata": {
  "kernelspec": {
   "display_name": "Python 3 (ipykernel)",
   "language": "python",
   "name": "python3"
  },
  "language_info": {
   "codemirror_mode": {
    "name": "ipython",
    "version": 3
   },
   "file_extension": ".py",
   "mimetype": "text/x-python",
   "name": "python",
   "nbconvert_exporter": "python",
   "pygments_lexer": "ipython3",
   "version": "3.12.7"
  }
 },
 "nbformat": 4,
 "nbformat_minor": 5
}
