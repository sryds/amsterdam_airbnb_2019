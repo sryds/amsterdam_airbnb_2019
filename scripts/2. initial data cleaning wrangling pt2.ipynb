{
 "cells": [
  {
   "cell_type": "code",
   "execution_count": 1,
   "id": "7814844d-f05a-4a2f-83c7-bbd235298b97",
   "metadata": {},
   "outputs": [],
   "source": [
    "import pandas as pd\n",
    "import numpy as np\n",
    "import seaborn as sns\n",
    "import matplotlib.pyplot as plt\n",
    "import matplotlib\n",
    "import os\n",
    "import warnings\n",
    "warnings.filterwarnings('ignore')"
   ]
  },
  {
   "cell_type": "code",
   "execution_count": 2,
   "id": "b86b4656-8bd3-43fc-85e2-6311670f3b48",
   "metadata": {},
   "outputs": [],
   "source": [
    "path = r'C:\\Users\\artoe\\Documents\\DataAnalytics\\Data Immersion\\Exercises\\Achievement 6\\data'"
   ]
  },
  {
   "cell_type": "code",
   "execution_count": 3,
   "id": "30e93e42-6bb2-4b0d-8b49-d5a1e8cc7141",
   "metadata": {},
   "outputs": [],
   "source": [
    "df_list_details = pd.read_csv(os.path.join(path, 'listings_details_checked.csv'), index_col = False)"
   ]
  },
  {
   "cell_type": "markdown",
   "id": "3f3e3af6-3999-47a6-a575-73a748d45245",
   "metadata": {},
   "source": [
    "#### 73 columns still contain mixed types. Will either correct them or drop the columns."
   ]
  },
  {
   "cell_type": "code",
   "execution_count": 5,
   "id": "74313bf3-0683-40e2-bcd0-052f9f0cfce7",
   "metadata": {},
   "outputs": [
    {
     "name": "stdout",
     "output_type": "stream",
     "text": [
      "name\n",
      "summary\n",
      "space\n",
      "description\n",
      "neighbourhood_overview\n",
      "notes\n",
      "transit\n",
      "access\n",
      "interaction\n",
      "house_rules\n",
      "host_name\n",
      "host_since\n",
      "host_location\n",
      "host_about\n",
      "host_response_time\n",
      "host_response_rate\n",
      "host_thumbnail_url\n",
      "host_picture_url\n",
      "host_neighbourhood\n",
      "host_verifications\n",
      "city\n",
      "state\n",
      "zipcode\n",
      "security_deposit\n",
      "license\n",
      "jurisdiction_names\n"
     ]
    }
   ],
   "source": [
    "for col in df_list_details.columns.tolist():\n",
    "  weird = (df_list_details[[col]].map(type) != df_list_details[[col]].iloc[0].apply(type)).any(axis = 1)\n",
    "  if len (df_list_details[weird]) > 0:\n",
    "    print (col)"
   ]
  },
  {
   "cell_type": "code",
   "execution_count": 6,
   "id": "45365007-c10a-4028-a1e2-92a839d85749",
   "metadata": {},
   "outputs": [],
   "source": [
    "df_list_details['name'] = df_list_details['name'].astype('str')"
   ]
  },
  {
   "cell_type": "code",
   "execution_count": 7,
   "id": "cba59e16-0294-4a6d-99d3-56de32d14a6d",
   "metadata": {},
   "outputs": [],
   "source": [
    "df_list_details['summary'] = df_list_details['summary'].astype('str')"
   ]
  },
  {
   "cell_type": "code",
   "execution_count": 8,
   "id": "d2fc3815-af46-46f1-882e-dace08f266a0",
   "metadata": {},
   "outputs": [],
   "source": [
    "df_list_details['space'] = df_list_details['space'].astype('str')"
   ]
  },
  {
   "cell_type": "code",
   "execution_count": 9,
   "id": "4f287c28-be57-4e7e-a8d6-3efe6c0a04ec",
   "metadata": {},
   "outputs": [],
   "source": [
    "df_list_details['neighbourhood_overview'] = df_list_details['neighbourhood_overview'].astype('str')"
   ]
  },
  {
   "cell_type": "code",
   "execution_count": 10,
   "id": "68dd99c6-8d11-4639-af4b-7b0a41ad1aa5",
   "metadata": {},
   "outputs": [],
   "source": [
    "df_list_details['description'] = df_list_details['description'].astype('str')"
   ]
  },
  {
   "cell_type": "code",
   "execution_count": 11,
   "id": "0c6a712f-66a4-470f-a727-df6fe5d33f7e",
   "metadata": {},
   "outputs": [],
   "source": [
    "df_list_details['notes'] = df_list_details['notes'].astype('str')"
   ]
  },
  {
   "cell_type": "code",
   "execution_count": 12,
   "id": "4abd09fb-20d3-4e07-ac43-7e7b1367c7c9",
   "metadata": {},
   "outputs": [],
   "source": [
    "df_list_details['transit'] = df_list_details['transit'].astype('str')"
   ]
  },
  {
   "cell_type": "code",
   "execution_count": 13,
   "id": "9ac000a2-4177-414c-bc07-5553005c604a",
   "metadata": {},
   "outputs": [],
   "source": [
    "df_list_details['access'] = df_list_details['access'].astype('str')"
   ]
  },
  {
   "cell_type": "code",
   "execution_count": 14,
   "id": "a24a323a-50e8-41e1-b228-3e79b8a2156a",
   "metadata": {},
   "outputs": [],
   "source": [
    "df_list_details['interaction'] = df_list_details['interaction'].astype('str')"
   ]
  },
  {
   "cell_type": "code",
   "execution_count": 15,
   "id": "4c3bb558-e433-4c85-8687-e3515a7d111a",
   "metadata": {},
   "outputs": [],
   "source": [
    "df_list_details['house_rules'] = df_list_details['house_rules'].astype('str')"
   ]
  },
  {
   "cell_type": "code",
   "execution_count": 16,
   "id": "9c473fac-0787-4f89-a243-aaac4f884826",
   "metadata": {},
   "outputs": [],
   "source": [
    "df_list_details['host_name'] = df_list_details['host_name'].astype('str')"
   ]
  },
  {
   "cell_type": "code",
   "execution_count": 17,
   "id": "575bd539-936e-4955-876e-283527908c06",
   "metadata": {},
   "outputs": [],
   "source": [
    "df_list_details['host_location'] = df_list_details['host_location'].astype('str')"
   ]
  },
  {
   "cell_type": "code",
   "execution_count": 18,
   "id": "070791cb-25ce-4e68-9ec2-0ab120f909d8",
   "metadata": {},
   "outputs": [],
   "source": [
    "df_list_details['host_about'] = df_list_details['host_about'].astype('str')"
   ]
  },
  {
   "cell_type": "code",
   "execution_count": 19,
   "id": "2bbe4646-7236-4b3a-98ed-8f9b99f0a375",
   "metadata": {},
   "outputs": [],
   "source": [
    "df_list_details['host_neighbourhood'] = df_list_details['host_neighbourhood'].astype('str')"
   ]
  },
  {
   "cell_type": "code",
   "execution_count": 20,
   "id": "c78beafc-04ca-4043-93bb-6d0a891ab5b6",
   "metadata": {},
   "outputs": [],
   "source": [
    "df_list_details['host_response_time'] = df_list_details['host_response_time'].astype('str')"
   ]
  },
  {
   "cell_type": "code",
   "execution_count": 21,
   "id": "e786c04c-507f-41a1-9eb0-c02aca8281d1",
   "metadata": {},
   "outputs": [],
   "source": [
    "df_list_details['host_since'] = df_list_details['host_since'].astype('str')"
   ]
  },
  {
   "cell_type": "code",
   "execution_count": 22,
   "id": "7050187d-0aaa-464e-9d55-ffdf084e0453",
   "metadata": {},
   "outputs": [],
   "source": [
    "df_list_details['host_verifications'] = df_list_details['host_verifications'].astype('str')"
   ]
  },
  {
   "cell_type": "code",
   "execution_count": 23,
   "id": "6117b658-8de2-4602-9d7e-3a919c3d1f3f",
   "metadata": {},
   "outputs": [],
   "source": [
    "df_list_details['city'] = df_list_details['city'].astype('str')"
   ]
  },
  {
   "cell_type": "code",
   "execution_count": 24,
   "id": "28960fb8-153a-42ec-bd12-9c75cb1fa9b0",
   "metadata": {},
   "outputs": [],
   "source": [
    "df_list_details['state'] = df_list_details['state'].astype('str')"
   ]
  },
  {
   "cell_type": "code",
   "execution_count": 25,
   "id": "f51cfb46-657f-4441-b338-5f785f3b5201",
   "metadata": {},
   "outputs": [],
   "source": [
    "df_list_details['zipcode'] = df_list_details['zipcode'].astype('str')"
   ]
  },
  {
   "cell_type": "code",
   "execution_count": 26,
   "id": "4655024f-36c0-4860-9592-fb62591840cc",
   "metadata": {},
   "outputs": [],
   "source": [
    "df_list_details['license'] = df_list_details['license'].astype('str')"
   ]
  },
  {
   "cell_type": "code",
   "execution_count": 27,
   "id": "26ae7161-3a86-4bfb-a960-de04937b3b49",
   "metadata": {},
   "outputs": [],
   "source": [
    "df_list_details['jurisdiction_names'] = df_list_details['jurisdiction_names'].astype('str')"
   ]
  },
  {
   "cell_type": "code",
   "execution_count": 28,
   "id": "d5b18350-8dcf-4652-b614-9fccb66955fd",
   "metadata": {},
   "outputs": [
    {
     "name": "stdout",
     "output_type": "stream",
     "text": [
      "host_response_rate\n",
      "host_thumbnail_url\n",
      "host_picture_url\n",
      "security_deposit\n"
     ]
    }
   ],
   "source": [
    "for col in df_list_details.columns.tolist():\n",
    "  weird = (df_list_details[[col]].map(type) != df_list_details[[col]].iloc[0].apply(type)).any(axis = 1)\n",
    "  if len (df_list_details[weird]) > 0:\n",
    "    print (col)"
   ]
  },
  {
   "cell_type": "code",
   "execution_count": 29,
   "id": "ea635b26-7206-4df3-ad3c-7532af964f9d",
   "metadata": {},
   "outputs": [
    {
     "data": {
      "text/html": [
       "<div>\n",
       "<style scoped>\n",
       "    .dataframe tbody tr th:only-of-type {\n",
       "        vertical-align: middle;\n",
       "    }\n",
       "\n",
       "    .dataframe tbody tr th {\n",
       "        vertical-align: top;\n",
       "    }\n",
       "\n",
       "    .dataframe thead th {\n",
       "        text-align: right;\n",
       "    }\n",
       "</style>\n",
       "<table border=\"1\" class=\"dataframe\">\n",
       "  <thead>\n",
       "    <tr style=\"text-align: right;\">\n",
       "      <th></th>\n",
       "      <th>host_response_rate</th>\n",
       "      <th>host_thumbnail_url</th>\n",
       "      <th>host_picture_url</th>\n",
       "      <th>security_deposit</th>\n",
       "    </tr>\n",
       "  </thead>\n",
       "  <tbody>\n",
       "    <tr>\n",
       "      <th>0</th>\n",
       "      <td>100%</td>\n",
       "      <td>https://a0.muscache.com/im/users/3159/profile_...</td>\n",
       "      <td>https://a0.muscache.com/im/users/3159/profile_...</td>\n",
       "      <td>$100.00</td>\n",
       "    </tr>\n",
       "    <tr>\n",
       "      <th>1</th>\n",
       "      <td>100%</td>\n",
       "      <td>https://a0.muscache.com/im/users/3806/profile_...</td>\n",
       "      <td>https://a0.muscache.com/im/users/3806/profile_...</td>\n",
       "      <td>$300.00</td>\n",
       "    </tr>\n",
       "    <tr>\n",
       "      <th>2</th>\n",
       "      <td>100%</td>\n",
       "      <td>https://a0.muscache.com/im/pictures/user/579c8...</td>\n",
       "      <td>https://a0.muscache.com/im/pictures/user/579c8...</td>\n",
       "      <td>NaN</td>\n",
       "    </tr>\n",
       "    <tr>\n",
       "      <th>3</th>\n",
       "      <td>100%</td>\n",
       "      <td>https://a0.muscache.com/im/users/56142/profile...</td>\n",
       "      <td>https://a0.muscache.com/im/users/56142/profile...</td>\n",
       "      <td>$300.00</td>\n",
       "    </tr>\n",
       "    <tr>\n",
       "      <th>4</th>\n",
       "      <td>100%</td>\n",
       "      <td>https://a0.muscache.com/im/users/97647/profile...</td>\n",
       "      <td>https://a0.muscache.com/im/users/97647/profile...</td>\n",
       "      <td>$0.00</td>\n",
       "    </tr>\n",
       "  </tbody>\n",
       "</table>\n",
       "</div>"
      ],
      "text/plain": [
       "  host_response_rate                                 host_thumbnail_url  \\\n",
       "0               100%  https://a0.muscache.com/im/users/3159/profile_...   \n",
       "1               100%  https://a0.muscache.com/im/users/3806/profile_...   \n",
       "2               100%  https://a0.muscache.com/im/pictures/user/579c8...   \n",
       "3               100%  https://a0.muscache.com/im/users/56142/profile...   \n",
       "4               100%  https://a0.muscache.com/im/users/97647/profile...   \n",
       "\n",
       "                                    host_picture_url security_deposit  \n",
       "0  https://a0.muscache.com/im/users/3159/profile_...          $100.00  \n",
       "1  https://a0.muscache.com/im/users/3806/profile_...          $300.00  \n",
       "2  https://a0.muscache.com/im/pictures/user/579c8...              NaN  \n",
       "3  https://a0.muscache.com/im/users/56142/profile...          $300.00  \n",
       "4  https://a0.muscache.com/im/users/97647/profile...            $0.00  "
      ]
     },
     "execution_count": 29,
     "metadata": {},
     "output_type": "execute_result"
    }
   ],
   "source": [
    "df_list_details[['host_response_rate', 'host_thumbnail_url', 'host_picture_url', 'security_deposit']].head()"
   ]
  },
  {
   "cell_type": "markdown",
   "id": "8b872c73-b8ee-4759-8cd8-138c2693f812",
   "metadata": {},
   "source": [
    "#### Convert host_response_rate and security_deposit to float64"
   ]
  },
  {
   "cell_type": "code",
   "execution_count": 31,
   "id": "3811a940-9d07-4c1e-bb83-7f0ee77e9c95",
   "metadata": {},
   "outputs": [],
   "source": [
    "df_list_details['host_response_rate'] = df_list_details['host_response_rate'].str.replace('%', '')"
   ]
  },
  {
   "cell_type": "code",
   "execution_count": 32,
   "id": "0c7c58e8-9065-47a4-91d2-e6e2c690eb2a",
   "metadata": {},
   "outputs": [],
   "source": [
    "df_list_details['host_response_rate'] = df_list_details['host_response_rate'].astype('float64')"
   ]
  },
  {
   "cell_type": "code",
   "execution_count": 33,
   "id": "ebf1341b-9077-4ab0-9a57-cd65b4e3367d",
   "metadata": {},
   "outputs": [],
   "source": [
    "df_list_details['security_deposit'] = df_list_details['security_deposit'].str.replace('$', '')"
   ]
  },
  {
   "cell_type": "code",
   "execution_count": 34,
   "id": "fc3dde1d-1f09-4eff-8de6-67dee3b7fede",
   "metadata": {},
   "outputs": [],
   "source": [
    "df_list_details['security_deposit'] = df_list_details['security_deposit'].str.replace(',', '')"
   ]
  },
  {
   "cell_type": "code",
   "execution_count": 35,
   "id": "166e5fc9-da19-4d79-9e72-81b557af07a9",
   "metadata": {},
   "outputs": [],
   "source": [
    "df_list_details['security_deposit'] = df_list_details['security_deposit'].astype('float64')"
   ]
  },
  {
   "cell_type": "code",
   "execution_count": 36,
   "id": "78011394-618f-4715-b61a-03a366663f32",
   "metadata": {},
   "outputs": [
    {
     "name": "stdout",
     "output_type": "stream",
     "text": [
      "host_thumbnail_url\n",
      "host_picture_url\n"
     ]
    }
   ],
   "source": [
    "for col in df_list_details.columns.tolist():\n",
    "  weird = (df_list_details[[col]].map(type) != df_list_details[[col]].iloc[0].apply(type)).any(axis = 1)\n",
    "  if len (df_list_details[weird]) > 0:\n",
    "    print (col)"
   ]
  },
  {
   "cell_type": "markdown",
   "id": "bdc3c6a4-4123-4d02-9571-b824bdeb5d5e",
   "metadata": {},
   "source": [
    "#### Drop more irrelevant columns"
   ]
  },
  {
   "cell_type": "code",
   "execution_count": 38,
   "id": "d7c5b5c0-4db1-445f-a9ad-ab7b1d0d4aea",
   "metadata": {},
   "outputs": [],
   "source": [
    "df_list_details.drop(columns=['host_thumbnail_url','host_picture_url','host_has_profile_pic'], inplace=True)"
   ]
  },
  {
   "cell_type": "code",
   "execution_count": 39,
   "id": "8d697887-7f3f-4237-8d3b-f05046c6dffc",
   "metadata": {},
   "outputs": [
    {
     "data": {
      "text/plain": [
       "(20030, 79)"
      ]
     },
     "execution_count": 39,
     "metadata": {},
     "output_type": "execute_result"
    }
   ],
   "source": [
    "df_list_details.shape"
   ]
  },
  {
   "cell_type": "code",
   "execution_count": 40,
   "id": "78c2264f-4eb8-4dc4-8acc-f27fb65bee50",
   "metadata": {},
   "outputs": [],
   "source": [
    "for col in df_list_details.columns.tolist():\n",
    "  weird = (df_list_details[[col]].map(type) != df_list_details[[col]].iloc[0].apply(type)).any(axis = 1)\n",
    "  if len (df_list_details[weird]) > 0:\n",
    "    print (col)"
   ]
  },
  {
   "cell_type": "code",
   "execution_count": 41,
   "id": "59e041d5-21cc-42ac-b584-bd46b4ca0e89",
   "metadata": {},
   "outputs": [],
   "source": [
    "#no more mixed type columns found"
   ]
  },
  {
   "cell_type": "markdown",
   "id": "3bfc1f90-d1f2-42ef-bcb9-770ef3ebced0",
   "metadata": {},
   "source": [
    "#### Address potentially redundant columns"
   ]
  },
  {
   "cell_type": "code",
   "execution_count": 43,
   "id": "7cf1c8a6-d736-4223-b23c-bfc4e3c2a285",
   "metadata": {},
   "outputs": [],
   "source": [
    "df_redundant = df_list_details[['host_listings_count','host_total_listings_count','calculated_host_listings_count']]"
   ]
  },
  {
   "cell_type": "code",
   "execution_count": 44,
   "id": "a2c1f5a0-1944-4bdf-ac78-af0e3bc8261c",
   "metadata": {},
   "outputs": [
    {
     "data": {
      "text/html": [
       "<div>\n",
       "<style scoped>\n",
       "    .dataframe tbody tr th:only-of-type {\n",
       "        vertical-align: middle;\n",
       "    }\n",
       "\n",
       "    .dataframe tbody tr th {\n",
       "        vertical-align: top;\n",
       "    }\n",
       "\n",
       "    .dataframe thead th {\n",
       "        text-align: right;\n",
       "    }\n",
       "</style>\n",
       "<table border=\"1\" class=\"dataframe\">\n",
       "  <thead>\n",
       "    <tr style=\"text-align: right;\">\n",
       "      <th></th>\n",
       "      <th>host_listings_count</th>\n",
       "      <th>host_total_listings_count</th>\n",
       "      <th>calculated_host_listings_count</th>\n",
       "    </tr>\n",
       "  </thead>\n",
       "  <tbody>\n",
       "    <tr>\n",
       "      <th>count</th>\n",
       "      <td>20026.000000</td>\n",
       "      <td>20026.000000</td>\n",
       "      <td>20030.000000</td>\n",
       "    </tr>\n",
       "    <tr>\n",
       "      <th>mean</th>\n",
       "      <td>6.105812</td>\n",
       "      <td>6.105812</td>\n",
       "      <td>4.734698</td>\n",
       "    </tr>\n",
       "    <tr>\n",
       "      <th>std</th>\n",
       "      <td>30.388516</td>\n",
       "      <td>30.388516</td>\n",
       "      <td>22.921886</td>\n",
       "    </tr>\n",
       "    <tr>\n",
       "      <th>min</th>\n",
       "      <td>0.000000</td>\n",
       "      <td>0.000000</td>\n",
       "      <td>1.000000</td>\n",
       "    </tr>\n",
       "    <tr>\n",
       "      <th>25%</th>\n",
       "      <td>1.000000</td>\n",
       "      <td>1.000000</td>\n",
       "      <td>1.000000</td>\n",
       "    </tr>\n",
       "    <tr>\n",
       "      <th>50%</th>\n",
       "      <td>1.000000</td>\n",
       "      <td>1.000000</td>\n",
       "      <td>1.000000</td>\n",
       "    </tr>\n",
       "    <tr>\n",
       "      <th>75%</th>\n",
       "      <td>1.000000</td>\n",
       "      <td>1.000000</td>\n",
       "      <td>1.000000</td>\n",
       "    </tr>\n",
       "    <tr>\n",
       "      <th>max</th>\n",
       "      <td>698.000000</td>\n",
       "      <td>698.000000</td>\n",
       "      <td>208.000000</td>\n",
       "    </tr>\n",
       "  </tbody>\n",
       "</table>\n",
       "</div>"
      ],
      "text/plain": [
       "       host_listings_count  host_total_listings_count  \\\n",
       "count         20026.000000               20026.000000   \n",
       "mean              6.105812                   6.105812   \n",
       "std              30.388516                  30.388516   \n",
       "min               0.000000                   0.000000   \n",
       "25%               1.000000                   1.000000   \n",
       "50%               1.000000                   1.000000   \n",
       "75%               1.000000                   1.000000   \n",
       "max             698.000000                 698.000000   \n",
       "\n",
       "       calculated_host_listings_count  \n",
       "count                    20030.000000  \n",
       "mean                         4.734698  \n",
       "std                         22.921886  \n",
       "min                          1.000000  \n",
       "25%                          1.000000  \n",
       "50%                          1.000000  \n",
       "75%                          1.000000  \n",
       "max                        208.000000  "
      ]
     },
     "execution_count": 44,
     "metadata": {},
     "output_type": "execute_result"
    }
   ],
   "source": [
    "df_redundant.describe()"
   ]
  },
  {
   "cell_type": "markdown",
   "id": "2507c6c9-4a62-4162-94cc-53400a304440",
   "metadata": {},
   "source": [
    "##### The column calculated_listings_count appears to have been cleaned, outlier values deleted, and does not contain nulls unlike the other two.\n",
    "##### We can therefore drop the other two columns and rename calculated_host_listings_count."
   ]
  },
  {
   "cell_type": "code",
   "execution_count": 46,
   "id": "96ee781a-8f27-442f-91cd-dd090952d1bd",
   "metadata": {},
   "outputs": [],
   "source": [
    "df_list_details.drop(columns=['host_listings_count','host_total_listings_count'], inplace=True)"
   ]
  },
  {
   "cell_type": "markdown",
   "id": "d8e29d82-5018-4b98-800d-809afb450ab4",
   "metadata": {},
   "source": [
    "##### Rename calculated_host_listings_count to host_listings_count"
   ]
  },
  {
   "cell_type": "code",
   "execution_count": 48,
   "id": "0127faad-fd57-49a6-880d-30da190cdb06",
   "metadata": {},
   "outputs": [],
   "source": [
    "df_list_details.rename(columns = {'calculated_host_listings_count':'host_listings_count'}, inplace=True)"
   ]
  },
  {
   "cell_type": "markdown",
   "id": "569a4d9a-700e-4fac-86b0-afe635e79c61",
   "metadata": {},
   "source": [
    "#### Editing location name data"
   ]
  },
  {
   "cell_type": "code",
   "execution_count": 50,
   "id": "5fb5f0e9-33a8-4070-b2d8-d1ab57058e37",
   "metadata": {},
   "outputs": [
    {
     "data": {
      "text/plain": [
       "Index(['Unnamed: 0', 'id', 'listing_url', 'name', 'summary', 'space',\n",
       "       'description', 'experiences_offered', 'neighbourhood_overview', 'notes',\n",
       "       'transit', 'access', 'interaction', 'house_rules', 'picture_url',\n",
       "       'host_id', 'host_url', 'host_name', 'host_since', 'host_location',\n",
       "       'host_about', 'host_response_time', 'host_response_rate',\n",
       "       'host_is_superhost', 'host_neighbourhood', 'host_verifications',\n",
       "       'host_identity_verified', 'street', 'neighbourhood', 'city', 'state',\n",
       "       'zipcode', 'country', 'latitude', 'longitude', 'is_location_exact',\n",
       "       'property_type', 'room_type', 'accommodates', 'bathrooms', 'bedrooms',\n",
       "       'beds', 'bed_type', 'amenities', 'square_feet', 'price', 'weekly_price',\n",
       "       'monthly_price', 'security_deposit', 'cleaning_fee', 'guests_included',\n",
       "       'extra_people', 'minimum_nights', 'maximum_nights', 'calendar_updated',\n",
       "       'has_availability', 'availability_365', 'number_of_reviews',\n",
       "       'first_review', 'last_review', 'review_scores_rating',\n",
       "       'review_scores_accuracy', 'review_scores_cleanliness',\n",
       "       'review_scores_checkin', 'review_scores_communication',\n",
       "       'review_scores_location', 'review_scores_value', 'requires_license',\n",
       "       'license', 'jurisdiction_names', 'instant_bookable',\n",
       "       'is_business_travel_ready', 'cancellation_policy',\n",
       "       'require_guest_profile_picture', 'require_guest_phone_verification',\n",
       "       'host_listings_count', 'reviews_per_month'],\n",
       "      dtype='object')"
      ]
     },
     "execution_count": 50,
     "metadata": {},
     "output_type": "execute_result"
    }
   ],
   "source": [
    "df_list_details.columns"
   ]
  },
  {
   "cell_type": "markdown",
   "id": "f829b933-57b6-4fd5-8648-da1b8b23d902",
   "metadata": {},
   "source": [
    "##### The neighbourhood, city, state and country columns should be checked for spelling and accuracy."
   ]
  },
  {
   "cell_type": "code",
   "execution_count": 52,
   "id": "8eec823d-6c72-4819-b838-377e67d8b76b",
   "metadata": {},
   "outputs": [
    {
     "data": {
      "text/plain": [
       "city\n",
       "Amsterdam                       19715\n",
       "Amsterdam-Zuidoost                193\n",
       "Amsterdam Zuid-Oost                35\n",
       "Amsterdam                          10\n",
       "Badhoevedorp                        9\n",
       "Diemen                              8\n",
       "De Pijp                             7\n",
       "Amstelveen                          7\n",
       "Watergraafsmeer                     6\n",
       "Duivendrecht                        6\n",
       "Jordaan                             5\n",
       "nan                                 4\n",
       "Amsterdam (Zunderdorp)              3\n",
       "Halfweg                             3\n",
       "Amsterdam Zuidoost                  2\n",
       "Zeeburg                             2\n",
       "Nederland                           1\n",
       "1015 SN Amsterdam                   1\n",
       "Ouderkerk aan de Amstel             1\n",
       "Buitenveldert                       1\n",
       "Weesp                               1\n",
       "Zeeburgerkade                       1\n",
       "Ámsterdam                           1\n",
       "Амстердам                           1\n",
       "Jordaan, Amsterdam                  1\n",
       "Amsterdam, Noord-Holland, NL        1\n",
       "Lijnden                             1\n",
       "Amsterdam West                      1\n",
       "Haarlem                             1\n",
       "Amsterdão                           1\n",
       "Zaandam                             1\n",
       "Name: count, dtype: int64"
      ]
     },
     "execution_count": 52,
     "metadata": {},
     "output_type": "execute_result"
    }
   ],
   "source": [
    "df_list_details['city'].value_counts()"
   ]
  },
  {
   "cell_type": "code",
   "execution_count": 53,
   "id": "5ea5b5b4-a5db-400c-a250-a6694d5d02d7",
   "metadata": {},
   "outputs": [],
   "source": [
    "df_list_details['city'].replace(['Amsterdam-Zuidoost','Amsterdam Zuid-Oost','De Pijp','Jordaan','Zeeburgerkade','1015 SN Amsterdam','Ámsterdam','Амстердам','Jordaan, Amsterdam','Amsterdam, Noord-Holland, NL','Amsterdam West','Amsterdão', 'Amsterdam ','Amsterdam Zuidoost','Nederland','nan'], 'Amsterdam', inplace=True)"
   ]
  },
  {
   "cell_type": "code",
   "execution_count": 54,
   "id": "b9037443-830c-4b28-afad-b67b9de9ccdd",
   "metadata": {},
   "outputs": [
    {
     "data": {
      "text/plain": [
       "city\n",
       "Amsterdam                  19980\n",
       "Badhoevedorp                   9\n",
       "Diemen                         8\n",
       "Amstelveen                     7\n",
       "Watergraafsmeer                6\n",
       "Duivendrecht                   6\n",
       "Halfweg                        3\n",
       "Amsterdam (Zunderdorp)         3\n",
       "Zeeburg                        2\n",
       "Haarlem                        1\n",
       "Lijnden                        1\n",
       "Weesp                          1\n",
       "Buitenveldert                  1\n",
       "Ouderkerk aan de Amstel        1\n",
       "Zaandam                        1\n",
       "Name: count, dtype: int64"
      ]
     },
     "execution_count": 54,
     "metadata": {},
     "output_type": "execute_result"
    }
   ],
   "source": [
    "df_list_details['city'].value_counts()"
   ]
  },
  {
   "cell_type": "code",
   "execution_count": 55,
   "id": "652442ce-293b-42fd-b529-15e15063b3c0",
   "metadata": {},
   "outputs": [],
   "source": [
    "#replaced names of neighbourhoods and streets in Amsterdam, as well as different spellings of the city name, with Amsterdam.\n",
    "#replaced country name (Nederland) and entries with nan with Amsterdam.\n",
    "#The remaining names are those of surrounding municipalities outside Amsterdam, so left them as is."
   ]
  },
  {
   "cell_type": "code",
   "execution_count": 56,
   "id": "17eb05d4-5df6-4a88-91b4-2e788da46228",
   "metadata": {},
   "outputs": [
    {
     "data": {
      "text/plain": [
       "state\n",
       "Noord-Holland                      15579\n",
       "North Holland                       2951\n",
       "NH                                  1278\n",
       "nan                                  127\n",
       "Netherlands                           15\n",
       "Noord Holland                         15\n",
       "Badhoevedorp                           7\n",
       "Amsterdam                              7\n",
       "XH                                     2\n",
       "Bilderdijkstraat                       2\n",
       "NL                                     2\n",
       "SN                                     1\n",
       "Pieter Calandlaan                      1\n",
       "JT                                     1\n",
       "Nassaukade                             1\n",
       "VX                                     1\n",
       "BE                                     1\n",
       "RJ                                     1\n",
       "LN                                     1\n",
       "DP                                     1\n",
       "CE                                     1\n",
       "NB                                     1\n",
       "TL                                     1\n",
       "KX                                     1\n",
       "nh                                     1\n",
       "Albert Cuypstraat 100-3A               1\n",
       "WD                                     1\n",
       "Lanseloetstraat 3                      1\n",
       "Europe                                 1\n",
       "Nord Holland                           1\n",
       "Wibautstraat                           1\n",
       "North-Holland                          1\n",
       "Overtoom                               1\n",
       "Zuiderzeeweg                           1\n",
       "Zeedijk                                1\n",
       "NM                                     1\n",
       "Nh                                     1\n",
       "Noordholland                           1\n",
       "Emmy andriessestraat                   1\n",
       "Holland                                1\n",
       "SX                                     1\n",
       "North                                  1\n",
       "MK                                     1\n",
       "Fritz Dietrich Kahlenbergstraat        1\n",
       "AH                                     1\n",
       "GA                                     1\n",
       "Borgerstraat                           1\n",
       "BW                                     1\n",
       "Blancefloorstraat                      1\n",
       "GD                                     1\n",
       "Amstel                                 1\n",
       "Noord-Holland,1074 ES                  1\n",
       "GE                                     1\n",
       "Modern                                 1\n",
       "boord Holland                          1\n",
       "GJ                                     1\n",
       "Name: count, dtype: int64"
      ]
     },
     "execution_count": 56,
     "metadata": {},
     "output_type": "execute_result"
    }
   ],
   "source": [
    "df_list_details['state'].value_counts()"
   ]
  },
  {
   "cell_type": "code",
   "execution_count": 57,
   "id": "0571e8ea-c359-4757-9600-14eb8245eff7",
   "metadata": {},
   "outputs": [],
   "source": [
    "df_list_details['state'].replace(['North Holland','NH','Netherlands','Noord Holland','Badhoevedorp','Amsterdam','Bilderdijkstraat','Pieter Calandlaan','Nassaukade','nh','Albert Cuypstraat 100-3A','Lanseloetstraat 3','Europe','Nord Holland','Wibautstraat','North-Holland','Overtoom','Zuiderzeeweg','Zeedijk','Nh','Noordholland','Emmy andriessestraat','Holland','North','Fritz Dietrich Kahlenbergstraat','Borgerstraat','Blancefloorstraat','Noord-Holland,1074 ES','boord Holland','Amstel','Modern','nan'], 'Noord-Holland', inplace=True)"
   ]
  },
  {
   "cell_type": "code",
   "execution_count": 58,
   "id": "2f55fa95-7c44-48ae-8c2d-139b836bff9a",
   "metadata": {},
   "outputs": [
    {
     "data": {
      "text/plain": [
       "state\n",
       "Noord-Holland    20005\n",
       "XH                   2\n",
       "NL                   2\n",
       "KX                   1\n",
       "NB                   1\n",
       "TL                   1\n",
       "CE                   1\n",
       "DP                   1\n",
       "LN                   1\n",
       "RJ                   1\n",
       "BE                   1\n",
       "VX                   1\n",
       "JT                   1\n",
       "GJ                   1\n",
       "SN                   1\n",
       "GE                   1\n",
       "GD                   1\n",
       "BW                   1\n",
       "GA                   1\n",
       "AH                   1\n",
       "MK                   1\n",
       "SX                   1\n",
       "NM                   1\n",
       "WD                   1\n",
       "Name: count, dtype: int64"
      ]
     },
     "execution_count": 58,
     "metadata": {},
     "output_type": "execute_result"
    }
   ],
   "source": [
    "df_list_details['state'].value_counts()"
   ]
  },
  {
   "cell_type": "code",
   "execution_count": 59,
   "id": "7d639e52-bc22-4023-8cc2-2139424ce754",
   "metadata": {},
   "outputs": [],
   "source": [
    "#corrected different spellings of the state name Noord-Holland. \n",
    "#replaced city, street and neighbourhood names with Noord-Holland, as well as entries with 'nan'. \n",
    "#left the two-character abbreviations, as I was not sure what those were."
   ]
  },
  {
   "cell_type": "code",
   "execution_count": 60,
   "id": "91a9dc84-eaff-4a8c-9278-8ac49a838027",
   "metadata": {},
   "outputs": [
    {
     "data": {
      "text/plain": [
       "country\n",
       "Netherlands    20030\n",
       "Name: count, dtype: int64"
      ]
     },
     "execution_count": 60,
     "metadata": {},
     "output_type": "execute_result"
    }
   ],
   "source": [
    "df_list_details['country'].value_counts()\n",
    "#no changes needed for this column"
   ]
  },
  {
   "cell_type": "code",
   "execution_count": 61,
   "id": "55b59331-7025-40b7-8506-366c259add9d",
   "metadata": {},
   "outputs": [
    {
     "data": {
      "text/plain": [
       "neighbourhood\n",
       "De Baarsjes - Oud-West                    3515\n",
       "De Pijp - Rivierenbuurt                   2493\n",
       "Centrum-West                              2326\n",
       "Centrum-Oost                              1730\n",
       "Westerpark                                1490\n",
       "Zuid                                      1441\n",
       "Oud-Oost                                  1282\n",
       "Bos en Lommer                             1145\n",
       "Oostelijk Havengebied - Indische Buurt     959\n",
       "Oud-Noord                                  571\n",
       "Watergraafsmeer                            552\n",
       "IJburg - Zeeburgereiland                   452\n",
       "Slotervaart                                393\n",
       "Noord-West                                 320\n",
       "Buitenveldert - Zuidas                     262\n",
       "Noord-Oost                                 257\n",
       "Geuzenveld - Slotermeer                    212\n",
       "Osdorp                                     159\n",
       "De Aker - Nieuw Sloten                     142\n",
       "Gaasperdam - Driemond                      122\n",
       "Bijlmer-Centrum                            111\n",
       "Bijlmer-Oost                                96\n",
       "Name: count, dtype: int64"
      ]
     },
     "execution_count": 61,
     "metadata": {},
     "output_type": "execute_result"
    }
   ],
   "source": [
    "df_list_details['neighbourhood'].value_counts()\n",
    "#no changes needed for this column"
   ]
  },
  {
   "cell_type": "markdown",
   "id": "8bf35ce6-e1b7-49c3-a823-9f82a4ffd335",
   "metadata": {},
   "source": [
    "#### Addressing and cleaning outliers"
   ]
  },
  {
   "cell_type": "code",
   "execution_count": 63,
   "id": "51f77cd5-28e9-4e57-a9f3-e0c0286ce408",
   "metadata": {},
   "outputs": [
    {
     "data": {
      "text/plain": [
       "host_listings_count\n",
       "1      15830\n",
       "2       2208\n",
       "3        522\n",
       "208      208\n",
       "4        200\n",
       "5        185\n",
       "6        144\n",
       "105      105\n",
       "83        83\n",
       "7         63\n",
       "8         48\n",
       "21        42\n",
       "38        38\n",
       "19        38\n",
       "9         36\n",
       "12        36\n",
       "11        33\n",
       "10        30\n",
       "30        30\n",
       "27        27\n",
       "25        25\n",
       "24        24\n",
       "17        17\n",
       "16        16\n",
       "15        15\n",
       "14        14\n",
       "13        13\n",
       "Name: count, dtype: int64"
      ]
     },
     "execution_count": 63,
     "metadata": {},
     "output_type": "execute_result"
    }
   ],
   "source": [
    "df_list_details['host_listings_count'].value_counts()"
   ]
  },
  {
   "cell_type": "code",
   "execution_count": 64,
   "id": "9345460b-ee5a-4389-947b-1a8405b3744b",
   "metadata": {},
   "outputs": [
    {
     "data": {
      "text/plain": [
       "0"
      ]
     },
     "execution_count": 64,
     "metadata": {},
     "output_type": "execute_result"
    }
   ],
   "source": [
    "df_list_details[['id', 'host_id','host_name','host_listings_count']].loc[df_list_details['host_listings_count']>20].duplicated().sum()"
   ]
  },
  {
   "cell_type": "code",
   "execution_count": 65,
   "id": "ec7be50b-05f0-4056-99ea-d09bc26ed805",
   "metadata": {},
   "outputs": [],
   "source": [
    "#None of the hosts with large numbers of listings have duplicate rows. This means that there are indeed hosts with large numbers of unique listings."
   ]
  },
  {
   "cell_type": "code",
   "execution_count": 66,
   "id": "a2f97851-126f-404d-a32b-8f92e5d074c4",
   "metadata": {},
   "outputs": [
    {
     "data": {
      "text/plain": [
       "host_id  \n",
       "65859990     208\n",
       "1464510      105\n",
       "76104209      83\n",
       "113977564     38\n",
       "517215        30\n",
       "107745142     27\n",
       "14183886      25\n",
       "11969034      24\n",
       "7594884       21\n",
       "44168250      21\n",
       "Name: count, dtype: int64"
      ]
     },
     "execution_count": 66,
     "metadata": {},
     "output_type": "execute_result"
    }
   ],
   "source": [
    "df_list_details[['host_id',]].loc[df_list_details['host_listings_count']>20].value_counts()"
   ]
  },
  {
   "cell_type": "markdown",
   "id": "7f180e4e-d2c8-4d95-bcf6-d6ac4c08ab22",
   "metadata": {},
   "source": [
    "#### Price outliers"
   ]
  },
  {
   "cell_type": "code",
   "execution_count": 68,
   "id": "099dcdf7-465a-411a-a03a-223d307d08d3",
   "metadata": {},
   "outputs": [
    {
     "data": {
      "text/plain": [
       "count    20030.000000\n",
       "mean       152.181178\n",
       "std        145.828976\n",
       "min          0.000000\n",
       "25%         96.000000\n",
       "50%        125.000000\n",
       "75%        175.000000\n",
       "max       8500.000000\n",
       "Name: price, dtype: float64"
      ]
     },
     "execution_count": 68,
     "metadata": {},
     "output_type": "execute_result"
    }
   ],
   "source": [
    "df_list_details['price'].describe()\n",
    "#we see values of both 0 and 8500. these will need to be looked at and, if needed, corrected."
   ]
  },
  {
   "cell_type": "code",
   "execution_count": 69,
   "id": "f170f080-12c8-4908-9cf7-4a8e981d64e4",
   "metadata": {},
   "outputs": [
    {
     "data": {
      "text/html": [
       "<div>\n",
       "<style scoped>\n",
       "    .dataframe tbody tr th:only-of-type {\n",
       "        vertical-align: middle;\n",
       "    }\n",
       "\n",
       "    .dataframe tbody tr th {\n",
       "        vertical-align: top;\n",
       "    }\n",
       "\n",
       "    .dataframe thead th {\n",
       "        text-align: right;\n",
       "    }\n",
       "</style>\n",
       "<table border=\"1\" class=\"dataframe\">\n",
       "  <thead>\n",
       "    <tr style=\"text-align: right;\">\n",
       "      <th></th>\n",
       "      <th>id</th>\n",
       "      <th>name</th>\n",
       "      <th>description</th>\n",
       "      <th>square_feet</th>\n",
       "      <th>price</th>\n",
       "      <th>neighbourhood</th>\n",
       "    </tr>\n",
       "  </thead>\n",
       "  <tbody>\n",
       "    <tr>\n",
       "      <th>7234</th>\n",
       "      <td>12213707</td>\n",
       "      <td>Comfy double room right to city center</td>\n",
       "      <td>x The 2 room appartment comes with a small bal...</td>\n",
       "      <td>NaN</td>\n",
       "      <td>8500.0</td>\n",
       "      <td>Oud-Oost</td>\n",
       "    </tr>\n",
       "  </tbody>\n",
       "</table>\n",
       "</div>"
      ],
      "text/plain": [
       "            id                                    name  \\\n",
       "7234  12213707  Comfy double room right to city center   \n",
       "\n",
       "                                            description  square_feet   price  \\\n",
       "7234  x The 2 room appartment comes with a small bal...          NaN  8500.0   \n",
       "\n",
       "     neighbourhood  \n",
       "7234      Oud-Oost  "
      ]
     },
     "execution_count": 69,
     "metadata": {},
     "output_type": "execute_result"
    }
   ],
   "source": [
    "#check the entry or entries with this price in order to get more information about this listing\n",
    "df_list_details[['id','name','description','square_feet','price','neighbourhood']].loc[df_list_details['price']==8500]"
   ]
  },
  {
   "cell_type": "code",
   "execution_count": 70,
   "id": "ddcce1d6-fb56-4fd6-926d-028965478605",
   "metadata": {},
   "outputs": [],
   "source": [
    "#convert this price value to NaN for now\n",
    "df_list_details.loc[df_list_details['price']==8500, 'price'] = np.nan"
   ]
  },
  {
   "cell_type": "code",
   "execution_count": 71,
   "id": "6280c595-308b-4fee-a529-c1a31b97ea78",
   "metadata": {},
   "outputs": [
    {
     "data": {
      "text/plain": [
       "count    20029.000000\n",
       "mean       151.764392\n",
       "std        133.369958\n",
       "min          0.000000\n",
       "25%         96.000000\n",
       "50%        125.000000\n",
       "75%        175.000000\n",
       "max       8000.000000\n",
       "Name: price, dtype: float64"
      ]
     },
     "execution_count": 71,
     "metadata": {},
     "output_type": "execute_result"
    }
   ],
   "source": [
    "df_list_details['price'].describe()"
   ]
  },
  {
   "cell_type": "code",
   "execution_count": 72,
   "id": "ce03372d-86db-4f28-a7a0-2dbadce0f26a",
   "metadata": {},
   "outputs": [
    {
     "data": {
      "text/plain": [
       "price \n",
       "2500.0    2\n",
       "1025.0    1\n",
       "1050.0    1\n",
       "5040.0    1\n",
       "5000.0    1\n",
       "4500.0    1\n",
       "3900.0    1\n",
       "3142.0    1\n",
       "3000.0    1\n",
       "2200.0    1\n",
       "2000.0    1\n",
       "1600.0    1\n",
       "1500.0    1\n",
       "1254.0    1\n",
       "1250.0    1\n",
       "1230.0    1\n",
       "1200.0    1\n",
       "1190.0    1\n",
       "1119.0    1\n",
       "1100.0    1\n",
       "1095.0    1\n",
       "8000.0    1\n",
       "Name: count, dtype: int64"
      ]
     },
     "execution_count": 72,
     "metadata": {},
     "output_type": "execute_result"
    }
   ],
   "source": [
    "#there appear to be more price outliers\n",
    "df_list_details[['price']].loc[df_list_details['price']>1000].value_counts()"
   ]
  },
  {
   "cell_type": "code",
   "execution_count": 73,
   "id": "77358a6f-70b5-4e29-8fcb-fa897281a88b",
   "metadata": {},
   "outputs": [
    {
     "data": {
      "text/html": [
       "<div>\n",
       "<style scoped>\n",
       "    .dataframe tbody tr th:only-of-type {\n",
       "        vertical-align: middle;\n",
       "    }\n",
       "\n",
       "    .dataframe tbody tr th {\n",
       "        vertical-align: top;\n",
       "    }\n",
       "\n",
       "    .dataframe thead th {\n",
       "        text-align: right;\n",
       "    }\n",
       "</style>\n",
       "<table border=\"1\" class=\"dataframe\">\n",
       "  <thead>\n",
       "    <tr style=\"text-align: right;\">\n",
       "      <th></th>\n",
       "      <th>price</th>\n",
       "      <th>name</th>\n",
       "      <th>square_feet</th>\n",
       "      <th>property_type</th>\n",
       "      <th>bedrooms</th>\n",
       "      <th>bathrooms</th>\n",
       "      <th>weekly_price</th>\n",
       "      <th>monthly_price</th>\n",
       "    </tr>\n",
       "  </thead>\n",
       "  <tbody>\n",
       "    <tr>\n",
       "      <th>127</th>\n",
       "      <td>8000.0</td>\n",
       "      <td>Great CENTRAL apartment De Pijp</td>\n",
       "      <td>NaN</td>\n",
       "      <td>Apartment</td>\n",
       "      <td>1.0</td>\n",
       "      <td>1.0</td>\n",
       "      <td>NaN</td>\n",
       "      <td>NaN</td>\n",
       "    </tr>\n",
       "    <tr>\n",
       "      <th>3321</th>\n",
       "      <td>4500.0</td>\n",
       "      <td>Crane Hotel Faralda Amsterdam</td>\n",
       "      <td>NaN</td>\n",
       "      <td>Other</td>\n",
       "      <td>3.0</td>\n",
       "      <td>3.0</td>\n",
       "      <td>NaN</td>\n",
       "      <td>NaN</td>\n",
       "    </tr>\n",
       "    <tr>\n",
       "      <th>10008</th>\n",
       "      <td>3142.0</td>\n",
       "      <td>One public bedroom</td>\n",
       "      <td>NaN</td>\n",
       "      <td>Bed and breakfast</td>\n",
       "      <td>1.0</td>\n",
       "      <td>1.0</td>\n",
       "      <td>NaN</td>\n",
       "      <td>NaN</td>\n",
       "    </tr>\n",
       "    <tr>\n",
       "      <th>13009</th>\n",
       "      <td>5000.0</td>\n",
       "      <td>diervriendelijk appartementje aan rand Amsterdam</td>\n",
       "      <td>NaN</td>\n",
       "      <td>Apartment</td>\n",
       "      <td>1.0</td>\n",
       "      <td>1.0</td>\n",
       "      <td>NaN</td>\n",
       "      <td>NaN</td>\n",
       "    </tr>\n",
       "    <tr>\n",
       "      <th>16959</th>\n",
       "      <td>3900.0</td>\n",
       "      <td>Long-term (expat) luxury appt: 3-bedr ++LOCATION</td>\n",
       "      <td>NaN</td>\n",
       "      <td>Apartment</td>\n",
       "      <td>3.0</td>\n",
       "      <td>1.5</td>\n",
       "      <td>NaN</td>\n",
       "      <td>NaN</td>\n",
       "    </tr>\n",
       "    <tr>\n",
       "      <th>18721</th>\n",
       "      <td>3000.0</td>\n",
       "      <td>No available</td>\n",
       "      <td>NaN</td>\n",
       "      <td>Apartment</td>\n",
       "      <td>1.0</td>\n",
       "      <td>1.0</td>\n",
       "      <td>NaN</td>\n",
       "      <td>NaN</td>\n",
       "    </tr>\n",
       "    <tr>\n",
       "      <th>19486</th>\n",
       "      <td>5040.0</td>\n",
       "      <td>Lovely place</td>\n",
       "      <td>NaN</td>\n",
       "      <td>Apartment</td>\n",
       "      <td>0.0</td>\n",
       "      <td>1.0</td>\n",
       "      <td>NaN</td>\n",
       "      <td>NaN</td>\n",
       "    </tr>\n",
       "  </tbody>\n",
       "</table>\n",
       "</div>"
      ],
      "text/plain": [
       "        price                                              name  square_feet  \\\n",
       "127    8000.0                   Great CENTRAL apartment De Pijp          NaN   \n",
       "3321   4500.0                     Crane Hotel Faralda Amsterdam          NaN   \n",
       "10008  3142.0                                One public bedroom          NaN   \n",
       "13009  5000.0  diervriendelijk appartementje aan rand Amsterdam          NaN   \n",
       "16959  3900.0  Long-term (expat) luxury appt: 3-bedr ++LOCATION          NaN   \n",
       "18721  3000.0                                      No available          NaN   \n",
       "19486  5040.0                                      Lovely place          NaN   \n",
       "\n",
       "           property_type  bedrooms  bathrooms  weekly_price  monthly_price  \n",
       "127            Apartment       1.0        1.0           NaN            NaN  \n",
       "3321               Other       3.0        3.0           NaN            NaN  \n",
       "10008  Bed and breakfast       1.0        1.0           NaN            NaN  \n",
       "13009          Apartment       1.0        1.0           NaN            NaN  \n",
       "16959          Apartment       3.0        1.5           NaN            NaN  \n",
       "18721          Apartment       1.0        1.0           NaN            NaN  \n",
       "19486          Apartment       0.0        1.0           NaN            NaN  "
      ]
     },
     "execution_count": 73,
     "metadata": {},
     "output_type": "execute_result"
    }
   ],
   "source": [
    "#we can look at the listings over 2500 to see more information about them, \n",
    "#such as if they are particularly large in size or number of rooms, or if the price is actually the weekly or monthly price.\n",
    "df_list_details[['price','name','square_feet','property_type','bedrooms','bathrooms','weekly_price','monthly_price']].loc[df_list_details['price']>2500]"
   ]
  },
  {
   "cell_type": "code",
   "execution_count": 74,
   "id": "34affe5d-dc13-4c41-acdb-f447226fa181",
   "metadata": {},
   "outputs": [],
   "source": [
    "#we can convert the price of 8000 to NaN as well\n",
    "df_list_details.loc[df_list_details['price']==8000, 'price'] = np.nan"
   ]
  },
  {
   "cell_type": "code",
   "execution_count": 75,
   "id": "6e726db4-22d1-42ea-963a-d24810f0ab95",
   "metadata": {},
   "outputs": [],
   "source": [
    "#replacing prices of 0 with NaN\n",
    "df_list_details.loc[df_list_details['price']==0, 'price'] = np.nan"
   ]
  },
  {
   "cell_type": "code",
   "execution_count": 76,
   "id": "9d0b8308-1c18-4ff6-9f23-aff70f8eff24",
   "metadata": {},
   "outputs": [
    {
     "data": {
      "text/plain": [
       "count    20026.000000\n",
       "mean       151.387646\n",
       "std        121.292510\n",
       "min          8.000000\n",
       "25%         96.000000\n",
       "50%        125.000000\n",
       "75%        175.000000\n",
       "max       5040.000000\n",
       "Name: price, dtype: float64"
      ]
     },
     "execution_count": 76,
     "metadata": {},
     "output_type": "execute_result"
    }
   ],
   "source": [
    "df_list_details['price'].describe()"
   ]
  },
  {
   "cell_type": "markdown",
   "id": "c53ba21c-5619-482c-8ecd-e0bbca407755",
   "metadata": {},
   "source": [
    "#### Addressing other outliers"
   ]
  },
  {
   "cell_type": "code",
   "execution_count": 78,
   "id": "8eee84c1-a7cc-4857-b30a-f2ef9e929854",
   "metadata": {},
   "outputs": [
    {
     "data": {
      "text/html": [
       "<div>\n",
       "<style scoped>\n",
       "    .dataframe tbody tr th:only-of-type {\n",
       "        vertical-align: middle;\n",
       "    }\n",
       "\n",
       "    .dataframe tbody tr th {\n",
       "        vertical-align: top;\n",
       "    }\n",
       "\n",
       "    .dataframe thead th {\n",
       "        text-align: right;\n",
       "    }\n",
       "</style>\n",
       "<table border=\"1\" class=\"dataframe\">\n",
       "  <thead>\n",
       "    <tr style=\"text-align: right;\">\n",
       "      <th></th>\n",
       "      <th>count</th>\n",
       "      <th>mean</th>\n",
       "      <th>std</th>\n",
       "      <th>min</th>\n",
       "      <th>25%</th>\n",
       "      <th>50%</th>\n",
       "      <th>75%</th>\n",
       "      <th>max</th>\n",
       "    </tr>\n",
       "  </thead>\n",
       "  <tbody>\n",
       "    <tr>\n",
       "      <th>Unnamed: 0</th>\n",
       "      <td>20030.0</td>\n",
       "      <td>1.001450e+04</td>\n",
       "      <td>5.782307e+03</td>\n",
       "      <td>0.000000</td>\n",
       "      <td>5.007250e+03</td>\n",
       "      <td>1.001450e+04</td>\n",
       "      <td>1.502175e+04</td>\n",
       "      <td>2.002900e+04</td>\n",
       "    </tr>\n",
       "    <tr>\n",
       "      <th>id</th>\n",
       "      <td>20030.0</td>\n",
       "      <td>1.541725e+07</td>\n",
       "      <td>8.569404e+06</td>\n",
       "      <td>2818.000000</td>\n",
       "      <td>8.188423e+06</td>\n",
       "      <td>1.563049e+07</td>\n",
       "      <td>2.202577e+07</td>\n",
       "      <td>3.058041e+07</td>\n",
       "    </tr>\n",
       "    <tr>\n",
       "      <th>host_id</th>\n",
       "      <td>20030.0</td>\n",
       "      <td>4.868570e+07</td>\n",
       "      <td>5.649635e+07</td>\n",
       "      <td>3159.000000</td>\n",
       "      <td>8.093516e+06</td>\n",
       "      <td>2.369450e+07</td>\n",
       "      <td>6.827535e+07</td>\n",
       "      <td>2.293612e+08</td>\n",
       "    </tr>\n",
       "    <tr>\n",
       "      <th>host_response_rate</th>\n",
       "      <td>10547.0</td>\n",
       "      <td>9.375595e+01</td>\n",
       "      <td>1.703486e+01</td>\n",
       "      <td>0.000000</td>\n",
       "      <td>1.000000e+02</td>\n",
       "      <td>1.000000e+02</td>\n",
       "      <td>1.000000e+02</td>\n",
       "      <td>1.000000e+02</td>\n",
       "    </tr>\n",
       "    <tr>\n",
       "      <th>latitude</th>\n",
       "      <td>20030.0</td>\n",
       "      <td>5.236521e+01</td>\n",
       "      <td>1.599599e-02</td>\n",
       "      <td>52.288378</td>\n",
       "      <td>5.235513e+01</td>\n",
       "      <td>5.236459e+01</td>\n",
       "      <td>5.237507e+01</td>\n",
       "      <td>5.242471e+01</td>\n",
       "    </tr>\n",
       "    <tr>\n",
       "      <th>longitude</th>\n",
       "      <td>20030.0</td>\n",
       "      <td>4.888977e+00</td>\n",
       "      <td>3.557343e-02</td>\n",
       "      <td>4.753247</td>\n",
       "      <td>4.863595e+00</td>\n",
       "      <td>4.886387e+00</td>\n",
       "      <td>4.908288e+00</td>\n",
       "      <td>5.027689e+00</td>\n",
       "    </tr>\n",
       "    <tr>\n",
       "      <th>accommodates</th>\n",
       "      <td>20030.0</td>\n",
       "      <td>2.891912e+00</td>\n",
       "      <td>1.318760e+00</td>\n",
       "      <td>1.000000</td>\n",
       "      <td>2.000000e+00</td>\n",
       "      <td>2.000000e+00</td>\n",
       "      <td>4.000000e+00</td>\n",
       "      <td>1.700000e+01</td>\n",
       "    </tr>\n",
       "    <tr>\n",
       "      <th>bathrooms</th>\n",
       "      <td>20020.0</td>\n",
       "      <td>1.137662e+00</td>\n",
       "      <td>7.939026e-01</td>\n",
       "      <td>0.000000</td>\n",
       "      <td>1.000000e+00</td>\n",
       "      <td>1.000000e+00</td>\n",
       "      <td>1.000000e+00</td>\n",
       "      <td>1.005000e+02</td>\n",
       "    </tr>\n",
       "    <tr>\n",
       "      <th>bedrooms</th>\n",
       "      <td>20022.0</td>\n",
       "      <td>1.445060e+00</td>\n",
       "      <td>8.856803e-01</td>\n",
       "      <td>0.000000</td>\n",
       "      <td>1.000000e+00</td>\n",
       "      <td>1.000000e+00</td>\n",
       "      <td>2.000000e+00</td>\n",
       "      <td>1.200000e+01</td>\n",
       "    </tr>\n",
       "    <tr>\n",
       "      <th>beds</th>\n",
       "      <td>20023.0</td>\n",
       "      <td>1.849223e+00</td>\n",
       "      <td>1.389664e+00</td>\n",
       "      <td>0.000000</td>\n",
       "      <td>1.000000e+00</td>\n",
       "      <td>1.000000e+00</td>\n",
       "      <td>2.000000e+00</td>\n",
       "      <td>3.200000e+01</td>\n",
       "    </tr>\n",
       "    <tr>\n",
       "      <th>square_feet</th>\n",
       "      <td>406.0</td>\n",
       "      <td>5.204852e+02</td>\n",
       "      <td>5.445577e+02</td>\n",
       "      <td>0.000000</td>\n",
       "      <td>0.000000e+00</td>\n",
       "      <td>4.840000e+02</td>\n",
       "      <td>8.070000e+02</td>\n",
       "      <td>4.306000e+03</td>\n",
       "    </tr>\n",
       "    <tr>\n",
       "      <th>price</th>\n",
       "      <td>20026.0</td>\n",
       "      <td>1.513876e+02</td>\n",
       "      <td>1.212925e+02</td>\n",
       "      <td>8.000000</td>\n",
       "      <td>9.600000e+01</td>\n",
       "      <td>1.250000e+02</td>\n",
       "      <td>1.750000e+02</td>\n",
       "      <td>5.040000e+03</td>\n",
       "    </tr>\n",
       "    <tr>\n",
       "      <th>weekly_price</th>\n",
       "      <td>2843.0</td>\n",
       "      <td>8.210549e+02</td>\n",
       "      <td>4.588445e+02</td>\n",
       "      <td>100.000000</td>\n",
       "      <td>5.500000e+02</td>\n",
       "      <td>7.000000e+02</td>\n",
       "      <td>9.500000e+02</td>\n",
       "      <td>6.000000e+03</td>\n",
       "    </tr>\n",
       "    <tr>\n",
       "      <th>monthly_price</th>\n",
       "      <td>1561.0</td>\n",
       "      <td>2.594989e+03</td>\n",
       "      <td>1.527439e+03</td>\n",
       "      <td>550.000000</td>\n",
       "      <td>1.650000e+03</td>\n",
       "      <td>2.200000e+03</td>\n",
       "      <td>3.000000e+03</td>\n",
       "      <td>2.000000e+04</td>\n",
       "    </tr>\n",
       "    <tr>\n",
       "      <th>security_deposit</th>\n",
       "      <td>13864.0</td>\n",
       "      <td>2.218756e+02</td>\n",
       "      <td>3.402108e+02</td>\n",
       "      <td>0.000000</td>\n",
       "      <td>0.000000e+00</td>\n",
       "      <td>1.500000e+02</td>\n",
       "      <td>2.950000e+02</td>\n",
       "      <td>4.736000e+03</td>\n",
       "    </tr>\n",
       "    <tr>\n",
       "      <th>cleaning_fee</th>\n",
       "      <td>16401.0</td>\n",
       "      <td>3.927157e+01</td>\n",
       "      <td>2.426840e+01</td>\n",
       "      <td>0.000000</td>\n",
       "      <td>2.500000e+01</td>\n",
       "      <td>3.500000e+01</td>\n",
       "      <td>5.000000e+01</td>\n",
       "      <td>5.310000e+02</td>\n",
       "    </tr>\n",
       "    <tr>\n",
       "      <th>guests_included</th>\n",
       "      <td>20030.0</td>\n",
       "      <td>1.468997e+00</td>\n",
       "      <td>9.378896e-01</td>\n",
       "      <td>1.000000</td>\n",
       "      <td>1.000000e+00</td>\n",
       "      <td>1.000000e+00</td>\n",
       "      <td>2.000000e+00</td>\n",
       "      <td>1.600000e+01</td>\n",
       "    </tr>\n",
       "    <tr>\n",
       "      <th>extra_people</th>\n",
       "      <td>20030.0</td>\n",
       "      <td>1.131588e+01</td>\n",
       "      <td>2.215206e+01</td>\n",
       "      <td>0.000000</td>\n",
       "      <td>0.000000e+00</td>\n",
       "      <td>0.000000e+00</td>\n",
       "      <td>2.000000e+01</td>\n",
       "      <td>2.800000e+02</td>\n",
       "    </tr>\n",
       "    <tr>\n",
       "      <th>minimum_nights</th>\n",
       "      <td>20030.0</td>\n",
       "      <td>3.328707e+00</td>\n",
       "      <td>1.253742e+01</td>\n",
       "      <td>1.000000</td>\n",
       "      <td>2.000000e+00</td>\n",
       "      <td>2.000000e+00</td>\n",
       "      <td>3.000000e+00</td>\n",
       "      <td>1.001000e+03</td>\n",
       "    </tr>\n",
       "    <tr>\n",
       "      <th>maximum_nights</th>\n",
       "      <td>20030.0</td>\n",
       "      <td>6.312257e+02</td>\n",
       "      <td>5.413400e+02</td>\n",
       "      <td>1.000000</td>\n",
       "      <td>2.100000e+01</td>\n",
       "      <td>1.125000e+03</td>\n",
       "      <td>1.125000e+03</td>\n",
       "      <td>9.999000e+03</td>\n",
       "    </tr>\n",
       "    <tr>\n",
       "      <th>availability_365</th>\n",
       "      <td>20030.0</td>\n",
       "      <td>5.991368e+01</td>\n",
       "      <td>1.040277e+02</td>\n",
       "      <td>0.000000</td>\n",
       "      <td>0.000000e+00</td>\n",
       "      <td>3.000000e+00</td>\n",
       "      <td>6.700000e+01</td>\n",
       "      <td>3.650000e+02</td>\n",
       "    </tr>\n",
       "    <tr>\n",
       "      <th>number_of_reviews</th>\n",
       "      <td>20030.0</td>\n",
       "      <td>2.156046e+01</td>\n",
       "      <td>4.324029e+01</td>\n",
       "      <td>0.000000</td>\n",
       "      <td>3.000000e+00</td>\n",
       "      <td>8.000000e+00</td>\n",
       "      <td>2.200000e+01</td>\n",
       "      <td>6.950000e+02</td>\n",
       "    </tr>\n",
       "    <tr>\n",
       "      <th>review_scores_rating</th>\n",
       "      <td>17391.0</td>\n",
       "      <td>9.484952e+01</td>\n",
       "      <td>6.648685e+00</td>\n",
       "      <td>20.000000</td>\n",
       "      <td>9.300000e+01</td>\n",
       "      <td>9.700000e+01</td>\n",
       "      <td>1.000000e+02</td>\n",
       "      <td>1.000000e+02</td>\n",
       "    </tr>\n",
       "    <tr>\n",
       "      <th>review_scores_accuracy</th>\n",
       "      <td>17381.0</td>\n",
       "      <td>9.679765e+00</td>\n",
       "      <td>6.852705e-01</td>\n",
       "      <td>2.000000</td>\n",
       "      <td>9.000000e+00</td>\n",
       "      <td>1.000000e+01</td>\n",
       "      <td>1.000000e+01</td>\n",
       "      <td>1.000000e+01</td>\n",
       "    </tr>\n",
       "    <tr>\n",
       "      <th>review_scores_cleanliness</th>\n",
       "      <td>17383.0</td>\n",
       "      <td>9.465627e+00</td>\n",
       "      <td>8.679734e-01</td>\n",
       "      <td>2.000000</td>\n",
       "      <td>9.000000e+00</td>\n",
       "      <td>1.000000e+01</td>\n",
       "      <td>1.000000e+01</td>\n",
       "      <td>1.000000e+01</td>\n",
       "    </tr>\n",
       "    <tr>\n",
       "      <th>review_scores_checkin</th>\n",
       "      <td>17369.0</td>\n",
       "      <td>9.735563e+00</td>\n",
       "      <td>6.465567e-01</td>\n",
       "      <td>2.000000</td>\n",
       "      <td>1.000000e+01</td>\n",
       "      <td>1.000000e+01</td>\n",
       "      <td>1.000000e+01</td>\n",
       "      <td>1.000000e+01</td>\n",
       "    </tr>\n",
       "    <tr>\n",
       "      <th>review_scores_communication</th>\n",
       "      <td>17378.0</td>\n",
       "      <td>9.785361e+00</td>\n",
       "      <td>5.994087e-01</td>\n",
       "      <td>2.000000</td>\n",
       "      <td>1.000000e+01</td>\n",
       "      <td>1.000000e+01</td>\n",
       "      <td>1.000000e+01</td>\n",
       "      <td>1.000000e+01</td>\n",
       "    </tr>\n",
       "    <tr>\n",
       "      <th>review_scores_location</th>\n",
       "      <td>17370.0</td>\n",
       "      <td>9.421531e+00</td>\n",
       "      <td>7.279310e-01</td>\n",
       "      <td>2.000000</td>\n",
       "      <td>9.000000e+00</td>\n",
       "      <td>1.000000e+01</td>\n",
       "      <td>1.000000e+01</td>\n",
       "      <td>1.000000e+01</td>\n",
       "    </tr>\n",
       "    <tr>\n",
       "      <th>review_scores_value</th>\n",
       "      <td>17371.0</td>\n",
       "      <td>9.175004e+00</td>\n",
       "      <td>8.054216e-01</td>\n",
       "      <td>2.000000</td>\n",
       "      <td>9.000000e+00</td>\n",
       "      <td>9.000000e+00</td>\n",
       "      <td>1.000000e+01</td>\n",
       "      <td>1.000000e+01</td>\n",
       "    </tr>\n",
       "    <tr>\n",
       "      <th>host_listings_count</th>\n",
       "      <td>20030.0</td>\n",
       "      <td>4.734698e+00</td>\n",
       "      <td>2.292189e+01</td>\n",
       "      <td>1.000000</td>\n",
       "      <td>1.000000e+00</td>\n",
       "      <td>1.000000e+00</td>\n",
       "      <td>1.000000e+00</td>\n",
       "      <td>2.080000e+02</td>\n",
       "    </tr>\n",
       "    <tr>\n",
       "      <th>reviews_per_month</th>\n",
       "      <td>20030.0</td>\n",
       "      <td>9.345032e-01</td>\n",
       "      <td>1.297465e+00</td>\n",
       "      <td>0.000000</td>\n",
       "      <td>1.700000e-01</td>\n",
       "      <td>5.100000e-01</td>\n",
       "      <td>1.090000e+00</td>\n",
       "      <td>1.185000e+01</td>\n",
       "    </tr>\n",
       "  </tbody>\n",
       "</table>\n",
       "</div>"
      ],
      "text/plain": [
       "                               count          mean           std          min  \\\n",
       "Unnamed: 0                   20030.0  1.001450e+04  5.782307e+03     0.000000   \n",
       "id                           20030.0  1.541725e+07  8.569404e+06  2818.000000   \n",
       "host_id                      20030.0  4.868570e+07  5.649635e+07  3159.000000   \n",
       "host_response_rate           10547.0  9.375595e+01  1.703486e+01     0.000000   \n",
       "latitude                     20030.0  5.236521e+01  1.599599e-02    52.288378   \n",
       "longitude                    20030.0  4.888977e+00  3.557343e-02     4.753247   \n",
       "accommodates                 20030.0  2.891912e+00  1.318760e+00     1.000000   \n",
       "bathrooms                    20020.0  1.137662e+00  7.939026e-01     0.000000   \n",
       "bedrooms                     20022.0  1.445060e+00  8.856803e-01     0.000000   \n",
       "beds                         20023.0  1.849223e+00  1.389664e+00     0.000000   \n",
       "square_feet                    406.0  5.204852e+02  5.445577e+02     0.000000   \n",
       "price                        20026.0  1.513876e+02  1.212925e+02     8.000000   \n",
       "weekly_price                  2843.0  8.210549e+02  4.588445e+02   100.000000   \n",
       "monthly_price                 1561.0  2.594989e+03  1.527439e+03   550.000000   \n",
       "security_deposit             13864.0  2.218756e+02  3.402108e+02     0.000000   \n",
       "cleaning_fee                 16401.0  3.927157e+01  2.426840e+01     0.000000   \n",
       "guests_included              20030.0  1.468997e+00  9.378896e-01     1.000000   \n",
       "extra_people                 20030.0  1.131588e+01  2.215206e+01     0.000000   \n",
       "minimum_nights               20030.0  3.328707e+00  1.253742e+01     1.000000   \n",
       "maximum_nights               20030.0  6.312257e+02  5.413400e+02     1.000000   \n",
       "availability_365             20030.0  5.991368e+01  1.040277e+02     0.000000   \n",
       "number_of_reviews            20030.0  2.156046e+01  4.324029e+01     0.000000   \n",
       "review_scores_rating         17391.0  9.484952e+01  6.648685e+00    20.000000   \n",
       "review_scores_accuracy       17381.0  9.679765e+00  6.852705e-01     2.000000   \n",
       "review_scores_cleanliness    17383.0  9.465627e+00  8.679734e-01     2.000000   \n",
       "review_scores_checkin        17369.0  9.735563e+00  6.465567e-01     2.000000   \n",
       "review_scores_communication  17378.0  9.785361e+00  5.994087e-01     2.000000   \n",
       "review_scores_location       17370.0  9.421531e+00  7.279310e-01     2.000000   \n",
       "review_scores_value          17371.0  9.175004e+00  8.054216e-01     2.000000   \n",
       "host_listings_count          20030.0  4.734698e+00  2.292189e+01     1.000000   \n",
       "reviews_per_month            20030.0  9.345032e-01  1.297465e+00     0.000000   \n",
       "\n",
       "                                      25%           50%           75%  \\\n",
       "Unnamed: 0                   5.007250e+03  1.001450e+04  1.502175e+04   \n",
       "id                           8.188423e+06  1.563049e+07  2.202577e+07   \n",
       "host_id                      8.093516e+06  2.369450e+07  6.827535e+07   \n",
       "host_response_rate           1.000000e+02  1.000000e+02  1.000000e+02   \n",
       "latitude                     5.235513e+01  5.236459e+01  5.237507e+01   \n",
       "longitude                    4.863595e+00  4.886387e+00  4.908288e+00   \n",
       "accommodates                 2.000000e+00  2.000000e+00  4.000000e+00   \n",
       "bathrooms                    1.000000e+00  1.000000e+00  1.000000e+00   \n",
       "bedrooms                     1.000000e+00  1.000000e+00  2.000000e+00   \n",
       "beds                         1.000000e+00  1.000000e+00  2.000000e+00   \n",
       "square_feet                  0.000000e+00  4.840000e+02  8.070000e+02   \n",
       "price                        9.600000e+01  1.250000e+02  1.750000e+02   \n",
       "weekly_price                 5.500000e+02  7.000000e+02  9.500000e+02   \n",
       "monthly_price                1.650000e+03  2.200000e+03  3.000000e+03   \n",
       "security_deposit             0.000000e+00  1.500000e+02  2.950000e+02   \n",
       "cleaning_fee                 2.500000e+01  3.500000e+01  5.000000e+01   \n",
       "guests_included              1.000000e+00  1.000000e+00  2.000000e+00   \n",
       "extra_people                 0.000000e+00  0.000000e+00  2.000000e+01   \n",
       "minimum_nights               2.000000e+00  2.000000e+00  3.000000e+00   \n",
       "maximum_nights               2.100000e+01  1.125000e+03  1.125000e+03   \n",
       "availability_365             0.000000e+00  3.000000e+00  6.700000e+01   \n",
       "number_of_reviews            3.000000e+00  8.000000e+00  2.200000e+01   \n",
       "review_scores_rating         9.300000e+01  9.700000e+01  1.000000e+02   \n",
       "review_scores_accuracy       9.000000e+00  1.000000e+01  1.000000e+01   \n",
       "review_scores_cleanliness    9.000000e+00  1.000000e+01  1.000000e+01   \n",
       "review_scores_checkin        1.000000e+01  1.000000e+01  1.000000e+01   \n",
       "review_scores_communication  1.000000e+01  1.000000e+01  1.000000e+01   \n",
       "review_scores_location       9.000000e+00  1.000000e+01  1.000000e+01   \n",
       "review_scores_value          9.000000e+00  9.000000e+00  1.000000e+01   \n",
       "host_listings_count          1.000000e+00  1.000000e+00  1.000000e+00   \n",
       "reviews_per_month            1.700000e-01  5.100000e-01  1.090000e+00   \n",
       "\n",
       "                                      max  \n",
       "Unnamed: 0                   2.002900e+04  \n",
       "id                           3.058041e+07  \n",
       "host_id                      2.293612e+08  \n",
       "host_response_rate           1.000000e+02  \n",
       "latitude                     5.242471e+01  \n",
       "longitude                    5.027689e+00  \n",
       "accommodates                 1.700000e+01  \n",
       "bathrooms                    1.005000e+02  \n",
       "bedrooms                     1.200000e+01  \n",
       "beds                         3.200000e+01  \n",
       "square_feet                  4.306000e+03  \n",
       "price                        5.040000e+03  \n",
       "weekly_price                 6.000000e+03  \n",
       "monthly_price                2.000000e+04  \n",
       "security_deposit             4.736000e+03  \n",
       "cleaning_fee                 5.310000e+02  \n",
       "guests_included              1.600000e+01  \n",
       "extra_people                 2.800000e+02  \n",
       "minimum_nights               1.001000e+03  \n",
       "maximum_nights               9.999000e+03  \n",
       "availability_365             3.650000e+02  \n",
       "number_of_reviews            6.950000e+02  \n",
       "review_scores_rating         1.000000e+02  \n",
       "review_scores_accuracy       1.000000e+01  \n",
       "review_scores_cleanliness    1.000000e+01  \n",
       "review_scores_checkin        1.000000e+01  \n",
       "review_scores_communication  1.000000e+01  \n",
       "review_scores_location       1.000000e+01  \n",
       "review_scores_value          1.000000e+01  \n",
       "host_listings_count          2.080000e+02  \n",
       "reviews_per_month            1.185000e+01  "
      ]
     },
     "execution_count": 78,
     "metadata": {},
     "output_type": "execute_result"
    }
   ],
   "source": [
    "df_list_details.describe().T"
   ]
  },
  {
   "cell_type": "code",
   "execution_count": 79,
   "id": "e933fb12-1594-422a-b4a9-ce62b80f3695",
   "metadata": {},
   "outputs": [
    {
     "data": {
      "text/html": [
       "<div>\n",
       "<style scoped>\n",
       "    .dataframe tbody tr th:only-of-type {\n",
       "        vertical-align: middle;\n",
       "    }\n",
       "\n",
       "    .dataframe tbody tr th {\n",
       "        vertical-align: top;\n",
       "    }\n",
       "\n",
       "    .dataframe thead th {\n",
       "        text-align: right;\n",
       "    }\n",
       "</style>\n",
       "<table border=\"1\" class=\"dataframe\">\n",
       "  <thead>\n",
       "    <tr style=\"text-align: right;\">\n",
       "      <th></th>\n",
       "      <th>id</th>\n",
       "      <th>name</th>\n",
       "      <th>property_type</th>\n",
       "      <th>room_type</th>\n",
       "      <th>bedrooms</th>\n",
       "      <th>beds</th>\n",
       "      <th>bathrooms</th>\n",
       "    </tr>\n",
       "  </thead>\n",
       "  <tbody>\n",
       "    <tr>\n",
       "      <th>136</th>\n",
       "      <td>271599</td>\n",
       "      <td>No.2</td>\n",
       "      <td>House</td>\n",
       "      <td>Private room</td>\n",
       "      <td>0.0</td>\n",
       "      <td>1.0</td>\n",
       "      <td>1.0</td>\n",
       "    </tr>\n",
       "    <tr>\n",
       "      <th>148</th>\n",
       "      <td>289071</td>\n",
       "      <td>Romantic houseboat in Jordaan, private room.</td>\n",
       "      <td>Bed and breakfast</td>\n",
       "      <td>Private room</td>\n",
       "      <td>0.0</td>\n",
       "      <td>1.0</td>\n",
       "      <td>1.0</td>\n",
       "    </tr>\n",
       "    <tr>\n",
       "      <th>154</th>\n",
       "      <td>294226</td>\n",
       "      <td>No.1</td>\n",
       "      <td>House</td>\n",
       "      <td>Private room</td>\n",
       "      <td>0.0</td>\n",
       "      <td>1.0</td>\n",
       "      <td>NaN</td>\n",
       "    </tr>\n",
       "    <tr>\n",
       "      <th>170</th>\n",
       "      <td>311124</td>\n",
       "      <td>*historic centre* *bright* *canal view* *jordaan*</td>\n",
       "      <td>Apartment</td>\n",
       "      <td>Entire home/apt</td>\n",
       "      <td>0.0</td>\n",
       "      <td>1.0</td>\n",
       "      <td>1.0</td>\n",
       "    </tr>\n",
       "    <tr>\n",
       "      <th>179</th>\n",
       "      <td>325165</td>\n",
       "      <td>Studio in the centre of Amsterdam</td>\n",
       "      <td>Apartment</td>\n",
       "      <td>Entire home/apt</td>\n",
       "      <td>0.0</td>\n",
       "      <td>1.0</td>\n",
       "      <td>1.0</td>\n",
       "    </tr>\n",
       "    <tr>\n",
       "      <th>...</th>\n",
       "      <td>...</td>\n",
       "      <td>...</td>\n",
       "      <td>...</td>\n",
       "      <td>...</td>\n",
       "      <td>...</td>\n",
       "      <td>...</td>\n",
       "      <td>...</td>\n",
       "    </tr>\n",
       "    <tr>\n",
       "      <th>20009</th>\n",
       "      <td>30551479</td>\n",
       "      <td>Amsterdam Apartment in City Centre</td>\n",
       "      <td>Apartment</td>\n",
       "      <td>Entire home/apt</td>\n",
       "      <td>0.0</td>\n",
       "      <td>1.0</td>\n",
       "      <td>1.0</td>\n",
       "    </tr>\n",
       "    <tr>\n",
       "      <th>20013</th>\n",
       "      <td>30553840</td>\n",
       "      <td>Large, sophisticated studio for 2 pers close t...</td>\n",
       "      <td>Aparthotel</td>\n",
       "      <td>Entire home/apt</td>\n",
       "      <td>0.0</td>\n",
       "      <td>1.0</td>\n",
       "      <td>1.0</td>\n",
       "    </tr>\n",
       "    <tr>\n",
       "      <th>20015</th>\n",
       "      <td>30554026</td>\n",
       "      <td>Sophisticated and bright rooftop studio for 2 ...</td>\n",
       "      <td>Aparthotel</td>\n",
       "      <td>Entire home/apt</td>\n",
       "      <td>0.0</td>\n",
       "      <td>1.0</td>\n",
       "      <td>1.0</td>\n",
       "    </tr>\n",
       "    <tr>\n",
       "      <th>20017</th>\n",
       "      <td>30556632</td>\n",
       "      <td>Quiet and spacious loft apartment right in centre</td>\n",
       "      <td>Loft</td>\n",
       "      <td>Entire home/apt</td>\n",
       "      <td>0.0</td>\n",
       "      <td>1.0</td>\n",
       "      <td>1.0</td>\n",
       "    </tr>\n",
       "    <tr>\n",
       "      <th>20024</th>\n",
       "      <td>30573892</td>\n",
       "      <td>Clean and perfect location</td>\n",
       "      <td>Apartment</td>\n",
       "      <td>Entire home/apt</td>\n",
       "      <td>0.0</td>\n",
       "      <td>2.0</td>\n",
       "      <td>1.0</td>\n",
       "    </tr>\n",
       "  </tbody>\n",
       "</table>\n",
       "<p>1121 rows × 7 columns</p>\n",
       "</div>"
      ],
      "text/plain": [
       "             id                                               name  \\\n",
       "136      271599                                               No.2   \n",
       "148      289071       Romantic houseboat in Jordaan, private room.   \n",
       "154      294226                                               No.1   \n",
       "170      311124  *historic centre* *bright* *canal view* *jordaan*   \n",
       "179      325165                  Studio in the centre of Amsterdam   \n",
       "...         ...                                                ...   \n",
       "20009  30551479                 Amsterdam Apartment in City Centre   \n",
       "20013  30553840  Large, sophisticated studio for 2 pers close t...   \n",
       "20015  30554026  Sophisticated and bright rooftop studio for 2 ...   \n",
       "20017  30556632  Quiet and spacious loft apartment right in centre   \n",
       "20024  30573892                         Clean and perfect location   \n",
       "\n",
       "           property_type        room_type  bedrooms  beds  bathrooms  \n",
       "136                House     Private room       0.0   1.0        1.0  \n",
       "148    Bed and breakfast     Private room       0.0   1.0        1.0  \n",
       "154                House     Private room       0.0   1.0        NaN  \n",
       "170            Apartment  Entire home/apt       0.0   1.0        1.0  \n",
       "179            Apartment  Entire home/apt       0.0   1.0        1.0  \n",
       "...                  ...              ...       ...   ...        ...  \n",
       "20009          Apartment  Entire home/apt       0.0   1.0        1.0  \n",
       "20013         Aparthotel  Entire home/apt       0.0   1.0        1.0  \n",
       "20015         Aparthotel  Entire home/apt       0.0   1.0        1.0  \n",
       "20017               Loft  Entire home/apt       0.0   1.0        1.0  \n",
       "20024          Apartment  Entire home/apt       0.0   2.0        1.0  \n",
       "\n",
       "[1121 rows x 7 columns]"
      ]
     },
     "execution_count": 79,
     "metadata": {},
     "output_type": "execute_result"
    }
   ],
   "source": [
    "#bedrooms and bathrooms\n",
    "df_list_details[['id','name','property_type','room_type','bedrooms','beds','bathrooms']].loc[df_list_details['bedrooms']==0]"
   ]
  },
  {
   "cell_type": "code",
   "execution_count": 80,
   "id": "8f6a8674-4807-4b0f-9b65-a1352a1198df",
   "metadata": {},
   "outputs": [
    {
     "data": {
      "text/html": [
       "<div>\n",
       "<style scoped>\n",
       "    .dataframe tbody tr th:only-of-type {\n",
       "        vertical-align: middle;\n",
       "    }\n",
       "\n",
       "    .dataframe tbody tr th {\n",
       "        vertical-align: top;\n",
       "    }\n",
       "\n",
       "    .dataframe thead th {\n",
       "        text-align: right;\n",
       "    }\n",
       "</style>\n",
       "<table border=\"1\" class=\"dataframe\">\n",
       "  <thead>\n",
       "    <tr style=\"text-align: right;\">\n",
       "      <th></th>\n",
       "      <th>bedrooms</th>\n",
       "      <th>bathrooms</th>\n",
       "      <th>name</th>\n",
       "      <th>property_type</th>\n",
       "    </tr>\n",
       "  </thead>\n",
       "  <tbody>\n",
       "    <tr>\n",
       "      <th>9739</th>\n",
       "      <td>1.0</td>\n",
       "      <td>100.5</td>\n",
       "      <td>BEAUTIFUL apartement</td>\n",
       "      <td>Apartment</td>\n",
       "    </tr>\n",
       "  </tbody>\n",
       "</table>\n",
       "</div>"
      ],
      "text/plain": [
       "      bedrooms  bathrooms                  name property_type\n",
       "9739       1.0      100.5  BEAUTIFUL apartement     Apartment"
      ]
     },
     "execution_count": 80,
     "metadata": {},
     "output_type": "execute_result"
    }
   ],
   "source": [
    "#listings with 0 bedrooms appear to be studio apartments or single rooms.\n",
    "#listings wtih a large number of bedrooms appear to be entire hotels. leaving them as is.\n",
    "df_list_details[['bedrooms','bathrooms','name','property_type']].loc[df_list_details['bathrooms']>100]"
   ]
  },
  {
   "cell_type": "code",
   "execution_count": 81,
   "id": "30fd2c17-774d-457c-b1e5-d28e86037ef5",
   "metadata": {},
   "outputs": [],
   "source": [
    "#this can be replaced with NaN\n",
    "df_list_details.loc[df_list_details['bathrooms']==100.5, 'bathrooms'] = np.nan"
   ]
  },
  {
   "cell_type": "code",
   "execution_count": 82,
   "id": "22e55818-6ce4-4c1e-b685-472783135bbd",
   "metadata": {},
   "outputs": [
    {
     "data": {
      "text/plain": [
       "count    20019.000000\n",
       "mean         1.132699\n",
       "std          0.370254\n",
       "min          0.000000\n",
       "25%          1.000000\n",
       "50%          1.000000\n",
       "75%          1.000000\n",
       "max         15.000000\n",
       "Name: bathrooms, dtype: float64"
      ]
     },
     "execution_count": 82,
     "metadata": {},
     "output_type": "execute_result"
    }
   ],
   "source": [
    "df_list_details['bathrooms'].describe()"
   ]
  },
  {
   "cell_type": "markdown",
   "id": "275c152b-4699-477c-b335-cfa2f3ef27d7",
   "metadata": {},
   "source": [
    "#### Drop more unnecessary/irrelevant columns"
   ]
  },
  {
   "cell_type": "code",
   "execution_count": 84,
   "id": "c81775cc-1105-4853-9a40-f1f463d1777d",
   "metadata": {},
   "outputs": [
    {
     "data": {
      "text/plain": [
       "Index(['Unnamed: 0', 'id', 'listing_url', 'name', 'summary', 'space',\n",
       "       'description', 'experiences_offered', 'neighbourhood_overview', 'notes',\n",
       "       'transit', 'access', 'interaction', 'house_rules', 'picture_url',\n",
       "       'host_id', 'host_url', 'host_name', 'host_since', 'host_location',\n",
       "       'host_about', 'host_response_time', 'host_response_rate',\n",
       "       'host_is_superhost', 'host_neighbourhood', 'host_verifications',\n",
       "       'host_identity_verified', 'street', 'neighbourhood', 'city', 'state',\n",
       "       'zipcode', 'country', 'latitude', 'longitude', 'is_location_exact',\n",
       "       'property_type', 'room_type', 'accommodates', 'bathrooms', 'bedrooms',\n",
       "       'beds', 'bed_type', 'amenities', 'square_feet', 'price', 'weekly_price',\n",
       "       'monthly_price', 'security_deposit', 'cleaning_fee', 'guests_included',\n",
       "       'extra_people', 'minimum_nights', 'maximum_nights', 'calendar_updated',\n",
       "       'has_availability', 'availability_365', 'number_of_reviews',\n",
       "       'first_review', 'last_review', 'review_scores_rating',\n",
       "       'review_scores_accuracy', 'review_scores_cleanliness',\n",
       "       'review_scores_checkin', 'review_scores_communication',\n",
       "       'review_scores_location', 'review_scores_value', 'requires_license',\n",
       "       'license', 'jurisdiction_names', 'instant_bookable',\n",
       "       'is_business_travel_ready', 'cancellation_policy',\n",
       "       'require_guest_profile_picture', 'require_guest_phone_verification',\n",
       "       'host_listings_count', 'reviews_per_month'],\n",
       "      dtype='object')"
      ]
     },
     "execution_count": 84,
     "metadata": {},
     "output_type": "execute_result"
    }
   ],
   "source": [
    "df_list_details.columns"
   ]
  },
  {
   "cell_type": "code",
   "execution_count": 85,
   "id": "5f1d3239-055a-4d6f-8f93-c91a245994a7",
   "metadata": {},
   "outputs": [],
   "source": [
    "df_list_details.drop(columns=['Unnamed: 0','host_verifications','security_deposit','cleaning_fee','extra_people','calendar_updated','cancellation_policy'],inplace=True)"
   ]
  },
  {
   "cell_type": "markdown",
   "id": "5fa1e983-d56f-4b37-8bf2-024cb1cbff79",
   "metadata": {},
   "source": [
    "#### Export updated file"
   ]
  },
  {
   "cell_type": "code",
   "execution_count": 87,
   "id": "1abf7b21-4918-4ab4-a635-c48b35ea4f6f",
   "metadata": {},
   "outputs": [],
   "source": [
    "df_list_details.to_csv(os.path.join(path,'listings_details_checked_again.csv'))"
   ]
  }
 ],
 "metadata": {
  "kernelspec": {
   "display_name": "Python 3 (ipykernel)",
   "language": "python",
   "name": "python3"
  },
  "language_info": {
   "codemirror_mode": {
    "name": "ipython",
    "version": 3
   },
   "file_extension": ".py",
   "mimetype": "text/x-python",
   "name": "python",
   "nbconvert_exporter": "python",
   "pygments_lexer": "ipython3",
   "version": "3.12.7"
  }
 },
 "nbformat": 4,
 "nbformat_minor": 5
}
