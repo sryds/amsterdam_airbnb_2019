{
 "cells": [
  {
   "cell_type": "code",
   "execution_count": 1,
   "id": "57ac2d6a-ddbc-46f8-9c59-c7045272078e",
   "metadata": {},
   "outputs": [],
   "source": [
    "import pandas as pd\n",
    "import numpy as np\n",
    "import os"
   ]
  },
  {
   "cell_type": "code",
   "execution_count": 2,
   "id": "1adfcbf3-c601-4bdf-a843-8c8bd31dd020",
   "metadata": {},
   "outputs": [],
   "source": [
    "path = r'C:\\Users\\artoe\\Documents\\DataAnalytics\\Data Immersion\\Exercises\\Achievement 6\\data'"
   ]
  },
  {
   "cell_type": "markdown",
   "id": "734fee32-e169-400b-88b0-fcba4c5cacae",
   "metadata": {},
   "source": [
    "## Listings"
   ]
  },
  {
   "cell_type": "code",
   "execution_count": 4,
   "id": "8759d71d-27ef-4a04-bf7d-f2f52e80c39c",
   "metadata": {},
   "outputs": [],
   "source": [
    "df_listings = pd.read_csv(os.path.join(path, 'listings.csv'), index_col = False)"
   ]
  },
  {
   "cell_type": "code",
   "execution_count": 5,
   "id": "dfd6b08d-fbf3-41ce-bb65-b4d1d09e4b7d",
   "metadata": {},
   "outputs": [
    {
     "data": {
      "text/plain": [
       "(20030, 16)"
      ]
     },
     "execution_count": 5,
     "metadata": {},
     "output_type": "execute_result"
    }
   ],
   "source": [
    "df_listings.shape"
   ]
  },
  {
   "cell_type": "code",
   "execution_count": 6,
   "id": "8a2abb84-5c57-47d4-be67-6f642b23dfec",
   "metadata": {},
   "outputs": [
    {
     "data": {
      "text/plain": [
       "id                                  int64\n",
       "name                               object\n",
       "host_id                             int64\n",
       "host_name                          object\n",
       "neighbourhood_group               float64\n",
       "neighbourhood                      object\n",
       "latitude                          float64\n",
       "longitude                         float64\n",
       "room_type                          object\n",
       "price                               int64\n",
       "minimum_nights                      int64\n",
       "number_of_reviews                   int64\n",
       "last_review                        object\n",
       "reviews_per_month                 float64\n",
       "calculated_host_listings_count      int64\n",
       "availability_365                    int64\n",
       "dtype: object"
      ]
     },
     "execution_count": 6,
     "metadata": {},
     "output_type": "execute_result"
    }
   ],
   "source": [
    "df_listings.dtypes"
   ]
  },
  {
   "cell_type": "code",
   "execution_count": 7,
   "id": "c265cc87-1953-4ee3-a710-bc923344ae8f",
   "metadata": {},
   "outputs": [
    {
     "data": {
      "text/html": [
       "<div>\n",
       "<style scoped>\n",
       "    .dataframe tbody tr th:only-of-type {\n",
       "        vertical-align: middle;\n",
       "    }\n",
       "\n",
       "    .dataframe tbody tr th {\n",
       "        vertical-align: top;\n",
       "    }\n",
       "\n",
       "    .dataframe thead th {\n",
       "        text-align: right;\n",
       "    }\n",
       "</style>\n",
       "<table border=\"1\" class=\"dataframe\">\n",
       "  <thead>\n",
       "    <tr style=\"text-align: right;\">\n",
       "      <th></th>\n",
       "      <th>id</th>\n",
       "      <th>name</th>\n",
       "      <th>host_id</th>\n",
       "      <th>host_name</th>\n",
       "      <th>neighbourhood_group</th>\n",
       "      <th>neighbourhood</th>\n",
       "      <th>latitude</th>\n",
       "      <th>longitude</th>\n",
       "      <th>room_type</th>\n",
       "      <th>price</th>\n",
       "      <th>minimum_nights</th>\n",
       "      <th>number_of_reviews</th>\n",
       "      <th>last_review</th>\n",
       "      <th>reviews_per_month</th>\n",
       "      <th>calculated_host_listings_count</th>\n",
       "      <th>availability_365</th>\n",
       "    </tr>\n",
       "  </thead>\n",
       "  <tbody>\n",
       "    <tr>\n",
       "      <th>0</th>\n",
       "      <td>2818</td>\n",
       "      <td>Quiet Garden View Room &amp; Super Fast WiFi</td>\n",
       "      <td>3159</td>\n",
       "      <td>Daniel</td>\n",
       "      <td>NaN</td>\n",
       "      <td>Oostelijk Havengebied - Indische Buurt</td>\n",
       "      <td>52.365755</td>\n",
       "      <td>4.941419</td>\n",
       "      <td>Private room</td>\n",
       "      <td>59</td>\n",
       "      <td>3</td>\n",
       "      <td>248</td>\n",
       "      <td>2018-11-28</td>\n",
       "      <td>2.10</td>\n",
       "      <td>1</td>\n",
       "      <td>44</td>\n",
       "    </tr>\n",
       "    <tr>\n",
       "      <th>1</th>\n",
       "      <td>3209</td>\n",
       "      <td>Quiet apt near center, great view</td>\n",
       "      <td>3806</td>\n",
       "      <td>Maartje</td>\n",
       "      <td>NaN</td>\n",
       "      <td>Westerpark</td>\n",
       "      <td>52.390225</td>\n",
       "      <td>4.873924</td>\n",
       "      <td>Entire home/apt</td>\n",
       "      <td>160</td>\n",
       "      <td>4</td>\n",
       "      <td>42</td>\n",
       "      <td>2018-08-29</td>\n",
       "      <td>1.03</td>\n",
       "      <td>1</td>\n",
       "      <td>47</td>\n",
       "    </tr>\n",
       "    <tr>\n",
       "      <th>2</th>\n",
       "      <td>20168</td>\n",
       "      <td>100%Centre-Studio 1 Private Floor/Bathroom</td>\n",
       "      <td>59484</td>\n",
       "      <td>Alex</td>\n",
       "      <td>NaN</td>\n",
       "      <td>Centrum-Oost</td>\n",
       "      <td>52.365087</td>\n",
       "      <td>4.893541</td>\n",
       "      <td>Entire home/apt</td>\n",
       "      <td>80</td>\n",
       "      <td>1</td>\n",
       "      <td>233</td>\n",
       "      <td>2018-11-30</td>\n",
       "      <td>2.18</td>\n",
       "      <td>2</td>\n",
       "      <td>198</td>\n",
       "    </tr>\n",
       "    <tr>\n",
       "      <th>3</th>\n",
       "      <td>25428</td>\n",
       "      <td>Lovely apt in City Centre (Jordaan)</td>\n",
       "      <td>56142</td>\n",
       "      <td>Joan</td>\n",
       "      <td>NaN</td>\n",
       "      <td>Centrum-West</td>\n",
       "      <td>52.373114</td>\n",
       "      <td>4.883668</td>\n",
       "      <td>Entire home/apt</td>\n",
       "      <td>125</td>\n",
       "      <td>14</td>\n",
       "      <td>1</td>\n",
       "      <td>2018-01-21</td>\n",
       "      <td>0.09</td>\n",
       "      <td>2</td>\n",
       "      <td>141</td>\n",
       "    </tr>\n",
       "    <tr>\n",
       "      <th>4</th>\n",
       "      <td>27886</td>\n",
       "      <td>Romantic, stylish B&amp;B houseboat in canal district</td>\n",
       "      <td>97647</td>\n",
       "      <td>Flip</td>\n",
       "      <td>NaN</td>\n",
       "      <td>Centrum-West</td>\n",
       "      <td>52.386727</td>\n",
       "      <td>4.892078</td>\n",
       "      <td>Private room</td>\n",
       "      <td>150</td>\n",
       "      <td>2</td>\n",
       "      <td>171</td>\n",
       "      <td>2018-11-25</td>\n",
       "      <td>2.03</td>\n",
       "      <td>1</td>\n",
       "      <td>199</td>\n",
       "    </tr>\n",
       "  </tbody>\n",
       "</table>\n",
       "</div>"
      ],
      "text/plain": [
       "      id                                               name  host_id  \\\n",
       "0   2818           Quiet Garden View Room & Super Fast WiFi     3159   \n",
       "1   3209                  Quiet apt near center, great view     3806   \n",
       "2  20168         100%Centre-Studio 1 Private Floor/Bathroom    59484   \n",
       "3  25428                Lovely apt in City Centre (Jordaan)    56142   \n",
       "4  27886  Romantic, stylish B&B houseboat in canal district    97647   \n",
       "\n",
       "  host_name  neighbourhood_group                           neighbourhood  \\\n",
       "0    Daniel                  NaN  Oostelijk Havengebied - Indische Buurt   \n",
       "1   Maartje                  NaN                              Westerpark   \n",
       "2      Alex                  NaN                            Centrum-Oost   \n",
       "3      Joan                  NaN                            Centrum-West   \n",
       "4      Flip                  NaN                            Centrum-West   \n",
       "\n",
       "    latitude  longitude        room_type  price  minimum_nights  \\\n",
       "0  52.365755   4.941419     Private room     59               3   \n",
       "1  52.390225   4.873924  Entire home/apt    160               4   \n",
       "2  52.365087   4.893541  Entire home/apt     80               1   \n",
       "3  52.373114   4.883668  Entire home/apt    125              14   \n",
       "4  52.386727   4.892078     Private room    150               2   \n",
       "\n",
       "   number_of_reviews last_review  reviews_per_month  \\\n",
       "0                248  2018-11-28               2.10   \n",
       "1                 42  2018-08-29               1.03   \n",
       "2                233  2018-11-30               2.18   \n",
       "3                  1  2018-01-21               0.09   \n",
       "4                171  2018-11-25               2.03   \n",
       "\n",
       "   calculated_host_listings_count  availability_365  \n",
       "0                               1                44  \n",
       "1                               1                47  \n",
       "2                               2               198  \n",
       "3                               2               141  \n",
       "4                               1               199  "
      ]
     },
     "execution_count": 7,
     "metadata": {},
     "output_type": "execute_result"
    }
   ],
   "source": [
    "df_listings.head()"
   ]
  },
  {
   "cell_type": "code",
   "execution_count": 8,
   "id": "25cce16a-cc54-475e-a1f1-5e61aa0a7705",
   "metadata": {},
   "outputs": [
    {
     "data": {
      "text/html": [
       "<div>\n",
       "<style scoped>\n",
       "    .dataframe tbody tr th:only-of-type {\n",
       "        vertical-align: middle;\n",
       "    }\n",
       "\n",
       "    .dataframe tbody tr th {\n",
       "        vertical-align: top;\n",
       "    }\n",
       "\n",
       "    .dataframe thead th {\n",
       "        text-align: right;\n",
       "    }\n",
       "</style>\n",
       "<table border=\"1\" class=\"dataframe\">\n",
       "  <thead>\n",
       "    <tr style=\"text-align: right;\">\n",
       "      <th></th>\n",
       "      <th>id</th>\n",
       "      <th>host_id</th>\n",
       "      <th>neighbourhood_group</th>\n",
       "      <th>latitude</th>\n",
       "      <th>longitude</th>\n",
       "      <th>price</th>\n",
       "      <th>minimum_nights</th>\n",
       "      <th>number_of_reviews</th>\n",
       "      <th>reviews_per_month</th>\n",
       "      <th>calculated_host_listings_count</th>\n",
       "      <th>availability_365</th>\n",
       "    </tr>\n",
       "  </thead>\n",
       "  <tbody>\n",
       "    <tr>\n",
       "      <th>count</th>\n",
       "      <td>2.003000e+04</td>\n",
       "      <td>2.003000e+04</td>\n",
       "      <td>0.0</td>\n",
       "      <td>20030.000000</td>\n",
       "      <td>20030.000000</td>\n",
       "      <td>20030.000000</td>\n",
       "      <td>20030.000000</td>\n",
       "      <td>20030.000000</td>\n",
       "      <td>17624.00000</td>\n",
       "      <td>20030.000000</td>\n",
       "      <td>20030.000000</td>\n",
       "    </tr>\n",
       "    <tr>\n",
       "      <th>mean</th>\n",
       "      <td>1.541725e+07</td>\n",
       "      <td>4.868570e+07</td>\n",
       "      <td>NaN</td>\n",
       "      <td>52.365212</td>\n",
       "      <td>4.888977</td>\n",
       "      <td>152.181178</td>\n",
       "      <td>3.328707</td>\n",
       "      <td>21.560459</td>\n",
       "      <td>1.06208</td>\n",
       "      <td>4.734698</td>\n",
       "      <td>59.913679</td>\n",
       "    </tr>\n",
       "    <tr>\n",
       "      <th>std</th>\n",
       "      <td>8.569404e+06</td>\n",
       "      <td>5.649635e+07</td>\n",
       "      <td>NaN</td>\n",
       "      <td>0.015996</td>\n",
       "      <td>0.035573</td>\n",
       "      <td>145.828976</td>\n",
       "      <td>12.537419</td>\n",
       "      <td>43.240292</td>\n",
       "      <td>1.33332</td>\n",
       "      <td>22.921886</td>\n",
       "      <td>104.027710</td>\n",
       "    </tr>\n",
       "    <tr>\n",
       "      <th>min</th>\n",
       "      <td>2.818000e+03</td>\n",
       "      <td>3.159000e+03</td>\n",
       "      <td>NaN</td>\n",
       "      <td>52.288378</td>\n",
       "      <td>4.753247</td>\n",
       "      <td>0.000000</td>\n",
       "      <td>1.000000</td>\n",
       "      <td>0.000000</td>\n",
       "      <td>0.01000</td>\n",
       "      <td>1.000000</td>\n",
       "      <td>0.000000</td>\n",
       "    </tr>\n",
       "    <tr>\n",
       "      <th>25%</th>\n",
       "      <td>8.188423e+06</td>\n",
       "      <td>8.093516e+06</td>\n",
       "      <td>NaN</td>\n",
       "      <td>52.355126</td>\n",
       "      <td>4.863595</td>\n",
       "      <td>96.000000</td>\n",
       "      <td>2.000000</td>\n",
       "      <td>3.000000</td>\n",
       "      <td>0.27000</td>\n",
       "      <td>1.000000</td>\n",
       "      <td>0.000000</td>\n",
       "    </tr>\n",
       "    <tr>\n",
       "      <th>50%</th>\n",
       "      <td>1.563049e+07</td>\n",
       "      <td>2.369450e+07</td>\n",
       "      <td>NaN</td>\n",
       "      <td>52.364590</td>\n",
       "      <td>4.886387</td>\n",
       "      <td>125.000000</td>\n",
       "      <td>2.000000</td>\n",
       "      <td>8.000000</td>\n",
       "      <td>0.62000</td>\n",
       "      <td>1.000000</td>\n",
       "      <td>3.000000</td>\n",
       "    </tr>\n",
       "    <tr>\n",
       "      <th>75%</th>\n",
       "      <td>2.202577e+07</td>\n",
       "      <td>6.827535e+07</td>\n",
       "      <td>NaN</td>\n",
       "      <td>52.375074</td>\n",
       "      <td>4.908288</td>\n",
       "      <td>175.000000</td>\n",
       "      <td>3.000000</td>\n",
       "      <td>22.000000</td>\n",
       "      <td>1.23000</td>\n",
       "      <td>1.000000</td>\n",
       "      <td>67.000000</td>\n",
       "    </tr>\n",
       "    <tr>\n",
       "      <th>max</th>\n",
       "      <td>3.058041e+07</td>\n",
       "      <td>2.293612e+08</td>\n",
       "      <td>NaN</td>\n",
       "      <td>52.424713</td>\n",
       "      <td>5.027689</td>\n",
       "      <td>8500.000000</td>\n",
       "      <td>1001.000000</td>\n",
       "      <td>695.000000</td>\n",
       "      <td>11.85000</td>\n",
       "      <td>208.000000</td>\n",
       "      <td>365.000000</td>\n",
       "    </tr>\n",
       "  </tbody>\n",
       "</table>\n",
       "</div>"
      ],
      "text/plain": [
       "                 id       host_id  neighbourhood_group      latitude  \\\n",
       "count  2.003000e+04  2.003000e+04                  0.0  20030.000000   \n",
       "mean   1.541725e+07  4.868570e+07                  NaN     52.365212   \n",
       "std    8.569404e+06  5.649635e+07                  NaN      0.015996   \n",
       "min    2.818000e+03  3.159000e+03                  NaN     52.288378   \n",
       "25%    8.188423e+06  8.093516e+06                  NaN     52.355126   \n",
       "50%    1.563049e+07  2.369450e+07                  NaN     52.364590   \n",
       "75%    2.202577e+07  6.827535e+07                  NaN     52.375074   \n",
       "max    3.058041e+07  2.293612e+08                  NaN     52.424713   \n",
       "\n",
       "          longitude         price  minimum_nights  number_of_reviews  \\\n",
       "count  20030.000000  20030.000000    20030.000000       20030.000000   \n",
       "mean       4.888977    152.181178        3.328707          21.560459   \n",
       "std        0.035573    145.828976       12.537419          43.240292   \n",
       "min        4.753247      0.000000        1.000000           0.000000   \n",
       "25%        4.863595     96.000000        2.000000           3.000000   \n",
       "50%        4.886387    125.000000        2.000000           8.000000   \n",
       "75%        4.908288    175.000000        3.000000          22.000000   \n",
       "max        5.027689   8500.000000     1001.000000         695.000000   \n",
       "\n",
       "       reviews_per_month  calculated_host_listings_count  availability_365  \n",
       "count        17624.00000                    20030.000000      20030.000000  \n",
       "mean             1.06208                        4.734698         59.913679  \n",
       "std              1.33332                       22.921886        104.027710  \n",
       "min              0.01000                        1.000000          0.000000  \n",
       "25%              0.27000                        1.000000          0.000000  \n",
       "50%              0.62000                        1.000000          3.000000  \n",
       "75%              1.23000                        1.000000         67.000000  \n",
       "max             11.85000                      208.000000        365.000000  "
      ]
     },
     "execution_count": 8,
     "metadata": {},
     "output_type": "execute_result"
    }
   ],
   "source": [
    "df_listings.describe()"
   ]
  },
  {
   "cell_type": "markdown",
   "id": "726e9669-89c5-4c04-97d2-719be832e266",
   "metadata": {},
   "source": [
    "### Addressing null values"
   ]
  },
  {
   "cell_type": "code",
   "execution_count": 10,
   "id": "a0ac48d0-066b-4818-a3f3-02c941488168",
   "metadata": {},
   "outputs": [
    {
     "data": {
      "text/plain": [
       "id                                    0\n",
       "name                                 38\n",
       "host_id                               0\n",
       "host_name                             4\n",
       "neighbourhood_group               20030\n",
       "neighbourhood                         0\n",
       "latitude                              0\n",
       "longitude                             0\n",
       "room_type                             0\n",
       "price                                 0\n",
       "minimum_nights                        0\n",
       "number_of_reviews                     0\n",
       "last_review                        2406\n",
       "reviews_per_month                  2406\n",
       "calculated_host_listings_count        0\n",
       "availability_365                      0\n",
       "dtype: int64"
      ]
     },
     "execution_count": 10,
     "metadata": {},
     "output_type": "execute_result"
    }
   ],
   "source": [
    "df_listings.isnull().sum()"
   ]
  },
  {
   "cell_type": "code",
   "execution_count": 11,
   "id": "3e26cdee-4829-4bbe-90ca-833b95650619",
   "metadata": {},
   "outputs": [],
   "source": [
    "#neighbourhood_group column appears to be completely empty, therefore, can be dropped."
   ]
  },
  {
   "cell_type": "code",
   "execution_count": 12,
   "id": "a9257045-1cbe-408e-bdc5-abf19ba965e3",
   "metadata": {},
   "outputs": [],
   "source": [
    "df_listings.drop(columns=['neighbourhood_group'], inplace=True)"
   ]
  },
  {
   "cell_type": "code",
   "execution_count": 13,
   "id": "cdf73217-22bf-40b8-8aa3-4e562755d9e5",
   "metadata": {},
   "outputs": [
    {
     "data": {
      "text/plain": [
       "id                                  int64\n",
       "name                               object\n",
       "host_id                             int64\n",
       "host_name                          object\n",
       "neighbourhood                      object\n",
       "latitude                          float64\n",
       "longitude                         float64\n",
       "room_type                          object\n",
       "price                               int64\n",
       "minimum_nights                      int64\n",
       "number_of_reviews                   int64\n",
       "last_review                        object\n",
       "reviews_per_month                 float64\n",
       "calculated_host_listings_count      int64\n",
       "availability_365                    int64\n",
       "dtype: object"
      ]
     },
     "execution_count": 13,
     "metadata": {},
     "output_type": "execute_result"
    }
   ],
   "source": [
    "df_listings.dtypes"
   ]
  },
  {
   "cell_type": "markdown",
   "id": "7ce6fdd9-7e00-4f1d-a632-7a2cc0d06cbe",
   "metadata": {},
   "source": [
    "#### Addressing the null values in reviews_per_month"
   ]
  },
  {
   "cell_type": "code",
   "execution_count": 15,
   "id": "d62d022e-cb5d-41d9-89da-bc938dba5e0d",
   "metadata": {},
   "outputs": [],
   "source": [
    "df_reviews_nan = df_listings[df_listings['reviews_per_month'].isnull() == True]"
   ]
  },
  {
   "cell_type": "code",
   "execution_count": 16,
   "id": "25b079cd-c0d3-47df-b444-257d536c4d44",
   "metadata": {},
   "outputs": [
    {
     "data": {
      "text/plain": [
       "id                                   0\n",
       "name                                11\n",
       "host_id                              0\n",
       "host_name                            1\n",
       "neighbourhood                        0\n",
       "latitude                             0\n",
       "longitude                            0\n",
       "room_type                            0\n",
       "price                                0\n",
       "minimum_nights                       0\n",
       "number_of_reviews                    0\n",
       "last_review                       2406\n",
       "reviews_per_month                 2406\n",
       "calculated_host_listings_count       0\n",
       "availability_365                     0\n",
       "dtype: int64"
      ]
     },
     "execution_count": 16,
     "metadata": {},
     "output_type": "execute_result"
    }
   ],
   "source": [
    "df_reviews_nan.isnull().sum()\n",
    "#rows with null values for reviews_per_month also have nulls for last_review"
   ]
  },
  {
   "cell_type": "code",
   "execution_count": 17,
   "id": "773385a6-4b4e-4ec7-8fe1-4b88621233ad",
   "metadata": {},
   "outputs": [
    {
     "data": {
      "text/html": [
       "<div>\n",
       "<style scoped>\n",
       "    .dataframe tbody tr th:only-of-type {\n",
       "        vertical-align: middle;\n",
       "    }\n",
       "\n",
       "    .dataframe tbody tr th {\n",
       "        vertical-align: top;\n",
       "    }\n",
       "\n",
       "    .dataframe thead th {\n",
       "        text-align: right;\n",
       "    }\n",
       "</style>\n",
       "<table border=\"1\" class=\"dataframe\">\n",
       "  <thead>\n",
       "    <tr style=\"text-align: right;\">\n",
       "      <th></th>\n",
       "      <th>id</th>\n",
       "      <th>name</th>\n",
       "      <th>host_id</th>\n",
       "      <th>host_name</th>\n",
       "      <th>neighbourhood</th>\n",
       "      <th>latitude</th>\n",
       "      <th>longitude</th>\n",
       "      <th>room_type</th>\n",
       "      <th>price</th>\n",
       "      <th>minimum_nights</th>\n",
       "      <th>number_of_reviews</th>\n",
       "      <th>last_review</th>\n",
       "      <th>reviews_per_month</th>\n",
       "      <th>calculated_host_listings_count</th>\n",
       "      <th>availability_365</th>\n",
       "    </tr>\n",
       "  </thead>\n",
       "  <tbody>\n",
       "    <tr>\n",
       "      <th>37</th>\n",
       "      <td>62801</td>\n",
       "      <td>Very nice appartment ALL of januari</td>\n",
       "      <td>306117</td>\n",
       "      <td>Jan</td>\n",
       "      <td>Bos en Lommer</td>\n",
       "      <td>52.384587</td>\n",
       "      <td>4.854627</td>\n",
       "      <td>Entire home/apt</td>\n",
       "      <td>750</td>\n",
       "      <td>30</td>\n",
       "      <td>0</td>\n",
       "      <td>NaN</td>\n",
       "      <td>NaN</td>\n",
       "      <td>1</td>\n",
       "      <td>364</td>\n",
       "    </tr>\n",
       "    <tr>\n",
       "      <th>229</th>\n",
       "      <td>432610</td>\n",
       "      <td>Big apartment with great sunshine!</td>\n",
       "      <td>1725242</td>\n",
       "      <td>Tolga</td>\n",
       "      <td>De Pijp - Rivierenbuurt</td>\n",
       "      <td>52.347757</td>\n",
       "      <td>4.906169</td>\n",
       "      <td>Entire home/apt</td>\n",
       "      <td>99</td>\n",
       "      <td>1</td>\n",
       "      <td>0</td>\n",
       "      <td>NaN</td>\n",
       "      <td>NaN</td>\n",
       "      <td>3</td>\n",
       "      <td>98</td>\n",
       "    </tr>\n",
       "    <tr>\n",
       "      <th>279</th>\n",
       "      <td>517092</td>\n",
       "      <td>4 bedroom apartment near the park</td>\n",
       "      <td>2041793</td>\n",
       "      <td>Bas</td>\n",
       "      <td>De Baarsjes - Oud-West</td>\n",
       "      <td>52.361380</td>\n",
       "      <td>4.855451</td>\n",
       "      <td>Entire home/apt</td>\n",
       "      <td>135</td>\n",
       "      <td>6</td>\n",
       "      <td>0</td>\n",
       "      <td>NaN</td>\n",
       "      <td>NaN</td>\n",
       "      <td>1</td>\n",
       "      <td>0</td>\n",
       "    </tr>\n",
       "    <tr>\n",
       "      <th>368</th>\n",
       "      <td>626872</td>\n",
       "      <td>Beautiful Apartment Amsterdam</td>\n",
       "      <td>3111814</td>\n",
       "      <td>Daniel</td>\n",
       "      <td>Westerpark</td>\n",
       "      <td>52.376252</td>\n",
       "      <td>4.875192</td>\n",
       "      <td>Entire home/apt</td>\n",
       "      <td>150</td>\n",
       "      <td>6</td>\n",
       "      <td>0</td>\n",
       "      <td>NaN</td>\n",
       "      <td>NaN</td>\n",
       "      <td>1</td>\n",
       "      <td>0</td>\n",
       "    </tr>\n",
       "    <tr>\n",
       "      <th>415</th>\n",
       "      <td>665250</td>\n",
       "      <td>Artists house with two gardens.</td>\n",
       "      <td>3361425</td>\n",
       "      <td>Marcus</td>\n",
       "      <td>De Pijp - Rivierenbuurt</td>\n",
       "      <td>52.351075</td>\n",
       "      <td>4.898818</td>\n",
       "      <td>Entire home/apt</td>\n",
       "      <td>139</td>\n",
       "      <td>14</td>\n",
       "      <td>0</td>\n",
       "      <td>NaN</td>\n",
       "      <td>NaN</td>\n",
       "      <td>1</td>\n",
       "      <td>0</td>\n",
       "    </tr>\n",
       "  </tbody>\n",
       "</table>\n",
       "</div>"
      ],
      "text/plain": [
       "         id                                 name  host_id host_name  \\\n",
       "37    62801  Very nice appartment ALL of januari   306117       Jan   \n",
       "229  432610   Big apartment with great sunshine!  1725242     Tolga   \n",
       "279  517092    4 bedroom apartment near the park  2041793       Bas   \n",
       "368  626872        Beautiful Apartment Amsterdam  3111814    Daniel   \n",
       "415  665250      Artists house with two gardens.  3361425    Marcus   \n",
       "\n",
       "               neighbourhood   latitude  longitude        room_type  price  \\\n",
       "37             Bos en Lommer  52.384587   4.854627  Entire home/apt    750   \n",
       "229  De Pijp - Rivierenbuurt  52.347757   4.906169  Entire home/apt     99   \n",
       "279   De Baarsjes - Oud-West  52.361380   4.855451  Entire home/apt    135   \n",
       "368               Westerpark  52.376252   4.875192  Entire home/apt    150   \n",
       "415  De Pijp - Rivierenbuurt  52.351075   4.898818  Entire home/apt    139   \n",
       "\n",
       "     minimum_nights  number_of_reviews last_review  reviews_per_month  \\\n",
       "37               30                  0         NaN                NaN   \n",
       "229               1                  0         NaN                NaN   \n",
       "279               6                  0         NaN                NaN   \n",
       "368               6                  0         NaN                NaN   \n",
       "415              14                  0         NaN                NaN   \n",
       "\n",
       "     calculated_host_listings_count  availability_365  \n",
       "37                                1               364  \n",
       "229                               3                98  \n",
       "279                               1                 0  \n",
       "368                               1                 0  \n",
       "415                               1                 0  "
      ]
     },
     "execution_count": 17,
     "metadata": {},
     "output_type": "execute_result"
    }
   ],
   "source": [
    "df_reviews_nan.head()"
   ]
  },
  {
   "cell_type": "code",
   "execution_count": 18,
   "id": "c0534a81-3241-4367-b6be-fe67029c5dca",
   "metadata": {},
   "outputs": [
    {
     "data": {
      "text/html": [
       "<div>\n",
       "<style scoped>\n",
       "    .dataframe tbody tr th:only-of-type {\n",
       "        vertical-align: middle;\n",
       "    }\n",
       "\n",
       "    .dataframe tbody tr th {\n",
       "        vertical-align: top;\n",
       "    }\n",
       "\n",
       "    .dataframe thead th {\n",
       "        text-align: right;\n",
       "    }\n",
       "</style>\n",
       "<table border=\"1\" class=\"dataframe\">\n",
       "  <thead>\n",
       "    <tr style=\"text-align: right;\">\n",
       "      <th></th>\n",
       "      <th>id</th>\n",
       "      <th>host_id</th>\n",
       "      <th>latitude</th>\n",
       "      <th>longitude</th>\n",
       "      <th>price</th>\n",
       "      <th>minimum_nights</th>\n",
       "      <th>number_of_reviews</th>\n",
       "      <th>reviews_per_month</th>\n",
       "      <th>calculated_host_listings_count</th>\n",
       "      <th>availability_365</th>\n",
       "    </tr>\n",
       "  </thead>\n",
       "  <tbody>\n",
       "    <tr>\n",
       "      <th>count</th>\n",
       "      <td>2.406000e+03</td>\n",
       "      <td>2.406000e+03</td>\n",
       "      <td>2406.000000</td>\n",
       "      <td>2406.000000</td>\n",
       "      <td>2406.000000</td>\n",
       "      <td>2406.000000</td>\n",
       "      <td>2406.000000</td>\n",
       "      <td>0.0</td>\n",
       "      <td>2406.000000</td>\n",
       "      <td>2406.000000</td>\n",
       "    </tr>\n",
       "    <tr>\n",
       "      <th>mean</th>\n",
       "      <td>2.100760e+07</td>\n",
       "      <td>6.852167e+07</td>\n",
       "      <td>52.364123</td>\n",
       "      <td>4.889683</td>\n",
       "      <td>177.886534</td>\n",
       "      <td>4.469659</td>\n",
       "      <td>0.014963</td>\n",
       "      <td>NaN</td>\n",
       "      <td>7.620532</td>\n",
       "      <td>64.634663</td>\n",
       "    </tr>\n",
       "    <tr>\n",
       "      <th>std</th>\n",
       "      <td>8.634190e+06</td>\n",
       "      <td>7.086501e+07</td>\n",
       "      <td>0.016918</td>\n",
       "      <td>0.037811</td>\n",
       "      <td>192.936388</td>\n",
       "      <td>13.306108</td>\n",
       "      <td>0.279189</td>\n",
       "      <td>NaN</td>\n",
       "      <td>28.004637</td>\n",
       "      <td>114.305656</td>\n",
       "    </tr>\n",
       "    <tr>\n",
       "      <th>min</th>\n",
       "      <td>6.280100e+04</td>\n",
       "      <td>5.614200e+04</td>\n",
       "      <td>52.288378</td>\n",
       "      <td>4.753247</td>\n",
       "      <td>14.000000</td>\n",
       "      <td>1.000000</td>\n",
       "      <td>0.000000</td>\n",
       "      <td>NaN</td>\n",
       "      <td>1.000000</td>\n",
       "      <td>0.000000</td>\n",
       "    </tr>\n",
       "    <tr>\n",
       "      <th>25%</th>\n",
       "      <td>1.368154e+07</td>\n",
       "      <td>1.275931e+07</td>\n",
       "      <td>52.353541</td>\n",
       "      <td>4.862134</td>\n",
       "      <td>97.250000</td>\n",
       "      <td>2.000000</td>\n",
       "      <td>0.000000</td>\n",
       "      <td>NaN</td>\n",
       "      <td>1.000000</td>\n",
       "      <td>0.000000</td>\n",
       "    </tr>\n",
       "    <tr>\n",
       "      <th>50%</th>\n",
       "      <td>2.219559e+07</td>\n",
       "      <td>4.148584e+07</td>\n",
       "      <td>52.363259</td>\n",
       "      <td>4.887475</td>\n",
       "      <td>139.000000</td>\n",
       "      <td>2.000000</td>\n",
       "      <td>0.000000</td>\n",
       "      <td>NaN</td>\n",
       "      <td>1.000000</td>\n",
       "      <td>0.000000</td>\n",
       "    </tr>\n",
       "    <tr>\n",
       "      <th>75%</th>\n",
       "      <td>2.949292e+07</td>\n",
       "      <td>1.041608e+08</td>\n",
       "      <td>52.374655</td>\n",
       "      <td>4.909148</td>\n",
       "      <td>200.000000</td>\n",
       "      <td>4.000000</td>\n",
       "      <td>0.000000</td>\n",
       "      <td>NaN</td>\n",
       "      <td>2.000000</td>\n",
       "      <td>65.000000</td>\n",
       "    </tr>\n",
       "    <tr>\n",
       "      <th>max</th>\n",
       "      <td>3.058041e+07</td>\n",
       "      <td>2.293612e+08</td>\n",
       "      <td>52.423242</td>\n",
       "      <td>5.012549</td>\n",
       "      <td>5000.000000</td>\n",
       "      <td>365.000000</td>\n",
       "      <td>12.000000</td>\n",
       "      <td>NaN</td>\n",
       "      <td>208.000000</td>\n",
       "      <td>365.000000</td>\n",
       "    </tr>\n",
       "  </tbody>\n",
       "</table>\n",
       "</div>"
      ],
      "text/plain": [
       "                 id       host_id     latitude    longitude        price  \\\n",
       "count  2.406000e+03  2.406000e+03  2406.000000  2406.000000  2406.000000   \n",
       "mean   2.100760e+07  6.852167e+07    52.364123     4.889683   177.886534   \n",
       "std    8.634190e+06  7.086501e+07     0.016918     0.037811   192.936388   \n",
       "min    6.280100e+04  5.614200e+04    52.288378     4.753247    14.000000   \n",
       "25%    1.368154e+07  1.275931e+07    52.353541     4.862134    97.250000   \n",
       "50%    2.219559e+07  4.148584e+07    52.363259     4.887475   139.000000   \n",
       "75%    2.949292e+07  1.041608e+08    52.374655     4.909148   200.000000   \n",
       "max    3.058041e+07  2.293612e+08    52.423242     5.012549  5000.000000   \n",
       "\n",
       "       minimum_nights  number_of_reviews  reviews_per_month  \\\n",
       "count     2406.000000        2406.000000                0.0   \n",
       "mean         4.469659           0.014963                NaN   \n",
       "std         13.306108           0.279189                NaN   \n",
       "min          1.000000           0.000000                NaN   \n",
       "25%          2.000000           0.000000                NaN   \n",
       "50%          2.000000           0.000000                NaN   \n",
       "75%          4.000000           0.000000                NaN   \n",
       "max        365.000000          12.000000                NaN   \n",
       "\n",
       "       calculated_host_listings_count  availability_365  \n",
       "count                     2406.000000       2406.000000  \n",
       "mean                         7.620532         64.634663  \n",
       "std                         28.004637        114.305656  \n",
       "min                          1.000000          0.000000  \n",
       "25%                          1.000000          0.000000  \n",
       "50%                          1.000000          0.000000  \n",
       "75%                          2.000000         65.000000  \n",
       "max                        208.000000        365.000000  "
      ]
     },
     "execution_count": 18,
     "metadata": {},
     "output_type": "execute_result"
    }
   ],
   "source": [
    "df_reviews_nan.describe()"
   ]
  },
  {
   "cell_type": "code",
   "execution_count": 19,
   "id": "d6641e9a-6ef6-4dfa-9e00-fe00327e6421",
   "metadata": {},
   "outputs": [],
   "source": [
    "#there are listings with maximum 12 reviews that are null in reviews_per_month. \n",
    "df_reviews_missing = df_reviews_nan[df_reviews_nan['number_of_reviews'] > 0]"
   ]
  },
  {
   "cell_type": "code",
   "execution_count": 20,
   "id": "46c50316-1c79-4af5-bca0-2a0e9f666b82",
   "metadata": {},
   "outputs": [
    {
     "data": {
      "text/plain": [
       "(18, 15)"
      ]
     },
     "execution_count": 20,
     "metadata": {},
     "output_type": "execute_result"
    }
   ],
   "source": [
    "df_reviews_missing.shape"
   ]
  },
  {
   "cell_type": "code",
   "execution_count": 21,
   "id": "034f34ec-a847-4f66-8d2f-9e2bd671d39c",
   "metadata": {},
   "outputs": [
    {
     "data": {
      "text/html": [
       "<div>\n",
       "<style scoped>\n",
       "    .dataframe tbody tr th:only-of-type {\n",
       "        vertical-align: middle;\n",
       "    }\n",
       "\n",
       "    .dataframe tbody tr th {\n",
       "        vertical-align: top;\n",
       "    }\n",
       "\n",
       "    .dataframe thead th {\n",
       "        text-align: right;\n",
       "    }\n",
       "</style>\n",
       "<table border=\"1\" class=\"dataframe\">\n",
       "  <thead>\n",
       "    <tr style=\"text-align: right;\">\n",
       "      <th></th>\n",
       "      <th>id</th>\n",
       "      <th>host_id</th>\n",
       "      <th>latitude</th>\n",
       "      <th>longitude</th>\n",
       "      <th>price</th>\n",
       "      <th>minimum_nights</th>\n",
       "      <th>number_of_reviews</th>\n",
       "      <th>reviews_per_month</th>\n",
       "      <th>calculated_host_listings_count</th>\n",
       "      <th>availability_365</th>\n",
       "    </tr>\n",
       "  </thead>\n",
       "  <tbody>\n",
       "    <tr>\n",
       "      <th>count</th>\n",
       "      <td>1.800000e+01</td>\n",
       "      <td>1.800000e+01</td>\n",
       "      <td>18.000000</td>\n",
       "      <td>18.000000</td>\n",
       "      <td>18.000000</td>\n",
       "      <td>18.000000</td>\n",
       "      <td>18.000000</td>\n",
       "      <td>0.0</td>\n",
       "      <td>18.000000</td>\n",
       "      <td>18.000000</td>\n",
       "    </tr>\n",
       "    <tr>\n",
       "      <th>mean</th>\n",
       "      <td>2.707652e+07</td>\n",
       "      <td>7.861742e+07</td>\n",
       "      <td>52.366289</td>\n",
       "      <td>4.888964</td>\n",
       "      <td>142.444444</td>\n",
       "      <td>3.222222</td>\n",
       "      <td>2.000000</td>\n",
       "      <td>NaN</td>\n",
       "      <td>1.111111</td>\n",
       "      <td>44.555556</td>\n",
       "    </tr>\n",
       "    <tr>\n",
       "      <th>std</th>\n",
       "      <td>5.639293e+06</td>\n",
       "      <td>7.858370e+07</td>\n",
       "      <td>0.014124</td>\n",
       "      <td>0.049474</td>\n",
       "      <td>68.319511</td>\n",
       "      <td>3.135294</td>\n",
       "      <td>2.612189</td>\n",
       "      <td>NaN</td>\n",
       "      <td>0.323381</td>\n",
       "      <td>87.281305</td>\n",
       "    </tr>\n",
       "    <tr>\n",
       "      <th>min</th>\n",
       "      <td>1.252411e+07</td>\n",
       "      <td>4.155386e+06</td>\n",
       "      <td>52.346433</td>\n",
       "      <td>4.798775</td>\n",
       "      <td>45.000000</td>\n",
       "      <td>1.000000</td>\n",
       "      <td>1.000000</td>\n",
       "      <td>NaN</td>\n",
       "      <td>1.000000</td>\n",
       "      <td>0.000000</td>\n",
       "    </tr>\n",
       "    <tr>\n",
       "      <th>25%</th>\n",
       "      <td>2.564564e+07</td>\n",
       "      <td>1.402916e+07</td>\n",
       "      <td>52.353416</td>\n",
       "      <td>4.852599</td>\n",
       "      <td>102.500000</td>\n",
       "      <td>2.000000</td>\n",
       "      <td>1.000000</td>\n",
       "      <td>NaN</td>\n",
       "      <td>1.000000</td>\n",
       "      <td>4.750000</td>\n",
       "    </tr>\n",
       "    <tr>\n",
       "      <th>50%</th>\n",
       "      <td>3.000833e+07</td>\n",
       "      <td>4.072008e+07</td>\n",
       "      <td>52.366069</td>\n",
       "      <td>4.888882</td>\n",
       "      <td>135.000000</td>\n",
       "      <td>2.000000</td>\n",
       "      <td>1.000000</td>\n",
       "      <td>NaN</td>\n",
       "      <td>1.000000</td>\n",
       "      <td>16.500000</td>\n",
       "    </tr>\n",
       "    <tr>\n",
       "      <th>75%</th>\n",
       "      <td>3.029351e+07</td>\n",
       "      <td>1.629136e+08</td>\n",
       "      <td>52.376841</td>\n",
       "      <td>4.919793</td>\n",
       "      <td>168.750000</td>\n",
       "      <td>3.000000</td>\n",
       "      <td>1.750000</td>\n",
       "      <td>NaN</td>\n",
       "      <td>1.000000</td>\n",
       "      <td>25.750000</td>\n",
       "    </tr>\n",
       "    <tr>\n",
       "      <th>max</th>\n",
       "      <td>3.045843e+07</td>\n",
       "      <td>2.097913e+08</td>\n",
       "      <td>52.395584</td>\n",
       "      <td>5.011350</td>\n",
       "      <td>300.000000</td>\n",
       "      <td>15.000000</td>\n",
       "      <td>12.000000</td>\n",
       "      <td>NaN</td>\n",
       "      <td>2.000000</td>\n",
       "      <td>291.000000</td>\n",
       "    </tr>\n",
       "  </tbody>\n",
       "</table>\n",
       "</div>"
      ],
      "text/plain": [
       "                 id       host_id   latitude  longitude       price  \\\n",
       "count  1.800000e+01  1.800000e+01  18.000000  18.000000   18.000000   \n",
       "mean   2.707652e+07  7.861742e+07  52.366289   4.888964  142.444444   \n",
       "std    5.639293e+06  7.858370e+07   0.014124   0.049474   68.319511   \n",
       "min    1.252411e+07  4.155386e+06  52.346433   4.798775   45.000000   \n",
       "25%    2.564564e+07  1.402916e+07  52.353416   4.852599  102.500000   \n",
       "50%    3.000833e+07  4.072008e+07  52.366069   4.888882  135.000000   \n",
       "75%    3.029351e+07  1.629136e+08  52.376841   4.919793  168.750000   \n",
       "max    3.045843e+07  2.097913e+08  52.395584   5.011350  300.000000   \n",
       "\n",
       "       minimum_nights  number_of_reviews  reviews_per_month  \\\n",
       "count       18.000000          18.000000                0.0   \n",
       "mean         3.222222           2.000000                NaN   \n",
       "std          3.135294           2.612189                NaN   \n",
       "min          1.000000           1.000000                NaN   \n",
       "25%          2.000000           1.000000                NaN   \n",
       "50%          2.000000           1.000000                NaN   \n",
       "75%          3.000000           1.750000                NaN   \n",
       "max         15.000000          12.000000                NaN   \n",
       "\n",
       "       calculated_host_listings_count  availability_365  \n",
       "count                       18.000000         18.000000  \n",
       "mean                         1.111111         44.555556  \n",
       "std                          0.323381         87.281305  \n",
       "min                          1.000000          0.000000  \n",
       "25%                          1.000000          4.750000  \n",
       "50%                          1.000000         16.500000  \n",
       "75%                          1.000000         25.750000  \n",
       "max                          2.000000        291.000000  "
      ]
     },
     "execution_count": 21,
     "metadata": {},
     "output_type": "execute_result"
    }
   ],
   "source": [
    "df_reviews_missing.describe()"
   ]
  },
  {
   "cell_type": "code",
   "execution_count": 22,
   "id": "803479a6-f744-409c-81d7-212cb20ba990",
   "metadata": {},
   "outputs": [
    {
     "data": {
      "text/plain": [
       "number_of_reviews\n",
       "1     13\n",
       "3      3\n",
       "12     1\n",
       "2      1\n",
       "Name: count, dtype: int64"
      ]
     },
     "execution_count": 22,
     "metadata": {},
     "output_type": "execute_result"
    }
   ],
   "source": [
    "df_reviews_missing['number_of_reviews'].value_counts()"
   ]
  },
  {
   "cell_type": "markdown",
   "id": "0c9e5908-6c91-4c56-a4b2-818982ecf88d",
   "metadata": {},
   "source": [
    "out of the 18 rows with null values for last_review and reviews_per_month and values over 0 for number_of_reviews, 13 of them had 1 review, 3 had 3 reviews, one had 12 and one had 2."
   ]
  },
  {
   "cell_type": "markdown",
   "id": "65e736da-9bb2-45cb-b71f-f8b9d95cc768",
   "metadata": {},
   "source": [
    "since we do not know the reason for these null values, nor do we know the best way to address them, we can create a flag column to later identify them"
   ]
  },
  {
   "cell_type": "code",
   "execution_count": 25,
   "id": "7ee94ec1-d9aa-4ddb-98ac-a3976a737272",
   "metadata": {},
   "outputs": [],
   "source": [
    "df_listings.loc[(df_listings['number_of_reviews'] > 0) & (df_listings['last_review'].isnull()) & (df_listings['reviews_per_month'].isnull()), 'reviews_nulls'] = 'check_reviews'"
   ]
  },
  {
   "cell_type": "code",
   "execution_count": 26,
   "id": "3412bc0f-c94f-4a30-ac0b-f3cfa55da43e",
   "metadata": {},
   "outputs": [
    {
     "data": {
      "text/html": [
       "<div>\n",
       "<style scoped>\n",
       "    .dataframe tbody tr th:only-of-type {\n",
       "        vertical-align: middle;\n",
       "    }\n",
       "\n",
       "    .dataframe tbody tr th {\n",
       "        vertical-align: top;\n",
       "    }\n",
       "\n",
       "    .dataframe thead th {\n",
       "        text-align: right;\n",
       "    }\n",
       "</style>\n",
       "<table border=\"1\" class=\"dataframe\">\n",
       "  <thead>\n",
       "    <tr style=\"text-align: right;\">\n",
       "      <th></th>\n",
       "      <th>id</th>\n",
       "      <th>name</th>\n",
       "      <th>host_id</th>\n",
       "      <th>host_name</th>\n",
       "      <th>neighbourhood</th>\n",
       "      <th>latitude</th>\n",
       "      <th>longitude</th>\n",
       "      <th>room_type</th>\n",
       "      <th>price</th>\n",
       "      <th>minimum_nights</th>\n",
       "      <th>number_of_reviews</th>\n",
       "      <th>last_review</th>\n",
       "      <th>reviews_per_month</th>\n",
       "      <th>calculated_host_listings_count</th>\n",
       "      <th>availability_365</th>\n",
       "      <th>reviews_nulls</th>\n",
       "    </tr>\n",
       "  </thead>\n",
       "  <tbody>\n",
       "    <tr>\n",
       "      <th>0</th>\n",
       "      <td>2818</td>\n",
       "      <td>Quiet Garden View Room &amp; Super Fast WiFi</td>\n",
       "      <td>3159</td>\n",
       "      <td>Daniel</td>\n",
       "      <td>Oostelijk Havengebied - Indische Buurt</td>\n",
       "      <td>52.365755</td>\n",
       "      <td>4.941419</td>\n",
       "      <td>Private room</td>\n",
       "      <td>59</td>\n",
       "      <td>3</td>\n",
       "      <td>248</td>\n",
       "      <td>2018-11-28</td>\n",
       "      <td>2.10</td>\n",
       "      <td>1</td>\n",
       "      <td>44</td>\n",
       "      <td>NaN</td>\n",
       "    </tr>\n",
       "    <tr>\n",
       "      <th>1</th>\n",
       "      <td>3209</td>\n",
       "      <td>Quiet apt near center, great view</td>\n",
       "      <td>3806</td>\n",
       "      <td>Maartje</td>\n",
       "      <td>Westerpark</td>\n",
       "      <td>52.390225</td>\n",
       "      <td>4.873924</td>\n",
       "      <td>Entire home/apt</td>\n",
       "      <td>160</td>\n",
       "      <td>4</td>\n",
       "      <td>42</td>\n",
       "      <td>2018-08-29</td>\n",
       "      <td>1.03</td>\n",
       "      <td>1</td>\n",
       "      <td>47</td>\n",
       "      <td>NaN</td>\n",
       "    </tr>\n",
       "    <tr>\n",
       "      <th>2</th>\n",
       "      <td>20168</td>\n",
       "      <td>100%Centre-Studio 1 Private Floor/Bathroom</td>\n",
       "      <td>59484</td>\n",
       "      <td>Alex</td>\n",
       "      <td>Centrum-Oost</td>\n",
       "      <td>52.365087</td>\n",
       "      <td>4.893541</td>\n",
       "      <td>Entire home/apt</td>\n",
       "      <td>80</td>\n",
       "      <td>1</td>\n",
       "      <td>233</td>\n",
       "      <td>2018-11-30</td>\n",
       "      <td>2.18</td>\n",
       "      <td>2</td>\n",
       "      <td>198</td>\n",
       "      <td>NaN</td>\n",
       "    </tr>\n",
       "    <tr>\n",
       "      <th>3</th>\n",
       "      <td>25428</td>\n",
       "      <td>Lovely apt in City Centre (Jordaan)</td>\n",
       "      <td>56142</td>\n",
       "      <td>Joan</td>\n",
       "      <td>Centrum-West</td>\n",
       "      <td>52.373114</td>\n",
       "      <td>4.883668</td>\n",
       "      <td>Entire home/apt</td>\n",
       "      <td>125</td>\n",
       "      <td>14</td>\n",
       "      <td>1</td>\n",
       "      <td>2018-01-21</td>\n",
       "      <td>0.09</td>\n",
       "      <td>2</td>\n",
       "      <td>141</td>\n",
       "      <td>NaN</td>\n",
       "    </tr>\n",
       "    <tr>\n",
       "      <th>4</th>\n",
       "      <td>27886</td>\n",
       "      <td>Romantic, stylish B&amp;B houseboat in canal district</td>\n",
       "      <td>97647</td>\n",
       "      <td>Flip</td>\n",
       "      <td>Centrum-West</td>\n",
       "      <td>52.386727</td>\n",
       "      <td>4.892078</td>\n",
       "      <td>Private room</td>\n",
       "      <td>150</td>\n",
       "      <td>2</td>\n",
       "      <td>171</td>\n",
       "      <td>2018-11-25</td>\n",
       "      <td>2.03</td>\n",
       "      <td>1</td>\n",
       "      <td>199</td>\n",
       "      <td>NaN</td>\n",
       "    </tr>\n",
       "  </tbody>\n",
       "</table>\n",
       "</div>"
      ],
      "text/plain": [
       "      id                                               name  host_id  \\\n",
       "0   2818           Quiet Garden View Room & Super Fast WiFi     3159   \n",
       "1   3209                  Quiet apt near center, great view     3806   \n",
       "2  20168         100%Centre-Studio 1 Private Floor/Bathroom    59484   \n",
       "3  25428                Lovely apt in City Centre (Jordaan)    56142   \n",
       "4  27886  Romantic, stylish B&B houseboat in canal district    97647   \n",
       "\n",
       "  host_name                           neighbourhood   latitude  longitude  \\\n",
       "0    Daniel  Oostelijk Havengebied - Indische Buurt  52.365755   4.941419   \n",
       "1   Maartje                              Westerpark  52.390225   4.873924   \n",
       "2      Alex                            Centrum-Oost  52.365087   4.893541   \n",
       "3      Joan                            Centrum-West  52.373114   4.883668   \n",
       "4      Flip                            Centrum-West  52.386727   4.892078   \n",
       "\n",
       "         room_type  price  minimum_nights  number_of_reviews last_review  \\\n",
       "0     Private room     59               3                248  2018-11-28   \n",
       "1  Entire home/apt    160               4                 42  2018-08-29   \n",
       "2  Entire home/apt     80               1                233  2018-11-30   \n",
       "3  Entire home/apt    125              14                  1  2018-01-21   \n",
       "4     Private room    150               2                171  2018-11-25   \n",
       "\n",
       "   reviews_per_month  calculated_host_listings_count  availability_365  \\\n",
       "0               2.10                               1                44   \n",
       "1               1.03                               1                47   \n",
       "2               2.18                               2               198   \n",
       "3               0.09                               2               141   \n",
       "4               2.03                               1               199   \n",
       "\n",
       "  reviews_nulls  \n",
       "0           NaN  \n",
       "1           NaN  \n",
       "2           NaN  \n",
       "3           NaN  \n",
       "4           NaN  "
      ]
     },
     "execution_count": 26,
     "metadata": {},
     "output_type": "execute_result"
    }
   ],
   "source": [
    "df_listings.head()"
   ]
  },
  {
   "cell_type": "markdown",
   "id": "af854489-3900-48d1-aa6a-de53254879fb",
   "metadata": {},
   "source": [
    "#### Addressing missing name and host name values"
   ]
  },
  {
   "cell_type": "code",
   "execution_count": 28,
   "id": "326bcb2f-04a2-4752-bf8d-d3ab988ae5f4",
   "metadata": {},
   "outputs": [],
   "source": [
    "df_noname = df_listings[df_listings['name'].isnull() == True]"
   ]
  },
  {
   "cell_type": "code",
   "execution_count": 29,
   "id": "9962c117-a729-4bf1-9e32-a0a515acc319",
   "metadata": {},
   "outputs": [
    {
     "data": {
      "text/plain": [
       "(38, 16)"
      ]
     },
     "execution_count": 29,
     "metadata": {},
     "output_type": "execute_result"
    }
   ],
   "source": [
    "df_noname.shape"
   ]
  },
  {
   "cell_type": "code",
   "execution_count": 30,
   "id": "b6eecdb1-d344-43a6-9226-1aec416425f0",
   "metadata": {},
   "outputs": [
    {
     "data": {
      "text/plain": [
       "id                                 0\n",
       "name                              38\n",
       "host_id                            0\n",
       "host_name                          0\n",
       "neighbourhood                      0\n",
       "latitude                           0\n",
       "longitude                          0\n",
       "room_type                          0\n",
       "price                              0\n",
       "minimum_nights                     0\n",
       "number_of_reviews                  0\n",
       "last_review                       11\n",
       "reviews_per_month                 11\n",
       "calculated_host_listings_count     0\n",
       "availability_365                   0\n",
       "reviews_nulls                     38\n",
       "dtype: int64"
      ]
     },
     "execution_count": 30,
     "metadata": {},
     "output_type": "execute_result"
    }
   ],
   "source": [
    "df_noname.isnull().sum()"
   ]
  },
  {
   "cell_type": "code",
   "execution_count": 31,
   "id": "96985314-c681-42ee-8a75-70b00ed922d5",
   "metadata": {},
   "outputs": [
    {
     "data": {
      "text/html": [
       "<div>\n",
       "<style scoped>\n",
       "    .dataframe tbody tr th:only-of-type {\n",
       "        vertical-align: middle;\n",
       "    }\n",
       "\n",
       "    .dataframe tbody tr th {\n",
       "        vertical-align: top;\n",
       "    }\n",
       "\n",
       "    .dataframe thead th {\n",
       "        text-align: right;\n",
       "    }\n",
       "</style>\n",
       "<table border=\"1\" class=\"dataframe\">\n",
       "  <thead>\n",
       "    <tr style=\"text-align: right;\">\n",
       "      <th></th>\n",
       "      <th>id</th>\n",
       "      <th>name</th>\n",
       "      <th>host_id</th>\n",
       "      <th>host_name</th>\n",
       "      <th>neighbourhood</th>\n",
       "      <th>latitude</th>\n",
       "      <th>longitude</th>\n",
       "      <th>room_type</th>\n",
       "      <th>price</th>\n",
       "      <th>minimum_nights</th>\n",
       "      <th>number_of_reviews</th>\n",
       "      <th>last_review</th>\n",
       "      <th>reviews_per_month</th>\n",
       "      <th>calculated_host_listings_count</th>\n",
       "      <th>availability_365</th>\n",
       "      <th>reviews_nulls</th>\n",
       "    </tr>\n",
       "  </thead>\n",
       "  <tbody>\n",
       "    <tr>\n",
       "      <th>2378</th>\n",
       "      <td>3771282</td>\n",
       "      <td>NaN</td>\n",
       "      <td>10529642</td>\n",
       "      <td>R</td>\n",
       "      <td>De Pijp - Rivierenbuurt</td>\n",
       "      <td>52.354920</td>\n",
       "      <td>4.896281</td>\n",
       "      <td>Entire home/apt</td>\n",
       "      <td>214</td>\n",
       "      <td>6</td>\n",
       "      <td>7</td>\n",
       "      <td>2018-08-16</td>\n",
       "      <td>0.16</td>\n",
       "      <td>1</td>\n",
       "      <td>0</td>\n",
       "      <td>NaN</td>\n",
       "    </tr>\n",
       "    <tr>\n",
       "      <th>2892</th>\n",
       "      <td>4683947</td>\n",
       "      <td>NaN</td>\n",
       "      <td>24220387</td>\n",
       "      <td>Tessa</td>\n",
       "      <td>Zuid</td>\n",
       "      <td>52.347288</td>\n",
       "      <td>4.856014</td>\n",
       "      <td>Entire home/apt</td>\n",
       "      <td>100</td>\n",
       "      <td>1</td>\n",
       "      <td>1</td>\n",
       "      <td>2015-01-02</td>\n",
       "      <td>0.02</td>\n",
       "      <td>1</td>\n",
       "      <td>0</td>\n",
       "      <td>NaN</td>\n",
       "    </tr>\n",
       "    <tr>\n",
       "      <th>3415</th>\n",
       "      <td>5763318</td>\n",
       "      <td>NaN</td>\n",
       "      <td>19035647</td>\n",
       "      <td>Maarten</td>\n",
       "      <td>De Baarsjes - Oud-West</td>\n",
       "      <td>52.359968</td>\n",
       "      <td>4.858911</td>\n",
       "      <td>Private room</td>\n",
       "      <td>50</td>\n",
       "      <td>2</td>\n",
       "      <td>2</td>\n",
       "      <td>2016-10-26</td>\n",
       "      <td>0.05</td>\n",
       "      <td>1</td>\n",
       "      <td>0</td>\n",
       "      <td>NaN</td>\n",
       "    </tr>\n",
       "    <tr>\n",
       "      <th>4105</th>\n",
       "      <td>6795287</td>\n",
       "      <td>NaN</td>\n",
       "      <td>35354864</td>\n",
       "      <td>Kim</td>\n",
       "      <td>Centrum-West</td>\n",
       "      <td>52.380624</td>\n",
       "      <td>4.885614</td>\n",
       "      <td>Entire home/apt</td>\n",
       "      <td>107</td>\n",
       "      <td>3</td>\n",
       "      <td>1</td>\n",
       "      <td>2015-07-07</td>\n",
       "      <td>0.02</td>\n",
       "      <td>1</td>\n",
       "      <td>0</td>\n",
       "      <td>NaN</td>\n",
       "    </tr>\n",
       "    <tr>\n",
       "      <th>4180</th>\n",
       "      <td>6893255</td>\n",
       "      <td>NaN</td>\n",
       "      <td>4223835</td>\n",
       "      <td>Tosca</td>\n",
       "      <td>De Baarsjes - Oud-West</td>\n",
       "      <td>52.367049</td>\n",
       "      <td>4.855081</td>\n",
       "      <td>Entire home/apt</td>\n",
       "      <td>100</td>\n",
       "      <td>3</td>\n",
       "      <td>16</td>\n",
       "      <td>2017-06-05</td>\n",
       "      <td>0.38</td>\n",
       "      <td>1</td>\n",
       "      <td>0</td>\n",
       "      <td>NaN</td>\n",
       "    </tr>\n",
       "  </tbody>\n",
       "</table>\n",
       "</div>"
      ],
      "text/plain": [
       "           id name   host_id host_name            neighbourhood   latitude  \\\n",
       "2378  3771282  NaN  10529642         R  De Pijp - Rivierenbuurt  52.354920   \n",
       "2892  4683947  NaN  24220387     Tessa                     Zuid  52.347288   \n",
       "3415  5763318  NaN  19035647   Maarten   De Baarsjes - Oud-West  52.359968   \n",
       "4105  6795287  NaN  35354864       Kim             Centrum-West  52.380624   \n",
       "4180  6893255  NaN   4223835     Tosca   De Baarsjes - Oud-West  52.367049   \n",
       "\n",
       "      longitude        room_type  price  minimum_nights  number_of_reviews  \\\n",
       "2378   4.896281  Entire home/apt    214               6                  7   \n",
       "2892   4.856014  Entire home/apt    100               1                  1   \n",
       "3415   4.858911     Private room     50               2                  2   \n",
       "4105   4.885614  Entire home/apt    107               3                  1   \n",
       "4180   4.855081  Entire home/apt    100               3                 16   \n",
       "\n",
       "     last_review  reviews_per_month  calculated_host_listings_count  \\\n",
       "2378  2018-08-16               0.16                               1   \n",
       "2892  2015-01-02               0.02                               1   \n",
       "3415  2016-10-26               0.05                               1   \n",
       "4105  2015-07-07               0.02                               1   \n",
       "4180  2017-06-05               0.38                               1   \n",
       "\n",
       "      availability_365 reviews_nulls  \n",
       "2378                 0           NaN  \n",
       "2892                 0           NaN  \n",
       "3415                 0           NaN  \n",
       "4105                 0           NaN  \n",
       "4180                 0           NaN  "
      ]
     },
     "execution_count": 31,
     "metadata": {},
     "output_type": "execute_result"
    }
   ],
   "source": [
    "df_noname.head()"
   ]
  },
  {
   "cell_type": "code",
   "execution_count": 32,
   "id": "e360eb89-2ec8-4c6e-accb-588fff6065f8",
   "metadata": {},
   "outputs": [],
   "source": [
    "df_no_hostname = df_listings[df_listings['host_name'].isnull() == True]"
   ]
  },
  {
   "cell_type": "code",
   "execution_count": 33,
   "id": "5b04bf8e-02d6-4960-bb0f-39e2e8fbef2c",
   "metadata": {},
   "outputs": [],
   "source": [
    "#check for other nulls"
   ]
  },
  {
   "cell_type": "code",
   "execution_count": 34,
   "id": "91d986cc-6375-4a15-9aa8-aff8987c5419",
   "metadata": {},
   "outputs": [
    {
     "data": {
      "text/plain": [
       "id                                0\n",
       "name                              0\n",
       "host_id                           0\n",
       "host_name                         4\n",
       "neighbourhood                     0\n",
       "latitude                          0\n",
       "longitude                         0\n",
       "room_type                         0\n",
       "price                             0\n",
       "minimum_nights                    0\n",
       "number_of_reviews                 0\n",
       "last_review                       1\n",
       "reviews_per_month                 1\n",
       "calculated_host_listings_count    0\n",
       "availability_365                  0\n",
       "reviews_nulls                     4\n",
       "dtype: int64"
      ]
     },
     "execution_count": 34,
     "metadata": {},
     "output_type": "execute_result"
    }
   ],
   "source": [
    "df_no_hostname.isnull().sum()"
   ]
  },
  {
   "cell_type": "markdown",
   "id": "943c9e17-3513-46dd-b0d1-96946e516997",
   "metadata": {},
   "source": [
    "### Check for mixed data types"
   ]
  },
  {
   "cell_type": "code",
   "execution_count": 36,
   "id": "fcfd59f8-e8fb-4208-babd-62f479b72c2f",
   "metadata": {},
   "outputs": [
    {
     "name": "stdout",
     "output_type": "stream",
     "text": [
      "name\n",
      "host_name\n",
      "last_review\n",
      "reviews_nulls\n"
     ]
    }
   ],
   "source": [
    "for col in df_listings.columns.tolist():\n",
    "  weird = (df_listings[[col]].map(type) != df_listings[[col]].iloc[0].apply(type)).any(axis = 1)\n",
    "  if len (df_listings[weird]) > 0:\n",
    "    print (col)"
   ]
  },
  {
   "cell_type": "code",
   "execution_count": 37,
   "id": "b1f8decb-9cf7-4250-838e-9f2e6ecaf8a2",
   "metadata": {},
   "outputs": [],
   "source": [
    "#we can ignore the mixed types in reviews_nulls, as this is the flag column we just created."
   ]
  },
  {
   "cell_type": "code",
   "execution_count": 38,
   "id": "b8cabeda-285c-4724-842e-0222205edf14",
   "metadata": {},
   "outputs": [],
   "source": [
    "#convert name and host_name to string\n",
    "df_listings['name'] = df_listings['name'].astype('str')"
   ]
  },
  {
   "cell_type": "code",
   "execution_count": 39,
   "id": "bd354e46-7b7b-4a6d-b500-2e81ddd1fdd2",
   "metadata": {},
   "outputs": [],
   "source": [
    "df_listings['host_name'] = df_listings['host_name'].astype('str')"
   ]
  },
  {
   "cell_type": "markdown",
   "id": "f3449729-e299-4563-89bf-c5dc0c18c79d",
   "metadata": {},
   "source": [
    "### Check for duplicates"
   ]
  },
  {
   "cell_type": "code",
   "execution_count": 41,
   "id": "7d284185-3760-41fd-bc85-7083e8d71eed",
   "metadata": {},
   "outputs": [],
   "source": [
    "#check first for full duplicate rows\n",
    "df_dups = df_listings[df_listings.duplicated()]"
   ]
  },
  {
   "cell_type": "code",
   "execution_count": 42,
   "id": "c8a24c93-9baa-4216-b42b-3020a5c223c5",
   "metadata": {},
   "outputs": [
    {
     "data": {
      "text/html": [
       "<div>\n",
       "<style scoped>\n",
       "    .dataframe tbody tr th:only-of-type {\n",
       "        vertical-align: middle;\n",
       "    }\n",
       "\n",
       "    .dataframe tbody tr th {\n",
       "        vertical-align: top;\n",
       "    }\n",
       "\n",
       "    .dataframe thead th {\n",
       "        text-align: right;\n",
       "    }\n",
       "</style>\n",
       "<table border=\"1\" class=\"dataframe\">\n",
       "  <thead>\n",
       "    <tr style=\"text-align: right;\">\n",
       "      <th></th>\n",
       "      <th>id</th>\n",
       "      <th>name</th>\n",
       "      <th>host_id</th>\n",
       "      <th>host_name</th>\n",
       "      <th>neighbourhood</th>\n",
       "      <th>latitude</th>\n",
       "      <th>longitude</th>\n",
       "      <th>room_type</th>\n",
       "      <th>price</th>\n",
       "      <th>minimum_nights</th>\n",
       "      <th>number_of_reviews</th>\n",
       "      <th>last_review</th>\n",
       "      <th>reviews_per_month</th>\n",
       "      <th>calculated_host_listings_count</th>\n",
       "      <th>availability_365</th>\n",
       "      <th>reviews_nulls</th>\n",
       "    </tr>\n",
       "  </thead>\n",
       "  <tbody>\n",
       "  </tbody>\n",
       "</table>\n",
       "</div>"
      ],
      "text/plain": [
       "Empty DataFrame\n",
       "Columns: [id, name, host_id, host_name, neighbourhood, latitude, longitude, room_type, price, minimum_nights, number_of_reviews, last_review, reviews_per_month, calculated_host_listings_count, availability_365, reviews_nulls]\n",
       "Index: []"
      ]
     },
     "execution_count": 42,
     "metadata": {},
     "output_type": "execute_result"
    }
   ],
   "source": [
    "df_dups"
   ]
  },
  {
   "cell_type": "code",
   "execution_count": 43,
   "id": "b54e897e-0477-4ee5-8685-1d5e05210f54",
   "metadata": {},
   "outputs": [],
   "source": [
    "#no full duplicate rows"
   ]
  },
  {
   "cell_type": "markdown",
   "id": "f978b5f9-20bc-4263-9fb2-218598a6ff54",
   "metadata": {},
   "source": [
    "### Address outliers"
   ]
  },
  {
   "cell_type": "code",
   "execution_count": 45,
   "id": "69194ff8-971e-47a9-b4df-7015a04d353c",
   "metadata": {},
   "outputs": [
    {
     "data": {
      "text/html": [
       "<div>\n",
       "<style scoped>\n",
       "    .dataframe tbody tr th:only-of-type {\n",
       "        vertical-align: middle;\n",
       "    }\n",
       "\n",
       "    .dataframe tbody tr th {\n",
       "        vertical-align: top;\n",
       "    }\n",
       "\n",
       "    .dataframe thead th {\n",
       "        text-align: right;\n",
       "    }\n",
       "</style>\n",
       "<table border=\"1\" class=\"dataframe\">\n",
       "  <thead>\n",
       "    <tr style=\"text-align: right;\">\n",
       "      <th></th>\n",
       "      <th>id</th>\n",
       "      <th>name</th>\n",
       "      <th>host_id</th>\n",
       "      <th>host_name</th>\n",
       "      <th>neighbourhood</th>\n",
       "      <th>latitude</th>\n",
       "      <th>longitude</th>\n",
       "      <th>room_type</th>\n",
       "      <th>price</th>\n",
       "      <th>minimum_nights</th>\n",
       "      <th>number_of_reviews</th>\n",
       "      <th>last_review</th>\n",
       "      <th>reviews_per_month</th>\n",
       "      <th>calculated_host_listings_count</th>\n",
       "      <th>availability_365</th>\n",
       "      <th>reviews_nulls</th>\n",
       "    </tr>\n",
       "  </thead>\n",
       "  <tbody>\n",
       "    <tr>\n",
       "      <th>12245</th>\n",
       "      <td>18816109</td>\n",
       "      <td>Nice room</td>\n",
       "      <td>21681343</td>\n",
       "      <td>Raffaele</td>\n",
       "      <td>De Pijp - Rivierenbuurt</td>\n",
       "      <td>52.352252</td>\n",
       "      <td>4.899190</td>\n",
       "      <td>Private room</td>\n",
       "      <td>130</td>\n",
       "      <td>1001</td>\n",
       "      <td>24</td>\n",
       "      <td>2018-11-25</td>\n",
       "      <td>1.62</td>\n",
       "      <td>2</td>\n",
       "      <td>89</td>\n",
       "      <td>NaN</td>\n",
       "    </tr>\n",
       "    <tr>\n",
       "      <th>2183</th>\n",
       "      <td>3445095</td>\n",
       "      <td>Beautiful bright app Amsterdam/w room for child</td>\n",
       "      <td>2826599</td>\n",
       "      <td>Justin And Laura</td>\n",
       "      <td>De Baarsjes - Oud-West</td>\n",
       "      <td>52.363751</td>\n",
       "      <td>4.850904</td>\n",
       "      <td>Entire home/apt</td>\n",
       "      <td>120</td>\n",
       "      <td>999</td>\n",
       "      <td>4</td>\n",
       "      <td>2016-09-12</td>\n",
       "      <td>0.08</td>\n",
       "      <td>1</td>\n",
       "      <td>365</td>\n",
       "      <td>NaN</td>\n",
       "    </tr>\n",
       "    <tr>\n",
       "      <th>2932</th>\n",
       "      <td>4761059</td>\n",
       "      <td>Small cosy studio@ Vondelpark</td>\n",
       "      <td>17299639</td>\n",
       "      <td>Wesley</td>\n",
       "      <td>Zuid</td>\n",
       "      <td>52.352056</td>\n",
       "      <td>4.855118</td>\n",
       "      <td>Private room</td>\n",
       "      <td>150</td>\n",
       "      <td>365</td>\n",
       "      <td>0</td>\n",
       "      <td>NaN</td>\n",
       "      <td>NaN</td>\n",
       "      <td>2</td>\n",
       "      <td>364</td>\n",
       "      <td>NaN</td>\n",
       "    </tr>\n",
       "    <tr>\n",
       "      <th>3668</th>\n",
       "      <td>6149173</td>\n",
       "      <td>Longstay room with a view</td>\n",
       "      <td>31379572</td>\n",
       "      <td>Rudy</td>\n",
       "      <td>Oostelijk Havengebied - Indische Buurt</td>\n",
       "      <td>52.376782</td>\n",
       "      <td>4.944672</td>\n",
       "      <td>Entire home/apt</td>\n",
       "      <td>100</td>\n",
       "      <td>365</td>\n",
       "      <td>0</td>\n",
       "      <td>NaN</td>\n",
       "      <td>NaN</td>\n",
       "      <td>1</td>\n",
       "      <td>365</td>\n",
       "      <td>NaN</td>\n",
       "    </tr>\n",
       "    <tr>\n",
       "      <th>18721</th>\n",
       "      <td>28651212</td>\n",
       "      <td>No available</td>\n",
       "      <td>216187616</td>\n",
       "      <td>David</td>\n",
       "      <td>De Baarsjes - Oud-West</td>\n",
       "      <td>52.367939</td>\n",
       "      <td>4.866657</td>\n",
       "      <td>Entire home/apt</td>\n",
       "      <td>3000</td>\n",
       "      <td>365</td>\n",
       "      <td>10</td>\n",
       "      <td>2018-11-06</td>\n",
       "      <td>4.76</td>\n",
       "      <td>1</td>\n",
       "      <td>64</td>\n",
       "      <td>NaN</td>\n",
       "    </tr>\n",
       "    <tr>\n",
       "      <th>...</th>\n",
       "      <td>...</td>\n",
       "      <td>...</td>\n",
       "      <td>...</td>\n",
       "      <td>...</td>\n",
       "      <td>...</td>\n",
       "      <td>...</td>\n",
       "      <td>...</td>\n",
       "      <td>...</td>\n",
       "      <td>...</td>\n",
       "      <td>...</td>\n",
       "      <td>...</td>\n",
       "      <td>...</td>\n",
       "      <td>...</td>\n",
       "      <td>...</td>\n",
       "      <td>...</td>\n",
       "      <td>...</td>\n",
       "    </tr>\n",
       "    <tr>\n",
       "      <th>7955</th>\n",
       "      <td>13236473</td>\n",
       "      <td>Atmospheric 5-room appartment with roof terrace</td>\n",
       "      <td>61508983</td>\n",
       "      <td>Koen</td>\n",
       "      <td>Watergraafsmeer</td>\n",
       "      <td>52.353641</td>\n",
       "      <td>4.941954</td>\n",
       "      <td>Entire home/apt</td>\n",
       "      <td>149</td>\n",
       "      <td>4</td>\n",
       "      <td>0</td>\n",
       "      <td>NaN</td>\n",
       "      <td>NaN</td>\n",
       "      <td>1</td>\n",
       "      <td>0</td>\n",
       "      <td>NaN</td>\n",
       "    </tr>\n",
       "    <tr>\n",
       "      <th>7952</th>\n",
       "      <td>13230986</td>\n",
       "      <td>Cozy place in central Jordaan area</td>\n",
       "      <td>15674241</td>\n",
       "      <td>Wouter</td>\n",
       "      <td>Centrum-West</td>\n",
       "      <td>52.382080</td>\n",
       "      <td>4.881749</td>\n",
       "      <td>Entire home/apt</td>\n",
       "      <td>95</td>\n",
       "      <td>4</td>\n",
       "      <td>9</td>\n",
       "      <td>2018-09-07</td>\n",
       "      <td>0.30</td>\n",
       "      <td>1</td>\n",
       "      <td>0</td>\n",
       "      <td>NaN</td>\n",
       "    </tr>\n",
       "    <tr>\n",
       "      <th>7926</th>\n",
       "      <td>13183525</td>\n",
       "      <td>Lovely, cosy apartment in the heart of Amsterdam</td>\n",
       "      <td>1009566</td>\n",
       "      <td>F.</td>\n",
       "      <td>Centrum-Oost</td>\n",
       "      <td>52.369495</td>\n",
       "      <td>4.912994</td>\n",
       "      <td>Entire home/apt</td>\n",
       "      <td>111</td>\n",
       "      <td>4</td>\n",
       "      <td>14</td>\n",
       "      <td>2017-07-12</td>\n",
       "      <td>0.46</td>\n",
       "      <td>1</td>\n",
       "      <td>0</td>\n",
       "      <td>NaN</td>\n",
       "    </tr>\n",
       "    <tr>\n",
       "      <th>7924</th>\n",
       "      <td>13182867</td>\n",
       "      <td>Light &amp; Modern apartment near center Amsterdam</td>\n",
       "      <td>1283321</td>\n",
       "      <td>Eefje</td>\n",
       "      <td>Bos en Lommer</td>\n",
       "      <td>52.377274</td>\n",
       "      <td>4.849948</td>\n",
       "      <td>Entire home/apt</td>\n",
       "      <td>100</td>\n",
       "      <td>4</td>\n",
       "      <td>9</td>\n",
       "      <td>2017-08-13</td>\n",
       "      <td>0.31</td>\n",
       "      <td>1</td>\n",
       "      <td>0</td>\n",
       "      <td>NaN</td>\n",
       "    </tr>\n",
       "    <tr>\n",
       "      <th>8369</th>\n",
       "      <td>13613179</td>\n",
       "      <td>Stylish apartment in trendy neighborhood | 1 BR</td>\n",
       "      <td>7943711</td>\n",
       "      <td>Paul</td>\n",
       "      <td>De Pijp - Rivierenbuurt</td>\n",
       "      <td>52.353330</td>\n",
       "      <td>4.899221</td>\n",
       "      <td>Entire home/apt</td>\n",
       "      <td>150</td>\n",
       "      <td>4</td>\n",
       "      <td>13</td>\n",
       "      <td>2018-10-21</td>\n",
       "      <td>0.80</td>\n",
       "      <td>1</td>\n",
       "      <td>4</td>\n",
       "      <td>NaN</td>\n",
       "    </tr>\n",
       "  </tbody>\n",
       "</table>\n",
       "<p>3833 rows × 16 columns</p>\n",
       "</div>"
      ],
      "text/plain": [
       "             id                                              name    host_id  \\\n",
       "12245  18816109                                         Nice room   21681343   \n",
       "2183    3445095   Beautiful bright app Amsterdam/w room for child    2826599   \n",
       "2932    4761059                     Small cosy studio@ Vondelpark   17299639   \n",
       "3668    6149173                         Longstay room with a view   31379572   \n",
       "18721  28651212                                      No available  216187616   \n",
       "...         ...                                               ...        ...   \n",
       "7955   13236473   Atmospheric 5-room appartment with roof terrace   61508983   \n",
       "7952   13230986                Cozy place in central Jordaan area   15674241   \n",
       "7926   13183525  Lovely, cosy apartment in the heart of Amsterdam    1009566   \n",
       "7924   13182867    Light & Modern apartment near center Amsterdam    1283321   \n",
       "8369   13613179   Stylish apartment in trendy neighborhood | 1 BR    7943711   \n",
       "\n",
       "              host_name                           neighbourhood   latitude  \\\n",
       "12245          Raffaele                 De Pijp - Rivierenbuurt  52.352252   \n",
       "2183   Justin And Laura                  De Baarsjes - Oud-West  52.363751   \n",
       "2932             Wesley                                    Zuid  52.352056   \n",
       "3668               Rudy  Oostelijk Havengebied - Indische Buurt  52.376782   \n",
       "18721             David                  De Baarsjes - Oud-West  52.367939   \n",
       "...                 ...                                     ...        ...   \n",
       "7955               Koen                         Watergraafsmeer  52.353641   \n",
       "7952             Wouter                            Centrum-West  52.382080   \n",
       "7926                 F.                            Centrum-Oost  52.369495   \n",
       "7924              Eefje                           Bos en Lommer  52.377274   \n",
       "8369               Paul                 De Pijp - Rivierenbuurt  52.353330   \n",
       "\n",
       "       longitude        room_type  price  minimum_nights  number_of_reviews  \\\n",
       "12245   4.899190     Private room    130            1001                 24   \n",
       "2183    4.850904  Entire home/apt    120             999                  4   \n",
       "2932    4.855118     Private room    150             365                  0   \n",
       "3668    4.944672  Entire home/apt    100             365                  0   \n",
       "18721   4.866657  Entire home/apt   3000             365                 10   \n",
       "...          ...              ...    ...             ...                ...   \n",
       "7955    4.941954  Entire home/apt    149               4                  0   \n",
       "7952    4.881749  Entire home/apt     95               4                  9   \n",
       "7926    4.912994  Entire home/apt    111               4                 14   \n",
       "7924    4.849948  Entire home/apt    100               4                  9   \n",
       "8369    4.899221  Entire home/apt    150               4                 13   \n",
       "\n",
       "      last_review  reviews_per_month  calculated_host_listings_count  \\\n",
       "12245  2018-11-25               1.62                               2   \n",
       "2183   2016-09-12               0.08                               1   \n",
       "2932          NaN                NaN                               2   \n",
       "3668          NaN                NaN                               1   \n",
       "18721  2018-11-06               4.76                               1   \n",
       "...           ...                ...                             ...   \n",
       "7955          NaN                NaN                               1   \n",
       "7952   2018-09-07               0.30                               1   \n",
       "7926   2017-07-12               0.46                               1   \n",
       "7924   2017-08-13               0.31                               1   \n",
       "8369   2018-10-21               0.80                               1   \n",
       "\n",
       "       availability_365 reviews_nulls  \n",
       "12245                89           NaN  \n",
       "2183                365           NaN  \n",
       "2932                364           NaN  \n",
       "3668                365           NaN  \n",
       "18721                64           NaN  \n",
       "...                 ...           ...  \n",
       "7955                  0           NaN  \n",
       "7952                  0           NaN  \n",
       "7926                  0           NaN  \n",
       "7924                  0           NaN  \n",
       "8369                  4           NaN  \n",
       "\n",
       "[3833 rows x 16 columns]"
      ]
     },
     "execution_count": 45,
     "metadata": {},
     "output_type": "execute_result"
    }
   ],
   "source": [
    "#minimum_nights\n",
    "df_listings.loc[df_listings['minimum_nights']>3].sort_values('minimum_nights',ascending=False)"
   ]
  },
  {
   "cell_type": "code",
   "execution_count": 46,
   "id": "43b869a3-d798-4682-a800-0df14d59e197",
   "metadata": {},
   "outputs": [
    {
     "data": {
      "text/html": [
       "<div>\n",
       "<style scoped>\n",
       "    .dataframe tbody tr th:only-of-type {\n",
       "        vertical-align: middle;\n",
       "    }\n",
       "\n",
       "    .dataframe tbody tr th {\n",
       "        vertical-align: top;\n",
       "    }\n",
       "\n",
       "    .dataframe thead th {\n",
       "        text-align: right;\n",
       "    }\n",
       "</style>\n",
       "<table border=\"1\" class=\"dataframe\">\n",
       "  <thead>\n",
       "    <tr style=\"text-align: right;\">\n",
       "      <th></th>\n",
       "      <th>id</th>\n",
       "      <th>name</th>\n",
       "      <th>host_id</th>\n",
       "      <th>host_name</th>\n",
       "      <th>neighbourhood</th>\n",
       "      <th>latitude</th>\n",
       "      <th>longitude</th>\n",
       "      <th>room_type</th>\n",
       "      <th>price</th>\n",
       "      <th>minimum_nights</th>\n",
       "      <th>number_of_reviews</th>\n",
       "      <th>last_review</th>\n",
       "      <th>reviews_per_month</th>\n",
       "      <th>calculated_host_listings_count</th>\n",
       "      <th>availability_365</th>\n",
       "      <th>reviews_nulls</th>\n",
       "    </tr>\n",
       "  </thead>\n",
       "  <tbody>\n",
       "    <tr>\n",
       "      <th>12245</th>\n",
       "      <td>18816109</td>\n",
       "      <td>Nice room</td>\n",
       "      <td>21681343</td>\n",
       "      <td>Raffaele</td>\n",
       "      <td>De Pijp - Rivierenbuurt</td>\n",
       "      <td>52.352252</td>\n",
       "      <td>4.899190</td>\n",
       "      <td>Private room</td>\n",
       "      <td>130</td>\n",
       "      <td>1001</td>\n",
       "      <td>24</td>\n",
       "      <td>2018-11-25</td>\n",
       "      <td>1.62</td>\n",
       "      <td>2</td>\n",
       "      <td>89</td>\n",
       "      <td>NaN</td>\n",
       "    </tr>\n",
       "    <tr>\n",
       "      <th>2183</th>\n",
       "      <td>3445095</td>\n",
       "      <td>Beautiful bright app Amsterdam/w room for child</td>\n",
       "      <td>2826599</td>\n",
       "      <td>Justin And Laura</td>\n",
       "      <td>De Baarsjes - Oud-West</td>\n",
       "      <td>52.363751</td>\n",
       "      <td>4.850904</td>\n",
       "      <td>Entire home/apt</td>\n",
       "      <td>120</td>\n",
       "      <td>999</td>\n",
       "      <td>4</td>\n",
       "      <td>2016-09-12</td>\n",
       "      <td>0.08</td>\n",
       "      <td>1</td>\n",
       "      <td>365</td>\n",
       "      <td>NaN</td>\n",
       "    </tr>\n",
       "    <tr>\n",
       "      <th>2932</th>\n",
       "      <td>4761059</td>\n",
       "      <td>Small cosy studio@ Vondelpark</td>\n",
       "      <td>17299639</td>\n",
       "      <td>Wesley</td>\n",
       "      <td>Zuid</td>\n",
       "      <td>52.352056</td>\n",
       "      <td>4.855118</td>\n",
       "      <td>Private room</td>\n",
       "      <td>150</td>\n",
       "      <td>365</td>\n",
       "      <td>0</td>\n",
       "      <td>NaN</td>\n",
       "      <td>NaN</td>\n",
       "      <td>2</td>\n",
       "      <td>364</td>\n",
       "      <td>NaN</td>\n",
       "    </tr>\n",
       "    <tr>\n",
       "      <th>3668</th>\n",
       "      <td>6149173</td>\n",
       "      <td>Longstay room with a view</td>\n",
       "      <td>31379572</td>\n",
       "      <td>Rudy</td>\n",
       "      <td>Oostelijk Havengebied - Indische Buurt</td>\n",
       "      <td>52.376782</td>\n",
       "      <td>4.944672</td>\n",
       "      <td>Entire home/apt</td>\n",
       "      <td>100</td>\n",
       "      <td>365</td>\n",
       "      <td>0</td>\n",
       "      <td>NaN</td>\n",
       "      <td>NaN</td>\n",
       "      <td>1</td>\n",
       "      <td>365</td>\n",
       "      <td>NaN</td>\n",
       "    </tr>\n",
       "    <tr>\n",
       "      <th>18721</th>\n",
       "      <td>28651212</td>\n",
       "      <td>No available</td>\n",
       "      <td>216187616</td>\n",
       "      <td>David</td>\n",
       "      <td>De Baarsjes - Oud-West</td>\n",
       "      <td>52.367939</td>\n",
       "      <td>4.866657</td>\n",
       "      <td>Entire home/apt</td>\n",
       "      <td>3000</td>\n",
       "      <td>365</td>\n",
       "      <td>10</td>\n",
       "      <td>2018-11-06</td>\n",
       "      <td>4.76</td>\n",
       "      <td>1</td>\n",
       "      <td>64</td>\n",
       "      <td>NaN</td>\n",
       "    </tr>\n",
       "    <tr>\n",
       "      <th>11168</th>\n",
       "      <td>17452735</td>\n",
       "      <td>Lovely apartement near Zuidas</td>\n",
       "      <td>110834551</td>\n",
       "      <td>Allard</td>\n",
       "      <td>Zuid</td>\n",
       "      <td>52.348438</td>\n",
       "      <td>4.875657</td>\n",
       "      <td>Entire home/apt</td>\n",
       "      <td>91</td>\n",
       "      <td>300</td>\n",
       "      <td>8</td>\n",
       "      <td>2017-04-16</td>\n",
       "      <td>0.37</td>\n",
       "      <td>1</td>\n",
       "      <td>188</td>\n",
       "      <td>NaN</td>\n",
       "    </tr>\n",
       "    <tr>\n",
       "      <th>17188</th>\n",
       "      <td>25900530</td>\n",
       "      <td>Comfortable, affordable private room with garden</td>\n",
       "      <td>65678398</td>\n",
       "      <td>Skye</td>\n",
       "      <td>De Aker - Nieuw Sloten</td>\n",
       "      <td>52.344125</td>\n",
       "      <td>4.817270</td>\n",
       "      <td>Private room</td>\n",
       "      <td>39</td>\n",
       "      <td>230</td>\n",
       "      <td>3</td>\n",
       "      <td>2018-08-25</td>\n",
       "      <td>0.64</td>\n",
       "      <td>1</td>\n",
       "      <td>175</td>\n",
       "      <td>NaN</td>\n",
       "    </tr>\n",
       "    <tr>\n",
       "      <th>4230</th>\n",
       "      <td>6980353</td>\n",
       "      <td>Spacious, hotel-comfort apartment</td>\n",
       "      <td>22872749</td>\n",
       "      <td>Michael</td>\n",
       "      <td>De Baarsjes - Oud-West</td>\n",
       "      <td>52.363811</td>\n",
       "      <td>4.857918</td>\n",
       "      <td>Entire home/apt</td>\n",
       "      <td>300</td>\n",
       "      <td>222</td>\n",
       "      <td>15</td>\n",
       "      <td>2016-10-31</td>\n",
       "      <td>0.36</td>\n",
       "      <td>1</td>\n",
       "      <td>87</td>\n",
       "      <td>NaN</td>\n",
       "    </tr>\n",
       "    <tr>\n",
       "      <th>3060</th>\n",
       "      <td>4985612</td>\n",
       "      <td>Amsterdam Old Center</td>\n",
       "      <td>25694276</td>\n",
       "      <td>Ursula</td>\n",
       "      <td>Westerpark</td>\n",
       "      <td>52.379682</td>\n",
       "      <td>4.877817</td>\n",
       "      <td>Entire home/apt</td>\n",
       "      <td>100</td>\n",
       "      <td>186</td>\n",
       "      <td>2</td>\n",
       "      <td>2015-10-19</td>\n",
       "      <td>0.05</td>\n",
       "      <td>1</td>\n",
       "      <td>0</td>\n",
       "      <td>NaN</td>\n",
       "    </tr>\n",
       "    <tr>\n",
       "      <th>4226</th>\n",
       "      <td>6971057</td>\n",
       "      <td>Stunning 9 Streets City Centre Apt!</td>\n",
       "      <td>36552561</td>\n",
       "      <td>Daan</td>\n",
       "      <td>Centrum-West</td>\n",
       "      <td>52.368006</td>\n",
       "      <td>4.884848</td>\n",
       "      <td>Entire home/apt</td>\n",
       "      <td>120</td>\n",
       "      <td>185</td>\n",
       "      <td>102</td>\n",
       "      <td>2017-11-30</td>\n",
       "      <td>2.43</td>\n",
       "      <td>1</td>\n",
       "      <td>365</td>\n",
       "      <td>NaN</td>\n",
       "    </tr>\n",
       "    <tr>\n",
       "      <th>883</th>\n",
       "      <td>1196309</td>\n",
       "      <td>Modern apartment with view on canal</td>\n",
       "      <td>6536982</td>\n",
       "      <td>Dirk</td>\n",
       "      <td>Zuid</td>\n",
       "      <td>52.347255</td>\n",
       "      <td>4.857346</td>\n",
       "      <td>Entire home/apt</td>\n",
       "      <td>120</td>\n",
       "      <td>183</td>\n",
       "      <td>0</td>\n",
       "      <td>NaN</td>\n",
       "      <td>NaN</td>\n",
       "      <td>1</td>\n",
       "      <td>363</td>\n",
       "      <td>NaN</td>\n",
       "    </tr>\n",
       "    <tr>\n",
       "      <th>10545</th>\n",
       "      <td>16376319</td>\n",
       "      <td>Spacious and clean apartment in Amsterdam North</td>\n",
       "      <td>107262947</td>\n",
       "      <td>Wieneke</td>\n",
       "      <td>Noord-Oost</td>\n",
       "      <td>52.405088</td>\n",
       "      <td>4.943347</td>\n",
       "      <td>Entire home/apt</td>\n",
       "      <td>55</td>\n",
       "      <td>181</td>\n",
       "      <td>0</td>\n",
       "      <td>NaN</td>\n",
       "      <td>NaN</td>\n",
       "      <td>1</td>\n",
       "      <td>363</td>\n",
       "      <td>NaN</td>\n",
       "    </tr>\n",
       "    <tr>\n",
       "      <th>219</th>\n",
       "      <td>414917</td>\n",
       "      <td>Cent Adam Lux (2-4p) Apt 90 sqm(m2)</td>\n",
       "      <td>2063612</td>\n",
       "      <td>Jan</td>\n",
       "      <td>Centrum-Oost</td>\n",
       "      <td>52.362999</td>\n",
       "      <td>4.899172</td>\n",
       "      <td>Entire home/apt</td>\n",
       "      <td>299</td>\n",
       "      <td>180</td>\n",
       "      <td>78</td>\n",
       "      <td>2015-07-16</td>\n",
       "      <td>0.98</td>\n",
       "      <td>1</td>\n",
       "      <td>358</td>\n",
       "      <td>NaN</td>\n",
       "    </tr>\n",
       "    <tr>\n",
       "      <th>339</th>\n",
       "      <td>588059</td>\n",
       "      <td>Casa Bacco @ Amsterdam city center</td>\n",
       "      <td>1501059</td>\n",
       "      <td>Bacco</td>\n",
       "      <td>Centrum-Oost</td>\n",
       "      <td>52.359799</td>\n",
       "      <td>4.899159</td>\n",
       "      <td>Entire home/apt</td>\n",
       "      <td>110</td>\n",
       "      <td>180</td>\n",
       "      <td>39</td>\n",
       "      <td>2015-10-11</td>\n",
       "      <td>0.51</td>\n",
       "      <td>1</td>\n",
       "      <td>154</td>\n",
       "      <td>NaN</td>\n",
       "    </tr>\n",
       "  </tbody>\n",
       "</table>\n",
       "</div>"
      ],
      "text/plain": [
       "             id                                              name    host_id  \\\n",
       "12245  18816109                                         Nice room   21681343   \n",
       "2183    3445095   Beautiful bright app Amsterdam/w room for child    2826599   \n",
       "2932    4761059                     Small cosy studio@ Vondelpark   17299639   \n",
       "3668    6149173                         Longstay room with a view   31379572   \n",
       "18721  28651212                                      No available  216187616   \n",
       "11168  17452735                     Lovely apartement near Zuidas  110834551   \n",
       "17188  25900530  Comfortable, affordable private room with garden   65678398   \n",
       "4230    6980353                 Spacious, hotel-comfort apartment   22872749   \n",
       "3060    4985612                             Amsterdam Old Center    25694276   \n",
       "4226    6971057               Stunning 9 Streets City Centre Apt!   36552561   \n",
       "883     1196309               Modern apartment with view on canal    6536982   \n",
       "10545  16376319   Spacious and clean apartment in Amsterdam North  107262947   \n",
       "219      414917               Cent Adam Lux (2-4p) Apt 90 sqm(m2)    2063612   \n",
       "339      588059                Casa Bacco @ Amsterdam city center    1501059   \n",
       "\n",
       "              host_name                           neighbourhood   latitude  \\\n",
       "12245          Raffaele                 De Pijp - Rivierenbuurt  52.352252   \n",
       "2183   Justin And Laura                  De Baarsjes - Oud-West  52.363751   \n",
       "2932             Wesley                                    Zuid  52.352056   \n",
       "3668               Rudy  Oostelijk Havengebied - Indische Buurt  52.376782   \n",
       "18721             David                  De Baarsjes - Oud-West  52.367939   \n",
       "11168            Allard                                    Zuid  52.348438   \n",
       "17188              Skye                  De Aker - Nieuw Sloten  52.344125   \n",
       "4230            Michael                  De Baarsjes - Oud-West  52.363811   \n",
       "3060             Ursula                              Westerpark  52.379682   \n",
       "4226               Daan                            Centrum-West  52.368006   \n",
       "883                Dirk                                    Zuid  52.347255   \n",
       "10545           Wieneke                              Noord-Oost  52.405088   \n",
       "219                 Jan                            Centrum-Oost  52.362999   \n",
       "339               Bacco                            Centrum-Oost  52.359799   \n",
       "\n",
       "       longitude        room_type  price  minimum_nights  number_of_reviews  \\\n",
       "12245   4.899190     Private room    130            1001                 24   \n",
       "2183    4.850904  Entire home/apt    120             999                  4   \n",
       "2932    4.855118     Private room    150             365                  0   \n",
       "3668    4.944672  Entire home/apt    100             365                  0   \n",
       "18721   4.866657  Entire home/apt   3000             365                 10   \n",
       "11168   4.875657  Entire home/apt     91             300                  8   \n",
       "17188   4.817270     Private room     39             230                  3   \n",
       "4230    4.857918  Entire home/apt    300             222                 15   \n",
       "3060    4.877817  Entire home/apt    100             186                  2   \n",
       "4226    4.884848  Entire home/apt    120             185                102   \n",
       "883     4.857346  Entire home/apt    120             183                  0   \n",
       "10545   4.943347  Entire home/apt     55             181                  0   \n",
       "219     4.899172  Entire home/apt    299             180                 78   \n",
       "339     4.899159  Entire home/apt    110             180                 39   \n",
       "\n",
       "      last_review  reviews_per_month  calculated_host_listings_count  \\\n",
       "12245  2018-11-25               1.62                               2   \n",
       "2183   2016-09-12               0.08                               1   \n",
       "2932          NaN                NaN                               2   \n",
       "3668          NaN                NaN                               1   \n",
       "18721  2018-11-06               4.76                               1   \n",
       "11168  2017-04-16               0.37                               1   \n",
       "17188  2018-08-25               0.64                               1   \n",
       "4230   2016-10-31               0.36                               1   \n",
       "3060   2015-10-19               0.05                               1   \n",
       "4226   2017-11-30               2.43                               1   \n",
       "883           NaN                NaN                               1   \n",
       "10545         NaN                NaN                               1   \n",
       "219    2015-07-16               0.98                               1   \n",
       "339    2015-10-11               0.51                               1   \n",
       "\n",
       "       availability_365 reviews_nulls  \n",
       "12245                89           NaN  \n",
       "2183                365           NaN  \n",
       "2932                364           NaN  \n",
       "3668                365           NaN  \n",
       "18721                64           NaN  \n",
       "11168               188           NaN  \n",
       "17188               175           NaN  \n",
       "4230                 87           NaN  \n",
       "3060                  0           NaN  \n",
       "4226                365           NaN  \n",
       "883                 363           NaN  \n",
       "10545               363           NaN  \n",
       "219                 358           NaN  \n",
       "339                 154           NaN  "
      ]
     },
     "execution_count": 46,
     "metadata": {},
     "output_type": "execute_result"
    }
   ],
   "source": [
    "#check values over 100\n",
    "df_listings.loc[df_listings['minimum_nights']>100].sort_values('minimum_nights',ascending=False)"
   ]
  },
  {
   "cell_type": "code",
   "execution_count": 47,
   "id": "85559af4-76a1-437e-b0e9-7271448ec44a",
   "metadata": {},
   "outputs": [],
   "source": [
    "#replacing values over 100 with NaN\n",
    "df_listings.loc[df_listings['minimum_nights']>100, 'minimum_nights'] = np.nan"
   ]
  },
  {
   "cell_type": "code",
   "execution_count": 48,
   "id": "63d674e6-ac47-45aa-a706-ad6228a24ec5",
   "metadata": {},
   "outputs": [
    {
     "data": {
      "text/html": [
       "<div>\n",
       "<style scoped>\n",
       "    .dataframe tbody tr th:only-of-type {\n",
       "        vertical-align: middle;\n",
       "    }\n",
       "\n",
       "    .dataframe tbody tr th {\n",
       "        vertical-align: top;\n",
       "    }\n",
       "\n",
       "    .dataframe thead th {\n",
       "        text-align: right;\n",
       "    }\n",
       "</style>\n",
       "<table border=\"1\" class=\"dataframe\">\n",
       "  <thead>\n",
       "    <tr style=\"text-align: right;\">\n",
       "      <th></th>\n",
       "      <th>id</th>\n",
       "      <th>name</th>\n",
       "      <th>host_id</th>\n",
       "      <th>host_name</th>\n",
       "      <th>neighbourhood</th>\n",
       "      <th>latitude</th>\n",
       "      <th>longitude</th>\n",
       "      <th>room_type</th>\n",
       "      <th>price</th>\n",
       "      <th>minimum_nights</th>\n",
       "      <th>number_of_reviews</th>\n",
       "      <th>last_review</th>\n",
       "      <th>reviews_per_month</th>\n",
       "      <th>calculated_host_listings_count</th>\n",
       "      <th>availability_365</th>\n",
       "      <th>reviews_nulls</th>\n",
       "    </tr>\n",
       "  </thead>\n",
       "  <tbody>\n",
       "    <tr>\n",
       "      <th>7234</th>\n",
       "      <td>12213707</td>\n",
       "      <td>Comfy double room right to city center</td>\n",
       "      <td>42658693</td>\n",
       "      <td>Peter</td>\n",
       "      <td>Oud-Oost</td>\n",
       "      <td>52.359453</td>\n",
       "      <td>4.912028</td>\n",
       "      <td>Entire home/apt</td>\n",
       "      <td>8500</td>\n",
       "      <td>3.0</td>\n",
       "      <td>13</td>\n",
       "      <td>2017-10-02</td>\n",
       "      <td>0.48</td>\n",
       "      <td>1</td>\n",
       "      <td>362</td>\n",
       "      <td>NaN</td>\n",
       "    </tr>\n",
       "    <tr>\n",
       "      <th>127</th>\n",
       "      <td>258273</td>\n",
       "      <td>Great CENTRAL apartment De Pijp</td>\n",
       "      <td>1358307</td>\n",
       "      <td>Peter</td>\n",
       "      <td>De Pijp - Rivierenbuurt</td>\n",
       "      <td>52.354200</td>\n",
       "      <td>4.891596</td>\n",
       "      <td>Entire home/apt</td>\n",
       "      <td>8000</td>\n",
       "      <td>30.0</td>\n",
       "      <td>8</td>\n",
       "      <td>2013-10-22</td>\n",
       "      <td>0.10</td>\n",
       "      <td>1</td>\n",
       "      <td>364</td>\n",
       "      <td>NaN</td>\n",
       "    </tr>\n",
       "    <tr>\n",
       "      <th>19486</th>\n",
       "      <td>29926643</td>\n",
       "      <td>Lovely place</td>\n",
       "      <td>225007426</td>\n",
       "      <td>Anubisdelvalle</td>\n",
       "      <td>Centrum-West</td>\n",
       "      <td>52.382054</td>\n",
       "      <td>4.883831</td>\n",
       "      <td>Entire home/apt</td>\n",
       "      <td>5040</td>\n",
       "      <td>3.0</td>\n",
       "      <td>3</td>\n",
       "      <td>2018-11-25</td>\n",
       "      <td>3.00</td>\n",
       "      <td>1</td>\n",
       "      <td>0</td>\n",
       "      <td>NaN</td>\n",
       "    </tr>\n",
       "    <tr>\n",
       "      <th>13009</th>\n",
       "      <td>19686192</td>\n",
       "      <td>diervriendelijk appartementje aan rand Amsterdam</td>\n",
       "      <td>138283471</td>\n",
       "      <td>Marianne</td>\n",
       "      <td>IJburg - Zeeburgereiland</td>\n",
       "      <td>52.352146</td>\n",
       "      <td>5.004802</td>\n",
       "      <td>Private room</td>\n",
       "      <td>5000</td>\n",
       "      <td>3.0</td>\n",
       "      <td>0</td>\n",
       "      <td>NaN</td>\n",
       "      <td>NaN</td>\n",
       "      <td>1</td>\n",
       "      <td>0</td>\n",
       "      <td>NaN</td>\n",
       "    </tr>\n",
       "    <tr>\n",
       "      <th>3321</th>\n",
       "      <td>5587500</td>\n",
       "      <td>Crane Hotel Faralda Amsterdam</td>\n",
       "      <td>21831151</td>\n",
       "      <td>Faralda</td>\n",
       "      <td>Oud-Noord</td>\n",
       "      <td>52.399452</td>\n",
       "      <td>4.894675</td>\n",
       "      <td>Entire home/apt</td>\n",
       "      <td>4500</td>\n",
       "      <td>1.0</td>\n",
       "      <td>2</td>\n",
       "      <td>2016-09-16</td>\n",
       "      <td>0.05</td>\n",
       "      <td>4</td>\n",
       "      <td>364</td>\n",
       "      <td>NaN</td>\n",
       "    </tr>\n",
       "    <tr>\n",
       "      <th>16959</th>\n",
       "      <td>25349319</td>\n",
       "      <td>Long-term (expat) luxury appt: 3-bedr ++LOCATION</td>\n",
       "      <td>16433767</td>\n",
       "      <td>Laura</td>\n",
       "      <td>Zuid</td>\n",
       "      <td>52.350351</td>\n",
       "      <td>4.847390</td>\n",
       "      <td>Entire home/apt</td>\n",
       "      <td>3900</td>\n",
       "      <td>30.0</td>\n",
       "      <td>1</td>\n",
       "      <td>2018-07-11</td>\n",
       "      <td>0.20</td>\n",
       "      <td>4</td>\n",
       "      <td>332</td>\n",
       "      <td>NaN</td>\n",
       "    </tr>\n",
       "    <tr>\n",
       "      <th>10008</th>\n",
       "      <td>15626614</td>\n",
       "      <td>One public bedroom</td>\n",
       "      <td>60409350</td>\n",
       "      <td>Alina</td>\n",
       "      <td>Centrum-Oost</td>\n",
       "      <td>52.371641</td>\n",
       "      <td>4.901265</td>\n",
       "      <td>Entire home/apt</td>\n",
       "      <td>3142</td>\n",
       "      <td>1.0</td>\n",
       "      <td>0</td>\n",
       "      <td>NaN</td>\n",
       "      <td>NaN</td>\n",
       "      <td>1</td>\n",
       "      <td>178</td>\n",
       "      <td>NaN</td>\n",
       "    </tr>\n",
       "  </tbody>\n",
       "</table>\n",
       "</div>"
      ],
      "text/plain": [
       "             id                                              name    host_id  \\\n",
       "7234   12213707            Comfy double room right to city center   42658693   \n",
       "127      258273                   Great CENTRAL apartment De Pijp    1358307   \n",
       "19486  29926643                                      Lovely place  225007426   \n",
       "13009  19686192  diervriendelijk appartementje aan rand Amsterdam  138283471   \n",
       "3321    5587500                     Crane Hotel Faralda Amsterdam   21831151   \n",
       "16959  25349319  Long-term (expat) luxury appt: 3-bedr ++LOCATION   16433767   \n",
       "10008  15626614                                One public bedroom   60409350   \n",
       "\n",
       "            host_name             neighbourhood   latitude  longitude  \\\n",
       "7234            Peter                  Oud-Oost  52.359453   4.912028   \n",
       "127             Peter   De Pijp - Rivierenbuurt  52.354200   4.891596   \n",
       "19486  Anubisdelvalle              Centrum-West  52.382054   4.883831   \n",
       "13009        Marianne  IJburg - Zeeburgereiland  52.352146   5.004802   \n",
       "3321          Faralda                 Oud-Noord  52.399452   4.894675   \n",
       "16959           Laura                      Zuid  52.350351   4.847390   \n",
       "10008           Alina              Centrum-Oost  52.371641   4.901265   \n",
       "\n",
       "             room_type  price  minimum_nights  number_of_reviews last_review  \\\n",
       "7234   Entire home/apt   8500             3.0                 13  2017-10-02   \n",
       "127    Entire home/apt   8000            30.0                  8  2013-10-22   \n",
       "19486  Entire home/apt   5040             3.0                  3  2018-11-25   \n",
       "13009     Private room   5000             3.0                  0         NaN   \n",
       "3321   Entire home/apt   4500             1.0                  2  2016-09-16   \n",
       "16959  Entire home/apt   3900            30.0                  1  2018-07-11   \n",
       "10008  Entire home/apt   3142             1.0                  0         NaN   \n",
       "\n",
       "       reviews_per_month  calculated_host_listings_count  availability_365  \\\n",
       "7234                0.48                               1               362   \n",
       "127                 0.10                               1               364   \n",
       "19486               3.00                               1                 0   \n",
       "13009                NaN                               1                 0   \n",
       "3321                0.05                               4               364   \n",
       "16959               0.20                               4               332   \n",
       "10008                NaN                               1               178   \n",
       "\n",
       "      reviews_nulls  \n",
       "7234            NaN  \n",
       "127             NaN  \n",
       "19486           NaN  \n",
       "13009           NaN  \n",
       "3321            NaN  \n",
       "16959           NaN  \n",
       "10008           NaN  "
      ]
     },
     "execution_count": 48,
     "metadata": {},
     "output_type": "execute_result"
    }
   ],
   "source": [
    "#price column\n",
    "df_listings.loc[df_listings['price']>3000].sort_values('price',ascending=False)"
   ]
  },
  {
   "cell_type": "code",
   "execution_count": 49,
   "id": "48ae4496-46ec-4623-a568-4b03b7fe070c",
   "metadata": {},
   "outputs": [],
   "source": [
    "#replace the top highest price values with NaN\n",
    "df_listings.loc[df_listings['price']>=8000, 'price'] = np.nan"
   ]
  },
  {
   "cell_type": "code",
   "execution_count": 50,
   "id": "5a985841-c94f-49c9-953c-0fe7dbae6761",
   "metadata": {},
   "outputs": [],
   "source": [
    "df_listings.to_csv(os.path.join(path, 'listings_checked.csv'))"
   ]
  },
  {
   "cell_type": "markdown",
   "id": "2ed58e2f-f808-4944-9bc8-5b1643353002",
   "metadata": {},
   "source": [
    "## Calendar"
   ]
  },
  {
   "cell_type": "code",
   "execution_count": 52,
   "id": "57ecfba6-848c-46bc-9d08-45e71beb9d2d",
   "metadata": {},
   "outputs": [],
   "source": [
    "df_calendar = pd.read_csv(os.path.join(path, 'calendar.csv'), index_col = False)"
   ]
  },
  {
   "cell_type": "code",
   "execution_count": 53,
   "id": "3d10ed5b-0403-4f5a-9e90-6619499e9449",
   "metadata": {},
   "outputs": [
    {
     "data": {
      "text/plain": [
       "(7310950, 4)"
      ]
     },
     "execution_count": 53,
     "metadata": {},
     "output_type": "execute_result"
    }
   ],
   "source": [
    "df_calendar.shape"
   ]
  },
  {
   "cell_type": "code",
   "execution_count": 54,
   "id": "80b0c686-bfe6-492c-9f4b-bfa3ca50d8e0",
   "metadata": {},
   "outputs": [
    {
     "data": {
      "text/plain": [
       "listing_id     int64\n",
       "date          object\n",
       "available     object\n",
       "price         object\n",
       "dtype: object"
      ]
     },
     "execution_count": 54,
     "metadata": {},
     "output_type": "execute_result"
    }
   ],
   "source": [
    "df_calendar.dtypes"
   ]
  },
  {
   "cell_type": "code",
   "execution_count": 55,
   "id": "7500b489-b31a-4d9f-9791-cad6a5f9deb9",
   "metadata": {},
   "outputs": [
    {
     "data": {
      "text/html": [
       "<div>\n",
       "<style scoped>\n",
       "    .dataframe tbody tr th:only-of-type {\n",
       "        vertical-align: middle;\n",
       "    }\n",
       "\n",
       "    .dataframe tbody tr th {\n",
       "        vertical-align: top;\n",
       "    }\n",
       "\n",
       "    .dataframe thead th {\n",
       "        text-align: right;\n",
       "    }\n",
       "</style>\n",
       "<table border=\"1\" class=\"dataframe\">\n",
       "  <thead>\n",
       "    <tr style=\"text-align: right;\">\n",
       "      <th></th>\n",
       "      <th>listing_id</th>\n",
       "      <th>date</th>\n",
       "      <th>available</th>\n",
       "      <th>price</th>\n",
       "    </tr>\n",
       "  </thead>\n",
       "  <tbody>\n",
       "    <tr>\n",
       "      <th>0</th>\n",
       "      <td>2818</td>\n",
       "      <td>2019-12-05</td>\n",
       "      <td>f</td>\n",
       "      <td>NaN</td>\n",
       "    </tr>\n",
       "    <tr>\n",
       "      <th>1</th>\n",
       "      <td>73208</td>\n",
       "      <td>2019-08-30</td>\n",
       "      <td>f</td>\n",
       "      <td>NaN</td>\n",
       "    </tr>\n",
       "    <tr>\n",
       "      <th>2</th>\n",
       "      <td>73208</td>\n",
       "      <td>2019-08-29</td>\n",
       "      <td>f</td>\n",
       "      <td>NaN</td>\n",
       "    </tr>\n",
       "    <tr>\n",
       "      <th>3</th>\n",
       "      <td>73208</td>\n",
       "      <td>2019-08-28</td>\n",
       "      <td>f</td>\n",
       "      <td>NaN</td>\n",
       "    </tr>\n",
       "    <tr>\n",
       "      <th>4</th>\n",
       "      <td>73208</td>\n",
       "      <td>2019-08-27</td>\n",
       "      <td>f</td>\n",
       "      <td>NaN</td>\n",
       "    </tr>\n",
       "  </tbody>\n",
       "</table>\n",
       "</div>"
      ],
      "text/plain": [
       "   listing_id        date available price\n",
       "0        2818  2019-12-05         f   NaN\n",
       "1       73208  2019-08-30         f   NaN\n",
       "2       73208  2019-08-29         f   NaN\n",
       "3       73208  2019-08-28         f   NaN\n",
       "4       73208  2019-08-27         f   NaN"
      ]
     },
     "execution_count": 55,
     "metadata": {},
     "output_type": "execute_result"
    }
   ],
   "source": [
    "df_calendar.head()"
   ]
  },
  {
   "cell_type": "code",
   "execution_count": 56,
   "id": "012127fe-db18-421f-b361-7719b2935dae",
   "metadata": {},
   "outputs": [],
   "source": [
    "#the 'available' column has two possible values, t and f, which correspond to true or false. we can convert these to Boolean values. "
   ]
  },
  {
   "cell_type": "code",
   "execution_count": 57,
   "id": "a5f8addf-3dc2-4e11-a1b3-a5d3449844e8",
   "metadata": {},
   "outputs": [
    {
     "name": "stderr",
     "output_type": "stream",
     "text": [
      "C:\\Users\\artoe\\AppData\\Local\\Temp\\ipykernel_6680\\2272342299.py:1: FutureWarning: Downcasting behavior in `replace` is deprecated and will be removed in a future version. To retain the old behavior, explicitly call `result.infer_objects(copy=False)`. To opt-in to the future behavior, set `pd.set_option('future.no_silent_downcasting', True)`\n",
      "  df_calendar = df_calendar.replace({'t': True, 'f': False})\n"
     ]
    }
   ],
   "source": [
    "df_calendar = df_calendar.replace({'t': True, 'f': False})"
   ]
  },
  {
   "cell_type": "code",
   "execution_count": 58,
   "id": "ffb032e9-e675-4933-add9-a95028364a43",
   "metadata": {},
   "outputs": [
    {
     "data": {
      "text/plain": [
       "listing_id     int64\n",
       "date          object\n",
       "available       bool\n",
       "price         object\n",
       "dtype: object"
      ]
     },
     "execution_count": 58,
     "metadata": {},
     "output_type": "execute_result"
    }
   ],
   "source": [
    "df_calendar.dtypes"
   ]
  },
  {
   "cell_type": "markdown",
   "id": "a614587d-1758-4fb1-98ff-9f77c31e47d4",
   "metadata": {},
   "source": [
    "#### Finding and addressing null values"
   ]
  },
  {
   "cell_type": "code",
   "execution_count": 60,
   "id": "2f31362c-db82-419f-a734-4d672776518f",
   "metadata": {},
   "outputs": [
    {
     "data": {
      "text/plain": [
       "listing_id          0\n",
       "date                0\n",
       "available           0\n",
       "price         6110879\n",
       "dtype: int64"
      ]
     },
     "execution_count": 60,
     "metadata": {},
     "output_type": "execute_result"
    }
   ],
   "source": [
    "df_calendar.isnull().sum()"
   ]
  },
  {
   "cell_type": "code",
   "execution_count": 61,
   "id": "5b01a9e4-94e9-43ff-b746-6b1ca4f9cc07",
   "metadata": {},
   "outputs": [],
   "source": [
    "#the price column is missing 84% of is values. however, this could be because these listings were unavailable at the time"
   ]
  },
  {
   "cell_type": "code",
   "execution_count": 62,
   "id": "9ecdff7e-b946-4b49-bffd-770c0d834ca8",
   "metadata": {},
   "outputs": [
    {
     "data": {
      "text/plain": [
       "available\n",
       "False    6110879\n",
       "True     1200071\n",
       "Name: count, dtype: int64"
      ]
     },
     "execution_count": 62,
     "metadata": {},
     "output_type": "execute_result"
    }
   ],
   "source": [
    "df_calendar['available'].value_counts()"
   ]
  },
  {
   "cell_type": "code",
   "execution_count": 63,
   "id": "791e47b5-947d-41ae-b7a3-751aae5153f0",
   "metadata": {},
   "outputs": [],
   "source": [
    "#there are the same number of rows with the 'available' value being f and the price missing. therefore, it might not be advisable to drop the price column."
   ]
  },
  {
   "cell_type": "markdown",
   "id": "37e164b3-5adb-4ba1-9911-f706094fff2a",
   "metadata": {},
   "source": [
    "#### Finding and addressing mixed types"
   ]
  },
  {
   "cell_type": "code",
   "execution_count": 65,
   "id": "b8d575e6-eb55-4351-b898-bf193aff64c6",
   "metadata": {},
   "outputs": [
    {
     "name": "stdout",
     "output_type": "stream",
     "text": [
      "price\n"
     ]
    }
   ],
   "source": [
    "for col in df_calendar.columns.tolist():\n",
    "  weird = (df_calendar[[col]].map(type) != df_calendar[[col]].iloc[0].apply(type)).any(axis = 1)\n",
    "  if len (df_calendar[weird]) > 0:\n",
    "    print (col)"
   ]
  },
  {
   "cell_type": "code",
   "execution_count": 66,
   "id": "f2580adb-c41c-419e-9ebb-e23d83368ece",
   "metadata": {},
   "outputs": [],
   "source": [
    "df_calendar['price'] = df_calendar['price'].astype('str')"
   ]
  },
  {
   "cell_type": "code",
   "execution_count": 67,
   "id": "4813333e-6954-4f01-9eef-609dd00435e2",
   "metadata": {},
   "outputs": [],
   "source": [
    "#remove special characters from price column, convert into float64\n",
    "df_calendar['price'] = df_calendar['price'].str.replace('$', '')"
   ]
  },
  {
   "cell_type": "code",
   "execution_count": null,
   "id": "a3ca16e7-0446-4dc8-9614-9d4d5147e56f",
   "metadata": {},
   "outputs": [],
   "source": []
  },
  {
   "cell_type": "code",
   "execution_count": 68,
   "id": "183e344d-f85d-4964-8f7f-376427603a30",
   "metadata": {},
   "outputs": [],
   "source": [
    "df_calendar['price'] = df_calendar['price'].str.replace(',', '')"
   ]
  },
  {
   "cell_type": "code",
   "execution_count": 69,
   "id": "973e30be-d697-487e-85b9-90a06ed1a7bf",
   "metadata": {},
   "outputs": [],
   "source": [
    "df_calendar['price'] = df_calendar['price'].astype('float64')"
   ]
  },
  {
   "cell_type": "code",
   "execution_count": 70,
   "id": "a2604033-bfeb-4c57-a3d3-7c1586087a99",
   "metadata": {},
   "outputs": [
    {
     "data": {
      "text/plain": [
       "listing_id      int64\n",
       "date           object\n",
       "available        bool\n",
       "price         float64\n",
       "dtype: object"
      ]
     },
     "execution_count": 70,
     "metadata": {},
     "output_type": "execute_result"
    }
   ],
   "source": [
    "df_calendar.dtypes"
   ]
  },
  {
   "cell_type": "markdown",
   "id": "0dd25024-76e1-4f39-a356-beae435680a0",
   "metadata": {},
   "source": [
    "#### Finding and addressing duplicates"
   ]
  },
  {
   "cell_type": "code",
   "execution_count": 72,
   "id": "1bb47ad9-7955-4d5f-a77d-9715ed197f8c",
   "metadata": {},
   "outputs": [],
   "source": [
    "df_cal_dups = df_calendar[df_calendar.duplicated()]"
   ]
  },
  {
   "cell_type": "code",
   "execution_count": 73,
   "id": "bbb608dd-71aa-450b-9c9b-39425453c6de",
   "metadata": {},
   "outputs": [
    {
     "data": {
      "text/plain": [
       "(0, 4)"
      ]
     },
     "execution_count": 73,
     "metadata": {},
     "output_type": "execute_result"
    }
   ],
   "source": [
    "df_cal_dups.shape"
   ]
  },
  {
   "cell_type": "code",
   "execution_count": 74,
   "id": "fa3664c2-5171-42c0-8122-cd15c5aa7a48",
   "metadata": {},
   "outputs": [],
   "source": [
    "#no duplicate rows found"
   ]
  },
  {
   "cell_type": "markdown",
   "id": "49cd7e67-a17a-4ebe-84dd-c16d4e0f4989",
   "metadata": {},
   "source": [
    "#### Addressing outliers"
   ]
  },
  {
   "cell_type": "code",
   "execution_count": 76,
   "id": "9676801b-951c-4c7a-b3bd-d14f2655dbe8",
   "metadata": {},
   "outputs": [
    {
     "data": {
      "text/html": [
       "<div>\n",
       "<style scoped>\n",
       "    .dataframe tbody tr th:only-of-type {\n",
       "        vertical-align: middle;\n",
       "    }\n",
       "\n",
       "    .dataframe tbody tr th {\n",
       "        vertical-align: top;\n",
       "    }\n",
       "\n",
       "    .dataframe thead th {\n",
       "        text-align: right;\n",
       "    }\n",
       "</style>\n",
       "<table border=\"1\" class=\"dataframe\">\n",
       "  <thead>\n",
       "    <tr style=\"text-align: right;\">\n",
       "      <th></th>\n",
       "      <th>count</th>\n",
       "      <th>mean</th>\n",
       "      <th>std</th>\n",
       "      <th>min</th>\n",
       "      <th>25%</th>\n",
       "      <th>50%</th>\n",
       "      <th>75%</th>\n",
       "      <th>max</th>\n",
       "    </tr>\n",
       "  </thead>\n",
       "  <tbody>\n",
       "    <tr>\n",
       "      <th>listing_id</th>\n",
       "      <td>7310950.0</td>\n",
       "      <td>1.541725e+07</td>\n",
       "      <td>8.569190e+06</td>\n",
       "      <td>2818.0</td>\n",
       "      <td>8187901.0</td>\n",
       "      <td>15630490.0</td>\n",
       "      <td>22026123.0</td>\n",
       "      <td>30580413.0</td>\n",
       "    </tr>\n",
       "    <tr>\n",
       "      <th>price</th>\n",
       "      <td>1200071.0</td>\n",
       "      <td>2.076556e+02</td>\n",
       "      <td>2.812379e+02</td>\n",
       "      <td>9.0</td>\n",
       "      <td>109.0</td>\n",
       "      <td>150.0</td>\n",
       "      <td>240.0</td>\n",
       "      <td>8500.0</td>\n",
       "    </tr>\n",
       "  </tbody>\n",
       "</table>\n",
       "</div>"
      ],
      "text/plain": [
       "                count          mean           std     min        25%  \\\n",
       "listing_id  7310950.0  1.541725e+07  8.569190e+06  2818.0  8187901.0   \n",
       "price       1200071.0  2.076556e+02  2.812379e+02     9.0      109.0   \n",
       "\n",
       "                   50%         75%         max  \n",
       "listing_id  15630490.0  22026123.0  30580413.0  \n",
       "price            150.0       240.0      8500.0  "
      ]
     },
     "execution_count": 76,
     "metadata": {},
     "output_type": "execute_result"
    }
   ],
   "source": [
    "df_calendar.describe().T"
   ]
  },
  {
   "cell_type": "code",
   "execution_count": 77,
   "id": "07575a66-ea9b-4352-9c10-3fa99e516e65",
   "metadata": {},
   "outputs": [
    {
     "data": {
      "text/html": [
       "<div>\n",
       "<style scoped>\n",
       "    .dataframe tbody tr th:only-of-type {\n",
       "        vertical-align: middle;\n",
       "    }\n",
       "\n",
       "    .dataframe tbody tr th {\n",
       "        vertical-align: top;\n",
       "    }\n",
       "\n",
       "    .dataframe thead th {\n",
       "        text-align: right;\n",
       "    }\n",
       "</style>\n",
       "<table border=\"1\" class=\"dataframe\">\n",
       "  <thead>\n",
       "    <tr style=\"text-align: right;\">\n",
       "      <th></th>\n",
       "      <th>listing_id</th>\n",
       "      <th>date</th>\n",
       "      <th>available</th>\n",
       "      <th>price</th>\n",
       "    </tr>\n",
       "  </thead>\n",
       "  <tbody>\n",
       "    <tr>\n",
       "      <th>2591232</th>\n",
       "      <td>12213707</td>\n",
       "      <td>2019-02-09</td>\n",
       "      <td>True</td>\n",
       "      <td>8500.0</td>\n",
       "    </tr>\n",
       "    <tr>\n",
       "      <th>2590551</th>\n",
       "      <td>12213707</td>\n",
       "      <td>2019-07-09</td>\n",
       "      <td>True</td>\n",
       "      <td>8500.0</td>\n",
       "    </tr>\n",
       "    <tr>\n",
       "      <th>2590553</th>\n",
       "      <td>12213707</td>\n",
       "      <td>2019-07-07</td>\n",
       "      <td>True</td>\n",
       "      <td>8500.0</td>\n",
       "    </tr>\n",
       "    <tr>\n",
       "      <th>2590554</th>\n",
       "      <td>12213707</td>\n",
       "      <td>2019-07-06</td>\n",
       "      <td>True</td>\n",
       "      <td>8500.0</td>\n",
       "    </tr>\n",
       "    <tr>\n",
       "      <th>2590555</th>\n",
       "      <td>12213707</td>\n",
       "      <td>2019-07-05</td>\n",
       "      <td>True</td>\n",
       "      <td>8500.0</td>\n",
       "    </tr>\n",
       "    <tr>\n",
       "      <th>...</th>\n",
       "      <td>...</td>\n",
       "      <td>...</td>\n",
       "      <td>...</td>\n",
       "      <td>...</td>\n",
       "    </tr>\n",
       "    <tr>\n",
       "      <th>6450375</th>\n",
       "      <td>26791603</td>\n",
       "      <td>2019-09-05</td>\n",
       "      <td>True</td>\n",
       "      <td>241.0</td>\n",
       "    </tr>\n",
       "    <tr>\n",
       "      <th>6450374</th>\n",
       "      <td>26791603</td>\n",
       "      <td>2019-09-06</td>\n",
       "      <td>True</td>\n",
       "      <td>241.0</td>\n",
       "    </tr>\n",
       "    <tr>\n",
       "      <th>6450373</th>\n",
       "      <td>26791603</td>\n",
       "      <td>2019-09-07</td>\n",
       "      <td>True</td>\n",
       "      <td>241.0</td>\n",
       "    </tr>\n",
       "    <tr>\n",
       "      <th>6450372</th>\n",
       "      <td>26791603</td>\n",
       "      <td>2019-09-08</td>\n",
       "      <td>True</td>\n",
       "      <td>241.0</td>\n",
       "    </tr>\n",
       "    <tr>\n",
       "      <th>5782239</th>\n",
       "      <td>23494410</td>\n",
       "      <td>2019-11-01</td>\n",
       "      <td>True</td>\n",
       "      <td>241.0</td>\n",
       "    </tr>\n",
       "  </tbody>\n",
       "</table>\n",
       "<p>295875 rows × 4 columns</p>\n",
       "</div>"
      ],
      "text/plain": [
       "         listing_id        date  available   price\n",
       "2591232    12213707  2019-02-09       True  8500.0\n",
       "2590551    12213707  2019-07-09       True  8500.0\n",
       "2590553    12213707  2019-07-07       True  8500.0\n",
       "2590554    12213707  2019-07-06       True  8500.0\n",
       "2590555    12213707  2019-07-05       True  8500.0\n",
       "...             ...         ...        ...     ...\n",
       "6450375    26791603  2019-09-05       True   241.0\n",
       "6450374    26791603  2019-09-06       True   241.0\n",
       "6450373    26791603  2019-09-07       True   241.0\n",
       "6450372    26791603  2019-09-08       True   241.0\n",
       "5782239    23494410  2019-11-01       True   241.0\n",
       "\n",
       "[295875 rows x 4 columns]"
      ]
     },
     "execution_count": 77,
     "metadata": {},
     "output_type": "execute_result"
    }
   ],
   "source": [
    "df_calendar.loc[df_calendar['price']>240].sort_values('price',ascending=False)"
   ]
  },
  {
   "cell_type": "code",
   "execution_count": 78,
   "id": "0e32add4-e400-4634-a13b-9db40939bf68",
   "metadata": {},
   "outputs": [
    {
     "data": {
      "text/plain": [
       "listing_id\n",
       "12213707    362\n",
       "22807937      4\n",
       "Name: count, dtype: int64"
      ]
     },
     "execution_count": 78,
     "metadata": {},
     "output_type": "execute_result"
    }
   ],
   "source": [
    "#there are many entries with prices in the 1000s. \n",
    "df_calendar['listing_id'].loc[df_calendar['price']>8000].value_counts()"
   ]
  },
  {
   "cell_type": "code",
   "execution_count": 79,
   "id": "9bdf44b5-0c97-4c12-8eb8-c39d2b455fa0",
   "metadata": {},
   "outputs": [],
   "source": [
    "#it would be best to leave these price values as is for now."
   ]
  },
  {
   "cell_type": "code",
   "execution_count": 80,
   "id": "9ddae6c2-f202-4fb5-a457-708f811d6864",
   "metadata": {},
   "outputs": [
    {
     "data": {
      "text/html": [
       "<div>\n",
       "<style scoped>\n",
       "    .dataframe tbody tr th:only-of-type {\n",
       "        vertical-align: middle;\n",
       "    }\n",
       "\n",
       "    .dataframe tbody tr th {\n",
       "        vertical-align: top;\n",
       "    }\n",
       "\n",
       "    .dataframe thead th {\n",
       "        text-align: right;\n",
       "    }\n",
       "</style>\n",
       "<table border=\"1\" class=\"dataframe\">\n",
       "  <thead>\n",
       "    <tr style=\"text-align: right;\">\n",
       "      <th></th>\n",
       "      <th>count</th>\n",
       "      <th>mean</th>\n",
       "      <th>std</th>\n",
       "      <th>min</th>\n",
       "      <th>25%</th>\n",
       "      <th>50%</th>\n",
       "      <th>75%</th>\n",
       "      <th>max</th>\n",
       "    </tr>\n",
       "  </thead>\n",
       "  <tbody>\n",
       "    <tr>\n",
       "      <th>listing_id</th>\n",
       "      <td>7310950.0</td>\n",
       "      <td>1.541725e+07</td>\n",
       "      <td>8.569190e+06</td>\n",
       "      <td>2818.0</td>\n",
       "      <td>8187901.0</td>\n",
       "      <td>15630490.0</td>\n",
       "      <td>22026123.0</td>\n",
       "      <td>30580413.0</td>\n",
       "    </tr>\n",
       "    <tr>\n",
       "      <th>price</th>\n",
       "      <td>1200071.0</td>\n",
       "      <td>2.076556e+02</td>\n",
       "      <td>2.812379e+02</td>\n",
       "      <td>9.0</td>\n",
       "      <td>109.0</td>\n",
       "      <td>150.0</td>\n",
       "      <td>240.0</td>\n",
       "      <td>8500.0</td>\n",
       "    </tr>\n",
       "  </tbody>\n",
       "</table>\n",
       "</div>"
      ],
      "text/plain": [
       "                count          mean           std     min        25%  \\\n",
       "listing_id  7310950.0  1.541725e+07  8.569190e+06  2818.0  8187901.0   \n",
       "price       1200071.0  2.076556e+02  2.812379e+02     9.0      109.0   \n",
       "\n",
       "                   50%         75%         max  \n",
       "listing_id  15630490.0  22026123.0  30580413.0  \n",
       "price            150.0       240.0      8500.0  "
      ]
     },
     "execution_count": 80,
     "metadata": {},
     "output_type": "execute_result"
    }
   ],
   "source": [
    "df_calendar.describe().T"
   ]
  },
  {
   "cell_type": "markdown",
   "id": "afb40610-4e54-4230-8042-dce8dc3d6153",
   "metadata": {},
   "source": [
    "#### Export checked calendar df"
   ]
  },
  {
   "cell_type": "code",
   "execution_count": 82,
   "id": "9574c87a-093d-4164-89f2-0e34b8a403a7",
   "metadata": {},
   "outputs": [],
   "source": [
    "df_calendar.to_csv(os.path.join(path, 'calendar_checked.csv'))"
   ]
  },
  {
   "cell_type": "markdown",
   "id": "fd5d48e9-507c-476e-b79e-ac889edeebbd",
   "metadata": {},
   "source": [
    "### Listings Details"
   ]
  },
  {
   "cell_type": "code",
   "execution_count": 84,
   "id": "a7ca4377-58b5-4a32-a3a7-7cad2765bc3f",
   "metadata": {},
   "outputs": [
    {
     "name": "stderr",
     "output_type": "stream",
     "text": [
      "C:\\Users\\artoe\\AppData\\Local\\Temp\\ipykernel_6680\\1543842232.py:1: DtypeWarning: Columns (87) have mixed types. Specify dtype option on import or set low_memory=False.\n",
      "  df_list_details = pd.read_csv(os.path.join(path, 'listings_details.csv'), index_col = False)\n"
     ]
    }
   ],
   "source": [
    "df_list_details = pd.read_csv(os.path.join(path, 'listings_details.csv'), index_col = False)"
   ]
  },
  {
   "cell_type": "code",
   "execution_count": 85,
   "id": "275f6c28-1490-4d41-9f4b-0e5bda5a2de3",
   "metadata": {},
   "outputs": [
    {
     "data": {
      "text/plain": [
       "(20030, 96)"
      ]
     },
     "execution_count": 85,
     "metadata": {},
     "output_type": "execute_result"
    }
   ],
   "source": [
    "df_list_details.shape"
   ]
  },
  {
   "cell_type": "code",
   "execution_count": 86,
   "id": "9f5e6bc0-405d-4e11-99a5-da57d1067d39",
   "metadata": {},
   "outputs": [
    {
     "data": {
      "text/plain": [
       "id                                    int64\n",
       "listing_url                          object\n",
       "scrape_id                             int64\n",
       "last_scraped                         object\n",
       "name                                 object\n",
       "summary                              object\n",
       "space                                object\n",
       "description                          object\n",
       "experiences_offered                  object\n",
       "neighborhood_overview                object\n",
       "notes                                object\n",
       "transit                              object\n",
       "access                               object\n",
       "interaction                          object\n",
       "house_rules                          object\n",
       "thumbnail_url                       float64\n",
       "medium_url                          float64\n",
       "picture_url                          object\n",
       "xl_picture_url                      float64\n",
       "host_id                               int64\n",
       "host_url                             object\n",
       "host_name                            object\n",
       "host_since                           object\n",
       "host_location                        object\n",
       "host_about                           object\n",
       "host_response_time                   object\n",
       "host_response_rate                   object\n",
       "host_acceptance_rate                float64\n",
       "host_is_superhost                    object\n",
       "host_thumbnail_url                   object\n",
       "                                     ...   \n",
       "extra_people                         object\n",
       "minimum_nights                        int64\n",
       "maximum_nights                        int64\n",
       "calendar_updated                     object\n",
       "has_availability                     object\n",
       "availability_30                       int64\n",
       "availability_60                       int64\n",
       "availability_90                       int64\n",
       "availability_365                      int64\n",
       "calendar_last_scraped                object\n",
       "number_of_reviews                     int64\n",
       "first_review                         object\n",
       "last_review                          object\n",
       "review_scores_rating                float64\n",
       "review_scores_accuracy              float64\n",
       "review_scores_cleanliness           float64\n",
       "review_scores_checkin               float64\n",
       "review_scores_communication         float64\n",
       "review_scores_location              float64\n",
       "review_scores_value                 float64\n",
       "requires_license                     object\n",
       "license                              object\n",
       "jurisdiction_names                   object\n",
       "instant_bookable                     object\n",
       "is_business_travel_ready             object\n",
       "cancellation_policy                  object\n",
       "require_guest_profile_picture        object\n",
       "require_guest_phone_verification     object\n",
       "calculated_host_listings_count        int64\n",
       "reviews_per_month                   float64\n",
       "Length: 96, dtype: object"
      ]
     },
     "execution_count": 86,
     "metadata": {},
     "output_type": "execute_result"
    }
   ],
   "source": [
    "pd.options.display.min_rows = 100\n",
    "df_list_details.dtypes"
   ]
  },
  {
   "cell_type": "code",
   "execution_count": 87,
   "id": "3bb4e2d5-dea9-4809-8153-da296b0bcaa7",
   "metadata": {},
   "outputs": [],
   "source": [
    "#drop irrelevant columns\n",
    "df_list_details.drop(columns=['scrape_id','last_scraped','neighbourhood','country_code','market','smart_location','availability_30','availability_60','availability_90','calendar_last_scraped'], inplace=True)"
   ]
  },
  {
   "cell_type": "code",
   "execution_count": 88,
   "id": "92f8736a-c76b-40b1-bca6-0d60032d7268",
   "metadata": {},
   "outputs": [],
   "source": [
    "#check for mixed data types"
   ]
  },
  {
   "cell_type": "code",
   "execution_count": 89,
   "id": "1e37233e-8507-405c-8f85-a254a8080390",
   "metadata": {},
   "outputs": [
    {
     "name": "stdout",
     "output_type": "stream",
     "text": [
      "name\n",
      "summary\n",
      "space\n",
      "description\n",
      "neighborhood_overview\n",
      "notes\n",
      "transit\n",
      "access\n",
      "interaction\n",
      "house_rules\n",
      "host_name\n",
      "host_since\n",
      "host_location\n",
      "host_about\n",
      "host_response_time\n",
      "host_response_rate\n",
      "host_is_superhost\n",
      "host_thumbnail_url\n",
      "host_picture_url\n",
      "host_neighbourhood\n",
      "host_verifications\n",
      "host_has_profile_pic\n",
      "host_identity_verified\n",
      "city\n",
      "state\n",
      "zipcode\n",
      "weekly_price\n",
      "monthly_price\n",
      "security_deposit\n",
      "cleaning_fee\n",
      "first_review\n",
      "last_review\n",
      "license\n",
      "jurisdiction_names\n"
     ]
    }
   ],
   "source": [
    "for col in df_list_details.columns.tolist():\n",
    "  weird = (df_list_details[[col]].map(type) != df_list_details[[col]].iloc[0].apply(type)).any(axis = 1)\n",
    "  if len (df_list_details[weird]) > 0:\n",
    "    print (col)"
   ]
  },
  {
   "cell_type": "markdown",
   "id": "326c6ed9-390b-4a03-a6c0-461b043db385",
   "metadata": {},
   "source": [
    "##### Converting columns to str"
   ]
  },
  {
   "cell_type": "code",
   "execution_count": 91,
   "id": "700f686c-e3c6-4c56-92fb-28c238e201b5",
   "metadata": {},
   "outputs": [],
   "source": [
    "df_list_details[[\"name\", \"summary\", \"space\", \"description\", \"neighborhood_overview\", \"notes\", \"transit\", \"interaction\", \"house_rules\", \"host_name\", \"host_location\"]] = df_list_details[[\"name\", \"summary\", \"space\", \"description\", \"neighborhood_overview\", \"notes\", \"transit\", \"interaction\", \"house_rules\", \"host_name\", \"host_location\"]].astype('str')"
   ]
  },
  {
   "cell_type": "code",
   "execution_count": 92,
   "id": "226a2219-0a7b-42ec-852b-5a91f08f7ec1",
   "metadata": {},
   "outputs": [
    {
     "data": {
      "text/plain": [
       "id                                    int64\n",
       "listing_url                          object\n",
       "name                                 object\n",
       "summary                              object\n",
       "space                                object\n",
       "description                          object\n",
       "experiences_offered                  object\n",
       "neighborhood_overview                object\n",
       "notes                                object\n",
       "transit                              object\n",
       "access                               object\n",
       "interaction                          object\n",
       "house_rules                          object\n",
       "thumbnail_url                       float64\n",
       "medium_url                          float64\n",
       "picture_url                          object\n",
       "xl_picture_url                      float64\n",
       "host_id                               int64\n",
       "host_url                             object\n",
       "host_name                            object\n",
       "host_since                           object\n",
       "host_location                        object\n",
       "host_about                           object\n",
       "host_response_time                   object\n",
       "host_response_rate                   object\n",
       "host_acceptance_rate                float64\n",
       "host_is_superhost                    object\n",
       "host_thumbnail_url                   object\n",
       "host_picture_url                     object\n",
       "host_neighbourhood                   object\n",
       "                                     ...   \n",
       "monthly_price                        object\n",
       "security_deposit                     object\n",
       "cleaning_fee                         object\n",
       "guests_included                       int64\n",
       "extra_people                         object\n",
       "minimum_nights                        int64\n",
       "maximum_nights                        int64\n",
       "calendar_updated                     object\n",
       "has_availability                     object\n",
       "availability_365                      int64\n",
       "number_of_reviews                     int64\n",
       "first_review                         object\n",
       "last_review                          object\n",
       "review_scores_rating                float64\n",
       "review_scores_accuracy              float64\n",
       "review_scores_cleanliness           float64\n",
       "review_scores_checkin               float64\n",
       "review_scores_communication         float64\n",
       "review_scores_location              float64\n",
       "review_scores_value                 float64\n",
       "requires_license                     object\n",
       "license                              object\n",
       "jurisdiction_names                   object\n",
       "instant_bookable                     object\n",
       "is_business_travel_ready             object\n",
       "cancellation_policy                  object\n",
       "require_guest_profile_picture        object\n",
       "require_guest_phone_verification     object\n",
       "calculated_host_listings_count        int64\n",
       "reviews_per_month                   float64\n",
       "Length: 86, dtype: object"
      ]
     },
     "execution_count": 92,
     "metadata": {},
     "output_type": "execute_result"
    }
   ],
   "source": [
    "df_list_details.dtypes"
   ]
  },
  {
   "cell_type": "markdown",
   "id": "97793a5f-3319-40a4-b95c-f818e838917d",
   "metadata": {},
   "source": [
    "##### Converting columns to bool"
   ]
  },
  {
   "cell_type": "code",
   "execution_count": 94,
   "id": "3e1a5ffc-4b3f-4739-b4e3-862e60059420",
   "metadata": {},
   "outputs": [
    {
     "name": "stderr",
     "output_type": "stream",
     "text": [
      "C:\\Users\\artoe\\AppData\\Local\\Temp\\ipykernel_6680\\1495566423.py:2: FutureWarning: Downcasting behavior in `replace` is deprecated and will be removed in a future version. To retain the old behavior, explicitly call `result.infer_objects(copy=False)`. To opt-in to the future behavior, set `pd.set_option('future.no_silent_downcasting', True)`\n",
      "  df_list_details[[\"host_is_superhost\", \"host_has_profile_pic\", \"host_identity_verified\", \"is_location_exact\", \"has_availability\", \"requires_license\", \"instant_bookable\", \"is_business_travel_ready\", \"require_guest_profile_picture\", \"require_guest_phone_verification\"]] = df_list_details[[\"host_is_superhost\", \"host_has_profile_pic\", \"host_identity_verified\", \"is_location_exact\", \"has_availability\", \"requires_license\", \"instant_bookable\", \"is_business_travel_ready\", \"require_guest_profile_picture\", \"require_guest_phone_verification\"]].replace({'t': True, 'f': False})\n"
     ]
    }
   ],
   "source": [
    "#many columns contain values 't' and 'f'. these can be converted from object to bool\n",
    "df_list_details[[\"host_is_superhost\", \"host_has_profile_pic\", \"host_identity_verified\", \"is_location_exact\", \"has_availability\", \"requires_license\", \"instant_bookable\", \"is_business_travel_ready\", \"require_guest_profile_picture\", \"require_guest_phone_verification\"]] = df_list_details[[\"host_is_superhost\", \"host_has_profile_pic\", \"host_identity_verified\", \"is_location_exact\", \"has_availability\", \"requires_license\", \"instant_bookable\", \"is_business_travel_ready\", \"require_guest_profile_picture\", \"require_guest_phone_verification\"]].replace({'t': True, 'f': False})"
   ]
  },
  {
   "cell_type": "code",
   "execution_count": 95,
   "id": "997310d5-fe94-4e79-acd3-75a8f30dd8df",
   "metadata": {},
   "outputs": [
    {
     "data": {
      "text/plain": [
       "host_is_superhost                   object\n",
       "host_has_profile_pic                object\n",
       "host_identity_verified              object\n",
       "is_location_exact                     bool\n",
       "has_availability                      bool\n",
       "requires_license                      bool\n",
       "instant_bookable                      bool\n",
       "is_business_travel_ready              bool\n",
       "require_guest_profile_picture         bool\n",
       "require_guest_phone_verification      bool\n",
       "dtype: object"
      ]
     },
     "execution_count": 95,
     "metadata": {},
     "output_type": "execute_result"
    }
   ],
   "source": [
    "df_list_details[[\"host_is_superhost\", \"host_has_profile_pic\", \"host_identity_verified\", \"is_location_exact\", \"has_availability\", \"requires_license\", \"instant_bookable\", \"is_business_travel_ready\", \"require_guest_profile_picture\", \"require_guest_phone_verification\"]].dtypes"
   ]
  },
  {
   "cell_type": "code",
   "execution_count": 96,
   "id": "415349f1-607c-45fc-a46d-2a17acf6f9e3",
   "metadata": {},
   "outputs": [
    {
     "name": "stdout",
     "output_type": "stream",
     "text": [
      "host_is_superhost\n",
      "host_has_profile_pic\n",
      "host_identity_verified\n"
     ]
    }
   ],
   "source": [
    "for col in df_list_details[[\"host_is_superhost\", \"host_has_profile_pic\", \"host_identity_verified\"]].columns.tolist():\n",
    "  weird = (df_list_details[[\"host_is_superhost\", \"host_has_profile_pic\", \"host_identity_verified\"]][[col]].map(type) != df_list_details[[\"host_is_superhost\", \"host_has_profile_pic\", \"host_identity_verified\"]][[col]].iloc[0].apply(type)).any(axis = 1)\n",
    "  if len (df_list_details[[\"host_is_superhost\", \"host_has_profile_pic\", \"host_identity_verified\"]][weird]) > 0:\n",
    "    print (col)"
   ]
  },
  {
   "cell_type": "code",
   "execution_count": 97,
   "id": "aaeea24b-3d53-451a-a95e-4b06de793b89",
   "metadata": {},
   "outputs": [
    {
     "data": {
      "text/plain": [
       "host_is_superhost\n",
       "False    16856\n",
       "True      3170\n",
       "Name: count, dtype: int64"
      ]
     },
     "execution_count": 97,
     "metadata": {},
     "output_type": "execute_result"
    }
   ],
   "source": [
    "df_list_details[\"host_is_superhost\"].value_counts()"
   ]
  },
  {
   "cell_type": "code",
   "execution_count": 98,
   "id": "458bc814-5345-474d-a020-0c1f9b93f189",
   "metadata": {},
   "outputs": [
    {
     "data": {
      "text/plain": [
       "host_has_profile_pic\n",
       "True     20005\n",
       "False       21\n",
       "Name: count, dtype: int64"
      ]
     },
     "execution_count": 98,
     "metadata": {},
     "output_type": "execute_result"
    }
   ],
   "source": [
    "df_list_details[\"host_has_profile_pic\"].value_counts()"
   ]
  },
  {
   "cell_type": "code",
   "execution_count": 99,
   "id": "e5c93e68-ab33-46ae-b2cd-f75ce7a4939d",
   "metadata": {},
   "outputs": [
    {
     "data": {
      "text/plain": [
       "host_identity_verified\n",
       "False    11755\n",
       "True      8271\n",
       "Name: count, dtype: int64"
      ]
     },
     "execution_count": 99,
     "metadata": {},
     "output_type": "execute_result"
    }
   ],
   "source": [
    "df_list_details[\"host_identity_verified\"].value_counts()"
   ]
  },
  {
   "cell_type": "code",
   "execution_count": 100,
   "id": "788f3b1e-bb08-441d-931d-71ed4b6ab7e7",
   "metadata": {},
   "outputs": [],
   "source": [
    "df_list_details[[\"host_is_superhost\", \"host_has_profile_pic\", \"host_identity_verified\"]] = df_list_details[[\"host_is_superhost\", \"host_has_profile_pic\", \"host_identity_verified\"]].replace({'True': 1, 'False': 0})"
   ]
  },
  {
   "cell_type": "code",
   "execution_count": 101,
   "id": "b888b968-f637-44d5-9c03-21a160374217",
   "metadata": {},
   "outputs": [],
   "source": [
    "df_list_details[[\"host_is_superhost\", \"host_has_profile_pic\", \"host_identity_verified\"]] = df_list_details[[\"host_is_superhost\", \"host_has_profile_pic\", \"host_identity_verified\"]].astype('bool')"
   ]
  },
  {
   "cell_type": "code",
   "execution_count": 102,
   "id": "d5eaf88c-a4de-411d-9e8b-b35237eee6df",
   "metadata": {},
   "outputs": [
    {
     "data": {
      "text/html": [
       "<div>\n",
       "<style scoped>\n",
       "    .dataframe tbody tr th:only-of-type {\n",
       "        vertical-align: middle;\n",
       "    }\n",
       "\n",
       "    .dataframe tbody tr th {\n",
       "        vertical-align: top;\n",
       "    }\n",
       "\n",
       "    .dataframe thead th {\n",
       "        text-align: right;\n",
       "    }\n",
       "</style>\n",
       "<table border=\"1\" class=\"dataframe\">\n",
       "  <thead>\n",
       "    <tr style=\"text-align: right;\">\n",
       "      <th></th>\n",
       "      <th>host_is_superhost</th>\n",
       "      <th>host_has_profile_pic</th>\n",
       "      <th>host_identity_verified</th>\n",
       "    </tr>\n",
       "  </thead>\n",
       "  <tbody>\n",
       "    <tr>\n",
       "      <th>0</th>\n",
       "      <td>True</td>\n",
       "      <td>True</td>\n",
       "      <td>False</td>\n",
       "    </tr>\n",
       "    <tr>\n",
       "      <th>1</th>\n",
       "      <td>False</td>\n",
       "      <td>True</td>\n",
       "      <td>True</td>\n",
       "    </tr>\n",
       "    <tr>\n",
       "      <th>2</th>\n",
       "      <td>False</td>\n",
       "      <td>True</td>\n",
       "      <td>False</td>\n",
       "    </tr>\n",
       "    <tr>\n",
       "      <th>3</th>\n",
       "      <td>False</td>\n",
       "      <td>True</td>\n",
       "      <td>False</td>\n",
       "    </tr>\n",
       "    <tr>\n",
       "      <th>4</th>\n",
       "      <td>True</td>\n",
       "      <td>True</td>\n",
       "      <td>True</td>\n",
       "    </tr>\n",
       "  </tbody>\n",
       "</table>\n",
       "</div>"
      ],
      "text/plain": [
       "   host_is_superhost  host_has_profile_pic  host_identity_verified\n",
       "0               True                  True                   False\n",
       "1              False                  True                    True\n",
       "2              False                  True                   False\n",
       "3              False                  True                   False\n",
       "4               True                  True                    True"
      ]
     },
     "execution_count": 102,
     "metadata": {},
     "output_type": "execute_result"
    }
   ],
   "source": [
    "df_list_details[[\"host_is_superhost\", \"host_has_profile_pic\", \"host_identity_verified\"]].head()"
   ]
  },
  {
   "cell_type": "code",
   "execution_count": 103,
   "id": "e00d9ba6-0c8e-4dc5-814d-9df97cc9784d",
   "metadata": {
    "scrolled": true
   },
   "outputs": [
    {
     "data": {
      "text/plain": [
       "host_is_superhost                   bool\n",
       "host_has_profile_pic                bool\n",
       "host_identity_verified              bool\n",
       "is_location_exact                   bool\n",
       "has_availability                    bool\n",
       "requires_license                    bool\n",
       "instant_bookable                    bool\n",
       "is_business_travel_ready            bool\n",
       "require_guest_profile_picture       bool\n",
       "require_guest_phone_verification    bool\n",
       "dtype: object"
      ]
     },
     "execution_count": 103,
     "metadata": {},
     "output_type": "execute_result"
    }
   ],
   "source": [
    "df_list_details[[\"host_is_superhost\", \"host_has_profile_pic\", \"host_identity_verified\", \"is_location_exact\", \"has_availability\", \"requires_license\", \"instant_bookable\", \"is_business_travel_ready\", \"require_guest_profile_picture\", \"require_guest_phone_verification\"]].dtypes"
   ]
  },
  {
   "cell_type": "markdown",
   "id": "4eaaaeb7-9702-4e65-80a0-c83147c713bf",
   "metadata": {},
   "source": [
    "##### Converting price-related columns to float64"
   ]
  },
  {
   "cell_type": "code",
   "execution_count": 105,
   "id": "653d338f-4aa9-4ebb-8922-50aabf8f4864",
   "metadata": {},
   "outputs": [
    {
     "data": {
      "text/plain": [
       "price            object\n",
       "weekly_price     object\n",
       "monthly_price    object\n",
       "cleaning_fee     object\n",
       "extra_people     object\n",
       "dtype: object"
      ]
     },
     "execution_count": 105,
     "metadata": {},
     "output_type": "execute_result"
    }
   ],
   "source": [
    "df_list_details[[\"price\", \"weekly_price\", \"monthly_price\", \"cleaning_fee\", \"extra_people\"]].dtypes"
   ]
  },
  {
   "cell_type": "code",
   "execution_count": 106,
   "id": "7cc0dfb3-5a02-45c1-9374-1b967ac17e9f",
   "metadata": {},
   "outputs": [],
   "source": [
    "df_list_details['price'] = df_list_details['price'].str.replace('$', '')"
   ]
  },
  {
   "cell_type": "code",
   "execution_count": 107,
   "id": "8e2f1e17-2b93-44ca-b7dc-87565891a8df",
   "metadata": {},
   "outputs": [],
   "source": [
    "df_list_details['price'] = df_list_details['price'].str.replace(',', '')"
   ]
  },
  {
   "cell_type": "code",
   "execution_count": 108,
   "id": "6482309b-74b4-43ed-ac3d-1f73f589f63f",
   "metadata": {},
   "outputs": [],
   "source": [
    "df_list_details['monthly_price'] = df_list_details['monthly_price'].str.replace('$', '')"
   ]
  },
  {
   "cell_type": "code",
   "execution_count": 109,
   "id": "68ab99cb-a036-44b9-b446-79bc2526106b",
   "metadata": {},
   "outputs": [],
   "source": [
    "df_list_details['monthly_price'] = df_list_details['monthly_price'].str.replace(',', '')"
   ]
  },
  {
   "cell_type": "code",
   "execution_count": 110,
   "id": "6efcf518-7b31-47ce-a199-142a5e8efa20",
   "metadata": {},
   "outputs": [],
   "source": [
    "df_list_details['weekly_price'] = df_list_details['weekly_price'].str.replace('$', '')"
   ]
  },
  {
   "cell_type": "code",
   "execution_count": 111,
   "id": "23c440c4-afc8-463c-8da7-cca0d92b160b",
   "metadata": {},
   "outputs": [],
   "source": [
    "df_list_details['weekly_price'] = df_list_details['weekly_price'].str.replace(',', '')"
   ]
  },
  {
   "cell_type": "code",
   "execution_count": 112,
   "id": "58f6bc0d-3dac-4114-999a-7ae06956b923",
   "metadata": {},
   "outputs": [],
   "source": [
    "df_list_details['cleaning_fee'] = df_list_details['cleaning_fee'].str.replace('$', '')"
   ]
  },
  {
   "cell_type": "code",
   "execution_count": 113,
   "id": "7280c6cb-696a-42f6-8f7f-0f559409ea58",
   "metadata": {},
   "outputs": [],
   "source": [
    "df_list_details['cleaning_fee'] = df_list_details['cleaning_fee'].str.replace(',', '')"
   ]
  },
  {
   "cell_type": "code",
   "execution_count": 114,
   "id": "15618800-c6df-4742-8d9a-5dd5b7ebbaee",
   "metadata": {},
   "outputs": [],
   "source": [
    "df_list_details['extra_people'] = df_list_details['extra_people'].str.replace('$','')"
   ]
  },
  {
   "cell_type": "code",
   "execution_count": 115,
   "id": "86ddc6bb-51cb-490c-ac65-c73bceec2551",
   "metadata": {},
   "outputs": [],
   "source": [
    "df_list_details['extra_people'] = df_list_details['extra_people'].str.replace(',','')"
   ]
  },
  {
   "cell_type": "code",
   "execution_count": 116,
   "id": "5c0e0aaa-73d4-4ad5-ada0-f57138718850",
   "metadata": {},
   "outputs": [],
   "source": [
    "#convert these columns to float64\n",
    "df_list_details['weekly_price'] = df_list_details['weekly_price'].astype('float64')"
   ]
  },
  {
   "cell_type": "code",
   "execution_count": 117,
   "id": "72470086-8ef9-4366-acb3-4aea776fc54c",
   "metadata": {},
   "outputs": [],
   "source": [
    "df_list_details['price'] = df_list_details['price'].astype('float64')"
   ]
  },
  {
   "cell_type": "code",
   "execution_count": 118,
   "id": "943cc2f9-2f30-4efc-a5e6-7a99330a36c5",
   "metadata": {},
   "outputs": [],
   "source": [
    "df_list_details['weekly_price'] = df_list_details['weekly_price'].astype('float64')"
   ]
  },
  {
   "cell_type": "code",
   "execution_count": 119,
   "id": "602618e5-d53b-484a-9d54-b801c5c417d6",
   "metadata": {},
   "outputs": [],
   "source": [
    "df_list_details['monthly_price'] = df_list_details['monthly_price'].astype('float64')"
   ]
  },
  {
   "cell_type": "code",
   "execution_count": 120,
   "id": "4bc6ea1f-0138-42a9-b905-8dae02783eea",
   "metadata": {},
   "outputs": [],
   "source": [
    "df_list_details['cleaning_fee'] = df_list_details['cleaning_fee'].astype('float64')"
   ]
  },
  {
   "cell_type": "code",
   "execution_count": 121,
   "id": "7115db80-6ee7-43fe-9006-fce636d06c68",
   "metadata": {},
   "outputs": [],
   "source": [
    "df_list_details['extra_people'] = df_list_details['extra_people'].astype('float64')"
   ]
  },
  {
   "cell_type": "code",
   "execution_count": 122,
   "id": "7a857494-b727-44de-a749-bce793133647",
   "metadata": {},
   "outputs": [
    {
     "data": {
      "text/html": [
       "<div>\n",
       "<style scoped>\n",
       "    .dataframe tbody tr th:only-of-type {\n",
       "        vertical-align: middle;\n",
       "    }\n",
       "\n",
       "    .dataframe tbody tr th {\n",
       "        vertical-align: top;\n",
       "    }\n",
       "\n",
       "    .dataframe thead th {\n",
       "        text-align: right;\n",
       "    }\n",
       "</style>\n",
       "<table border=\"1\" class=\"dataframe\">\n",
       "  <thead>\n",
       "    <tr style=\"text-align: right;\">\n",
       "      <th></th>\n",
       "      <th>price</th>\n",
       "      <th>weekly_price</th>\n",
       "      <th>monthly_price</th>\n",
       "      <th>cleaning_fee</th>\n",
       "      <th>extra_people</th>\n",
       "    </tr>\n",
       "  </thead>\n",
       "  <tbody>\n",
       "    <tr>\n",
       "      <th>0</th>\n",
       "      <td>59.0</td>\n",
       "      <td>NaN</td>\n",
       "      <td>1500.0</td>\n",
       "      <td>50.0</td>\n",
       "      <td>20.0</td>\n",
       "    </tr>\n",
       "    <tr>\n",
       "      <th>1</th>\n",
       "      <td>160.0</td>\n",
       "      <td>543.0</td>\n",
       "      <td>2000.0</td>\n",
       "      <td>40.0</td>\n",
       "      <td>15.0</td>\n",
       "    </tr>\n",
       "    <tr>\n",
       "      <th>2</th>\n",
       "      <td>80.0</td>\n",
       "      <td>NaN</td>\n",
       "      <td>NaN</td>\n",
       "      <td>NaN</td>\n",
       "      <td>0.0</td>\n",
       "    </tr>\n",
       "    <tr>\n",
       "      <th>3</th>\n",
       "      <td>125.0</td>\n",
       "      <td>650.0</td>\n",
       "      <td>2000.0</td>\n",
       "      <td>40.0</td>\n",
       "      <td>10.0</td>\n",
       "    </tr>\n",
       "    <tr>\n",
       "      <th>4</th>\n",
       "      <td>150.0</td>\n",
       "      <td>810.0</td>\n",
       "      <td>2500.0</td>\n",
       "      <td>0.0</td>\n",
       "      <td>0.0</td>\n",
       "    </tr>\n",
       "  </tbody>\n",
       "</table>\n",
       "</div>"
      ],
      "text/plain": [
       "   price  weekly_price  monthly_price  cleaning_fee  extra_people\n",
       "0   59.0           NaN         1500.0          50.0          20.0\n",
       "1  160.0         543.0         2000.0          40.0          15.0\n",
       "2   80.0           NaN            NaN           NaN           0.0\n",
       "3  125.0         650.0         2000.0          40.0          10.0\n",
       "4  150.0         810.0         2500.0           0.0           0.0"
      ]
     },
     "execution_count": 122,
     "metadata": {},
     "output_type": "execute_result"
    }
   ],
   "source": [
    "df_list_details[[\"price\",\"weekly_price\",\"monthly_price\",\"cleaning_fee\",\"extra_people\"]].head()"
   ]
  },
  {
   "cell_type": "markdown",
   "id": "49723ef9-1140-48cf-9f76-a65cda2b8682",
   "metadata": {},
   "source": [
    "#### Finding Duplicates"
   ]
  },
  {
   "cell_type": "code",
   "execution_count": 124,
   "id": "2bfc2f88-b147-472b-a223-4eba389e9cbc",
   "metadata": {},
   "outputs": [],
   "source": [
    "#the columns id and listing_url should be unique for each row, therefore should be checked for duplicates\n",
    "df_listdetails_dups = df_list_details[[\"id\", \"listing_url\"]].duplicated()"
   ]
  },
  {
   "cell_type": "code",
   "execution_count": 125,
   "id": "648554e2-2010-4d0d-bfb7-2171e2be9dc3",
   "metadata": {},
   "outputs": [
    {
     "data": {
      "text/plain": [
       "(20030,)"
      ]
     },
     "execution_count": 125,
     "metadata": {},
     "output_type": "execute_result"
    }
   ],
   "source": [
    "df_listdetails_dups.shape"
   ]
  },
  {
   "cell_type": "code",
   "execution_count": 126,
   "id": "acbed1be-5567-4e3b-9b19-cfacc488efad",
   "metadata": {},
   "outputs": [],
   "source": [
    "df_listdetails_id_dups = df_list_details['id'].duplicated()"
   ]
  },
  {
   "cell_type": "code",
   "execution_count": 127,
   "id": "7c9cc343-6837-4190-ad33-923767e25d55",
   "metadata": {},
   "outputs": [
    {
     "data": {
      "text/plain": [
       "0"
      ]
     },
     "execution_count": 127,
     "metadata": {},
     "output_type": "execute_result"
    }
   ],
   "source": [
    "df_listdetails_id_dups.sum()"
   ]
  },
  {
   "cell_type": "code",
   "execution_count": 128,
   "id": "0cdce32b-498d-4a69-8d13-6e3d8d2690b3",
   "metadata": {},
   "outputs": [],
   "source": [
    "df_listdetails_url_dups = df_list_details['listing_url'].duplicated()"
   ]
  },
  {
   "cell_type": "code",
   "execution_count": 129,
   "id": "f0b44f53-6bbb-4d98-91fa-a0a2675a2df9",
   "metadata": {},
   "outputs": [
    {
     "data": {
      "text/plain": [
       "0"
      ]
     },
     "execution_count": 129,
     "metadata": {},
     "output_type": "execute_result"
    }
   ],
   "source": [
    "df_listdetails_url_dups.sum()"
   ]
  },
  {
   "cell_type": "code",
   "execution_count": 130,
   "id": "abc22c58-1374-44d6-8e84-7be1b39ff349",
   "metadata": {},
   "outputs": [],
   "source": [
    "#there are no duplicate rows"
   ]
  },
  {
   "cell_type": "markdown",
   "id": "96f0155a-8345-4bd2-bdc9-c08a07c5c425",
   "metadata": {},
   "source": [
    "#### Finding and addressing nulls"
   ]
  },
  {
   "cell_type": "code",
   "execution_count": 132,
   "id": "5856676d-bad8-417a-81fa-ad53b6073aee",
   "metadata": {},
   "outputs": [
    {
     "data": {
      "text/plain": [
       "xl_picture_url                  20030\n",
       "neighbourhood_group_cleansed    20030\n",
       "medium_url                      20030\n",
       "thumbnail_url                   20030\n",
       "host_acceptance_rate            20030\n",
       "license                         20021\n",
       "square_feet                     19624\n",
       "monthly_price                   18469\n",
       "weekly_price                    17187\n",
       "host_response_time               9483\n",
       "host_response_rate               9483\n",
       "host_about                       8227\n",
       "access                           7803\n",
       "security_deposit                 6166\n",
       "host_neighbourhood               5808\n",
       "cleaning_fee                     3629\n",
       "review_scores_checkin            2661\n",
       "review_scores_location           2660\n",
       "review_scores_value              2659\n",
       "review_scores_communication      2652\n",
       "review_scores_accuracy           2649\n",
       "review_scores_cleanliness        2647\n",
       "review_scores_rating             2639\n",
       "last_review                      2406\n",
       "first_review                     2406\n",
       "reviews_per_month                2406\n",
       "zipcode                           866\n",
       "jurisdiction_names                672\n",
       "state                             127\n",
       "bathrooms                          10\n",
       "                                ...  \n",
       "host_name                           0\n",
       "name                                0\n",
       "summary                             0\n",
       "space                               0\n",
       "description                         0\n",
       "experiences_offered                 0\n",
       "neighborhood_overview               0\n",
       "notes                               0\n",
       "transit                             0\n",
       "interaction                         0\n",
       "house_rules                         0\n",
       "picture_url                         0\n",
       "host_id                             0\n",
       "host_url                            0\n",
       "host_location                       0\n",
       "amenities                           0\n",
       "host_is_superhost                   0\n",
       "host_has_profile_pic                0\n",
       "host_identity_verified              0\n",
       "street                              0\n",
       "neighbourhood_cleansed              0\n",
       "country                             0\n",
       "latitude                            0\n",
       "listing_url                         0\n",
       "is_location_exact                   0\n",
       "property_type                       0\n",
       "room_type                           0\n",
       "accommodates                        0\n",
       "bed_type                            0\n",
       "longitude                           0\n",
       "Length: 86, dtype: int64"
      ]
     },
     "execution_count": 132,
     "metadata": {},
     "output_type": "execute_result"
    }
   ],
   "source": [
    "pd.options.display.min_rows = 96\n",
    "df_list_details.isnull().sum().sort_values(ascending=False)"
   ]
  },
  {
   "cell_type": "code",
   "execution_count": 133,
   "id": "5b99327b-8cb6-42cf-9cad-2b660b185e30",
   "metadata": {},
   "outputs": [],
   "source": [
    "#5 columns are completely empty, therefore they can be dropped right away\n",
    "df_list_details.drop(columns=['host_acceptance_rate', 'xl_picture_url', 'neighbourhood_group_cleansed', 'medium_url', 'thumbnail_url'], inplace=True)"
   ]
  },
  {
   "cell_type": "code",
   "execution_count": 134,
   "id": "cc3cacf6-e5bb-4f57-92e5-e962ce4031c8",
   "metadata": {},
   "outputs": [],
   "source": [
    "#view the rest of the columns with nulls"
   ]
  },
  {
   "cell_type": "code",
   "execution_count": 135,
   "id": "d5aa1a6f-7f08-4d1f-a82a-56ff572f5f6c",
   "metadata": {},
   "outputs": [
    {
     "data": {
      "text/plain": [
       "license                        20021\n",
       "square_feet                    19624\n",
       "monthly_price                  18469\n",
       "weekly_price                   17187\n",
       "host_response_rate              9483\n",
       "host_response_time              9483\n",
       "host_about                      8227\n",
       "access                          7803\n",
       "security_deposit                6166\n",
       "host_neighbourhood              5808\n",
       "cleaning_fee                    3629\n",
       "review_scores_checkin           2661\n",
       "review_scores_location          2660\n",
       "review_scores_value             2659\n",
       "review_scores_communication     2652\n",
       "review_scores_accuracy          2649\n",
       "review_scores_cleanliness       2647\n",
       "review_scores_rating            2639\n",
       "last_review                     2406\n",
       "first_review                    2406\n",
       "reviews_per_month               2406\n",
       "zipcode                          866\n",
       "jurisdiction_names               672\n",
       "state                            127\n",
       "bathrooms                         10\n",
       "bedrooms                           8\n",
       "beds                               7\n",
       "city                               4\n",
       "host_since                         4\n",
       "host_picture_url                   4\n",
       "                               ...  \n",
       "host_name                          0\n",
       "name                               0\n",
       "summary                            0\n",
       "space                              0\n",
       "description                        0\n",
       "experiences_offered                0\n",
       "neighborhood_overview              0\n",
       "notes                              0\n",
       "transit                            0\n",
       "interaction                        0\n",
       "house_rules                        0\n",
       "picture_url                        0\n",
       "host_id                            0\n",
       "host_url                           0\n",
       "host_location                      0\n",
       "amenities                          0\n",
       "host_is_superhost                  0\n",
       "host_has_profile_pic               0\n",
       "host_identity_verified             0\n",
       "street                             0\n",
       "neighbourhood_cleansed             0\n",
       "country                            0\n",
       "latitude                           0\n",
       "longitude                          0\n",
       "is_location_exact                  0\n",
       "listing_url                        0\n",
       "room_type                          0\n",
       "accommodates                       0\n",
       "bed_type                           0\n",
       "property_type                      0\n",
       "Length: 81, dtype: int64"
      ]
     },
     "execution_count": 135,
     "metadata": {},
     "output_type": "execute_result"
    }
   ],
   "source": [
    "pd.options.display.min_rows = 96\n",
    "df_list_details.isnull().sum().sort_values(ascending=False)"
   ]
  },
  {
   "cell_type": "code",
   "execution_count": 136,
   "id": "4ff99e21-88b8-4b98-8073-d224844aab1c",
   "metadata": {},
   "outputs": [
    {
     "data": {
      "text/plain": [
       "city\n",
       "Amsterdam                       19715\n",
       "Amsterdam-Zuidoost                193\n",
       "Amsterdam Zuid-Oost                35\n",
       "Amsterdam                          10\n",
       "Badhoevedorp                        9\n",
       "Diemen                              8\n",
       "De Pijp                             7\n",
       "Amstelveen                          7\n",
       "Watergraafsmeer                     6\n",
       "Duivendrecht                        6\n",
       "Jordaan                             5\n",
       "Amsterdam (Zunderdorp)              3\n",
       "Halfweg                             3\n",
       "Amsterdam Zuidoost                  2\n",
       "Zeeburg                             2\n",
       "Amsterdão                           1\n",
       "Ouderkerk aan de Amstel             1\n",
       "Buitenveldert                       1\n",
       "Weesp                               1\n",
       "Zeeburgerkade                       1\n",
       "1015 SN Amsterdam                   1\n",
       "Ámsterdam                           1\n",
       "Nederland                           1\n",
       "Amsterdam, Noord-Holland, NL        1\n",
       "Lijnden                             1\n",
       "Amsterdam West                      1\n",
       "Jordaan, Amsterdam                  1\n",
       "Haarlem                             1\n",
       "Амстердам                           1\n",
       "Zaandam                             1\n",
       "Name: count, dtype: int64"
      ]
     },
     "execution_count": 136,
     "metadata": {},
     "output_type": "execute_result"
    }
   ],
   "source": [
    "#city and state contain small numbers of nulls. these might be easily imputed\n",
    "#to double check, display value counts for these two columns\n",
    "pd.options.display.min_rows = 30\n",
    "df_list_details['city'].value_counts()"
   ]
  },
  {
   "cell_type": "code",
   "execution_count": 137,
   "id": "25c1d8a3-c4b4-4127-bd7f-cc9db4c8e8ab",
   "metadata": {},
   "outputs": [],
   "source": [
    "#we cannot impute a value into the 4 nulls for city without further examining these rows"
   ]
  },
  {
   "cell_type": "code",
   "execution_count": 138,
   "id": "5816d46f-af17-4384-9123-31fb4b0341b8",
   "metadata": {},
   "outputs": [
    {
     "data": {
      "text/plain": [
       "state\n",
       "Noord-Holland                      15579\n",
       "North Holland                       2951\n",
       "NH                                  1278\n",
       "Netherlands                           15\n",
       "Noord Holland                         15\n",
       "Badhoevedorp                           7\n",
       "Amsterdam                              7\n",
       "XH                                     2\n",
       "Bilderdijkstraat                       2\n",
       "NL                                     2\n",
       "SN                                     1\n",
       "Pieter Calandlaan                      1\n",
       "JT                                     1\n",
       "Nassaukade                             1\n",
       "VX                                     1\n",
       "BE                                     1\n",
       "RJ                                     1\n",
       "LN                                     1\n",
       "DP                                     1\n",
       "CE                                     1\n",
       "NB                                     1\n",
       "TL                                     1\n",
       "KX                                     1\n",
       "nh                                     1\n",
       "Albert Cuypstraat 100-3A               1\n",
       "WD                                     1\n",
       "Lanseloetstraat 3                      1\n",
       "Europe                                 1\n",
       "Nord Holland                           1\n",
       "Wibautstraat                           1\n",
       "North-Holland                          1\n",
       "Overtoom                               1\n",
       "Zuiderzeeweg                           1\n",
       "Zeedijk                                1\n",
       "NM                                     1\n",
       "Nh                                     1\n",
       "Noordholland                           1\n",
       "Emmy andriessestraat                   1\n",
       "Holland                                1\n",
       "SX                                     1\n",
       "North                                  1\n",
       "MK                                     1\n",
       "Fritz Dietrich Kahlenbergstraat        1\n",
       "AH                                     1\n",
       "GA                                     1\n",
       "Borgerstraat                           1\n",
       "BW                                     1\n",
       "Blancefloorstraat                      1\n",
       "GD                                     1\n",
       "Amstel                                 1\n",
       "Noord-Holland,1074 ES                  1\n",
       "GE                                     1\n",
       "Modern                                 1\n",
       "boord Holland                          1\n",
       "GJ                                     1\n",
       "Name: count, dtype: int64"
      ]
     },
     "execution_count": 138,
     "metadata": {},
     "output_type": "execute_result"
    }
   ],
   "source": [
    "pd.options.display.min_rows = 30\n",
    "df_list_details['state'].value_counts()"
   ]
  },
  {
   "cell_type": "code",
   "execution_count": 139,
   "id": "cbb7f907-1b00-411b-9dc3-13e985e7578c",
   "metadata": {},
   "outputs": [],
   "source": [
    "#Majority of rows contain either Noord-Holland or North Holland. The 127 null rows would need to be further checked before imputing values."
   ]
  },
  {
   "cell_type": "markdown",
   "id": "3ccf63e2-8cb4-424a-bb83-e665b15b8efe",
   "metadata": {},
   "source": [
    "#### Addressing nulls for first_review, reviews_per_month, last_review"
   ]
  },
  {
   "cell_type": "code",
   "execution_count": 141,
   "id": "c36f0f31-c441-4265-9aeb-4886abc48b8e",
   "metadata": {},
   "outputs": [],
   "source": [
    "df_no_first_review = df_list_details[df_list_details['first_review'].isnull() == True]"
   ]
  },
  {
   "cell_type": "code",
   "execution_count": 142,
   "id": "8a039bc3-f118-445d-8274-df8a3b6d6b05",
   "metadata": {},
   "outputs": [
    {
     "data": {
      "text/plain": [
       "reviews_per_month    2406\n",
       "last_review          2406\n",
       "dtype: int64"
      ]
     },
     "execution_count": 142,
     "metadata": {},
     "output_type": "execute_result"
    }
   ],
   "source": [
    "df_no_first_review[['reviews_per_month','last_review']].isnull().sum()"
   ]
  },
  {
   "cell_type": "code",
   "execution_count": 143,
   "id": "8f96f526-7e81-4b20-a754-ac4c2d43761f",
   "metadata": {},
   "outputs": [
    {
     "name": "stderr",
     "output_type": "stream",
     "text": [
      "C:\\Users\\artoe\\AppData\\Local\\Temp\\ipykernel_6680\\1303445234.py:2: FutureWarning: A value is trying to be set on a copy of a DataFrame or Series through chained assignment using an inplace method.\n",
      "The behavior will change in pandas 3.0. This inplace method will never work because the intermediate object on which we are setting values always behaves as a copy.\n",
      "\n",
      "For example, when doing 'df[col].method(value, inplace=True)', try using 'df.method({col: value}, inplace=True)' or df[col] = df[col].method(value) instead, to perform the operation inplace on the original object.\n",
      "\n",
      "\n",
      "  df_list_details['reviews_per_month'].fillna(0, inplace=True)\n"
     ]
    }
   ],
   "source": [
    "#replace the reviews_per_month with 0\n",
    "df_list_details['reviews_per_month'].fillna(0, inplace=True)"
   ]
  },
  {
   "cell_type": "code",
   "execution_count": 144,
   "id": "bf775986-4144-4bb3-a6ab-727ed68cdfc8",
   "metadata": {},
   "outputs": [
    {
     "data": {
      "text/plain": [
       "0"
      ]
     },
     "execution_count": 144,
     "metadata": {},
     "output_type": "execute_result"
    }
   ],
   "source": [
    "df_list_details['reviews_per_month'].isnull().sum()"
   ]
  },
  {
   "cell_type": "code",
   "execution_count": 145,
   "id": "c0314a5e-10ee-42ee-ae87-6b4d0ef8dd42",
   "metadata": {},
   "outputs": [
    {
     "name": "stderr",
     "output_type": "stream",
     "text": [
      "C:\\Users\\artoe\\AppData\\Local\\Temp\\ipykernel_6680\\868862071.py:2: FutureWarning: A value is trying to be set on a copy of a DataFrame or Series through chained assignment using an inplace method.\n",
      "The behavior will change in pandas 3.0. This inplace method will never work because the intermediate object on which we are setting values always behaves as a copy.\n",
      "\n",
      "For example, when doing 'df[col].method(value, inplace=True)', try using 'df.method({col: value}, inplace=True)' or df[col] = df[col].method(value) instead, to perform the operation inplace on the original object.\n",
      "\n",
      "\n",
      "  df_list_details['first_review'].fillna('No Reviews', inplace=True)\n",
      "C:\\Users\\artoe\\AppData\\Local\\Temp\\ipykernel_6680\\868862071.py:3: FutureWarning: A value is trying to be set on a copy of a DataFrame or Series through chained assignment using an inplace method.\n",
      "The behavior will change in pandas 3.0. This inplace method will never work because the intermediate object on which we are setting values always behaves as a copy.\n",
      "\n",
      "For example, when doing 'df[col].method(value, inplace=True)', try using 'df.method({col: value}, inplace=True)' or df[col] = df[col].method(value) instead, to perform the operation inplace on the original object.\n",
      "\n",
      "\n",
      "  df_list_details['last_review'].fillna('No Reviews', inplace=True)\n"
     ]
    }
   ],
   "source": [
    "#replace the nulls in first_review and last_review with No Reviews\n",
    "df_list_details['first_review'].fillna('No Reviews', inplace=True)\n",
    "df_list_details['last_review'].fillna('No Reviews', inplace=True)"
   ]
  },
  {
   "cell_type": "code",
   "execution_count": 146,
   "id": "6de69e5a-be4a-4c9e-b311-2a60780aba7c",
   "metadata": {},
   "outputs": [
    {
     "data": {
      "text/plain": [
       "first_review    0\n",
       "last_review     0\n",
       "dtype: int64"
      ]
     },
     "execution_count": 146,
     "metadata": {},
     "output_type": "execute_result"
    }
   ],
   "source": [
    "df_list_details[['first_review', 'last_review']].isnull().sum()"
   ]
  },
  {
   "cell_type": "markdown",
   "id": "6db6b7ed-7c32-415a-a155-1e1b310c3ebe",
   "metadata": {},
   "source": [
    "#### Renaming columns"
   ]
  },
  {
   "cell_type": "code",
   "execution_count": 148,
   "id": "544e6895-56c5-439f-b366-650d9638b9f5",
   "metadata": {},
   "outputs": [],
   "source": [
    "df_list_details.rename(columns = {'neighborhood_overview':'neighbourhood_overview'}, inplace=True)"
   ]
  },
  {
   "cell_type": "code",
   "execution_count": 149,
   "id": "90ae27fa-4bd1-4539-9ba5-f6ee72cd0a0c",
   "metadata": {},
   "outputs": [],
   "source": [
    "df_list_details.rename(columns = {'neighbourhood_cleansed':'neighbourhood'}, inplace=True)"
   ]
  },
  {
   "cell_type": "markdown",
   "id": "74125718-fda4-410f-8cea-824d99cd26fe",
   "metadata": {},
   "source": [
    "#### Export checked listings_details to csv"
   ]
  },
  {
   "cell_type": "code",
   "execution_count": 151,
   "id": "7cf353a3-9849-4774-a707-aaef10ff7141",
   "metadata": {},
   "outputs": [],
   "source": [
    "df_list_details.to_csv(os.path.join(path,'listings_details_checked.csv'))"
   ]
  },
  {
   "cell_type": "markdown",
   "id": "dd18c6ce-5762-4afc-b301-14e106bfbc62",
   "metadata": {},
   "source": [
    "### Neighbourhoods"
   ]
  },
  {
   "cell_type": "code",
   "execution_count": 153,
   "id": "c04fc307-4d15-469a-bdea-c25e66953943",
   "metadata": {},
   "outputs": [],
   "source": [
    "df_neighbourhoods = pd.read_csv(os.path.join(path, 'neighbourhoods.csv'), index_col = False)"
   ]
  },
  {
   "cell_type": "code",
   "execution_count": 154,
   "id": "3db8db24-4831-4f6a-84af-0ebd197416fd",
   "metadata": {},
   "outputs": [
    {
     "data": {
      "text/plain": [
       "(22, 2)"
      ]
     },
     "execution_count": 154,
     "metadata": {},
     "output_type": "execute_result"
    }
   ],
   "source": [
    "df_neighbourhoods.shape"
   ]
  },
  {
   "cell_type": "code",
   "execution_count": 155,
   "id": "76a64d2e-7d3d-4fcd-985e-8ba30df822aa",
   "metadata": {},
   "outputs": [
    {
     "data": {
      "text/html": [
       "<div>\n",
       "<style scoped>\n",
       "    .dataframe tbody tr th:only-of-type {\n",
       "        vertical-align: middle;\n",
       "    }\n",
       "\n",
       "    .dataframe tbody tr th {\n",
       "        vertical-align: top;\n",
       "    }\n",
       "\n",
       "    .dataframe thead th {\n",
       "        text-align: right;\n",
       "    }\n",
       "</style>\n",
       "<table border=\"1\" class=\"dataframe\">\n",
       "  <thead>\n",
       "    <tr style=\"text-align: right;\">\n",
       "      <th></th>\n",
       "      <th>neighbourhood_group</th>\n",
       "      <th>neighbourhood</th>\n",
       "    </tr>\n",
       "  </thead>\n",
       "  <tbody>\n",
       "    <tr>\n",
       "      <th>0</th>\n",
       "      <td>NaN</td>\n",
       "      <td>Bijlmer-Centrum</td>\n",
       "    </tr>\n",
       "    <tr>\n",
       "      <th>1</th>\n",
       "      <td>NaN</td>\n",
       "      <td>Bijlmer-Oost</td>\n",
       "    </tr>\n",
       "    <tr>\n",
       "      <th>2</th>\n",
       "      <td>NaN</td>\n",
       "      <td>Bos en Lommer</td>\n",
       "    </tr>\n",
       "    <tr>\n",
       "      <th>3</th>\n",
       "      <td>NaN</td>\n",
       "      <td>Buitenveldert - Zuidas</td>\n",
       "    </tr>\n",
       "    <tr>\n",
       "      <th>4</th>\n",
       "      <td>NaN</td>\n",
       "      <td>Centrum-Oost</td>\n",
       "    </tr>\n",
       "    <tr>\n",
       "      <th>5</th>\n",
       "      <td>NaN</td>\n",
       "      <td>Centrum-West</td>\n",
       "    </tr>\n",
       "    <tr>\n",
       "      <th>6</th>\n",
       "      <td>NaN</td>\n",
       "      <td>De Aker - Nieuw Sloten</td>\n",
       "    </tr>\n",
       "    <tr>\n",
       "      <th>7</th>\n",
       "      <td>NaN</td>\n",
       "      <td>De Baarsjes - Oud-West</td>\n",
       "    </tr>\n",
       "    <tr>\n",
       "      <th>8</th>\n",
       "      <td>NaN</td>\n",
       "      <td>De Pijp - Rivierenbuurt</td>\n",
       "    </tr>\n",
       "    <tr>\n",
       "      <th>9</th>\n",
       "      <td>NaN</td>\n",
       "      <td>Gaasperdam - Driemond</td>\n",
       "    </tr>\n",
       "    <tr>\n",
       "      <th>10</th>\n",
       "      <td>NaN</td>\n",
       "      <td>Geuzenveld - Slotermeer</td>\n",
       "    </tr>\n",
       "    <tr>\n",
       "      <th>11</th>\n",
       "      <td>NaN</td>\n",
       "      <td>IJburg - Zeeburgereiland</td>\n",
       "    </tr>\n",
       "    <tr>\n",
       "      <th>12</th>\n",
       "      <td>NaN</td>\n",
       "      <td>Noord-Oost</td>\n",
       "    </tr>\n",
       "    <tr>\n",
       "      <th>13</th>\n",
       "      <td>NaN</td>\n",
       "      <td>Noord-West</td>\n",
       "    </tr>\n",
       "    <tr>\n",
       "      <th>14</th>\n",
       "      <td>NaN</td>\n",
       "      <td>Oostelijk Havengebied - Indische Buurt</td>\n",
       "    </tr>\n",
       "    <tr>\n",
       "      <th>15</th>\n",
       "      <td>NaN</td>\n",
       "      <td>Osdorp</td>\n",
       "    </tr>\n",
       "    <tr>\n",
       "      <th>16</th>\n",
       "      <td>NaN</td>\n",
       "      <td>Oud-Noord</td>\n",
       "    </tr>\n",
       "    <tr>\n",
       "      <th>17</th>\n",
       "      <td>NaN</td>\n",
       "      <td>Oud-Oost</td>\n",
       "    </tr>\n",
       "    <tr>\n",
       "      <th>18</th>\n",
       "      <td>NaN</td>\n",
       "      <td>Slotervaart</td>\n",
       "    </tr>\n",
       "    <tr>\n",
       "      <th>19</th>\n",
       "      <td>NaN</td>\n",
       "      <td>Watergraafsmeer</td>\n",
       "    </tr>\n",
       "    <tr>\n",
       "      <th>20</th>\n",
       "      <td>NaN</td>\n",
       "      <td>Westerpark</td>\n",
       "    </tr>\n",
       "    <tr>\n",
       "      <th>21</th>\n",
       "      <td>NaN</td>\n",
       "      <td>Zuid</td>\n",
       "    </tr>\n",
       "  </tbody>\n",
       "</table>\n",
       "</div>"
      ],
      "text/plain": [
       "    neighbourhood_group                           neighbourhood\n",
       "0                   NaN                         Bijlmer-Centrum\n",
       "1                   NaN                            Bijlmer-Oost\n",
       "2                   NaN                           Bos en Lommer\n",
       "3                   NaN                  Buitenveldert - Zuidas\n",
       "4                   NaN                            Centrum-Oost\n",
       "5                   NaN                            Centrum-West\n",
       "6                   NaN                  De Aker - Nieuw Sloten\n",
       "7                   NaN                  De Baarsjes - Oud-West\n",
       "8                   NaN                 De Pijp - Rivierenbuurt\n",
       "9                   NaN                   Gaasperdam - Driemond\n",
       "10                  NaN                 Geuzenveld - Slotermeer\n",
       "11                  NaN                IJburg - Zeeburgereiland\n",
       "12                  NaN                              Noord-Oost\n",
       "13                  NaN                              Noord-West\n",
       "14                  NaN  Oostelijk Havengebied - Indische Buurt\n",
       "15                  NaN                                  Osdorp\n",
       "16                  NaN                               Oud-Noord\n",
       "17                  NaN                                Oud-Oost\n",
       "18                  NaN                             Slotervaart\n",
       "19                  NaN                         Watergraafsmeer\n",
       "20                  NaN                              Westerpark\n",
       "21                  NaN                                    Zuid"
      ]
     },
     "execution_count": 155,
     "metadata": {},
     "output_type": "execute_result"
    }
   ],
   "source": [
    "df_neighbourhoods"
   ]
  },
  {
   "cell_type": "code",
   "execution_count": 156,
   "id": "bc000409-4a2c-4532-8780-76d5420abbb1",
   "metadata": {},
   "outputs": [],
   "source": [
    "#neighbourhood_group column is empty, can be dropped\n",
    "df_neighbourhoods.drop(columns=['neighbourhood_group'], inplace=True)"
   ]
  },
  {
   "cell_type": "code",
   "execution_count": 157,
   "id": "37eb7bce-1bcd-4356-9850-1375b031c94e",
   "metadata": {},
   "outputs": [],
   "source": [
    "#no other checks or wrangling steps needed for this data, can be exported\n",
    "df_neighbourhoods.to_csv(os.path.join(path,'neighbourhoods_checked.csv'))"
   ]
  },
  {
   "cell_type": "markdown",
   "id": "c3a56126-e0cc-4d80-a50b-fbdb18b50a28",
   "metadata": {},
   "source": [
    "### Reviews"
   ]
  },
  {
   "cell_type": "code",
   "execution_count": 159,
   "id": "6f2e00b8-23a3-4f1d-8c30-433d976e3065",
   "metadata": {},
   "outputs": [],
   "source": [
    "df_reviews = pd.read_csv(os.path.join(path, 'reviews.csv'), index_col = False)"
   ]
  },
  {
   "cell_type": "code",
   "execution_count": 160,
   "id": "c57b5ddf-7912-44c3-ae24-d85efd9fbcab",
   "metadata": {},
   "outputs": [
    {
     "data": {
      "text/plain": [
       "(431830, 2)"
      ]
     },
     "execution_count": 160,
     "metadata": {},
     "output_type": "execute_result"
    }
   ],
   "source": [
    "df_reviews.shape"
   ]
  },
  {
   "cell_type": "markdown",
   "id": "fb158d41-d2ae-4e73-b9c6-44a40bfd98e4",
   "metadata": {},
   "source": [
    "#### Check for mixed types"
   ]
  },
  {
   "cell_type": "code",
   "execution_count": 162,
   "id": "4aa42d76-533f-4293-a5c8-bf3b2a6dc283",
   "metadata": {},
   "outputs": [
    {
     "data": {
      "text/plain": [
       "listing_id     int64\n",
       "date          object\n",
       "dtype: object"
      ]
     },
     "execution_count": 162,
     "metadata": {},
     "output_type": "execute_result"
    }
   ],
   "source": [
    "df_reviews.dtypes"
   ]
  },
  {
   "cell_type": "code",
   "execution_count": 163,
   "id": "458c7a27-ff98-4556-80ac-fc8dc0c7e862",
   "metadata": {},
   "outputs": [],
   "source": [
    "for col in df_reviews.columns.tolist():\n",
    "  weird = (df_reviews[[col]].map(type) != df_reviews[[col]].iloc[0].apply(type)).any(axis = 1)\n",
    "  if len (df_reviews[weird]) > 0:\n",
    "    print (col)"
   ]
  },
  {
   "cell_type": "code",
   "execution_count": 164,
   "id": "0ec2bcf3-1b64-48f4-a233-496a3b74abcc",
   "metadata": {},
   "outputs": [],
   "source": [
    "#no mixed types"
   ]
  },
  {
   "cell_type": "markdown",
   "id": "03c5108f-3b03-46ba-9feb-cbbe2f7a43d6",
   "metadata": {},
   "source": [
    "#### Check for nulls"
   ]
  },
  {
   "cell_type": "code",
   "execution_count": 166,
   "id": "ebbeb152-8513-4c56-afb2-18b839a64dbb",
   "metadata": {},
   "outputs": [
    {
     "data": {
      "text/plain": [
       "listing_id    0\n",
       "date          0\n",
       "dtype: int64"
      ]
     },
     "execution_count": 166,
     "metadata": {},
     "output_type": "execute_result"
    }
   ],
   "source": [
    "df_reviews.isnull().sum()"
   ]
  },
  {
   "cell_type": "code",
   "execution_count": 167,
   "id": "c675c8b5-9f38-4fca-bc69-f8b979fac3d7",
   "metadata": {},
   "outputs": [],
   "source": [
    "#no null values"
   ]
  },
  {
   "cell_type": "markdown",
   "id": "0c2b7273-f124-44d3-9de9-9ffd2111a0b9",
   "metadata": {},
   "source": [
    "#### Check for duplicates"
   ]
  },
  {
   "cell_type": "code",
   "execution_count": 169,
   "id": "4404c1f7-2c04-4d41-9fd0-9433a176de4e",
   "metadata": {},
   "outputs": [
    {
     "data": {
      "text/plain": [
       "1321"
      ]
     },
     "execution_count": 169,
     "metadata": {},
     "output_type": "execute_result"
    }
   ],
   "source": [
    "df_reviews.duplicated().sum()"
   ]
  },
  {
   "cell_type": "code",
   "execution_count": 170,
   "id": "9e8d9ddb-4529-4d0d-9170-5c340c3bc07a",
   "metadata": {},
   "outputs": [],
   "source": [
    "df_reviews_dups = df_reviews[df_reviews.duplicated()]"
   ]
  },
  {
   "cell_type": "code",
   "execution_count": 171,
   "id": "23532ad3-97d2-4b35-be7e-89d084b23680",
   "metadata": {},
   "outputs": [
    {
     "data": {
      "text/plain": [
       "(1321, 2)"
      ]
     },
     "execution_count": 171,
     "metadata": {},
     "output_type": "execute_result"
    }
   ],
   "source": [
    "df_reviews_dups.shape"
   ]
  },
  {
   "cell_type": "code",
   "execution_count": 172,
   "id": "b3bb025d-d459-4626-9e4d-d178d8564de8",
   "metadata": {},
   "outputs": [
    {
     "data": {
      "text/html": [
       "<div>\n",
       "<style scoped>\n",
       "    .dataframe tbody tr th:only-of-type {\n",
       "        vertical-align: middle;\n",
       "    }\n",
       "\n",
       "    .dataframe tbody tr th {\n",
       "        vertical-align: top;\n",
       "    }\n",
       "\n",
       "    .dataframe thead th {\n",
       "        text-align: right;\n",
       "    }\n",
       "</style>\n",
       "<table border=\"1\" class=\"dataframe\">\n",
       "  <thead>\n",
       "    <tr style=\"text-align: right;\">\n",
       "      <th></th>\n",
       "      <th>listing_id</th>\n",
       "      <th>date</th>\n",
       "    </tr>\n",
       "  </thead>\n",
       "  <tbody>\n",
       "    <tr>\n",
       "      <th>367</th>\n",
       "      <td>20168</td>\n",
       "      <td>2016-01-05</td>\n",
       "    </tr>\n",
       "    <tr>\n",
       "      <th>1220</th>\n",
       "      <td>28871</td>\n",
       "      <td>2017-08-29</td>\n",
       "    </tr>\n",
       "    <tr>\n",
       "      <th>1506</th>\n",
       "      <td>29051</td>\n",
       "      <td>2016-03-10</td>\n",
       "    </tr>\n",
       "    <tr>\n",
       "      <th>2620</th>\n",
       "      <td>47061</td>\n",
       "      <td>2011-10-16</td>\n",
       "    </tr>\n",
       "    <tr>\n",
       "      <th>3036</th>\n",
       "      <td>50515</td>\n",
       "      <td>2014-04-17</td>\n",
       "    </tr>\n",
       "  </tbody>\n",
       "</table>\n",
       "</div>"
      ],
      "text/plain": [
       "      listing_id        date\n",
       "367        20168  2016-01-05\n",
       "1220       28871  2017-08-29\n",
       "1506       29051  2016-03-10\n",
       "2620       47061  2011-10-16\n",
       "3036       50515  2014-04-17"
      ]
     },
     "execution_count": 172,
     "metadata": {},
     "output_type": "execute_result"
    }
   ],
   "source": [
    "df_reviews_dups.head()"
   ]
  },
  {
   "cell_type": "code",
   "execution_count": 173,
   "id": "87ef5b1a-d3e6-4b21-a344-254b01956dc2",
   "metadata": {},
   "outputs": [],
   "source": [
    "#drop 1321 full duplicate rows"
   ]
  },
  {
   "cell_type": "code",
   "execution_count": 174,
   "id": "72a6f121-e6a2-4870-9e85-23f10468eeb0",
   "metadata": {},
   "outputs": [],
   "source": [
    "df_reviews_no_dups = df_reviews.drop_duplicates()"
   ]
  },
  {
   "cell_type": "code",
   "execution_count": 175,
   "id": "2c2a951b-7c06-401b-94af-b89202ead6b2",
   "metadata": {},
   "outputs": [
    {
     "data": {
      "text/plain": [
       "(430509, 2)"
      ]
     },
     "execution_count": 175,
     "metadata": {},
     "output_type": "execute_result"
    }
   ],
   "source": [
    "df_reviews_no_dups.shape"
   ]
  },
  {
   "cell_type": "markdown",
   "id": "47752cf5-cb29-4c43-848c-c661018207a7",
   "metadata": {},
   "source": [
    "#### Export checked reviews"
   ]
  },
  {
   "cell_type": "code",
   "execution_count": 177,
   "id": "48701456-2a7c-4cc9-93b1-2621e7be12dd",
   "metadata": {},
   "outputs": [],
   "source": [
    "df_reviews.to_csv(os.path.join(path, 'reviews_checked.csv'))"
   ]
  },
  {
   "cell_type": "markdown",
   "id": "70d85773-10df-4770-9750-3c8d705c90b4",
   "metadata": {},
   "source": [
    "### Reviews Details"
   ]
  },
  {
   "cell_type": "code",
   "execution_count": 179,
   "id": "1e0ec42a-b8b7-4fb6-947b-a1a2a6fe67ea",
   "metadata": {},
   "outputs": [],
   "source": [
    "df_revs_details = pd.read_csv(os.path.join(path, 'reviews_details.csv'))"
   ]
  },
  {
   "cell_type": "code",
   "execution_count": 180,
   "id": "c2d0625f-62c5-4950-b5f7-8fcac29492ff",
   "metadata": {},
   "outputs": [
    {
     "data": {
      "text/plain": [
       "(431830, 6)"
      ]
     },
     "execution_count": 180,
     "metadata": {},
     "output_type": "execute_result"
    }
   ],
   "source": [
    "df_revs_details.shape"
   ]
  },
  {
   "cell_type": "markdown",
   "id": "81bf22bc-3dac-4f82-be93-b898e1faa702",
   "metadata": {},
   "source": [
    "#### Check for mixed types"
   ]
  },
  {
   "cell_type": "code",
   "execution_count": 182,
   "id": "c6a472c6-7ea9-4920-8339-75839de6a285",
   "metadata": {},
   "outputs": [
    {
     "data": {
      "text/plain": [
       "listing_id        int64\n",
       "id                int64\n",
       "date             object\n",
       "reviewer_id       int64\n",
       "reviewer_name    object\n",
       "comments         object\n",
       "dtype: object"
      ]
     },
     "execution_count": 182,
     "metadata": {},
     "output_type": "execute_result"
    }
   ],
   "source": [
    "df_revs_details.dtypes"
   ]
  },
  {
   "cell_type": "code",
   "execution_count": 183,
   "id": "f3e0a1e7-eccd-4c03-a35e-d75d81e45ac4",
   "metadata": {},
   "outputs": [
    {
     "name": "stdout",
     "output_type": "stream",
     "text": [
      "comments\n"
     ]
    }
   ],
   "source": [
    "for col in df_revs_details.columns.tolist():\n",
    "  weird = (df_revs_details[[col]].map(type) != df_revs_details[[col]].iloc[0].apply(type)).any(axis = 1)\n",
    "  if len (df_revs_details[weird]) > 0:\n",
    "    print (col)"
   ]
  },
  {
   "cell_type": "code",
   "execution_count": 184,
   "id": "c3834057-8063-45ce-a10b-4b9b2c3cc1b8",
   "metadata": {},
   "outputs": [],
   "source": [
    "#comments contains mixed types. can be converted to string\n",
    "df_revs_details['comments'] = df_revs_details['comments'].astype('str')"
   ]
  },
  {
   "cell_type": "markdown",
   "id": "b3bb2248-3b14-4d31-96cf-7af6cd1154fb",
   "metadata": {},
   "source": [
    "#### Check for null values"
   ]
  },
  {
   "cell_type": "code",
   "execution_count": 186,
   "id": "22c94433-f83f-4cc8-8cd2-6adf3f7d090a",
   "metadata": {},
   "outputs": [
    {
     "data": {
      "text/plain": [
       "listing_id       0\n",
       "id               0\n",
       "date             0\n",
       "reviewer_id      0\n",
       "reviewer_name    0\n",
       "comments         0\n",
       "dtype: int64"
      ]
     },
     "execution_count": 186,
     "metadata": {},
     "output_type": "execute_result"
    }
   ],
   "source": [
    "df_revs_details.isnull().sum()"
   ]
  },
  {
   "cell_type": "code",
   "execution_count": 187,
   "id": "94fedf98-bda4-4b05-8e4d-10d57f55fbf9",
   "metadata": {},
   "outputs": [],
   "source": [
    "#no nulls found"
   ]
  },
  {
   "cell_type": "markdown",
   "id": "631e1d6b-0dd6-4be2-a7a0-42afdcc60f3e",
   "metadata": {},
   "source": [
    "#### Check for duplicates"
   ]
  },
  {
   "cell_type": "code",
   "execution_count": 189,
   "id": "90cc02d6-92ba-4713-94d1-5ea34dbf15ed",
   "metadata": {},
   "outputs": [],
   "source": [
    "df_revs_details_dups = df_revs_details[df_revs_details.duplicated()]"
   ]
  },
  {
   "cell_type": "code",
   "execution_count": 190,
   "id": "7ec4c400-49ed-442c-b66b-d72b73c16d7d",
   "metadata": {},
   "outputs": [
    {
     "data": {
      "text/plain": [
       "(0, 6)"
      ]
     },
     "execution_count": 190,
     "metadata": {},
     "output_type": "execute_result"
    }
   ],
   "source": [
    "df_revs_details_dups.shape"
   ]
  },
  {
   "cell_type": "code",
   "execution_count": 191,
   "id": "48544df6-d58f-466d-9ec8-08b7e2c8bb0f",
   "metadata": {},
   "outputs": [],
   "source": [
    "#no duplicates found"
   ]
  },
  {
   "cell_type": "markdown",
   "id": "917266d6-06b7-4150-b70d-98a5c1a57dfb",
   "metadata": {},
   "source": [
    "#### Export checked reviews details"
   ]
  },
  {
   "cell_type": "code",
   "execution_count": 193,
   "id": "23d0bf1b-250d-4fcf-94a1-ff5044f41064",
   "metadata": {},
   "outputs": [],
   "source": [
    "df_revs_details.to_csv(os.path.join(path, 'reviews_details_checked.csv'))"
   ]
  },
  {
   "cell_type": "markdown",
   "id": "2a4f7773-393d-46d0-9131-9f2cd1c90259",
   "metadata": {},
   "source": [
    "### Descriptive Analysis"
   ]
  },
  {
   "cell_type": "code",
   "execution_count": 195,
   "id": "0ea9bdf3-2f75-4d6e-957c-6b58947c4a52",
   "metadata": {},
   "outputs": [
    {
     "data": {
      "text/html": [
       "<div>\n",
       "<style scoped>\n",
       "    .dataframe tbody tr th:only-of-type {\n",
       "        vertical-align: middle;\n",
       "    }\n",
       "\n",
       "    .dataframe tbody tr th {\n",
       "        vertical-align: top;\n",
       "    }\n",
       "\n",
       "    .dataframe thead th {\n",
       "        text-align: right;\n",
       "    }\n",
       "</style>\n",
       "<table border=\"1\" class=\"dataframe\">\n",
       "  <thead>\n",
       "    <tr style=\"text-align: right;\">\n",
       "      <th></th>\n",
       "      <th>id</th>\n",
       "      <th>host_id</th>\n",
       "      <th>latitude</th>\n",
       "      <th>longitude</th>\n",
       "      <th>price</th>\n",
       "      <th>minimum_nights</th>\n",
       "      <th>number_of_reviews</th>\n",
       "      <th>reviews_per_month</th>\n",
       "      <th>calculated_host_listings_count</th>\n",
       "      <th>availability_365</th>\n",
       "    </tr>\n",
       "  </thead>\n",
       "  <tbody>\n",
       "    <tr>\n",
       "      <th>count</th>\n",
       "      <td>2.003000e+04</td>\n",
       "      <td>2.003000e+04</td>\n",
       "      <td>20030.000000</td>\n",
       "      <td>20030.000000</td>\n",
       "      <td>20028.000000</td>\n",
       "      <td>20016.000000</td>\n",
       "      <td>20030.000000</td>\n",
       "      <td>17624.00000</td>\n",
       "      <td>20030.000000</td>\n",
       "      <td>20030.000000</td>\n",
       "    </tr>\n",
       "    <tr>\n",
       "      <th>mean</th>\n",
       "      <td>1.541725e+07</td>\n",
       "      <td>4.868570e+07</td>\n",
       "      <td>52.365212</td>\n",
       "      <td>4.888977</td>\n",
       "      <td>151.372528</td>\n",
       "      <td>3.084133</td>\n",
       "      <td>21.560459</td>\n",
       "      <td>1.06208</td>\n",
       "      <td>4.734698</td>\n",
       "      <td>59.913679</td>\n",
       "    </tr>\n",
       "    <tr>\n",
       "      <th>std</th>\n",
       "      <td>8.569404e+06</td>\n",
       "      <td>5.649635e+07</td>\n",
       "      <td>0.015996</td>\n",
       "      <td>0.035573</td>\n",
       "      <td>121.295887</td>\n",
       "      <td>4.403530</td>\n",
       "      <td>43.240292</td>\n",
       "      <td>1.33332</td>\n",
       "      <td>22.921886</td>\n",
       "      <td>104.027710</td>\n",
       "    </tr>\n",
       "    <tr>\n",
       "      <th>min</th>\n",
       "      <td>2.818000e+03</td>\n",
       "      <td>3.159000e+03</td>\n",
       "      <td>52.288378</td>\n",
       "      <td>4.753247</td>\n",
       "      <td>0.000000</td>\n",
       "      <td>1.000000</td>\n",
       "      <td>0.000000</td>\n",
       "      <td>0.01000</td>\n",
       "      <td>1.000000</td>\n",
       "      <td>0.000000</td>\n",
       "    </tr>\n",
       "    <tr>\n",
       "      <th>25%</th>\n",
       "      <td>8.188423e+06</td>\n",
       "      <td>8.093516e+06</td>\n",
       "      <td>52.355126</td>\n",
       "      <td>4.863595</td>\n",
       "      <td>96.000000</td>\n",
       "      <td>2.000000</td>\n",
       "      <td>3.000000</td>\n",
       "      <td>0.27000</td>\n",
       "      <td>1.000000</td>\n",
       "      <td>0.000000</td>\n",
       "    </tr>\n",
       "    <tr>\n",
       "      <th>50%</th>\n",
       "      <td>1.563049e+07</td>\n",
       "      <td>2.369450e+07</td>\n",
       "      <td>52.364590</td>\n",
       "      <td>4.886387</td>\n",
       "      <td>125.000000</td>\n",
       "      <td>2.000000</td>\n",
       "      <td>8.000000</td>\n",
       "      <td>0.62000</td>\n",
       "      <td>1.000000</td>\n",
       "      <td>3.000000</td>\n",
       "    </tr>\n",
       "    <tr>\n",
       "      <th>75%</th>\n",
       "      <td>2.202577e+07</td>\n",
       "      <td>6.827535e+07</td>\n",
       "      <td>52.375074</td>\n",
       "      <td>4.908288</td>\n",
       "      <td>175.000000</td>\n",
       "      <td>3.000000</td>\n",
       "      <td>22.000000</td>\n",
       "      <td>1.23000</td>\n",
       "      <td>1.000000</td>\n",
       "      <td>67.000000</td>\n",
       "    </tr>\n",
       "    <tr>\n",
       "      <th>max</th>\n",
       "      <td>3.058041e+07</td>\n",
       "      <td>2.293612e+08</td>\n",
       "      <td>52.424713</td>\n",
       "      <td>5.027689</td>\n",
       "      <td>5040.000000</td>\n",
       "      <td>100.000000</td>\n",
       "      <td>695.000000</td>\n",
       "      <td>11.85000</td>\n",
       "      <td>208.000000</td>\n",
       "      <td>365.000000</td>\n",
       "    </tr>\n",
       "  </tbody>\n",
       "</table>\n",
       "</div>"
      ],
      "text/plain": [
       "                 id       host_id      latitude     longitude         price  \\\n",
       "count  2.003000e+04  2.003000e+04  20030.000000  20030.000000  20028.000000   \n",
       "mean   1.541725e+07  4.868570e+07     52.365212      4.888977    151.372528   \n",
       "std    8.569404e+06  5.649635e+07      0.015996      0.035573    121.295887   \n",
       "min    2.818000e+03  3.159000e+03     52.288378      4.753247      0.000000   \n",
       "25%    8.188423e+06  8.093516e+06     52.355126      4.863595     96.000000   \n",
       "50%    1.563049e+07  2.369450e+07     52.364590      4.886387    125.000000   \n",
       "75%    2.202577e+07  6.827535e+07     52.375074      4.908288    175.000000   \n",
       "max    3.058041e+07  2.293612e+08     52.424713      5.027689   5040.000000   \n",
       "\n",
       "       minimum_nights  number_of_reviews  reviews_per_month  \\\n",
       "count    20016.000000       20030.000000        17624.00000   \n",
       "mean         3.084133          21.560459            1.06208   \n",
       "std          4.403530          43.240292            1.33332   \n",
       "min          1.000000           0.000000            0.01000   \n",
       "25%          2.000000           3.000000            0.27000   \n",
       "50%          2.000000           8.000000            0.62000   \n",
       "75%          3.000000          22.000000            1.23000   \n",
       "max        100.000000         695.000000           11.85000   \n",
       "\n",
       "       calculated_host_listings_count  availability_365  \n",
       "count                    20030.000000      20030.000000  \n",
       "mean                         4.734698         59.913679  \n",
       "std                         22.921886        104.027710  \n",
       "min                          1.000000          0.000000  \n",
       "25%                          1.000000          0.000000  \n",
       "50%                          1.000000          3.000000  \n",
       "75%                          1.000000         67.000000  \n",
       "max                        208.000000        365.000000  "
      ]
     },
     "execution_count": 195,
     "metadata": {},
     "output_type": "execute_result"
    }
   ],
   "source": [
    "df_listings.describe()"
   ]
  },
  {
   "cell_type": "code",
   "execution_count": 196,
   "id": "c34191be-7b1b-4a2d-b1bb-c8193db77f63",
   "metadata": {},
   "outputs": [
    {
     "data": {
      "text/html": [
       "<div>\n",
       "<style scoped>\n",
       "    .dataframe tbody tr th:only-of-type {\n",
       "        vertical-align: middle;\n",
       "    }\n",
       "\n",
       "    .dataframe tbody tr th {\n",
       "        vertical-align: top;\n",
       "    }\n",
       "\n",
       "    .dataframe thead th {\n",
       "        text-align: right;\n",
       "    }\n",
       "</style>\n",
       "<table border=\"1\" class=\"dataframe\">\n",
       "  <thead>\n",
       "    <tr style=\"text-align: right;\">\n",
       "      <th></th>\n",
       "      <th>listing_id</th>\n",
       "      <th>price</th>\n",
       "    </tr>\n",
       "  </thead>\n",
       "  <tbody>\n",
       "    <tr>\n",
       "      <th>count</th>\n",
       "      <td>7.310950e+06</td>\n",
       "      <td>1.200071e+06</td>\n",
       "    </tr>\n",
       "    <tr>\n",
       "      <th>mean</th>\n",
       "      <td>1.541725e+07</td>\n",
       "      <td>2.076556e+02</td>\n",
       "    </tr>\n",
       "    <tr>\n",
       "      <th>std</th>\n",
       "      <td>8.569190e+06</td>\n",
       "      <td>2.812379e+02</td>\n",
       "    </tr>\n",
       "    <tr>\n",
       "      <th>min</th>\n",
       "      <td>2.818000e+03</td>\n",
       "      <td>9.000000e+00</td>\n",
       "    </tr>\n",
       "    <tr>\n",
       "      <th>25%</th>\n",
       "      <td>8.187901e+06</td>\n",
       "      <td>1.090000e+02</td>\n",
       "    </tr>\n",
       "    <tr>\n",
       "      <th>50%</th>\n",
       "      <td>1.563049e+07</td>\n",
       "      <td>1.500000e+02</td>\n",
       "    </tr>\n",
       "    <tr>\n",
       "      <th>75%</th>\n",
       "      <td>2.202612e+07</td>\n",
       "      <td>2.400000e+02</td>\n",
       "    </tr>\n",
       "    <tr>\n",
       "      <th>max</th>\n",
       "      <td>3.058041e+07</td>\n",
       "      <td>8.500000e+03</td>\n",
       "    </tr>\n",
       "  </tbody>\n",
       "</table>\n",
       "</div>"
      ],
      "text/plain": [
       "         listing_id         price\n",
       "count  7.310950e+06  1.200071e+06\n",
       "mean   1.541725e+07  2.076556e+02\n",
       "std    8.569190e+06  2.812379e+02\n",
       "min    2.818000e+03  9.000000e+00\n",
       "25%    8.187901e+06  1.090000e+02\n",
       "50%    1.563049e+07  1.500000e+02\n",
       "75%    2.202612e+07  2.400000e+02\n",
       "max    3.058041e+07  8.500000e+03"
      ]
     },
     "execution_count": 196,
     "metadata": {},
     "output_type": "execute_result"
    }
   ],
   "source": [
    "df_calendar.describe()"
   ]
  },
  {
   "cell_type": "code",
   "execution_count": 197,
   "id": "b66dac2a-352a-4091-8670-c1c759448563",
   "metadata": {},
   "outputs": [
    {
     "data": {
      "text/html": [
       "<div>\n",
       "<style scoped>\n",
       "    .dataframe tbody tr th:only-of-type {\n",
       "        vertical-align: middle;\n",
       "    }\n",
       "\n",
       "    .dataframe tbody tr th {\n",
       "        vertical-align: top;\n",
       "    }\n",
       "\n",
       "    .dataframe thead th {\n",
       "        text-align: right;\n",
       "    }\n",
       "</style>\n",
       "<table border=\"1\" class=\"dataframe\">\n",
       "  <thead>\n",
       "    <tr style=\"text-align: right;\">\n",
       "      <th></th>\n",
       "      <th>count</th>\n",
       "      <th>mean</th>\n",
       "      <th>std</th>\n",
       "      <th>min</th>\n",
       "      <th>25%</th>\n",
       "      <th>50%</th>\n",
       "      <th>75%</th>\n",
       "      <th>max</th>\n",
       "    </tr>\n",
       "  </thead>\n",
       "  <tbody>\n",
       "    <tr>\n",
       "      <th>id</th>\n",
       "      <td>20030.0</td>\n",
       "      <td>1.541725e+07</td>\n",
       "      <td>8.569404e+06</td>\n",
       "      <td>2818.000000</td>\n",
       "      <td>8.188423e+06</td>\n",
       "      <td>1.563049e+07</td>\n",
       "      <td>2.202577e+07</td>\n",
       "      <td>3.058041e+07</td>\n",
       "    </tr>\n",
       "    <tr>\n",
       "      <th>host_id</th>\n",
       "      <td>20030.0</td>\n",
       "      <td>4.868570e+07</td>\n",
       "      <td>5.649635e+07</td>\n",
       "      <td>3159.000000</td>\n",
       "      <td>8.093516e+06</td>\n",
       "      <td>2.369450e+07</td>\n",
       "      <td>6.827535e+07</td>\n",
       "      <td>2.293612e+08</td>\n",
       "    </tr>\n",
       "    <tr>\n",
       "      <th>host_listings_count</th>\n",
       "      <td>20026.0</td>\n",
       "      <td>6.105812e+00</td>\n",
       "      <td>3.038852e+01</td>\n",
       "      <td>0.000000</td>\n",
       "      <td>1.000000e+00</td>\n",
       "      <td>1.000000e+00</td>\n",
       "      <td>1.000000e+00</td>\n",
       "      <td>6.980000e+02</td>\n",
       "    </tr>\n",
       "    <tr>\n",
       "      <th>host_total_listings_count</th>\n",
       "      <td>20026.0</td>\n",
       "      <td>6.105812e+00</td>\n",
       "      <td>3.038852e+01</td>\n",
       "      <td>0.000000</td>\n",
       "      <td>1.000000e+00</td>\n",
       "      <td>1.000000e+00</td>\n",
       "      <td>1.000000e+00</td>\n",
       "      <td>6.980000e+02</td>\n",
       "    </tr>\n",
       "    <tr>\n",
       "      <th>latitude</th>\n",
       "      <td>20030.0</td>\n",
       "      <td>5.236521e+01</td>\n",
       "      <td>1.599599e-02</td>\n",
       "      <td>52.288378</td>\n",
       "      <td>5.235513e+01</td>\n",
       "      <td>5.236459e+01</td>\n",
       "      <td>5.237507e+01</td>\n",
       "      <td>5.242471e+01</td>\n",
       "    </tr>\n",
       "    <tr>\n",
       "      <th>longitude</th>\n",
       "      <td>20030.0</td>\n",
       "      <td>4.888977e+00</td>\n",
       "      <td>3.557343e-02</td>\n",
       "      <td>4.753247</td>\n",
       "      <td>4.863595e+00</td>\n",
       "      <td>4.886387e+00</td>\n",
       "      <td>4.908288e+00</td>\n",
       "      <td>5.027689e+00</td>\n",
       "    </tr>\n",
       "    <tr>\n",
       "      <th>accommodates</th>\n",
       "      <td>20030.0</td>\n",
       "      <td>2.891912e+00</td>\n",
       "      <td>1.318760e+00</td>\n",
       "      <td>1.000000</td>\n",
       "      <td>2.000000e+00</td>\n",
       "      <td>2.000000e+00</td>\n",
       "      <td>4.000000e+00</td>\n",
       "      <td>1.700000e+01</td>\n",
       "    </tr>\n",
       "    <tr>\n",
       "      <th>bathrooms</th>\n",
       "      <td>20020.0</td>\n",
       "      <td>1.137662e+00</td>\n",
       "      <td>7.939026e-01</td>\n",
       "      <td>0.000000</td>\n",
       "      <td>1.000000e+00</td>\n",
       "      <td>1.000000e+00</td>\n",
       "      <td>1.000000e+00</td>\n",
       "      <td>1.005000e+02</td>\n",
       "    </tr>\n",
       "    <tr>\n",
       "      <th>bedrooms</th>\n",
       "      <td>20022.0</td>\n",
       "      <td>1.445060e+00</td>\n",
       "      <td>8.856803e-01</td>\n",
       "      <td>0.000000</td>\n",
       "      <td>1.000000e+00</td>\n",
       "      <td>1.000000e+00</td>\n",
       "      <td>2.000000e+00</td>\n",
       "      <td>1.200000e+01</td>\n",
       "    </tr>\n",
       "    <tr>\n",
       "      <th>beds</th>\n",
       "      <td>20023.0</td>\n",
       "      <td>1.849223e+00</td>\n",
       "      <td>1.389664e+00</td>\n",
       "      <td>0.000000</td>\n",
       "      <td>1.000000e+00</td>\n",
       "      <td>1.000000e+00</td>\n",
       "      <td>2.000000e+00</td>\n",
       "      <td>3.200000e+01</td>\n",
       "    </tr>\n",
       "    <tr>\n",
       "      <th>square_feet</th>\n",
       "      <td>406.0</td>\n",
       "      <td>5.204852e+02</td>\n",
       "      <td>5.445577e+02</td>\n",
       "      <td>0.000000</td>\n",
       "      <td>0.000000e+00</td>\n",
       "      <td>4.840000e+02</td>\n",
       "      <td>8.070000e+02</td>\n",
       "      <td>4.306000e+03</td>\n",
       "    </tr>\n",
       "    <tr>\n",
       "      <th>price</th>\n",
       "      <td>20030.0</td>\n",
       "      <td>1.521812e+02</td>\n",
       "      <td>1.458290e+02</td>\n",
       "      <td>0.000000</td>\n",
       "      <td>9.600000e+01</td>\n",
       "      <td>1.250000e+02</td>\n",
       "      <td>1.750000e+02</td>\n",
       "      <td>8.500000e+03</td>\n",
       "    </tr>\n",
       "    <tr>\n",
       "      <th>weekly_price</th>\n",
       "      <td>2843.0</td>\n",
       "      <td>8.210549e+02</td>\n",
       "      <td>4.588445e+02</td>\n",
       "      <td>100.000000</td>\n",
       "      <td>5.500000e+02</td>\n",
       "      <td>7.000000e+02</td>\n",
       "      <td>9.500000e+02</td>\n",
       "      <td>6.000000e+03</td>\n",
       "    </tr>\n",
       "    <tr>\n",
       "      <th>monthly_price</th>\n",
       "      <td>1561.0</td>\n",
       "      <td>2.594989e+03</td>\n",
       "      <td>1.527439e+03</td>\n",
       "      <td>550.000000</td>\n",
       "      <td>1.650000e+03</td>\n",
       "      <td>2.200000e+03</td>\n",
       "      <td>3.000000e+03</td>\n",
       "      <td>2.000000e+04</td>\n",
       "    </tr>\n",
       "    <tr>\n",
       "      <th>cleaning_fee</th>\n",
       "      <td>16401.0</td>\n",
       "      <td>3.927157e+01</td>\n",
       "      <td>2.426840e+01</td>\n",
       "      <td>0.000000</td>\n",
       "      <td>2.500000e+01</td>\n",
       "      <td>3.500000e+01</td>\n",
       "      <td>5.000000e+01</td>\n",
       "      <td>5.310000e+02</td>\n",
       "    </tr>\n",
       "    <tr>\n",
       "      <th>guests_included</th>\n",
       "      <td>20030.0</td>\n",
       "      <td>1.468997e+00</td>\n",
       "      <td>9.378896e-01</td>\n",
       "      <td>1.000000</td>\n",
       "      <td>1.000000e+00</td>\n",
       "      <td>1.000000e+00</td>\n",
       "      <td>2.000000e+00</td>\n",
       "      <td>1.600000e+01</td>\n",
       "    </tr>\n",
       "    <tr>\n",
       "      <th>extra_people</th>\n",
       "      <td>20030.0</td>\n",
       "      <td>1.131588e+01</td>\n",
       "      <td>2.215206e+01</td>\n",
       "      <td>0.000000</td>\n",
       "      <td>0.000000e+00</td>\n",
       "      <td>0.000000e+00</td>\n",
       "      <td>2.000000e+01</td>\n",
       "      <td>2.800000e+02</td>\n",
       "    </tr>\n",
       "    <tr>\n",
       "      <th>minimum_nights</th>\n",
       "      <td>20030.0</td>\n",
       "      <td>3.328707e+00</td>\n",
       "      <td>1.253742e+01</td>\n",
       "      <td>1.000000</td>\n",
       "      <td>2.000000e+00</td>\n",
       "      <td>2.000000e+00</td>\n",
       "      <td>3.000000e+00</td>\n",
       "      <td>1.001000e+03</td>\n",
       "    </tr>\n",
       "    <tr>\n",
       "      <th>maximum_nights</th>\n",
       "      <td>20030.0</td>\n",
       "      <td>6.312257e+02</td>\n",
       "      <td>5.413400e+02</td>\n",
       "      <td>1.000000</td>\n",
       "      <td>2.100000e+01</td>\n",
       "      <td>1.125000e+03</td>\n",
       "      <td>1.125000e+03</td>\n",
       "      <td>9.999000e+03</td>\n",
       "    </tr>\n",
       "    <tr>\n",
       "      <th>availability_365</th>\n",
       "      <td>20030.0</td>\n",
       "      <td>5.991368e+01</td>\n",
       "      <td>1.040277e+02</td>\n",
       "      <td>0.000000</td>\n",
       "      <td>0.000000e+00</td>\n",
       "      <td>3.000000e+00</td>\n",
       "      <td>6.700000e+01</td>\n",
       "      <td>3.650000e+02</td>\n",
       "    </tr>\n",
       "    <tr>\n",
       "      <th>number_of_reviews</th>\n",
       "      <td>20030.0</td>\n",
       "      <td>2.156046e+01</td>\n",
       "      <td>4.324029e+01</td>\n",
       "      <td>0.000000</td>\n",
       "      <td>3.000000e+00</td>\n",
       "      <td>8.000000e+00</td>\n",
       "      <td>2.200000e+01</td>\n",
       "      <td>6.950000e+02</td>\n",
       "    </tr>\n",
       "    <tr>\n",
       "      <th>review_scores_rating</th>\n",
       "      <td>17391.0</td>\n",
       "      <td>9.484952e+01</td>\n",
       "      <td>6.648685e+00</td>\n",
       "      <td>20.000000</td>\n",
       "      <td>9.300000e+01</td>\n",
       "      <td>9.700000e+01</td>\n",
       "      <td>1.000000e+02</td>\n",
       "      <td>1.000000e+02</td>\n",
       "    </tr>\n",
       "    <tr>\n",
       "      <th>review_scores_accuracy</th>\n",
       "      <td>17381.0</td>\n",
       "      <td>9.679765e+00</td>\n",
       "      <td>6.852705e-01</td>\n",
       "      <td>2.000000</td>\n",
       "      <td>9.000000e+00</td>\n",
       "      <td>1.000000e+01</td>\n",
       "      <td>1.000000e+01</td>\n",
       "      <td>1.000000e+01</td>\n",
       "    </tr>\n",
       "    <tr>\n",
       "      <th>review_scores_cleanliness</th>\n",
       "      <td>17383.0</td>\n",
       "      <td>9.465627e+00</td>\n",
       "      <td>8.679734e-01</td>\n",
       "      <td>2.000000</td>\n",
       "      <td>9.000000e+00</td>\n",
       "      <td>1.000000e+01</td>\n",
       "      <td>1.000000e+01</td>\n",
       "      <td>1.000000e+01</td>\n",
       "    </tr>\n",
       "    <tr>\n",
       "      <th>review_scores_checkin</th>\n",
       "      <td>17369.0</td>\n",
       "      <td>9.735563e+00</td>\n",
       "      <td>6.465567e-01</td>\n",
       "      <td>2.000000</td>\n",
       "      <td>1.000000e+01</td>\n",
       "      <td>1.000000e+01</td>\n",
       "      <td>1.000000e+01</td>\n",
       "      <td>1.000000e+01</td>\n",
       "    </tr>\n",
       "    <tr>\n",
       "      <th>review_scores_communication</th>\n",
       "      <td>17378.0</td>\n",
       "      <td>9.785361e+00</td>\n",
       "      <td>5.994087e-01</td>\n",
       "      <td>2.000000</td>\n",
       "      <td>1.000000e+01</td>\n",
       "      <td>1.000000e+01</td>\n",
       "      <td>1.000000e+01</td>\n",
       "      <td>1.000000e+01</td>\n",
       "    </tr>\n",
       "    <tr>\n",
       "      <th>review_scores_location</th>\n",
       "      <td>17370.0</td>\n",
       "      <td>9.421531e+00</td>\n",
       "      <td>7.279310e-01</td>\n",
       "      <td>2.000000</td>\n",
       "      <td>9.000000e+00</td>\n",
       "      <td>1.000000e+01</td>\n",
       "      <td>1.000000e+01</td>\n",
       "      <td>1.000000e+01</td>\n",
       "    </tr>\n",
       "    <tr>\n",
       "      <th>review_scores_value</th>\n",
       "      <td>17371.0</td>\n",
       "      <td>9.175004e+00</td>\n",
       "      <td>8.054216e-01</td>\n",
       "      <td>2.000000</td>\n",
       "      <td>9.000000e+00</td>\n",
       "      <td>9.000000e+00</td>\n",
       "      <td>1.000000e+01</td>\n",
       "      <td>1.000000e+01</td>\n",
       "    </tr>\n",
       "    <tr>\n",
       "      <th>calculated_host_listings_count</th>\n",
       "      <td>20030.0</td>\n",
       "      <td>4.734698e+00</td>\n",
       "      <td>2.292189e+01</td>\n",
       "      <td>1.000000</td>\n",
       "      <td>1.000000e+00</td>\n",
       "      <td>1.000000e+00</td>\n",
       "      <td>1.000000e+00</td>\n",
       "      <td>2.080000e+02</td>\n",
       "    </tr>\n",
       "    <tr>\n",
       "      <th>reviews_per_month</th>\n",
       "      <td>20030.0</td>\n",
       "      <td>9.345032e-01</td>\n",
       "      <td>1.297465e+00</td>\n",
       "      <td>0.000000</td>\n",
       "      <td>1.700000e-01</td>\n",
       "      <td>5.100000e-01</td>\n",
       "      <td>1.090000e+00</td>\n",
       "      <td>1.185000e+01</td>\n",
       "    </tr>\n",
       "  </tbody>\n",
       "</table>\n",
       "</div>"
      ],
      "text/plain": [
       "                                  count          mean           std  \\\n",
       "id                              20030.0  1.541725e+07  8.569404e+06   \n",
       "host_id                         20030.0  4.868570e+07  5.649635e+07   \n",
       "host_listings_count             20026.0  6.105812e+00  3.038852e+01   \n",
       "host_total_listings_count       20026.0  6.105812e+00  3.038852e+01   \n",
       "latitude                        20030.0  5.236521e+01  1.599599e-02   \n",
       "longitude                       20030.0  4.888977e+00  3.557343e-02   \n",
       "accommodates                    20030.0  2.891912e+00  1.318760e+00   \n",
       "bathrooms                       20020.0  1.137662e+00  7.939026e-01   \n",
       "bedrooms                        20022.0  1.445060e+00  8.856803e-01   \n",
       "beds                            20023.0  1.849223e+00  1.389664e+00   \n",
       "square_feet                       406.0  5.204852e+02  5.445577e+02   \n",
       "price                           20030.0  1.521812e+02  1.458290e+02   \n",
       "weekly_price                     2843.0  8.210549e+02  4.588445e+02   \n",
       "monthly_price                    1561.0  2.594989e+03  1.527439e+03   \n",
       "cleaning_fee                    16401.0  3.927157e+01  2.426840e+01   \n",
       "guests_included                 20030.0  1.468997e+00  9.378896e-01   \n",
       "extra_people                    20030.0  1.131588e+01  2.215206e+01   \n",
       "minimum_nights                  20030.0  3.328707e+00  1.253742e+01   \n",
       "maximum_nights                  20030.0  6.312257e+02  5.413400e+02   \n",
       "availability_365                20030.0  5.991368e+01  1.040277e+02   \n",
       "number_of_reviews               20030.0  2.156046e+01  4.324029e+01   \n",
       "review_scores_rating            17391.0  9.484952e+01  6.648685e+00   \n",
       "review_scores_accuracy          17381.0  9.679765e+00  6.852705e-01   \n",
       "review_scores_cleanliness       17383.0  9.465627e+00  8.679734e-01   \n",
       "review_scores_checkin           17369.0  9.735563e+00  6.465567e-01   \n",
       "review_scores_communication     17378.0  9.785361e+00  5.994087e-01   \n",
       "review_scores_location          17370.0  9.421531e+00  7.279310e-01   \n",
       "review_scores_value             17371.0  9.175004e+00  8.054216e-01   \n",
       "calculated_host_listings_count  20030.0  4.734698e+00  2.292189e+01   \n",
       "reviews_per_month               20030.0  9.345032e-01  1.297465e+00   \n",
       "\n",
       "                                        min           25%           50%  \\\n",
       "id                              2818.000000  8.188423e+06  1.563049e+07   \n",
       "host_id                         3159.000000  8.093516e+06  2.369450e+07   \n",
       "host_listings_count                0.000000  1.000000e+00  1.000000e+00   \n",
       "host_total_listings_count          0.000000  1.000000e+00  1.000000e+00   \n",
       "latitude                          52.288378  5.235513e+01  5.236459e+01   \n",
       "longitude                          4.753247  4.863595e+00  4.886387e+00   \n",
       "accommodates                       1.000000  2.000000e+00  2.000000e+00   \n",
       "bathrooms                          0.000000  1.000000e+00  1.000000e+00   \n",
       "bedrooms                           0.000000  1.000000e+00  1.000000e+00   \n",
       "beds                               0.000000  1.000000e+00  1.000000e+00   \n",
       "square_feet                        0.000000  0.000000e+00  4.840000e+02   \n",
       "price                              0.000000  9.600000e+01  1.250000e+02   \n",
       "weekly_price                     100.000000  5.500000e+02  7.000000e+02   \n",
       "monthly_price                    550.000000  1.650000e+03  2.200000e+03   \n",
       "cleaning_fee                       0.000000  2.500000e+01  3.500000e+01   \n",
       "guests_included                    1.000000  1.000000e+00  1.000000e+00   \n",
       "extra_people                       0.000000  0.000000e+00  0.000000e+00   \n",
       "minimum_nights                     1.000000  2.000000e+00  2.000000e+00   \n",
       "maximum_nights                     1.000000  2.100000e+01  1.125000e+03   \n",
       "availability_365                   0.000000  0.000000e+00  3.000000e+00   \n",
       "number_of_reviews                  0.000000  3.000000e+00  8.000000e+00   \n",
       "review_scores_rating              20.000000  9.300000e+01  9.700000e+01   \n",
       "review_scores_accuracy             2.000000  9.000000e+00  1.000000e+01   \n",
       "review_scores_cleanliness          2.000000  9.000000e+00  1.000000e+01   \n",
       "review_scores_checkin              2.000000  1.000000e+01  1.000000e+01   \n",
       "review_scores_communication        2.000000  1.000000e+01  1.000000e+01   \n",
       "review_scores_location             2.000000  9.000000e+00  1.000000e+01   \n",
       "review_scores_value                2.000000  9.000000e+00  9.000000e+00   \n",
       "calculated_host_listings_count     1.000000  1.000000e+00  1.000000e+00   \n",
       "reviews_per_month                  0.000000  1.700000e-01  5.100000e-01   \n",
       "\n",
       "                                         75%           max  \n",
       "id                              2.202577e+07  3.058041e+07  \n",
       "host_id                         6.827535e+07  2.293612e+08  \n",
       "host_listings_count             1.000000e+00  6.980000e+02  \n",
       "host_total_listings_count       1.000000e+00  6.980000e+02  \n",
       "latitude                        5.237507e+01  5.242471e+01  \n",
       "longitude                       4.908288e+00  5.027689e+00  \n",
       "accommodates                    4.000000e+00  1.700000e+01  \n",
       "bathrooms                       1.000000e+00  1.005000e+02  \n",
       "bedrooms                        2.000000e+00  1.200000e+01  \n",
       "beds                            2.000000e+00  3.200000e+01  \n",
       "square_feet                     8.070000e+02  4.306000e+03  \n",
       "price                           1.750000e+02  8.500000e+03  \n",
       "weekly_price                    9.500000e+02  6.000000e+03  \n",
       "monthly_price                   3.000000e+03  2.000000e+04  \n",
       "cleaning_fee                    5.000000e+01  5.310000e+02  \n",
       "guests_included                 2.000000e+00  1.600000e+01  \n",
       "extra_people                    2.000000e+01  2.800000e+02  \n",
       "minimum_nights                  3.000000e+00  1.001000e+03  \n",
       "maximum_nights                  1.125000e+03  9.999000e+03  \n",
       "availability_365                6.700000e+01  3.650000e+02  \n",
       "number_of_reviews               2.200000e+01  6.950000e+02  \n",
       "review_scores_rating            1.000000e+02  1.000000e+02  \n",
       "review_scores_accuracy          1.000000e+01  1.000000e+01  \n",
       "review_scores_cleanliness       1.000000e+01  1.000000e+01  \n",
       "review_scores_checkin           1.000000e+01  1.000000e+01  \n",
       "review_scores_communication     1.000000e+01  1.000000e+01  \n",
       "review_scores_location          1.000000e+01  1.000000e+01  \n",
       "review_scores_value             1.000000e+01  1.000000e+01  \n",
       "calculated_host_listings_count  1.000000e+00  2.080000e+02  \n",
       "reviews_per_month               1.090000e+00  1.185000e+01  "
      ]
     },
     "execution_count": 197,
     "metadata": {},
     "output_type": "execute_result"
    }
   ],
   "source": [
    "df_list_details.describe().T"
   ]
  },
  {
   "cell_type": "code",
   "execution_count": 198,
   "id": "ea8f7596-e981-47c0-ad5e-35c82ed7cbdf",
   "metadata": {},
   "outputs": [
    {
     "data": {
      "text/html": [
       "<div>\n",
       "<style scoped>\n",
       "    .dataframe tbody tr th:only-of-type {\n",
       "        vertical-align: middle;\n",
       "    }\n",
       "\n",
       "    .dataframe tbody tr th {\n",
       "        vertical-align: top;\n",
       "    }\n",
       "\n",
       "    .dataframe thead th {\n",
       "        text-align: right;\n",
       "    }\n",
       "</style>\n",
       "<table border=\"1\" class=\"dataframe\">\n",
       "  <thead>\n",
       "    <tr style=\"text-align: right;\">\n",
       "      <th></th>\n",
       "      <th>listing_id</th>\n",
       "      <th>id</th>\n",
       "      <th>reviewer_id</th>\n",
       "    </tr>\n",
       "  </thead>\n",
       "  <tbody>\n",
       "    <tr>\n",
       "      <th>count</th>\n",
       "      <td>4.318300e+05</td>\n",
       "      <td>4.318300e+05</td>\n",
       "      <td>4.318300e+05</td>\n",
       "    </tr>\n",
       "    <tr>\n",
       "      <th>mean</th>\n",
       "      <td>9.540278e+06</td>\n",
       "      <td>1.676551e+08</td>\n",
       "      <td>5.844055e+07</td>\n",
       "    </tr>\n",
       "    <tr>\n",
       "      <th>std</th>\n",
       "      <td>7.646134e+06</td>\n",
       "      <td>1.027225e+08</td>\n",
       "      <td>5.424683e+07</td>\n",
       "    </tr>\n",
       "    <tr>\n",
       "      <th>min</th>\n",
       "      <td>2.818000e+03</td>\n",
       "      <td>1.191000e+03</td>\n",
       "      <td>4.370000e+02</td>\n",
       "    </tr>\n",
       "    <tr>\n",
       "      <th>25%</th>\n",
       "      <td>2.482541e+06</td>\n",
       "      <td>7.596344e+07</td>\n",
       "      <td>1.533860e+07</td>\n",
       "    </tr>\n",
       "    <tr>\n",
       "      <th>50%</th>\n",
       "      <td>7.815853e+06</td>\n",
       "      <td>1.591030e+08</td>\n",
       "      <td>3.931767e+07</td>\n",
       "    </tr>\n",
       "    <tr>\n",
       "      <th>75%</th>\n",
       "      <td>1.546254e+07</td>\n",
       "      <td>2.565866e+08</td>\n",
       "      <td>8.973084e+07</td>\n",
       "    </tr>\n",
       "    <tr>\n",
       "      <th>max</th>\n",
       "      <td>3.055009e+07</td>\n",
       "      <td>3.559969e+08</td>\n",
       "      <td>2.288387e+08</td>\n",
       "    </tr>\n",
       "  </tbody>\n",
       "</table>\n",
       "</div>"
      ],
      "text/plain": [
       "         listing_id            id   reviewer_id\n",
       "count  4.318300e+05  4.318300e+05  4.318300e+05\n",
       "mean   9.540278e+06  1.676551e+08  5.844055e+07\n",
       "std    7.646134e+06  1.027225e+08  5.424683e+07\n",
       "min    2.818000e+03  1.191000e+03  4.370000e+02\n",
       "25%    2.482541e+06  7.596344e+07  1.533860e+07\n",
       "50%    7.815853e+06  1.591030e+08  3.931767e+07\n",
       "75%    1.546254e+07  2.565866e+08  8.973084e+07\n",
       "max    3.055009e+07  3.559969e+08  2.288387e+08"
      ]
     },
     "execution_count": 198,
     "metadata": {},
     "output_type": "execute_result"
    }
   ],
   "source": [
    "df_revs_details.describe()"
   ]
  },
  {
   "cell_type": "code",
   "execution_count": null,
   "id": "58431d0f-117f-4176-a83f-a8e28f53c0f4",
   "metadata": {},
   "outputs": [],
   "source": []
  }
 ],
 "metadata": {
  "kernelspec": {
   "display_name": "Python 3 (ipykernel)",
   "language": "python",
   "name": "python3"
  },
  "language_info": {
   "codemirror_mode": {
    "name": "ipython",
    "version": 3
   },
   "file_extension": ".py",
   "mimetype": "text/x-python",
   "name": "python",
   "nbconvert_exporter": "python",
   "pygments_lexer": "ipython3",
   "version": "3.12.7"
  }
 },
 "nbformat": 4,
 "nbformat_minor": 5
}
